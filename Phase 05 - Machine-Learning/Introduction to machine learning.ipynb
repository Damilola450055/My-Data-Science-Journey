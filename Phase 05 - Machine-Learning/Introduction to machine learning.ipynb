{
 "cells": [
  {
   "cell_type": "markdown",
   "id": "26c07098-bf69-4bb8-a899-4abf213f207f",
   "metadata": {},
   "source": [
    "##### Machine learning is a field of study that gives computers abililty to learn without being explicitly programmed"
   ]
  },
  {
   "cell_type": "markdown",
   "id": "cd848f61-3329-414d-90f7-51e3ab1eaf35",
   "metadata": {},
   "source": [
    "### Types of machine learning\n",
    "#### supervision\n",
    "###### -supervised: Training a model with labeled data ot target column\n",
    "###### -Classification supervised: it could be binary or multi category prediction\n",
    "###### -Regression supervised: numeric prediction\n",
    "###### -unsupervised: Training a model with unlabeled data\n",
    "###### -semi-supervised: Training a model with labeled and unlabeled data\n",
    "###### -reinforcement: Learn by interacting with an enviroment and receiving feedback"
   ]
  },
  {
   "cell_type": "markdown",
   "id": "607f88c7-44ba-4b74-92d3-dda08cff310d",
   "metadata": {},
   "source": [
    "### Learning Method\n",
    "###### -Online learning: learn incrementally, processing data in real time\n",
    "###### -Batch learning: learns from a fixed dataset in a batch process "
   ]
  },
  {
   "cell_type": "markdown",
   "id": "0e9257a6-506c-49e9-ae00-460af8242edf",
   "metadata": {},
   "source": [
    "### Learning approach\n",
    "###### -Instance based learning: compares new data to known data points\n",
    "###### -Model based learning: Detects patterns in the training data to build predictive model"
   ]
  },
  {
   "cell_type": "code",
   "execution_count": null,
   "id": "cb685649-c9c9-4798-9146-4b1eea14ba2d",
   "metadata": {},
   "outputs": [],
   "source": []
  }
 ],
 "metadata": {
  "kernelspec": {
   "display_name": "Python 3 (ipykernel)",
   "language": "python",
   "name": "python3"
  },
  "language_info": {
   "codemirror_mode": {
    "name": "ipython",
    "version": 3
   },
   "file_extension": ".py",
   "mimetype": "text/x-python",
   "name": "python",
   "nbconvert_exporter": "python",
   "pygments_lexer": "ipython3",
   "version": "3.12.7"
  }
 },
 "nbformat": 4,
 "nbformat_minor": 5
}
