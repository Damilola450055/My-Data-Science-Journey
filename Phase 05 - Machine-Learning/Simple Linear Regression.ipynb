{
 "cells": [
  {
   "cell_type": "markdown",
   "id": "fe59e1a5-3480-498e-b956-657d47883fd6",
   "metadata": {},
   "source": [
    "# Supervised Machine Learning\n",
    "\n",
    "Supervised learning is a type of machine learning where models are trained on labeled data, meaning that each input example is paired with a correct output. During training, the model learns to predict the output based on these labeled examples.\n",
    "\n",
    "In supervised learning, the labeled data acts as a guide or `supervisor` for the model, much like a teacher guiding a student. The model is provided with input data and corresponding correct outputs, and its goal is to learn a mapping function that can accurately predict the output for new, unseen inputs.\n",
    "\n",
    "In practical applications, supervised learning is used in various domains such as risk assessment, image classification, fraud detection, and spam filtering. The key objective is to build a model that generalizes well to new data by understanding the relationships between input variables $(x)$ and output variables $(y)$ from the training data.\n",
    "\n",
    "Supervised learning can be categorized into two primary types of problems:\n",
    "\n",
    "![image](https://github.com/user-attachments/assets/de847f83-5418-45a2-84a4-6879b79d5cc1)\n",
    "\n",
    "**Regression:** This type of problem focuses on predicting a continuous numeric value based on input data. The aim is to estimate a quantity or measure. Examples of regression problems include:\n",
    "\n",
    "- **House Price Prediction:** Estimating the price of a house based on features like size, location, and number of bedrooms.\n",
    "- **Stock Market Forecasting:** Predicting future stock prices based on historical data and market indicators.\n",
    "\n",
    "**Classification:** This type of problem involves predicting a categorical label. The goal is to assign input data to one of several predefined classes or categories. Examples of classification problems include:\n",
    "\n",
    "- **Email Spam Detection:** Classifying emails as spam or not spam.\n",
    "- **Image Recognition:** Identifying objects in images, such as distinguishing between cats and dogs.\n",
    "\n"
   ]
  },
  {
   "cell_type": "markdown",
   "id": "a7edc06c-f058-4f61-9f5b-169a9c7bb89e",
   "metadata": {},
   "source": [
    "### 1. Regression\n",
    "\n",
    "Regression algorithms are used when there is a relationship between the input variable and a continuous output variable. These algorithms predict numeric values based on input features. Applications include weather forecasting, market trends analysis, and more. Some popular regression algorithms include:\n",
    "\n",
    "- **Linear Regression**: Models the relationship between the input variables and the output as a linear function.\n",
    "- **Regression Trees**: Uses a tree-like model of decisions and their possible consequences to predict numeric values.\n",
    "- **Non-Linear Regression**: Models complex, non-linear relationships between input variables and output values.\n",
    "- **Bayesian Linear Regression**: Incorporates Bayesian principles to model the uncertainty in the regression coefficients.\n",
    "- **Polynomial Regression**: Extends linear regression by fitting a polynomial function to the data.\n",
    "\n",
    "### 2. Classification\n",
    "\n",
    "Classification algorithms are used when the output variable is categorical, meaning that the goal is to assign inputs to discrete classes. Examples include binary classifications such as Yes/No or Male/Female. Common classification algorithms include:\n",
    "\n",
    "- **Random Forest**: An ensemble method that uses multiple decision trees to improve classification accuracy.\n",
    "- **Decision Trees**: A tree-like model that splits data into subsets based on feature values to classify data into categories.\n",
    "- **Logistic Regression**: A statistical model that estimates the probability of a categorical outcome, typically used for binary classification.\n",
    "- **Support Vector Machines (SVM)**: A method that finds the optimal hyperplane that separates different classes in the feature space.\n",
    "\n",
    "These algorithms are selected based on the nature of the problem and the type of data available.\n"
   ]
  },
  {
   "cell_type": "markdown",
   "id": "9c2e16f4-3224-492f-88af-2d45aa9546d1",
   "metadata": {},
   "source": [
    "# Regression Analysis in Machine learning\n",
    "This is a statistical method that models the relationship between a dependent variable (target) and one or more independent variables (features). Today, we'll focus on simple linear regression which uses just one feature.\n",
    "\n",
    "More specifically, Regression analysis helps us to understand how the value of the dependent variable is changing corresponding to an independent variable when other independent variables are held fixed. It predicts continuous/real values such as temperature, age, salary, price, etc. It is commonly used for prediction, forecasting, time series modeling, and determining the causal-effect relationships between variables.\n",
    "\n",
    "We can understand the concept of regression analysis using the below example:\n",
    "\n",
    "Example: Suppose there is a marketing company A, who does various advertisement every year and get sales on that. The below list shows the advertisement made by the company in the last 5 years and the corresponding sales:\n",
    "\n",
    "![image](https://github.com/user-attachments/assets/c2aa234f-2bfa-4aca-a17e-5bfe69ee23bd)\n",
    "\n",
    "Now, the company wants to do the advertisement of $200 in the year 2019 and wants to know the prediction about the sales for this year. So to solve such type of prediction problems in machine learning, we need regression analysis\n",
    "s.\n",
    "\n",
    "In regression analysis, a graph is plotted between variables to find the line or curve that best fits the given data points. This plot allows the machine learning model to make predictions about the data. In simple terms, \"Regression shows a line or curve that passes through all the data points on a target-predictor graph in such a way that the vertical distance between the data points and the regression line is minimized.\" The distance between data points and the regression line indicates how well the model has captured the relationship between the variables.\n",
    "\n",
    "### Examples of Regression\n",
    "\n",
    "- **Prediction of Rainfall**: Using temperature and other factors to predict the likelihood of rain.\n",
    "- **Market Trend Analysis**: Determining trends in stock markets based on historical data.\n",
    "- **Accident Prediction**: Predicting the likelihood of road accidents due to rash driving.\n",
    "\n",
    "### Terminologies Related to Regression Analysis\n",
    "\n",
    "- **Dependent Variable**: The main factor in regression analysis that we want to predict or understand. It is also known as the target variable.\n",
    "  \n",
    "- **Independent Variable**: The factors that affect the dependent variable or are used to predict its values. These are also known as predictor variables.\n",
    "  \n",
    "- **Outliers**: Observations with values significantly higher or lower than the rest of the data. Outliers can distort the results of the analysis, so they should be carefully handled.\n",
    "  \n",
    "- **Multicollinearity**: A situation where independent variables are highly correlated with each other. Multicollinearity can cause issues in determining the importance of each predictor variable and should be minimized.\n",
    "  \n",
    "- **Underfitting and Overfitting**:\n",
    "  - **Overfitting** occurs when the model performs well on the training data but poorly on unseen data, indicating that the model has learned noise rather than the underlying pattern.\n",
    "  - **Underfitting** occurs when the model fails to capture the underlying pattern in the data, performing poorly even on the training data.\n",
    "\n",
    "By understanding and addressing these concepts, one can build a more accurate and reliable regression model.\n",
    "."
   ]
  },
  {
   "cell_type": "markdown",
   "id": "c0063379-dac9-4305-a771-3affdbf105d9",
   "metadata": {},
   "source": [
    "**Linear Regression** is a statistical method used to determine the relationship between a dependent variable and one or more independent variables. In machine learning, this relationship helps predict an event's outcome based on the data points of the independent variables.\n",
    ")\n",
    "\n",
    "**Objective:** The primary goal of Linear Regression is to establish a relationship that can predict the value of a dependent variable (also called the target variable) based on the independent variables (also called features or predictor). The relation is usually a straight line that best fits the different data points as close as possible. The output is of a continuous form, i.e., numerical value\n",
    "The linear regression model provides a sloped straight line representing the relationship between the variables. Consider the below image:\n",
    "![image](https://github.com/user-attachments/assets/45579101-de0f-4d4a-a305-ef49992b5f46)\n",
    ".\n",
    "\n",
    "The line can be expressed using the equation:\n",
    "$$𝑦 = mX + b$$\n",
    "where:\n",
    "- $y - \\text{is the dependent variable (the value to be predicted),}$\n",
    "- $X - \\text{is the independent variable (the predictor),}$\n",
    "- $m - \\text{is the slope of the line (indicating the relationship strength),}$\n",
    "- $b - \\text{is the y-intercept (the value of $y$ when $X$ is zero).}$`"
   ]
  },
  {
   "cell_type": "markdown",
   "id": "429a2005-256c-4831-94c4-3dfd06baf4ec",
   "metadata": {},
   "source": [
    "## Types of Linear Regression\n",
    "\n",
    "Linear regression can be further divided into two types of algorithms:\n",
    "\n",
    "#### 1. Simple Linear Regression\n",
    "\n",
    "Simple Linear Regression is used when there is only one independent variable to predict the value of a numerical dependent variable. The relationship between the independent variable (predictor) and the dependent variable (target) is modeled as a straight line.\n",
    "\n",
    "#### 2. Multiple Linear Regression\n",
    "\n",
    "Multiple Linear Regression is used when more than one independent variable is involved in predicting the value of a numerical dependent variable. This algorithm models the relationship between multiple predictors and a single target variable as a linear equation.\n"
   ]
  },
  {
   "cell_type": "markdown",
   "id": "55369251-b41d-444d-9d1c-80cce1def4d6",
   "metadata": {},
   "source": [
    "# Simple Linear Regression"
   ]
  },
  {
   "cell_type": "code",
   "execution_count": 1,
   "id": "0baa7489-5fea-496e-b2ef-868842f29d75",
   "metadata": {},
   "outputs": [],
   "source": [
    "# import libraries\n",
    "import pandas as pd\n",
    "import matplotlib.pyplot as plt\n",
    "import seaborn as sns"
   ]
  },
  {
   "cell_type": "code",
   "execution_count": 2,
   "id": "531bd2b8-2c99-44bb-b566-27ec133db116",
   "metadata": {},
   "outputs": [
    {
     "data": {
      "text/html": [
       "<div>\n",
       "<style scoped>\n",
       "    .dataframe tbody tr th:only-of-type {\n",
       "        vertical-align: middle;\n",
       "    }\n",
       "\n",
       "    .dataframe tbody tr th {\n",
       "        vertical-align: top;\n",
       "    }\n",
       "\n",
       "    .dataframe thead th {\n",
       "        text-align: right;\n",
       "    }\n",
       "</style>\n",
       "<table border=\"1\" class=\"dataframe\">\n",
       "  <thead>\n",
       "    <tr style=\"text-align: right;\">\n",
       "      <th></th>\n",
       "      <th>size</th>\n",
       "      <th>price</th>\n",
       "    </tr>\n",
       "  </thead>\n",
       "  <tbody>\n",
       "    <tr>\n",
       "      <th>0</th>\n",
       "      <td>643.09</td>\n",
       "      <td>234314.144</td>\n",
       "    </tr>\n",
       "    <tr>\n",
       "      <th>1</th>\n",
       "      <td>656.22</td>\n",
       "      <td>228581.528</td>\n",
       "    </tr>\n",
       "    <tr>\n",
       "      <th>2</th>\n",
       "      <td>487.29</td>\n",
       "      <td>281626.336</td>\n",
       "    </tr>\n",
       "    <tr>\n",
       "      <th>3</th>\n",
       "      <td>1504.75</td>\n",
       "      <td>401255.608</td>\n",
       "    </tr>\n",
       "    <tr>\n",
       "      <th>4</th>\n",
       "      <td>1275.46</td>\n",
       "      <td>458674.256</td>\n",
       "    </tr>\n",
       "  </tbody>\n",
       "</table>\n",
       "</div>"
      ],
      "text/plain": [
       "      size       price\n",
       "0   643.09  234314.144\n",
       "1   656.22  228581.528\n",
       "2   487.29  281626.336\n",
       "3  1504.75  401255.608\n",
       "4  1275.46  458674.256"
      ]
     },
     "execution_count": 2,
     "metadata": {},
     "output_type": "execute_result"
    }
   ],
   "source": [
    "df = pd.read_csv('real_estate_price_size.csv')\n",
    "df.head()"
   ]
  },
  {
   "cell_type": "code",
   "execution_count": 3,
   "id": "3b681c9d-9943-4aac-865e-02b48d732362",
   "metadata": {},
   "outputs": [
    {
     "data": {
      "text/plain": [
       "(100, 2)"
      ]
     },
     "execution_count": 3,
     "metadata": {},
     "output_type": "execute_result"
    }
   ],
   "source": [
    "df.shape"
   ]
  },
  {
   "cell_type": "markdown",
   "id": "5a462e3f-0ecc-4b14-9382-e2124c55dbee",
   "metadata": {},
   "source": [
    "#### Visualize the relationship"
   ]
  },
  {
   "cell_type": "code",
   "execution_count": 4,
   "id": "9e5c1a7e-f083-48fb-ad24-6689219a5060",
   "metadata": {},
   "outputs": [
    {
     "data": {
      "image/png": "[encoded data removed]",
      "text/plain": [
       "<Figure size 800x400 with 1 Axes>"
      ]
     },
     "metadata": {},
     "output_type": "display_data"
    }
   ],
   "source": [
    "plt.figure(figsize=(8, 4))\n",
    "\n",
    "plt.scatter(x='size', y='price', data=df)\n",
    "plt.xlabel('Size')\n",
    "plt.ylabel('Price')\n",
    "plt.title('Relationship between size and price')\n",
    "plt.show()"
   ]
  },
  {
   "cell_type": "code",
   "execution_count": 5,
   "id": "2d786e4e-ddb5-47e2-b2cb-b539eb48739f",
   "metadata": {},
   "outputs": [],
   "source": [
    "# split into features and target in variable\n",
    "X = df[['size']].values # df.drop(columns='price')\n",
    "y = df.iloc[:, 1].values"
   ]
  },
  {
   "cell_type": "code",
   "execution_count": 6,
   "id": "8e0ea397-41ce-409a-88d1-0ace18ef6473",
   "metadata": {},
   "outputs": [
    {
     "data": {
      "text/plain": [
       "array([[ 643.09],\n",
       "       [ 656.22],\n",
       "       [ 487.29],\n",
       "       [1504.75],\n",
       "       [1275.46],\n",
       "       [ 575.19],\n",
       "       [ 570.89],\n",
       "       [ 620.82],\n",
       "       [ 682.26],\n",
       "       [ 694.52],\n",
       "       [1060.36],\n",
       "       [1842.51],\n",
       "       [ 694.52],\n",
       "       [1009.25],\n",
       "       [1300.96],\n",
       "       [1379.72],\n",
       "       [ 690.54],\n",
       "       [ 623.94],\n",
       "       [ 681.07],\n",
       "       [1027.76],\n",
       "       [ 620.71],\n",
       "       [ 549.69],\n",
       "       [1207.45],\n",
       "       [ 518.38],\n",
       "       [ 525.81],\n",
       "       [1103.3 ],\n",
       "       [ 570.89],\n",
       "       [1334.1 ],\n",
       "       [ 681.07],\n",
       "       [1496.36],\n",
       "       [1010.33],\n",
       "       [ 681.07],\n",
       "       [ 597.9 ],\n",
       "       [ 525.81],\n",
       "       [ 857.54],\n",
       "       [ 622.97],\n",
       "       [ 823.21],\n",
       "       [ 570.25],\n",
       "       [ 685.48],\n",
       "       [ 698.29],\n",
       "       [1021.95],\n",
       "       [ 682.26],\n",
       "       [ 823.21],\n",
       "       [1334.1 ],\n",
       "       [1060.36],\n",
       "       [ 698.29],\n",
       "       [ 633.19],\n",
       "       [ 698.29],\n",
       "       [ 633.19],\n",
       "       [ 617.05],\n",
       "       [ 647.5 ],\n",
       "       [1021.95],\n",
       "       [1021.95],\n",
       "       [ 727.88],\n",
       "       [ 647.5 ],\n",
       "       [1508.84],\n",
       "       [1032.06],\n",
       "       [1283.85],\n",
       "       [ 827.84],\n",
       "       [ 569.17],\n",
       "       [ 828.16],\n",
       "       [ 698.5 ],\n",
       "       [1205.62],\n",
       "       [1021.95],\n",
       "       [ 685.48],\n",
       "       [ 827.09],\n",
       "       [1009.25],\n",
       "       [ 549.8 ],\n",
       "       [ 685.48],\n",
       "       [1496.36],\n",
       "       [1021.95],\n",
       "       [ 643.41],\n",
       "       [ 656.22],\n",
       "       [ 549.8 ],\n",
       "       [ 685.48],\n",
       "       [ 685.48],\n",
       "       [1183.46],\n",
       "       [1334.1 ],\n",
       "       [ 682.26],\n",
       "       [1188.62],\n",
       "       [ 681.07],\n",
       "       [1122.34],\n",
       "       [ 681.07],\n",
       "       [ 643.09],\n",
       "       [ 685.48],\n",
       "       [1009.25],\n",
       "       [ 479.75],\n",
       "       [1028.41],\n",
       "       [ 601.66],\n",
       "       [1236.93],\n",
       "       [ 694.52],\n",
       "       [1071.55],\n",
       "       [ 694.52],\n",
       "       [ 698.29],\n",
       "       [ 698.29],\n",
       "       [ 549.8 ],\n",
       "       [1037.44],\n",
       "       [1504.75],\n",
       "       [ 648.29],\n",
       "       [ 705.29]])"
      ]
     },
     "execution_count": 6,
     "metadata": {},
     "output_type": "execute_result"
    }
   ],
   "source": [
    "X"
   ]
  },
  {
   "cell_type": "code",
   "execution_count": 7,
   "id": "6ead7aa6-1a5c-49d9-960f-4874c4120470",
   "metadata": {},
   "outputs": [
    {
     "data": {
      "text/plain": [
       "array([[ 643.09],\n",
       "       [ 656.22],\n",
       "       [ 487.29],\n",
       "       [1504.75],\n",
       "       [1275.46],\n",
       "       [ 575.19],\n",
       "       [ 570.89],\n",
       "       [ 620.82],\n",
       "       [ 682.26],\n",
       "       [ 694.52],\n",
       "       [1060.36],\n",
       "       [1842.51],\n",
       "       [ 694.52],\n",
       "       [1009.25],\n",
       "       [1300.96],\n",
       "       [1379.72],\n",
       "       [ 690.54],\n",
       "       [ 623.94],\n",
       "       [ 681.07],\n",
       "       [1027.76],\n",
       "       [ 620.71],\n",
       "       [ 549.69],\n",
       "       [1207.45],\n",
       "       [ 518.38],\n",
       "       [ 525.81],\n",
       "       [1103.3 ],\n",
       "       [ 570.89],\n",
       "       [1334.1 ],\n",
       "       [ 681.07],\n",
       "       [1496.36],\n",
       "       [1010.33],\n",
       "       [ 681.07],\n",
       "       [ 597.9 ],\n",
       "       [ 525.81],\n",
       "       [ 857.54],\n",
       "       [ 622.97],\n",
       "       [ 823.21],\n",
       "       [ 570.25],\n",
       "       [ 685.48],\n",
       "       [ 698.29],\n",
       "       [1021.95],\n",
       "       [ 682.26],\n",
       "       [ 823.21],\n",
       "       [1334.1 ],\n",
       "       [1060.36],\n",
       "       [ 698.29],\n",
       "       [ 633.19],\n",
       "       [ 698.29],\n",
       "       [ 633.19],\n",
       "       [ 617.05],\n",
       "       [ 647.5 ],\n",
       "       [1021.95],\n",
       "       [1021.95],\n",
       "       [ 727.88],\n",
       "       [ 647.5 ],\n",
       "       [1508.84],\n",
       "       [1032.06],\n",
       "       [1283.85],\n",
       "       [ 827.84],\n",
       "       [ 569.17],\n",
       "       [ 828.16],\n",
       "       [ 698.5 ],\n",
       "       [1205.62],\n",
       "       [1021.95],\n",
       "       [ 685.48],\n",
       "       [ 827.09],\n",
       "       [1009.25],\n",
       "       [ 549.8 ],\n",
       "       [ 685.48],\n",
       "       [1496.36],\n",
       "       [1021.95],\n",
       "       [ 643.41],\n",
       "       [ 656.22],\n",
       "       [ 549.8 ],\n",
       "       [ 685.48],\n",
       "       [ 685.48],\n",
       "       [1183.46],\n",
       "       [1334.1 ],\n",
       "       [ 682.26],\n",
       "       [1188.62],\n",
       "       [ 681.07],\n",
       "       [1122.34],\n",
       "       [ 681.07],\n",
       "       [ 643.09],\n",
       "       [ 685.48],\n",
       "       [1009.25],\n",
       "       [ 479.75],\n",
       "       [1028.41],\n",
       "       [ 601.66],\n",
       "       [1236.93],\n",
       "       [ 694.52],\n",
       "       [1071.55],\n",
       "       [ 694.52],\n",
       "       [ 698.29],\n",
       "       [ 698.29],\n",
       "       [ 549.8 ],\n",
       "       [1037.44],\n",
       "       [1504.75],\n",
       "       [ 648.29],\n",
       "       [ 705.29]])"
      ]
     },
     "execution_count": 7,
     "metadata": {},
     "output_type": "execute_result"
    }
   ],
   "source": [
    "X"
   ]
  },
  {
   "cell_type": "markdown",
   "id": "4f3d9351-2b08-4097-9b42-ffbba1be8df0",
   "metadata": {},
   "source": [
    "#### Fitting in the best line"
   ]
  },
  {
   "cell_type": "code",
   "execution_count": 8,
   "id": "e22cfbc0-8b4a-4cc9-b56c-55ec4a67b77c",
   "metadata": {},
   "outputs": [],
   "source": [
    "from sklearn.linear_model import LinearRegression"
   ]
  },
  {
   "cell_type": "code",
   "execution_count": 9,
   "id": "0fec56c5-db33-43e6-ab8c-408d3b49079e",
   "metadata": {},
   "outputs": [],
   "source": [
    "model = LinearRegression()"
   ]
  },
  {
   "cell_type": "code",
   "execution_count": 10,
   "id": "3111ae01-655b-4547-a086-80d3b2a1aeb6",
   "metadata": {},
   "outputs": [
    {
     "data": {
      "text/html": [
       "<style>#sk-container-id-1 {\n",
       "  /* Definition of color scheme common for light and dark mode */\n",
       "  --sklearn-color-text: black;\n",
       "  --sklearn-color-line: gray;\n",
       "  /* Definition of color scheme for unfitted estimators */\n",
       "  --sklearn-color-unfitted-level-0: #fff5e6;\n",
       "  --sklearn-color-unfitted-level-1: #f6e4d2;\n",
       "  --sklearn-color-unfitted-level-2: #ffe0b3;\n",
       "  --sklearn-color-unfitted-level-3: chocolate;\n",
       "  /* Definition of color scheme for fitted estimators */\n",
       "  --sklearn-color-fitted-level-0: #f0f8ff;\n",
       "  --sklearn-color-fitted-level-1: #d4ebff;\n",
       "  --sklearn-color-fitted-level-2: #b3dbfd;\n",
       "  --sklearn-color-fitted-level-3: cornflowerblue;\n",
       "\n",
       "  /* Specific color for light theme */\n",
       "  --sklearn-color-text-on-default-background: var(--sg-text-color, var(--theme-code-foreground, var(--jp-content-font-color1, black)));\n",
       "  --sklearn-color-background: var(--sg-background-color, var(--theme-background, var(--jp-layout-color0, white)));\n",
       "  --sklearn-color-border-box: var(--sg-text-color, var(--theme-code-foreground, var(--jp-content-font-color1, black)));\n",
       "  --sklearn-color-icon: #696969;\n",
       "\n",
       "  @media (prefers-color-scheme: dark) {\n",
       "    /* Redefinition of color scheme for dark theme */\n",
       "    --sklearn-color-text-on-default-background: var(--sg-text-color, var(--theme-code-foreground, var(--jp-content-font-color1, white)));\n",
       "    --sklearn-color-background: var(--sg-background-color, var(--theme-background, var(--jp-layout-color0, #111)));\n",
       "    --sklearn-color-border-box: var(--sg-text-color, var(--theme-code-foreground, var(--jp-content-font-color1, white)));\n",
       "    --sklearn-color-icon: #878787;\n",
       "  }\n",
       "}\n",
       "\n",
       "#sk-container-id-1 {\n",
       "  color: var(--sklearn-color-text);\n",
       "}\n",
       "\n",
       "#sk-container-id-1 pre {\n",
       "  padding: 0;\n",
       "}\n",
       "\n",
       "#sk-container-id-1 input.sk-hidden--visually {\n",
       "  border: 0;\n",
       "  clip: rect(1px 1px 1px 1px);\n",
       "  clip: rect(1px, 1px, 1px, 1px);\n",
       "  height: 1px;\n",
       "  margin: -1px;\n",
       "  overflow: hidden;\n",
       "  padding: 0;\n",
       "  position: absolute;\n",
       "  width: 1px;\n",
       "}\n",
       "\n",
       "#sk-container-id-1 div.sk-dashed-wrapped {\n",
       "  border: 1px dashed var(--sklearn-color-line);\n",
       "  margin: 0 0.4em 0.5em 0.4em;\n",
       "  box-sizing: border-box;\n",
       "  padding-bottom: 0.4em;\n",
       "  background-color: var(--sklearn-color-background);\n",
       "}\n",
       "\n",
       "#sk-container-id-1 div.sk-container {\n",
       "  /* jupyter's `normalize.less` sets `[hidden] { display: none; }`\n",
       "     but bootstrap.min.css set `[hidden] { display: none !important; }`\n",
       "     so we also need the `!important` here to be able to override the\n",
       "     default hidden behavior on the sphinx rendered scikit-learn.org.\n",
       "     See: https://github.com/scikit-learn/scikit-learn/issues/21755 */\n",
       "  display: inline-block !important;\n",
       "  position: relative;\n",
       "}\n",
       "\n",
       "#sk-container-id-1 div.sk-text-repr-fallback {\n",
       "  display: none;\n",
       "}\n",
       "\n",
       "div.sk-parallel-item,\n",
       "div.sk-serial,\n",
       "div.sk-item {\n",
       "  /* draw centered vertical line to link estimators */\n",
       "  background-image: linear-gradient(var(--sklearn-color-text-on-default-background), var(--sklearn-color-text-on-default-background));\n",
       "  background-size: 2px 100%;\n",
       "  background-repeat: no-repeat;\n",
       "  background-position: center center;\n",
       "}\n",
       "\n",
       "/* Parallel-specific style estimator block */\n",
       "\n",
       "#sk-container-id-1 div.sk-parallel-item::after {\n",
       "  content: \"\";\n",
       "  width: 100%;\n",
       "  border-bottom: 2px solid var(--sklearn-color-text-on-default-background);\n",
       "  flex-grow: 1;\n",
       "}\n",
       "\n",
       "#sk-container-id-1 div.sk-parallel {\n",
       "  display: flex;\n",
       "  align-items: stretch;\n",
       "  justify-content: center;\n",
       "  background-color: var(--sklearn-color-background);\n",
       "  position: relative;\n",
       "}\n",
       "\n",
       "#sk-container-id-1 div.sk-parallel-item {\n",
       "  display: flex;\n",
       "  flex-direction: column;\n",
       "}\n",
       "\n",
       "#sk-container-id-1 div.sk-parallel-item:first-child::after {\n",
       "  align-self: flex-end;\n",
       "  width: 50%;\n",
       "}\n",
       "\n",
       "#sk-container-id-1 div.sk-parallel-item:last-child::after {\n",
       "  align-self: flex-start;\n",
       "  width: 50%;\n",
       "}\n",
       "\n",
       "#sk-container-id-1 div.sk-parallel-item:only-child::after {\n",
       "  width: 0;\n",
       "}\n",
       "\n",
       "/* Serial-specific style estimator block */\n",
       "\n",
       "#sk-container-id-1 div.sk-serial {\n",
       "  display: flex;\n",
       "  flex-direction: column;\n",
       "  align-items: center;\n",
       "  background-color: var(--sklearn-color-background);\n",
       "  padding-right: 1em;\n",
       "  padding-left: 1em;\n",
       "}\n",
       "\n",
       "\n",
       "/* Toggleable style: style used for estimator/Pipeline/ColumnTransformer box that is\n",
       "clickable and can be expanded/collapsed.\n",
       "- Pipeline and ColumnTransformer use this feature and define the default style\n",
       "- Estimators will overwrite some part of the style using the `sk-estimator` class\n",
       "*/\n",
       "\n",
       "/* Pipeline and ColumnTransformer style (default) */\n",
       "\n",
       "#sk-container-id-1 div.sk-toggleable {\n",
       "  /* Default theme specific background. It is overwritten whether we have a\n",
       "  specific estimator or a Pipeline/ColumnTransformer */\n",
       "  background-color: var(--sklearn-color-background);\n",
       "}\n",
       "\n",
       "/* Toggleable label */\n",
       "#sk-container-id-1 label.sk-toggleable__label {\n",
       "  cursor: pointer;\n",
       "  display: block;\n",
       "  width: 100%;\n",
       "  margin-bottom: 0;\n",
       "  padding: 0.5em;\n",
       "  box-sizing: border-box;\n",
       "  text-align: center;\n",
       "}\n",
       "\n",
       "#sk-container-id-1 label.sk-toggleable__label-arrow:before {\n",
       "  /* Arrow on the left of the label */\n",
       "  content: \"▸\";\n",
       "  float: left;\n",
       "  margin-right: 0.25em;\n",
       "  color: var(--sklearn-color-icon);\n",
       "}\n",
       "\n",
       "#sk-container-id-1 label.sk-toggleable__label-arrow:hover:before {\n",
       "  color: var(--sklearn-color-text);\n",
       "}\n",
       "\n",
       "/* Toggleable content - dropdown */\n",
       "\n",
       "#sk-container-id-1 div.sk-toggleable__content {\n",
       "  max-height: 0;\n",
       "  max-width: 0;\n",
       "  overflow: hidden;\n",
       "  text-align: left;\n",
       "  /* unfitted */\n",
       "  background-color: var(--sklearn-color-unfitted-level-0);\n",
       "}\n",
       "\n",
       "#sk-container-id-1 div.sk-toggleable__content.fitted {\n",
       "  /* fitted */\n",
       "  background-color: var(--sklearn-color-fitted-level-0);\n",
       "}\n",
       "\n",
       "#sk-container-id-1 div.sk-toggleable__content pre {\n",
       "  margin: 0.2em;\n",
       "  border-radius: 0.25em;\n",
       "  color: var(--sklearn-color-text);\n",
       "  /* unfitted */\n",
       "  background-color: var(--sklearn-color-unfitted-level-0);\n",
       "}\n",
       "\n",
       "#sk-container-id-1 div.sk-toggleable__content.fitted pre {\n",
       "  /* unfitted */\n",
       "  background-color: var(--sklearn-color-fitted-level-0);\n",
       "}\n",
       "\n",
       "#sk-container-id-1 input.sk-toggleable__control:checked~div.sk-toggleable__content {\n",
       "  /* Expand drop-down */\n",
       "  max-height: 200px;\n",
       "  max-width: 100%;\n",
       "  overflow: auto;\n",
       "}\n",
       "\n",
       "#sk-container-id-1 input.sk-toggleable__control:checked~label.sk-toggleable__label-arrow:before {\n",
       "  content: \"▾\";\n",
       "}\n",
       "\n",
       "/* Pipeline/ColumnTransformer-specific style */\n",
       "\n",
       "#sk-container-id-1 div.sk-label input.sk-toggleable__control:checked~label.sk-toggleable__label {\n",
       "  color: var(--sklearn-color-text);\n",
       "  background-color: var(--sklearn-color-unfitted-level-2);\n",
       "}\n",
       "\n",
       "#sk-container-id-1 div.sk-label.fitted input.sk-toggleable__control:checked~label.sk-toggleable__label {\n",
       "  background-color: var(--sklearn-color-fitted-level-2);\n",
       "}\n",
       "\n",
       "/* Estimator-specific style */\n",
       "\n",
       "/* Colorize estimator box */\n",
       "#sk-container-id-1 div.sk-estimator input.sk-toggleable__control:checked~label.sk-toggleable__label {\n",
       "  /* unfitted */\n",
       "  background-color: var(--sklearn-color-unfitted-level-2);\n",
       "}\n",
       "\n",
       "#sk-container-id-1 div.sk-estimator.fitted input.sk-toggleable__control:checked~label.sk-toggleable__label {\n",
       "  /* fitted */\n",
       "  background-color: var(--sklearn-color-fitted-level-2);\n",
       "}\n",
       "\n",
       "#sk-container-id-1 div.sk-label label.sk-toggleable__label,\n",
       "#sk-container-id-1 div.sk-label label {\n",
       "  /* The background is the default theme color */\n",
       "  color: var(--sklearn-color-text-on-default-background);\n",
       "}\n",
       "\n",
       "/* On hover, darken the color of the background */\n",
       "#sk-container-id-1 div.sk-label:hover label.sk-toggleable__label {\n",
       "  color: var(--sklearn-color-text);\n",
       "  background-color: var(--sklearn-color-unfitted-level-2);\n",
       "}\n",
       "\n",
       "/* Label box, darken color on hover, fitted */\n",
       "#sk-container-id-1 div.sk-label.fitted:hover label.sk-toggleable__label.fitted {\n",
       "  color: var(--sklearn-color-text);\n",
       "  background-color: var(--sklearn-color-fitted-level-2);\n",
       "}\n",
       "\n",
       "/* Estimator label */\n",
       "\n",
       "#sk-container-id-1 div.sk-label label {\n",
       "  font-family: monospace;\n",
       "  font-weight: bold;\n",
       "  display: inline-block;\n",
       "  line-height: 1.2em;\n",
       "}\n",
       "\n",
       "#sk-container-id-1 div.sk-label-container {\n",
       "  text-align: center;\n",
       "}\n",
       "\n",
       "/* Estimator-specific */\n",
       "#sk-container-id-1 div.sk-estimator {\n",
       "  font-family: monospace;\n",
       "  border: 1px dotted var(--sklearn-color-border-box);\n",
       "  border-radius: 0.25em;\n",
       "  box-sizing: border-box;\n",
       "  margin-bottom: 0.5em;\n",
       "  /* unfitted */\n",
       "  background-color: var(--sklearn-color-unfitted-level-0);\n",
       "}\n",
       "\n",
       "#sk-container-id-1 div.sk-estimator.fitted {\n",
       "  /* fitted */\n",
       "  background-color: var(--sklearn-color-fitted-level-0);\n",
       "}\n",
       "\n",
       "/* on hover */\n",
       "#sk-container-id-1 div.sk-estimator:hover {\n",
       "  /* unfitted */\n",
       "  background-color: var(--sklearn-color-unfitted-level-2);\n",
       "}\n",
       "\n",
       "#sk-container-id-1 div.sk-estimator.fitted:hover {\n",
       "  /* fitted */\n",
       "  background-color: var(--sklearn-color-fitted-level-2);\n",
       "}\n",
       "\n",
       "/* Specification for estimator info (e.g. \"i\" and \"?\") */\n",
       "\n",
       "/* Common style for \"i\" and \"?\" */\n",
       "\n",
       ".sk-estimator-doc-link,\n",
       "a:link.sk-estimator-doc-link,\n",
       "a:visited.sk-estimator-doc-link {\n",
       "  float: right;\n",
       "  font-size: smaller;\n",
       "  line-height: 1em;\n",
       "  font-family: monospace;\n",
       "  background-color: var(--sklearn-color-background);\n",
       "  border-radius: 1em;\n",
       "  height: 1em;\n",
       "  width: 1em;\n",
       "  text-decoration: none !important;\n",
       "  margin-left: 1ex;\n",
       "  /* unfitted */\n",
       "  border: var(--sklearn-color-unfitted-level-1) 1pt solid;\n",
       "  color: var(--sklearn-color-unfitted-level-1);\n",
       "}\n",
       "\n",
       ".sk-estimator-doc-link.fitted,\n",
       "a:link.sk-estimator-doc-link.fitted,\n",
       "a:visited.sk-estimator-doc-link.fitted {\n",
       "  /* fitted */\n",
       "  border: var(--sklearn-color-fitted-level-1) 1pt solid;\n",
       "  color: var(--sklearn-color-fitted-level-1);\n",
       "}\n",
       "\n",
       "/* On hover */\n",
       "div.sk-estimator:hover .sk-estimator-doc-link:hover,\n",
       ".sk-estimator-doc-link:hover,\n",
       "div.sk-label-container:hover .sk-estimator-doc-link:hover,\n",
       ".sk-estimator-doc-link:hover {\n",
       "  /* unfitted */\n",
       "  background-color: var(--sklearn-color-unfitted-level-3);\n",
       "  color: var(--sklearn-color-background);\n",
       "  text-decoration: none;\n",
       "}\n",
       "\n",
       "div.sk-estimator.fitted:hover .sk-estimator-doc-link.fitted:hover,\n",
       ".sk-estimator-doc-link.fitted:hover,\n",
       "div.sk-label-container:hover .sk-estimator-doc-link.fitted:hover,\n",
       ".sk-estimator-doc-link.fitted:hover {\n",
       "  /* fitted */\n",
       "  background-color: var(--sklearn-color-fitted-level-3);\n",
       "  color: var(--sklearn-color-background);\n",
       "  text-decoration: none;\n",
       "}\n",
       "\n",
       "/* Span, style for the box shown on hovering the info icon */\n",
       ".sk-estimator-doc-link span {\n",
       "  display: none;\n",
       "  z-index: 9999;\n",
       "  position: relative;\n",
       "  font-weight: normal;\n",
       "  right: .2ex;\n",
       "  padding: .5ex;\n",
       "  margin: .5ex;\n",
       "  width: min-content;\n",
       "  min-width: 20ex;\n",
       "  max-width: 50ex;\n",
       "  color: var(--sklearn-color-text);\n",
       "  box-shadow: 2pt 2pt 4pt #999;\n",
       "  /* unfitted */\n",
       "  background: var(--sklearn-color-unfitted-level-0);\n",
       "  border: .5pt solid var(--sklearn-color-unfitted-level-3);\n",
       "}\n",
       "\n",
       ".sk-estimator-doc-link.fitted span {\n",
       "  /* fitted */\n",
       "  background: var(--sklearn-color-fitted-level-0);\n",
       "  border: var(--sklearn-color-fitted-level-3);\n",
       "}\n",
       "\n",
       ".sk-estimator-doc-link:hover span {\n",
       "  display: block;\n",
       "}\n",
       "\n",
       "/* \"?\"-specific style due to the `<a>` HTML tag */\n",
       "\n",
       "#sk-container-id-1 a.estimator_doc_link {\n",
       "  float: right;\n",
       "  font-size: 1rem;\n",
       "  line-height: 1em;\n",
       "  font-family: monospace;\n",
       "  background-color: var(--sklearn-color-background);\n",
       "  border-radius: 1rem;\n",
       "  height: 1rem;\n",
       "  width: 1rem;\n",
       "  text-decoration: none;\n",
       "  /* unfitted */\n",
       "  color: var(--sklearn-color-unfitted-level-1);\n",
       "  border: var(--sklearn-color-unfitted-level-1) 1pt solid;\n",
       "}\n",
       "\n",
       "#sk-container-id-1 a.estimator_doc_link.fitted {\n",
       "  /* fitted */\n",
       "  border: var(--sklearn-color-fitted-level-1) 1pt solid;\n",
       "  color: var(--sklearn-color-fitted-level-1);\n",
       "}\n",
       "\n",
       "/* On hover */\n",
       "#sk-container-id-1 a.estimator_doc_link:hover {\n",
       "  /* unfitted */\n",
       "  background-color: var(--sklearn-color-unfitted-level-3);\n",
       "  color: var(--sklearn-color-background);\n",
       "  text-decoration: none;\n",
       "}\n",
       "\n",
       "#sk-container-id-1 a.estimator_doc_link.fitted:hover {\n",
       "  /* fitted */\n",
       "  background-color: var(--sklearn-color-fitted-level-3);\n",
       "}\n",
       "</style><div id=\"sk-container-id-1\" class=\"sk-top-container\"><div class=\"sk-text-repr-fallback\"><pre>LinearRegression()</pre><b>In a Jupyter environment, please rerun this cell to show the HTML representation or trust the notebook. <br />On GitHub, the HTML representation is unable to render, please try loading this page with nbviewer.org.</b></div><div class=\"sk-container\" hidden><div class=\"sk-item\"><div class=\"sk-estimator  sk-toggleable\"><input class=\"sk-toggleable__control sk-hidden--visually\" id=\"sk-estimator-id-1\" type=\"checkbox\" checked><label for=\"sk-estimator-id-1\" class=\"sk-toggleable__label  sk-toggleable__label-arrow \">&nbsp;&nbsp;LinearRegression<a class=\"sk-estimator-doc-link \" rel=\"noreferrer\" target=\"_blank\" href=\"https://scikit-learn.org/1.5/modules/generated/sklearn.linear_model.LinearRegression.html\">?<span>Documentation for LinearRegression</span></a><span class=\"sk-estimator-doc-link \">i<span>Not fitted</span></span></label><div class=\"sk-toggleable__content \"><pre>LinearRegression()</pre></div> </div></div></div></div>"
      ],
      "text/plain": [
       "LinearRegression()"
      ]
     },
     "execution_count": 10,
     "metadata": {},
     "output_type": "execute_result"
    }
   ],
   "source": [
    "model"
   ]
  },
  {
   "cell_type": "code",
   "execution_count": 11,
   "id": "298156c7-eb67-4fb9-a8b9-3b6206966b07",
   "metadata": {},
   "outputs": [
    {
     "name": "stdout",
     "output_type": "stream",
     "text": [
      "CPU times: total: 0 ns\n",
      "Wall time: 71.1 ms\n"
     ]
    },
    {
     "data": {
      "text/html": [
       "<style>#sk-container-id-2 {\n",
       "  /* Definition of color scheme common for light and dark mode */\n",
       "  --sklearn-color-text: black;\n",
       "  --sklearn-color-line: gray;\n",
       "  /* Definition of color scheme for unfitted estimators */\n",
       "  --sklearn-color-unfitted-level-0: #fff5e6;\n",
       "  --sklearn-color-unfitted-level-1: #f6e4d2;\n",
       "  --sklearn-color-unfitted-level-2: #ffe0b3;\n",
       "  --sklearn-color-unfitted-level-3: chocolate;\n",
       "  /* Definition of color scheme for fitted estimators */\n",
       "  --sklearn-color-fitted-level-0: #f0f8ff;\n",
       "  --sklearn-color-fitted-level-1: #d4ebff;\n",
       "  --sklearn-color-fitted-level-2: #b3dbfd;\n",
       "  --sklearn-color-fitted-level-3: cornflowerblue;\n",
       "\n",
       "  /* Specific color for light theme */\n",
       "  --sklearn-color-text-on-default-background: var(--sg-text-color, var(--theme-code-foreground, var(--jp-content-font-color1, black)));\n",
       "  --sklearn-color-background: var(--sg-background-color, var(--theme-background, var(--jp-layout-color0, white)));\n",
       "  --sklearn-color-border-box: var(--sg-text-color, var(--theme-code-foreground, var(--jp-content-font-color1, black)));\n",
       "  --sklearn-color-icon: #696969;\n",
       "\n",
       "  @media (prefers-color-scheme: dark) {\n",
       "    /* Redefinition of color scheme for dark theme */\n",
       "    --sklearn-color-text-on-default-background: var(--sg-text-color, var(--theme-code-foreground, var(--jp-content-font-color1, white)));\n",
       "    --sklearn-color-background: var(--sg-background-color, var(--theme-background, var(--jp-layout-color0, #111)));\n",
       "    --sklearn-color-border-box: var(--sg-text-color, var(--theme-code-foreground, var(--jp-content-font-color1, white)));\n",
       "    --sklearn-color-icon: #878787;\n",
       "  }\n",
       "}\n",
       "\n",
       "#sk-container-id-2 {\n",
       "  color: var(--sklearn-color-text);\n",
       "}\n",
       "\n",
       "#sk-container-id-2 pre {\n",
       "  padding: 0;\n",
       "}\n",
       "\n",
       "#sk-container-id-2 input.sk-hidden--visually {\n",
       "  border: 0;\n",
       "  clip: rect(1px 1px 1px 1px);\n",
       "  clip: rect(1px, 1px, 1px, 1px);\n",
       "  height: 1px;\n",
       "  margin: -1px;\n",
       "  overflow: hidden;\n",
       "  padding: 0;\n",
       "  position: absolute;\n",
       "  width: 1px;\n",
       "}\n",
       "\n",
       "#sk-container-id-2 div.sk-dashed-wrapped {\n",
       "  border: 1px dashed var(--sklearn-color-line);\n",
       "  margin: 0 0.4em 0.5em 0.4em;\n",
       "  box-sizing: border-box;\n",
       "  padding-bottom: 0.4em;\n",
       "  background-color: var(--sklearn-color-background);\n",
       "}\n",
       "\n",
       "#sk-container-id-2 div.sk-container {\n",
       "  /* jupyter's `normalize.less` sets `[hidden] { display: none; }`\n",
       "     but bootstrap.min.css set `[hidden] { display: none !important; }`\n",
       "     so we also need the `!important` here to be able to override the\n",
       "     default hidden behavior on the sphinx rendered scikit-learn.org.\n",
       "     See: https://github.com/scikit-learn/scikit-learn/issues/21755 */\n",
       "  display: inline-block !important;\n",
       "  position: relative;\n",
       "}\n",
       "\n",
       "#sk-container-id-2 div.sk-text-repr-fallback {\n",
       "  display: none;\n",
       "}\n",
       "\n",
       "div.sk-parallel-item,\n",
       "div.sk-serial,\n",
       "div.sk-item {\n",
       "  /* draw centered vertical line to link estimators */\n",
       "  background-image: linear-gradient(var(--sklearn-color-text-on-default-background), var(--sklearn-color-text-on-default-background));\n",
       "  background-size: 2px 100%;\n",
       "  background-repeat: no-repeat;\n",
       "  background-position: center center;\n",
       "}\n",
       "\n",
       "/* Parallel-specific style estimator block */\n",
       "\n",
       "#sk-container-id-2 div.sk-parallel-item::after {\n",
       "  content: \"\";\n",
       "  width: 100%;\n",
       "  border-bottom: 2px solid var(--sklearn-color-text-on-default-background);\n",
       "  flex-grow: 1;\n",
       "}\n",
       "\n",
       "#sk-container-id-2 div.sk-parallel {\n",
       "  display: flex;\n",
       "  align-items: stretch;\n",
       "  justify-content: center;\n",
       "  background-color: var(--sklearn-color-background);\n",
       "  position: relative;\n",
       "}\n",
       "\n",
       "#sk-container-id-2 div.sk-parallel-item {\n",
       "  display: flex;\n",
       "  flex-direction: column;\n",
       "}\n",
       "\n",
       "#sk-container-id-2 div.sk-parallel-item:first-child::after {\n",
       "  align-self: flex-end;\n",
       "  width: 50%;\n",
       "}\n",
       "\n",
       "#sk-container-id-2 div.sk-parallel-item:last-child::after {\n",
       "  align-self: flex-start;\n",
       "  width: 50%;\n",
       "}\n",
       "\n",
       "#sk-container-id-2 div.sk-parallel-item:only-child::after {\n",
       "  width: 0;\n",
       "}\n",
       "\n",
       "/* Serial-specific style estimator block */\n",
       "\n",
       "#sk-container-id-2 div.sk-serial {\n",
       "  display: flex;\n",
       "  flex-direction: column;\n",
       "  align-items: center;\n",
       "  background-color: var(--sklearn-color-background);\n",
       "  padding-right: 1em;\n",
       "  padding-left: 1em;\n",
       "}\n",
       "\n",
       "\n",
       "/* Toggleable style: style used for estimator/Pipeline/ColumnTransformer box that is\n",
       "clickable and can be expanded/collapsed.\n",
       "- Pipeline and ColumnTransformer use this feature and define the default style\n",
       "- Estimators will overwrite some part of the style using the `sk-estimator` class\n",
       "*/\n",
       "\n",
       "/* Pipeline and ColumnTransformer style (default) */\n",
       "\n",
       "#sk-container-id-2 div.sk-toggleable {\n",
       "  /* Default theme specific background. It is overwritten whether we have a\n",
       "  specific estimator or a Pipeline/ColumnTransformer */\n",
       "  background-color: var(--sklearn-color-background);\n",
       "}\n",
       "\n",
       "/* Toggleable label */\n",
       "#sk-container-id-2 label.sk-toggleable__label {\n",
       "  cursor: pointer;\n",
       "  display: block;\n",
       "  width: 100%;\n",
       "  margin-bottom: 0;\n",
       "  padding: 0.5em;\n",
       "  box-sizing: border-box;\n",
       "  text-align: center;\n",
       "}\n",
       "\n",
       "#sk-container-id-2 label.sk-toggleable__label-arrow:before {\n",
       "  /* Arrow on the left of the label */\n",
       "  content: \"▸\";\n",
       "  float: left;\n",
       "  margin-right: 0.25em;\n",
       "  color: var(--sklearn-color-icon);\n",
       "}\n",
       "\n",
       "#sk-container-id-2 label.sk-toggleable__label-arrow:hover:before {\n",
       "  color: var(--sklearn-color-text);\n",
       "}\n",
       "\n",
       "/* Toggleable content - dropdown */\n",
       "\n",
       "#sk-container-id-2 div.sk-toggleable__content {\n",
       "  max-height: 0;\n",
       "  max-width: 0;\n",
       "  overflow: hidden;\n",
       "  text-align: left;\n",
       "  /* unfitted */\n",
       "  background-color: var(--sklearn-color-unfitted-level-0);\n",
       "}\n",
       "\n",
       "#sk-container-id-2 div.sk-toggleable__content.fitted {\n",
       "  /* fitted */\n",
       "  background-color: var(--sklearn-color-fitted-level-0);\n",
       "}\n",
       "\n",
       "#sk-container-id-2 div.sk-toggleable__content pre {\n",
       "  margin: 0.2em;\n",
       "  border-radius: 0.25em;\n",
       "  color: var(--sklearn-color-text);\n",
       "  /* unfitted */\n",
       "  background-color: var(--sklearn-color-unfitted-level-0);\n",
       "}\n",
       "\n",
       "#sk-container-id-2 div.sk-toggleable__content.fitted pre {\n",
       "  /* unfitted */\n",
       "  background-color: var(--sklearn-color-fitted-level-0);\n",
       "}\n",
       "\n",
       "#sk-container-id-2 input.sk-toggleable__control:checked~div.sk-toggleable__content {\n",
       "  /* Expand drop-down */\n",
       "  max-height: 200px;\n",
       "  max-width: 100%;\n",
       "  overflow: auto;\n",
       "}\n",
       "\n",
       "#sk-container-id-2 input.sk-toggleable__control:checked~label.sk-toggleable__label-arrow:before {\n",
       "  content: \"▾\";\n",
       "}\n",
       "\n",
       "/* Pipeline/ColumnTransformer-specific style */\n",
       "\n",
       "#sk-container-id-2 div.sk-label input.sk-toggleable__control:checked~label.sk-toggleable__label {\n",
       "  color: var(--sklearn-color-text);\n",
       "  background-color: var(--sklearn-color-unfitted-level-2);\n",
       "}\n",
       "\n",
       "#sk-container-id-2 div.sk-label.fitted input.sk-toggleable__control:checked~label.sk-toggleable__label {\n",
       "  background-color: var(--sklearn-color-fitted-level-2);\n",
       "}\n",
       "\n",
       "/* Estimator-specific style */\n",
       "\n",
       "/* Colorize estimator box */\n",
       "#sk-container-id-2 div.sk-estimator input.sk-toggleable__control:checked~label.sk-toggleable__label {\n",
       "  /* unfitted */\n",
       "  background-color: var(--sklearn-color-unfitted-level-2);\n",
       "}\n",
       "\n",
       "#sk-container-id-2 div.sk-estimator.fitted input.sk-toggleable__control:checked~label.sk-toggleable__label {\n",
       "  /* fitted */\n",
       "  background-color: var(--sklearn-color-fitted-level-2);\n",
       "}\n",
       "\n",
       "#sk-container-id-2 div.sk-label label.sk-toggleable__label,\n",
       "#sk-container-id-2 div.sk-label label {\n",
       "  /* The background is the default theme color */\n",
       "  color: var(--sklearn-color-text-on-default-background);\n",
       "}\n",
       "\n",
       "/* On hover, darken the color of the background */\n",
       "#sk-container-id-2 div.sk-label:hover label.sk-toggleable__label {\n",
       "  color: var(--sklearn-color-text);\n",
       "  background-color: var(--sklearn-color-unfitted-level-2);\n",
       "}\n",
       "\n",
       "/* Label box, darken color on hover, fitted */\n",
       "#sk-container-id-2 div.sk-label.fitted:hover label.sk-toggleable__label.fitted {\n",
       "  color: var(--sklearn-color-text);\n",
       "  background-color: var(--sklearn-color-fitted-level-2);\n",
       "}\n",
       "\n",
       "/* Estimator label */\n",
       "\n",
       "#sk-container-id-2 div.sk-label label {\n",
       "  font-family: monospace;\n",
       "  font-weight: bold;\n",
       "  display: inline-block;\n",
       "  line-height: 1.2em;\n",
       "}\n",
       "\n",
       "#sk-container-id-2 div.sk-label-container {\n",
       "  text-align: center;\n",
       "}\n",
       "\n",
       "/* Estimator-specific */\n",
       "#sk-container-id-2 div.sk-estimator {\n",
       "  font-family: monospace;\n",
       "  border: 1px dotted var(--sklearn-color-border-box);\n",
       "  border-radius: 0.25em;\n",
       "  box-sizing: border-box;\n",
       "  margin-bottom: 0.5em;\n",
       "  /* unfitted */\n",
       "  background-color: var(--sklearn-color-unfitted-level-0);\n",
       "}\n",
       "\n",
       "#sk-container-id-2 div.sk-estimator.fitted {\n",
       "  /* fitted */\n",
       "  background-color: var(--sklearn-color-fitted-level-0);\n",
       "}\n",
       "\n",
       "/* on hover */\n",
       "#sk-container-id-2 div.sk-estimator:hover {\n",
       "  /* unfitted */\n",
       "  background-color: var(--sklearn-color-unfitted-level-2);\n",
       "}\n",
       "\n",
       "#sk-container-id-2 div.sk-estimator.fitted:hover {\n",
       "  /* fitted */\n",
       "  background-color: var(--sklearn-color-fitted-level-2);\n",
       "}\n",
       "\n",
       "/* Specification for estimator info (e.g. \"i\" and \"?\") */\n",
       "\n",
       "/* Common style for \"i\" and \"?\" */\n",
       "\n",
       ".sk-estimator-doc-link,\n",
       "a:link.sk-estimator-doc-link,\n",
       "a:visited.sk-estimator-doc-link {\n",
       "  float: right;\n",
       "  font-size: smaller;\n",
       "  line-height: 1em;\n",
       "  font-family: monospace;\n",
       "  background-color: var(--sklearn-color-background);\n",
       "  border-radius: 1em;\n",
       "  height: 1em;\n",
       "  width: 1em;\n",
       "  text-decoration: none !important;\n",
       "  margin-left: 1ex;\n",
       "  /* unfitted */\n",
       "  border: var(--sklearn-color-unfitted-level-1) 1pt solid;\n",
       "  color: var(--sklearn-color-unfitted-level-1);\n",
       "}\n",
       "\n",
       ".sk-estimator-doc-link.fitted,\n",
       "a:link.sk-estimator-doc-link.fitted,\n",
       "a:visited.sk-estimator-doc-link.fitted {\n",
       "  /* fitted */\n",
       "  border: var(--sklearn-color-fitted-level-1) 1pt solid;\n",
       "  color: var(--sklearn-color-fitted-level-1);\n",
       "}\n",
       "\n",
       "/* On hover */\n",
       "div.sk-estimator:hover .sk-estimator-doc-link:hover,\n",
       ".sk-estimator-doc-link:hover,\n",
       "div.sk-label-container:hover .sk-estimator-doc-link:hover,\n",
       ".sk-estimator-doc-link:hover {\n",
       "  /* unfitted */\n",
       "  background-color: var(--sklearn-color-unfitted-level-3);\n",
       "  color: var(--sklearn-color-background);\n",
       "  text-decoration: none;\n",
       "}\n",
       "\n",
       "div.sk-estimator.fitted:hover .sk-estimator-doc-link.fitted:hover,\n",
       ".sk-estimator-doc-link.fitted:hover,\n",
       "div.sk-label-container:hover .sk-estimator-doc-link.fitted:hover,\n",
       ".sk-estimator-doc-link.fitted:hover {\n",
       "  /* fitted */\n",
       "  background-color: var(--sklearn-color-fitted-level-3);\n",
       "  color: var(--sklearn-color-background);\n",
       "  text-decoration: none;\n",
       "}\n",
       "\n",
       "/* Span, style for the box shown on hovering the info icon */\n",
       ".sk-estimator-doc-link span {\n",
       "  display: none;\n",
       "  z-index: 9999;\n",
       "  position: relative;\n",
       "  font-weight: normal;\n",
       "  right: .2ex;\n",
       "  padding: .5ex;\n",
       "  margin: .5ex;\n",
       "  width: min-content;\n",
       "  min-width: 20ex;\n",
       "  max-width: 50ex;\n",
       "  color: var(--sklearn-color-text);\n",
       "  box-shadow: 2pt 2pt 4pt #999;\n",
       "  /* unfitted */\n",
       "  background: var(--sklearn-color-unfitted-level-0);\n",
       "  border: .5pt solid var(--sklearn-color-unfitted-level-3);\n",
       "}\n",
       "\n",
       ".sk-estimator-doc-link.fitted span {\n",
       "  /* fitted */\n",
       "  background: var(--sklearn-color-fitted-level-0);\n",
       "  border: var(--sklearn-color-fitted-level-3);\n",
       "}\n",
       "\n",
       ".sk-estimator-doc-link:hover span {\n",
       "  display: block;\n",
       "}\n",
       "\n",
       "/* \"?\"-specific style due to the `<a>` HTML tag */\n",
       "\n",
       "#sk-container-id-2 a.estimator_doc_link {\n",
       "  float: right;\n",
       "  font-size: 1rem;\n",
       "  line-height: 1em;\n",
       "  font-family: monospace;\n",
       "  background-color: var(--sklearn-color-background);\n",
       "  border-radius: 1rem;\n",
       "  height: 1rem;\n",
       "  width: 1rem;\n",
       "  text-decoration: none;\n",
       "  /* unfitted */\n",
       "  color: var(--sklearn-color-unfitted-level-1);\n",
       "  border: var(--sklearn-color-unfitted-level-1) 1pt solid;\n",
       "}\n",
       "\n",
       "#sk-container-id-2 a.estimator_doc_link.fitted {\n",
       "  /* fitted */\n",
       "  border: var(--sklearn-color-fitted-level-1) 1pt solid;\n",
       "  color: var(--sklearn-color-fitted-level-1);\n",
       "}\n",
       "\n",
       "/* On hover */\n",
       "#sk-container-id-2 a.estimator_doc_link:hover {\n",
       "  /* unfitted */\n",
       "  background-color: var(--sklearn-color-unfitted-level-3);\n",
       "  color: var(--sklearn-color-background);\n",
       "  text-decoration: none;\n",
       "}\n",
       "\n",
       "#sk-container-id-2 a.estimator_doc_link.fitted:hover {\n",
       "  /* fitted */\n",
       "  background-color: var(--sklearn-color-fitted-level-3);\n",
       "}\n",
       "</style><div id=\"sk-container-id-2\" class=\"sk-top-container\"><div class=\"sk-text-repr-fallback\"><pre>LinearRegression()</pre><b>In a Jupyter environment, please rerun this cell to show the HTML representation or trust the notebook. <br />On GitHub, the HTML representation is unable to render, please try loading this page with nbviewer.org.</b></div><div class=\"sk-container\" hidden><div class=\"sk-item\"><div class=\"sk-estimator fitted sk-toggleable\"><input class=\"sk-toggleable__control sk-hidden--visually\" id=\"sk-estimator-id-2\" type=\"checkbox\" checked><label for=\"sk-estimator-id-2\" class=\"sk-toggleable__label fitted sk-toggleable__label-arrow fitted\">&nbsp;&nbsp;LinearRegression<a class=\"sk-estimator-doc-link fitted\" rel=\"noreferrer\" target=\"_blank\" href=\"https://scikit-learn.org/1.5/modules/generated/sklearn.linear_model.LinearRegression.html\">?<span>Documentation for LinearRegression</span></a><span class=\"sk-estimator-doc-link fitted\">i<span>Fitted</span></span></label><div class=\"sk-toggleable__content fitted\"><pre>LinearRegression()</pre></div> </div></div></div></div>"
      ],
      "text/plain": [
       "LinearRegression()"
      ]
     },
     "execution_count": 11,
     "metadata": {},
     "output_type": "execute_result"
    }
   ],
   "source": [
    "%%time\n",
    "model.fit(X, y)"
   ]
  },
  {
   "cell_type": "markdown",
   "id": "55c8d821-da45-4ea9-90cf-adec25b4e97c",
   "metadata": {},
   "source": [
    "### Prediction"
   ]
  },
  {
   "cell_type": "code",
   "execution_count": 12,
   "id": "b5df4675-aa91-4f62-b054-cf63596169f3",
   "metadata": {},
   "outputs": [],
   "source": [
    "pred = model.predict(X)"
   ]
  },
  {
   "cell_type": "code",
   "execution_count": 13,
   "id": "f734192a-711b-4d3c-ab68-563cda40f526",
   "metadata": {},
   "outputs": [
    {
     "data": {
      "text/plain": [
       "array([245436.6193764 , 248366.95626666, 210665.37128016, 437740.81472046,\n",
       "       386568.16083095, 230282.78275422, 229323.11416106, 240466.42877881,\n",
       "       254178.53072383, 256914.70210804, 338562.41329885, 513121.66681922,\n",
       "       256914.70210804, 327155.74776484, 392259.21876711, 409836.77653386,\n",
       "       256026.45071251, 241162.74645571, 253912.94802014, 331286.78629026,\n",
       "       240441.87911713, 224591.72481806, 371389.77454709, 217603.99838742,\n",
       "       219262.2164449 , 348145.70850586, 229323.11416106, 399655.36229669,\n",
       "       253912.94802014, 435868.3450701 , 327396.78080684, 253912.94802014,\n",
       "       235351.17199854, 219262.2164449 , 293297.30072581, 240946.26307539,\n",
       "       285635.57449254, 229180.2797658 , 254897.16627498, 257756.08596762,\n",
       "       329990.11779579, 254178.53072383, 285635.57449254, 399655.36229669,\n",
       "       338562.41329885, 257756.08596762, 243227.14982471, 257756.08596762,\n",
       "       243227.14982471, 239625.04491923, 246420.83763124, 329990.11779579,\n",
       "       329990.11779579, 264359.94496099, 246420.83763124, 438653.61577768,\n",
       "       332246.45488342, 388440.63048132, 286668.89207075, 228939.2467238 ,\n",
       "       286740.30926838, 257802.95350356, 370981.35744814, 329990.11779579,\n",
       "       254897.16627498, 286501.5080138 , 327155.74776484, 224616.27447974,\n",
       "       254897.16627498, 435868.3450701 , 329990.11779579, 245508.03657403,\n",
       "       248366.95626666, 224616.27447974, 254897.16627498, 254897.16627498,\n",
       "       366035.71651224, 399655.36229669, 254178.53072383, 367187.31882403,\n",
       "       253912.94802014, 352395.03176486, 253912.94802014, 245436.6193764 ,\n",
       "       254897.16627498, 327155.74776484, 208982.60356099, 331431.85247295,\n",
       "       236190.3240707 , 377969.08387878, 256914.70210804, 341059.78342848,\n",
       "       256914.70210804, 257756.08596762, 257756.08596762, 224616.27447974,\n",
       "       333447.15651858, 437740.81472046, 246597.14883789, 259318.33716578])"
      ]
     },
     "execution_count": 13,
     "metadata": {},
     "output_type": "execute_result"
    }
   ],
   "source": [
    "pred"
   ]
  },
  {
   "cell_type": "code",
   "execution_count": 14,
   "id": "3583fe47-4213-45c9-8703-fe2332b57398",
   "metadata": {},
   "outputs": [
    {
     "data": {
      "text/plain": [
       "245436.61937639516"
      ]
     },
     "execution_count": 14,
     "metadata": {},
     "output_type": "execute_result"
    }
   ],
   "source": [
    "pred[0]"
   ]
  },
  {
   "cell_type": "code",
   "execution_count": 15,
   "id": "b2a25bfc-a7ed-4157-8fcb-17cdc00eb938",
   "metadata": {},
   "outputs": [
    {
     "data": {
      "text/plain": [
       "234314.144"
      ]
     },
     "execution_count": 15,
     "metadata": {},
     "output_type": "execute_result"
    }
   ],
   "source": [
    "y[0]"
   ]
  },
  {
   "cell_type": "markdown",
   "id": "779d2db1-11fe-4d44-a239-69f592b23f4a",
   "metadata": {},
   "source": [
    "### Visualize"
   ]
  },
  {
   "cell_type": "code",
   "execution_count": 16,
   "id": "b5e7f8db-3885-45b5-a182-3a187f2583ab",
   "metadata": {},
   "outputs": [
    {
     "data": {
      "image/png": "[encoded data removed]",
      "text/plain": [
       "<Figure size 800x400 with 1 Axes>"
      ]
     },
     "metadata": {},
     "output_type": "display_data"
    }
   ],
   "source": [
    "plt.figure(figsize=(8, 4))\n",
    "\n",
    "plt.scatter(x='size', y='price', data=df)\n",
    "plt.plot(X, pred, color='red')\n",
    "plt.xlabel('Size')\n",
    "plt.ylabel('Price')\n",
    "plt.title('Relationship between size and price')\n",
    "plt.show()"
   ]
  },
  {
   "cell_type": "code",
   "execution_count": 17,
   "id": "d4f575ea-b082-425f-bae5-fde9a090e3a0",
   "metadata": {},
   "outputs": [],
   "source": [
    "c= model.intercept_"
   ]
  },
  {
   "cell_type": "code",
   "execution_count": 18,
   "id": "200368b7-0e1f-4ec9-9e03-4dc91414fb80",
   "metadata": {},
   "outputs": [
    {
     "data": {
      "text/plain": [
       "101912.601801229"
      ]
     },
     "execution_count": 18,
     "metadata": {},
     "output_type": "execute_result"
    }
   ],
   "source": [
    "c"
   ]
  },
  {
   "cell_type": "code",
   "execution_count": 19,
   "id": "1847ae70-3614-4a56-9b6c-65d23b4c28e5",
   "metadata": {},
   "outputs": [],
   "source": [
    "m = model.coef_"
   ]
  },
  {
   "cell_type": "code",
   "execution_count": 20,
   "id": "bf4f87a9-9c67-49f5-9998-6acc2ffbb5fc",
   "metadata": {},
   "outputs": [
    {
     "data": {
      "text/plain": [
       "array([223.17874259])"
      ]
     },
     "execution_count": 20,
     "metadata": {},
     "output_type": "execute_result"
    }
   ],
   "source": [
    "m"
   ]
  },
  {
   "cell_type": "code",
   "execution_count": 21,
   "id": "b6d2aa27-c224-424d-93e8-f33b71bcbcec",
   "metadata": {},
   "outputs": [],
   "source": [
    "X = 7000.09 # size"
   ]
  },
  {
   "cell_type": "code",
   "execution_count": 22,
   "id": "879db14f-a275-4e63-bd27-00a58d814bea",
   "metadata": {},
   "outputs": [],
   "source": [
    "# y = mX + C\n",
    "\n",
    "price = m * X + c"
   ]
  },
  {
   "cell_type": "code",
   "execution_count": 23,
   "id": "c48b775e-4387-4499-8bb9-a466ea229418",
   "metadata": {},
   "outputs": [
    {
     "data": {
      "text/plain": [
       "array([1664183.88605032])"
      ]
     },
     "execution_count": 23,
     "metadata": {},
     "output_type": "execute_result"
    }
   ],
   "source": [
    "price"
   ]
  },
  {
   "cell_type": "code",
   "execution_count": 24,
   "id": "79e9d329-982e-457c-bcd3-23f4927ab1e4",
   "metadata": {},
   "outputs": [
    {
     "data": {
      "text/plain": [
       "234314.144"
      ]
     },
     "execution_count": 24,
     "metadata": {},
     "output_type": "execute_result"
    }
   ],
   "source": [
    "df['price'][0]"
   ]
  },
  {
   "cell_type": "code",
   "execution_count": null,
   "id": "4deef539-299c-45ba-b39c-96d52d2bc645",
   "metadata": {},
   "outputs": [],
   "source": []
  },
  {
   "cell_type": "markdown",
   "id": "fdf2f716-9362-4dda-b8d2-0d385090946f",
   "metadata": {},
   "source": [
    "# Multiple Linear Regression\n",
    "\n",
    "![](https://i.imgur.com/1EzyZvj.png)"
   ]
  },
  {
   "cell_type": "markdown",
   "id": "a9d16cf6-3ed3-4bb3-a152-57ce5bf20f9f",
   "metadata": {},
   "source": [
    "## Problem Statement\n",
    "\n",
    "\n",
    "> **QUESTION**: ACME Insurance Inc. offers affordable health insurance to thousands of customers all over the United States. As the lead data scientist at ACME, **you're tasked with creating an automated system to estimate the annual medical expenditure for new customers**, using information such as their age, sex, BMI, children, smoking habits, and region of residence.\n",
    ">\n",
    "> Estimates from your system will be used to determine the annual insurance premium (amount paid every month) offered to the customer. Due to regulatory requirements, you must be able to explain why your system outputs a certain prediction.\n",
    ">\n",
    "> You're given a [CSV file](https://raw.githubusercontent.com/JovianML/opendatasets/master/data/medical-charges.csv) containing verified historical data, consisting of the aforementioned information and the actual medical charges incurred by over 1300 customers.\n",
    ">\n",
    "> <img src=\"https://i.imgur.com/87Uw0aG.png\" width=\"480\">\n",
    ">\n",
    "> Dataset source: https://github.com/stedy/Machine-Learning-with-R-datasets\n",
    "\n",
    "## Data Collection\n",
    "\n"
   ]
  },
  {
   "cell_type": "code",
   "execution_count": 6,
   "id": "f0730378-1cda-42e1-81ad-c722e658301a",
   "metadata": {},
   "outputs": [],
   "source": [
    "# import necessary libraries\n",
    "import pandas as pd\n",
    "import numpy as np\n",
    "import  matplotlib.pyplot as plt\n",
    "import seaborn as sns"
   ]
  },
  {
   "cell_type": "code",
   "execution_count": 7,
   "id": "7e6e5d83-c9db-419e-ab93-28cd7fde6642",
   "metadata": {},
   "outputs": [
    {
     "data": {
      "text/html": [
       "<div>\n",
       "<style scoped>\n",
       "    .dataframe tbody tr th:only-of-type {\n",
       "        vertical-align: middle;\n",
       "    }\n",
       "\n",
       "    .dataframe tbody tr th {\n",
       "        vertical-align: top;\n",
       "    }\n",
       "\n",
       "    .dataframe thead th {\n",
       "        text-align: right;\n",
       "    }\n",
       "</style>\n",
       "<table border=\"1\" class=\"dataframe\">\n",
       "  <thead>\n",
       "    <tr style=\"text-align: right;\">\n",
       "      <th></th>\n",
       "      <th>age</th>\n",
       "      <th>sex</th>\n",
       "      <th>bmi</th>\n",
       "      <th>children</th>\n",
       "      <th>smoker</th>\n",
       "      <th>region</th>\n",
       "      <th>charges</th>\n",
       "    </tr>\n",
       "  </thead>\n",
       "  <tbody>\n",
       "    <tr>\n",
       "      <th>0</th>\n",
       "      <td>19</td>\n",
       "      <td>female</td>\n",
       "      <td>27.900</td>\n",
       "      <td>0</td>\n",
       "      <td>yes</td>\n",
       "      <td>southwest</td>\n",
       "      <td>16884.92400</td>\n",
       "    </tr>\n",
       "    <tr>\n",
       "      <th>1</th>\n",
       "      <td>18</td>\n",
       "      <td>male</td>\n",
       "      <td>33.770</td>\n",
       "      <td>1</td>\n",
       "      <td>no</td>\n",
       "      <td>southeast</td>\n",
       "      <td>1725.55230</td>\n",
       "    </tr>\n",
       "    <tr>\n",
       "      <th>2</th>\n",
       "      <td>28</td>\n",
       "      <td>male</td>\n",
       "      <td>33.000</td>\n",
       "      <td>3</td>\n",
       "      <td>no</td>\n",
       "      <td>southeast</td>\n",
       "      <td>4449.46200</td>\n",
       "    </tr>\n",
       "    <tr>\n",
       "      <th>3</th>\n",
       "      <td>33</td>\n",
       "      <td>male</td>\n",
       "      <td>22.705</td>\n",
       "      <td>0</td>\n",
       "      <td>no</td>\n",
       "      <td>northwest</td>\n",
       "      <td>21984.47061</td>\n",
       "    </tr>\n",
       "    <tr>\n",
       "      <th>4</th>\n",
       "      <td>32</td>\n",
       "      <td>male</td>\n",
       "      <td>28.880</td>\n",
       "      <td>0</td>\n",
       "      <td>no</td>\n",
       "      <td>northwest</td>\n",
       "      <td>3866.85520</td>\n",
       "    </tr>\n",
       "  </tbody>\n",
       "</table>\n",
       "</div>"
      ],
      "text/plain": [
       "   age     sex     bmi  children smoker     region      charges\n",
       "0   19  female  27.900         0    yes  southwest  16884.92400\n",
       "1   18    male  33.770         1     no  southeast   1725.55230\n",
       "2   28    male  33.000         3     no  southeast   4449.46200\n",
       "3   33    male  22.705         0     no  northwest  21984.47061\n",
       "4   32    male  28.880         0     no  northwest   3866.85520"
      ]
     },
     "execution_count": 7,
     "metadata": {},
     "output_type": "execute_result"
    }
   ],
   "source": [
    "df = pd.read_csv('medical-charges.csv')\n",
    "df.head()"
   ]
  },
  {
   "cell_type": "code",
   "execution_count": 8,
   "id": "c21f6af1-7870-4f53-8e43-11ad57800ca0",
   "metadata": {},
   "outputs": [
    {
     "name": "stdout",
     "output_type": "stream",
     "text": [
      "<class 'pandas.core.frame.DataFrame'>\n",
      "RangeIndex: 1338 entries, 0 to 1337\n",
      "Data columns (total 7 columns):\n",
      " #   Column    Non-Null Count  Dtype  \n",
      "---  ------    --------------  -----  \n",
      " 0   age       1338 non-null   int64  \n",
      " 1   sex       1338 non-null   object \n",
      " 2   bmi       1338 non-null   float64\n",
      " 3   children  1338 non-null   int64  \n",
      " 4   smoker    1338 non-null   object \n",
      " 5   region    1338 non-null   object \n",
      " 6   charges   1338 non-null   float64\n",
      "dtypes: float64(2), int64(2), object(3)\n",
      "memory usage: 73.3+ KB\n"
     ]
    }
   ],
   "source": [
    "df.info()"
   ]
  },
  {
   "cell_type": "code",
   "execution_count": 9,
   "id": "33480f9c-802a-4a07-becb-0caa71c19bdc",
   "metadata": {},
   "outputs": [
    {
     "data": {
      "text/plain": [
       "1"
      ]
     },
     "execution_count": 9,
     "metadata": {},
     "output_type": "execute_result"
    }
   ],
   "source": [
    "df.duplicated().sum()"
   ]
  },
  {
   "cell_type": "code",
   "execution_count": 10,
   "id": "8ba2681a-f219-49c5-a5b9-cc8b6a243acc",
   "metadata": {},
   "outputs": [
    {
     "data": {
      "text/html": [
       "<div>\n",
       "<style scoped>\n",
       "    .dataframe tbody tr th:only-of-type {\n",
       "        vertical-align: middle;\n",
       "    }\n",
       "\n",
       "    .dataframe tbody tr th {\n",
       "        vertical-align: top;\n",
       "    }\n",
       "\n",
       "    .dataframe thead th {\n",
       "        text-align: right;\n",
       "    }\n",
       "</style>\n",
       "<table border=\"1\" class=\"dataframe\">\n",
       "  <thead>\n",
       "    <tr style=\"text-align: right;\">\n",
       "      <th></th>\n",
       "      <th>age</th>\n",
       "      <th>sex</th>\n",
       "      <th>bmi</th>\n",
       "      <th>children</th>\n",
       "      <th>smoker</th>\n",
       "      <th>region</th>\n",
       "      <th>charges</th>\n",
       "    </tr>\n",
       "  </thead>\n",
       "  <tbody>\n",
       "    <tr>\n",
       "      <th>195</th>\n",
       "      <td>19</td>\n",
       "      <td>male</td>\n",
       "      <td>30.59</td>\n",
       "      <td>0</td>\n",
       "      <td>no</td>\n",
       "      <td>northwest</td>\n",
       "      <td>1639.5631</td>\n",
       "    </tr>\n",
       "    <tr>\n",
       "      <th>581</th>\n",
       "      <td>19</td>\n",
       "      <td>male</td>\n",
       "      <td>30.59</td>\n",
       "      <td>0</td>\n",
       "      <td>no</td>\n",
       "      <td>northwest</td>\n",
       "      <td>1639.5631</td>\n",
       "    </tr>\n",
       "  </tbody>\n",
       "</table>\n",
       "</div>"
      ],
      "text/plain": [
       "     age   sex    bmi  children smoker     region    charges\n",
       "195   19  male  30.59         0     no  northwest  1639.5631\n",
       "581   19  male  30.59         0     no  northwest  1639.5631"
      ]
     },
     "execution_count": 10,
     "metadata": {},
     "output_type": "execute_result"
    }
   ],
   "source": [
    "df[df.duplicated(keep=False)]"
   ]
  },
  {
   "cell_type": "code",
   "execution_count": 11,
   "id": "73ba9a96-cdd2-4ee7-a8d6-de2c63a835d6",
   "metadata": {},
   "outputs": [],
   "source": [
    "# drop duplicate\n",
    "df.drop_duplicates(inplace=True)"
   ]
  },
  {
   "cell_type": "code",
   "execution_count": 12,
   "id": "59643e50-848a-4f97-ba46-79485a7bfd44",
   "metadata": {},
   "outputs": [
    {
     "data": {
      "text/plain": [
       "0"
      ]
     },
     "execution_count": 12,
     "metadata": {},
     "output_type": "execute_result"
    }
   ],
   "source": [
    "df.duplicated().sum()"
   ]
  },
  {
   "cell_type": "code",
   "execution_count": 13,
   "id": "8530ce53-d868-4893-869c-7d80e34d60e7",
   "metadata": {},
   "outputs": [
    {
     "data": {
      "text/html": [
       "<div>\n",
       "<style scoped>\n",
       "    .dataframe tbody tr th:only-of-type {\n",
       "        vertical-align: middle;\n",
       "    }\n",
       "\n",
       "    .dataframe tbody tr th {\n",
       "        vertical-align: top;\n",
       "    }\n",
       "\n",
       "    .dataframe thead th {\n",
       "        text-align: right;\n",
       "    }\n",
       "</style>\n",
       "<table border=\"1\" class=\"dataframe\">\n",
       "  <thead>\n",
       "    <tr style=\"text-align: right;\">\n",
       "      <th></th>\n",
       "      <th>count</th>\n",
       "      <th>mean</th>\n",
       "      <th>std</th>\n",
       "      <th>min</th>\n",
       "      <th>25%</th>\n",
       "      <th>50%</th>\n",
       "      <th>75%</th>\n",
       "      <th>max</th>\n",
       "    </tr>\n",
       "  </thead>\n",
       "  <tbody>\n",
       "    <tr>\n",
       "      <th>age</th>\n",
       "      <td>1337.0</td>\n",
       "      <td>39.222139</td>\n",
       "      <td>14.044333</td>\n",
       "      <td>18.0000</td>\n",
       "      <td>27.000</td>\n",
       "      <td>39.0000</td>\n",
       "      <td>51.00000</td>\n",
       "      <td>64.00000</td>\n",
       "    </tr>\n",
       "    <tr>\n",
       "      <th>bmi</th>\n",
       "      <td>1337.0</td>\n",
       "      <td>30.663452</td>\n",
       "      <td>6.100468</td>\n",
       "      <td>15.9600</td>\n",
       "      <td>26.290</td>\n",
       "      <td>30.4000</td>\n",
       "      <td>34.70000</td>\n",
       "      <td>53.13000</td>\n",
       "    </tr>\n",
       "    <tr>\n",
       "      <th>children</th>\n",
       "      <td>1337.0</td>\n",
       "      <td>1.095737</td>\n",
       "      <td>1.205571</td>\n",
       "      <td>0.0000</td>\n",
       "      <td>0.000</td>\n",
       "      <td>1.0000</td>\n",
       "      <td>2.00000</td>\n",
       "      <td>5.00000</td>\n",
       "    </tr>\n",
       "    <tr>\n",
       "      <th>charges</th>\n",
       "      <td>1337.0</td>\n",
       "      <td>13279.121487</td>\n",
       "      <td>12110.359656</td>\n",
       "      <td>1121.8739</td>\n",
       "      <td>4746.344</td>\n",
       "      <td>9386.1613</td>\n",
       "      <td>16657.71745</td>\n",
       "      <td>63770.42801</td>\n",
       "    </tr>\n",
       "  </tbody>\n",
       "</table>\n",
       "</div>"
      ],
      "text/plain": [
       "           count          mean           std        min       25%        50%  \\\n",
       "age       1337.0     39.222139     14.044333    18.0000    27.000    39.0000   \n",
       "bmi       1337.0     30.663452      6.100468    15.9600    26.290    30.4000   \n",
       "children  1337.0      1.095737      1.205571     0.0000     0.000     1.0000   \n",
       "charges   1337.0  13279.121487  12110.359656  1121.8739  4746.344  9386.1613   \n",
       "\n",
       "                  75%          max  \n",
       "age          51.00000     64.00000  \n",
       "bmi          34.70000     53.13000  \n",
       "children      2.00000      5.00000  \n",
       "charges   16657.71745  63770.42801  "
      ]
     },
     "execution_count": 13,
     "metadata": {},
     "output_type": "execute_result"
    }
   ],
   "source": [
    "# summary statistics\n",
    "df.describe().T"
   ]
  },
  {
   "cell_type": "markdown",
   "id": "fb7b359f-d3f5-426d-9bf1-a3969eecb3ba",
   "metadata": {},
   "source": [
    "### Feature Engineering"
   ]
  },
  {
   "cell_type": "markdown",
   "id": "8175e87a-7c2f-4d7e-8d53-9e22240ceca3",
   "metadata": {},
   "source": [
    "##### ![](https://i.imgur.com/lh23OiY.jpg)"
   ]
  },
  {
   "cell_type": "code",
   "execution_count": 14,
   "id": "68d67e7a-9889-4570-ad28-7ca928ab2f29",
   "metadata": {},
   "outputs": [
    {
     "data": {
      "text/plain": [
       "53.13"
      ]
     },
     "execution_count": 14,
     "metadata": {},
     "output_type": "execute_result"
    }
   ],
   "source": [
    "df['bmi'].max()"
   ]
  },
  {
   "cell_type": "code",
   "execution_count": 15,
   "id": "209c0887-7589-402a-9eb8-c1103212317a",
   "metadata": {},
   "outputs": [],
   "source": [
    "df['bmi_category'] = pd.cut(df['bmi'], bins=[0, 18.49, 24.9, 29.9, 39.9, 53.2],\n",
    "                           labels=['under weight', 'normal weight', 'over weight', 'obesity', 'morbid obesity'])"
   ]
  },
  {
   "cell_type": "code",
   "execution_count": 16,
   "id": "4e26b1fb-4ae1-40b0-8987-a7d7ebdf3de2",
   "metadata": {},
   "outputs": [
    {
     "data": {
      "text/html": [
       "<div>\n",
       "<style scoped>\n",
       "    .dataframe tbody tr th:only-of-type {\n",
       "        vertical-align: middle;\n",
       "    }\n",
       "\n",
       "    .dataframe tbody tr th {\n",
       "        vertical-align: top;\n",
       "    }\n",
       "\n",
       "    .dataframe thead th {\n",
       "        text-align: right;\n",
       "    }\n",
       "</style>\n",
       "<table border=\"1\" class=\"dataframe\">\n",
       "  <thead>\n",
       "    <tr style=\"text-align: right;\">\n",
       "      <th></th>\n",
       "      <th>age</th>\n",
       "      <th>sex</th>\n",
       "      <th>bmi</th>\n",
       "      <th>children</th>\n",
       "      <th>smoker</th>\n",
       "      <th>region</th>\n",
       "      <th>charges</th>\n",
       "      <th>bmi_category</th>\n",
       "    </tr>\n",
       "  </thead>\n",
       "  <tbody>\n",
       "    <tr>\n",
       "      <th>0</th>\n",
       "      <td>19</td>\n",
       "      <td>female</td>\n",
       "      <td>27.900</td>\n",
       "      <td>0</td>\n",
       "      <td>yes</td>\n",
       "      <td>southwest</td>\n",
       "      <td>16884.92400</td>\n",
       "      <td>over weight</td>\n",
       "    </tr>\n",
       "    <tr>\n",
       "      <th>1</th>\n",
       "      <td>18</td>\n",
       "      <td>male</td>\n",
       "      <td>33.770</td>\n",
       "      <td>1</td>\n",
       "      <td>no</td>\n",
       "      <td>southeast</td>\n",
       "      <td>1725.55230</td>\n",
       "      <td>obesity</td>\n",
       "    </tr>\n",
       "    <tr>\n",
       "      <th>2</th>\n",
       "      <td>28</td>\n",
       "      <td>male</td>\n",
       "      <td>33.000</td>\n",
       "      <td>3</td>\n",
       "      <td>no</td>\n",
       "      <td>southeast</td>\n",
       "      <td>4449.46200</td>\n",
       "      <td>obesity</td>\n",
       "    </tr>\n",
       "    <tr>\n",
       "      <th>3</th>\n",
       "      <td>33</td>\n",
       "      <td>male</td>\n",
       "      <td>22.705</td>\n",
       "      <td>0</td>\n",
       "      <td>no</td>\n",
       "      <td>northwest</td>\n",
       "      <td>21984.47061</td>\n",
       "      <td>normal weight</td>\n",
       "    </tr>\n",
       "    <tr>\n",
       "      <th>4</th>\n",
       "      <td>32</td>\n",
       "      <td>male</td>\n",
       "      <td>28.880</td>\n",
       "      <td>0</td>\n",
       "      <td>no</td>\n",
       "      <td>northwest</td>\n",
       "      <td>3866.85520</td>\n",
       "      <td>over weight</td>\n",
       "    </tr>\n",
       "  </tbody>\n",
       "</table>\n",
       "</div>"
      ],
      "text/plain": [
       "   age     sex     bmi  children smoker     region      charges   bmi_category\n",
       "0   19  female  27.900         0    yes  southwest  16884.92400    over weight\n",
       "1   18    male  33.770         1     no  southeast   1725.55230        obesity\n",
       "2   28    male  33.000         3     no  southeast   4449.46200        obesity\n",
       "3   33    male  22.705         0     no  northwest  21984.47061  normal weight\n",
       "4   32    male  28.880         0     no  northwest   3866.85520    over weight"
      ]
     },
     "execution_count": 16,
     "metadata": {},
     "output_type": "execute_result"
    }
   ],
   "source": [
    "df.head()"
   ]
  },
  {
   "cell_type": "markdown",
   "id": "15b5f953-2380-4f98-b7c0-47d305a39c72",
   "metadata": {},
   "source": [
    "### Visualization"
   ]
  },
  {
   "cell_type": "code",
   "execution_count": 17,
   "id": "3e768f47-3256-41de-8de6-e29d2560e51d",
   "metadata": {},
   "outputs": [],
   "source": [
    "num_cols = df.select_dtypes(include=np.number).columns.tolist()\n",
    "cat_cols = df.select_dtypes(include=['object', 'category']).columns.tolist()"
   ]
  },
  {
   "cell_type": "code",
   "execution_count": 18,
   "id": "559f96a5-66a2-4f6a-a8ab-8818c7ad0f10",
   "metadata": {},
   "outputs": [
    {
     "data": {
      "text/plain": [
       "['age', 'bmi', 'children', 'charges']"
      ]
     },
     "execution_count": 18,
     "metadata": {},
     "output_type": "execute_result"
    }
   ],
   "source": [
    "num_cols"
   ]
  },
  {
   "cell_type": "code",
   "execution_count": 19,
   "id": "67fc36ad-fa3f-4ea9-b8cc-d32466e2d2d5",
   "metadata": {},
   "outputs": [
    {
     "data": {
      "text/plain": [
       "['sex', 'smoker', 'region', 'bmi_category']"
      ]
     },
     "execution_count": 19,
     "metadata": {},
     "output_type": "execute_result"
    }
   ],
   "source": [
    "cat_cols"
   ]
  },
  {
   "cell_type": "code",
   "execution_count": 20,
   "id": "df3a6cc3-b817-48f6-89f7-c60ce8a31e23",
   "metadata": {},
   "outputs": [
    {
     "data": {
      "text/plain": [
       "Index(['age', 'sex', 'bmi', 'children', 'smoker', 'region', 'charges',\n",
       "       'bmi_category'],\n",
       "      dtype='object')"
      ]
     },
     "execution_count": 20,
     "metadata": {},
     "output_type": "execute_result"
    }
   ],
   "source": [
    "df.columns"
   ]
  },
  {
   "cell_type": "code",
   "execution_count": 21,
   "id": "48735885-5bc8-4b78-b4a7-78a2419bc09a",
   "metadata": {},
   "outputs": [
    {
     "data": {
      "image/png": "[encoded data removed]",
      "text/plain": [
       "<Figure size 1000x400 with 2 Axes>"
      ]
     },
     "metadata": {},
     "output_type": "display_data"
    },
    {
     "data": {
      "image/png": "[encoded data removed]",
      "text/plain": [
       "<Figure size 1000x400 with 2 Axes>"
      ]
     },
     "metadata": {},
     "output_type": "display_data"
    },
    {
     "data": {
      "image/png": "[encoded data removed]",
      "text/plain": [
       "<Figure size 1000x400 with 2 Axes>"
      ]
     },
     "metadata": {},
     "output_type": "display_data"
    },
    {
     "data": {
      "image/png": "[encoded data removed]",
      "text/plain": [
       "<Figure size 1000x400 with 2 Axes>"
      ]
     },
     "metadata": {},
     "output_type": "display_data"
    }
   ],
   "source": [
    "# visualize the numerical columns\n",
    "for col in num_cols:\n",
    "    plt.figure(figsize=(10, 4))\n",
    "    plt.subplot(1, 2, 1)\n",
    "    sns.histplot(df[col], kde=True, bins=30)\n",
    "    plt.title(f'{col} distribution')\n",
    "    plt.xlabel(col)\n",
    "    plt.ylabel('Count')\n",
    "\n",
    "    plt.subplot(1, 2, 2)\n",
    "    sns.boxplot(x = df[col], color='green')\n",
    "    plt.title(f'{col} boxplot')\n",
    "    plt.xlabel(col)\n",
    "\n",
    "    plt.tight_layout()\n",
    "    plt.show()"
   ]
  },
  {
   "cell_type": "code",
   "execution_count": 25,
   "id": "42794aa8-df91-4469-8299-9ea3674903b7",
   "metadata": {},
   "outputs": [],
   "source": [
    "df['log_charges'] = np.log(df['charges'])"
   ]
  },
  {
   "cell_type": "code",
   "execution_count": 26,
   "id": "220d75af-2d11-4f2e-b648-cec96288715e",
   "metadata": {},
   "outputs": [
    {
     "data": {
      "text/plain": [
       "<function matplotlib.pyplot.show(close=None, block=None)>"
      ]
     },
     "execution_count": 26,
     "metadata": {},
     "output_type": "execute_result"
    },
    {
     "data": {
      "image/png": "[encoded data removed]",
      "text/plain": [
       "<Figure size 640x480 with 1 Axes>"
      ]
     },
     "metadata": {},
     "output_type": "display_data"
    }
   ],
   "source": [
    "sns.histplot(df['log_charges'], kde=True, bins=30)\n",
    "#plt.title(f'{col} distribution')\n",
    "plt.xlabel(col)\n",
    "plt.ylabel('Count')\n",
    "\n",
    "plt.show"
   ]
  },
  {
   "cell_type": "code",
   "execution_count": 27,
   "id": "1b487004-13e9-4cfc-ad39-47c06a2168c6",
   "metadata": {},
   "outputs": [
    {
     "data": {
      "image/png": "[encoded data removed]",
      "text/plain": [
       "<Figure size 1000x400 with 4 Axes>"
      ]
     },
     "metadata": {},
     "output_type": "display_data"
    }
   ],
   "source": [
    "# categorical columns\n",
    "fig, axes = plt.subplots(2, 2, figsize=(10, 4))\n",
    "for i, col in enumerate(cat_cols):\n",
    "    ax = axes[i//2, i%2]\n",
    "    sns.countplot(ax=ax, data = df, x=col)\n",
    "    ax.set_title(f'Distribution of {col}')\n",
    "\n",
    "plt.tight_layout()\n",
    "plt.show()"
   ]
  },
  {
   "cell_type": "code",
   "execution_count": 28,
   "id": "41181c6b-9608-4a85-9bcb-eb23dad1929b",
   "metadata": {},
   "outputs": [
    {
     "data": {
      "text/html": [
       "<div>\n",
       "<style scoped>\n",
       "    .dataframe tbody tr th:only-of-type {\n",
       "        vertical-align: middle;\n",
       "    }\n",
       "\n",
       "    .dataframe tbody tr th {\n",
       "        vertical-align: top;\n",
       "    }\n",
       "\n",
       "    .dataframe thead th {\n",
       "        text-align: right;\n",
       "    }\n",
       "</style>\n",
       "<table border=\"1\" class=\"dataframe\">\n",
       "  <thead>\n",
       "    <tr style=\"text-align: right;\">\n",
       "      <th></th>\n",
       "      <th>age</th>\n",
       "      <th>bmi</th>\n",
       "      <th>children</th>\n",
       "      <th>charges</th>\n",
       "    </tr>\n",
       "  </thead>\n",
       "  <tbody>\n",
       "    <tr>\n",
       "      <th>age</th>\n",
       "      <td>1.000000</td>\n",
       "      <td>0.109344</td>\n",
       "      <td>0.041536</td>\n",
       "      <td>0.298308</td>\n",
       "    </tr>\n",
       "    <tr>\n",
       "      <th>bmi</th>\n",
       "      <td>0.109344</td>\n",
       "      <td>1.000000</td>\n",
       "      <td>0.012755</td>\n",
       "      <td>0.198401</td>\n",
       "    </tr>\n",
       "    <tr>\n",
       "      <th>children</th>\n",
       "      <td>0.041536</td>\n",
       "      <td>0.012755</td>\n",
       "      <td>1.000000</td>\n",
       "      <td>0.067389</td>\n",
       "    </tr>\n",
       "    <tr>\n",
       "      <th>charges</th>\n",
       "      <td>0.298308</td>\n",
       "      <td>0.198401</td>\n",
       "      <td>0.067389</td>\n",
       "      <td>1.000000</td>\n",
       "    </tr>\n",
       "  </tbody>\n",
       "</table>\n",
       "</div>"
      ],
      "text/plain": [
       "               age       bmi  children   charges\n",
       "age       1.000000  0.109344  0.041536  0.298308\n",
       "bmi       0.109344  1.000000  0.012755  0.198401\n",
       "children  0.041536  0.012755  1.000000  0.067389\n",
       "charges   0.298308  0.198401  0.067389  1.000000"
      ]
     },
     "execution_count": 28,
     "metadata": {},
     "output_type": "execute_result"
    }
   ],
   "source": [
    "# correlation matrix\n",
    "corr_matrix = df[num_cols].corr()\n",
    "corr_matrix"
   ]
  },
  {
   "cell_type": "code",
   "execution_count": 29,
   "id": "21adc99c-36bc-4f30-95c1-cba6800b1e95",
   "metadata": {},
   "outputs": [
    {
     "data": {
      "image/png": "[encoded data removed]",
      "text/plain": [
       "<Figure size 640x480 with 2 Axes>"
      ]
     },
     "metadata": {},
     "output_type": "display_data"
    }
   ],
   "source": [
    "sns.heatmap(corr_matrix, annot=True, fmt='.2f', cmap='coolwarm')\n",
    "plt.title('Correlation Matrix of Numerical Features', fontweight='bold', fontsize=12, color='navy')\n",
    "plt.show()"
   ]
  },
  {
   "cell_type": "markdown",
   "id": "c1b293cd-897e-45f0-a6e1-990da697d661",
   "metadata": {},
   "source": [
    "#### Data Preparation"
   ]
  },
  {
   "cell_type": "code",
   "execution_count": 30,
   "id": "a43b50b5-fcf5-470a-ac33-cc2d1febb9ec",
   "metadata": {},
   "outputs": [
    {
     "data": {
      "text/plain": [
       "children\n",
       "0    573\n",
       "1    324\n",
       "2    240\n",
       "3    157\n",
       "4     25\n",
       "5     18\n",
       "Name: count, dtype: int64"
      ]
     },
     "execution_count": 30,
     "metadata": {},
     "output_type": "execute_result"
    }
   ],
   "source": [
    "df.children.value_counts()"
   ]
  },
  {
   "cell_type": "code",
   "execution_count": 31,
   "id": "dee71ebd-d5a7-4e62-a06d-6a1a6033a724",
   "metadata": {},
   "outputs": [
    {
     "data": {
      "text/plain": [
       "Index(['age', 'sex', 'bmi', 'children', 'smoker', 'region', 'charges',\n",
       "       'bmi_category', 'log_charges'],\n",
       "      dtype='object')"
      ]
     },
     "execution_count": 31,
     "metadata": {},
     "output_type": "execute_result"
    }
   ],
   "source": [
    "df.columns"
   ]
  },
  {
   "cell_type": "code",
   "execution_count": 48,
   "id": "f2ba1893-768a-411b-bfeb-b0bf96544f3c",
   "metadata": {},
   "outputs": [],
   "source": [
    "# Split into target and features\n",
    "features = df.drop(columns=['charges', 'log_charges']) # data without target column\n",
    "target = df['log_charges']"
   ]
  },
  {
   "cell_type": "code",
   "execution_count": 49,
   "id": "b85f9dd3-9fee-41c1-bf23-95bac69351b4",
   "metadata": {},
   "outputs": [
    {
     "data": {
      "text/plain": [
       "(1337, 7)"
      ]
     },
     "execution_count": 49,
     "metadata": {},
     "output_type": "execute_result"
    }
   ],
   "source": [
    "features.shape"
   ]
  },
  {
   "cell_type": "code",
   "execution_count": 50,
   "id": "777426bd-8906-4f46-95d2-90cb27a35b92",
   "metadata": {},
   "outputs": [
    {
     "data": {
      "text/plain": [
       "(1337,)"
      ]
     },
     "execution_count": 50,
     "metadata": {},
     "output_type": "execute_result"
    }
   ],
   "source": [
    "target.shape"
   ]
  },
  {
   "cell_type": "code",
   "execution_count": 51,
   "id": "4e2ed260-b62e-4732-a0d4-45ceba280980",
   "metadata": {},
   "outputs": [],
   "source": [
    "# split into training and test\n",
    "from sklearn.model_selection import train_test_split"
   ]
  },
  {
   "cell_type": "code",
   "execution_count": 52,
   "id": "9e0bca35-240a-41d4-b862-1f2a4a7beb3e",
   "metadata": {},
   "outputs": [],
   "source": [
    "train_features, test_features, train_target, test_target = train_test_split(features, target, \n",
    "                                                                           test_size=0.2, random_state=20)"
   ]
  },
  {
   "cell_type": "code",
   "execution_count": 53,
   "id": "4e6995da-4d69-4cf1-bd92-deabd93930a4",
   "metadata": {},
   "outputs": [
    {
     "data": {
      "text/html": [
       "<div>\n",
       "<style scoped>\n",
       "    .dataframe tbody tr th:only-of-type {\n",
       "        vertical-align: middle;\n",
       "    }\n",
       "\n",
       "    .dataframe tbody tr th {\n",
       "        vertical-align: top;\n",
       "    }\n",
       "\n",
       "    .dataframe thead th {\n",
       "        text-align: right;\n",
       "    }\n",
       "</style>\n",
       "<table border=\"1\" class=\"dataframe\">\n",
       "  <thead>\n",
       "    <tr style=\"text-align: right;\">\n",
       "      <th></th>\n",
       "      <th>age</th>\n",
       "      <th>sex</th>\n",
       "      <th>bmi</th>\n",
       "      <th>children</th>\n",
       "      <th>smoker</th>\n",
       "      <th>region</th>\n",
       "      <th>bmi_category</th>\n",
       "    </tr>\n",
       "  </thead>\n",
       "  <tbody>\n",
       "    <tr>\n",
       "      <th>521</th>\n",
       "      <td>32</td>\n",
       "      <td>female</td>\n",
       "      <td>44.220</td>\n",
       "      <td>0</td>\n",
       "      <td>no</td>\n",
       "      <td>southeast</td>\n",
       "      <td>morbid obesity</td>\n",
       "    </tr>\n",
       "    <tr>\n",
       "      <th>1019</th>\n",
       "      <td>21</td>\n",
       "      <td>female</td>\n",
       "      <td>32.680</td>\n",
       "      <td>2</td>\n",
       "      <td>no</td>\n",
       "      <td>northwest</td>\n",
       "      <td>obesity</td>\n",
       "    </tr>\n",
       "    <tr>\n",
       "      <th>913</th>\n",
       "      <td>44</td>\n",
       "      <td>female</td>\n",
       "      <td>27.500</td>\n",
       "      <td>1</td>\n",
       "      <td>no</td>\n",
       "      <td>southwest</td>\n",
       "      <td>over weight</td>\n",
       "    </tr>\n",
       "    <tr>\n",
       "      <th>165</th>\n",
       "      <td>47</td>\n",
       "      <td>male</td>\n",
       "      <td>28.215</td>\n",
       "      <td>4</td>\n",
       "      <td>no</td>\n",
       "      <td>northeast</td>\n",
       "      <td>over weight</td>\n",
       "    </tr>\n",
       "    <tr>\n",
       "      <th>473</th>\n",
       "      <td>47</td>\n",
       "      <td>female</td>\n",
       "      <td>33.345</td>\n",
       "      <td>0</td>\n",
       "      <td>no</td>\n",
       "      <td>northeast</td>\n",
       "      <td>obesity</td>\n",
       "    </tr>\n",
       "  </tbody>\n",
       "</table>\n",
       "</div>"
      ],
      "text/plain": [
       "      age     sex     bmi  children smoker     region    bmi_category\n",
       "521    32  female  44.220         0     no  southeast  morbid obesity\n",
       "1019   21  female  32.680         2     no  northwest         obesity\n",
       "913    44  female  27.500         1     no  southwest     over weight\n",
       "165    47    male  28.215         4     no  northeast     over weight\n",
       "473    47  female  33.345         0     no  northeast         obesity"
      ]
     },
     "execution_count": 53,
     "metadata": {},
     "output_type": "execute_result"
    }
   ],
   "source": [
    "train_features.head()"
   ]
  },
  {
   "cell_type": "code",
   "execution_count": 54,
   "id": "adee268a-de00-47b1-b960-36ecfa7ecabb",
   "metadata": {},
   "outputs": [
    {
     "data": {
      "text/plain": [
       "((1069, 7), (268, 7))"
      ]
     },
     "execution_count": 54,
     "metadata": {},
     "output_type": "execute_result"
    }
   ],
   "source": [
    "train_features.shape, test_features.shape"
   ]
  },
  {
   "cell_type": "code",
   "execution_count": null,
   "id": "28f3b73a-02b3-498a-929d-abb3094d485f",
   "metadata": {},
   "outputs": [],
   "source": []
  },
  {
   "cell_type": "markdown",
   "id": "6948e6d6-902e-40e9-932f-e080f6b73fdb",
   "metadata": {},
   "source": [
    "### One-hot Encoding\n",
    "\n",
    "The \"region\" column contains 4 values, so we'll need to use hot encoding and create a new column for each region.\n",
    "\n",
    "![](https://i.imgur.com/n8GuiOO.png)"
   ]
  },
  {
   "cell_type": "markdown",
   "id": "8ea75ef9-b026-4dcb-a8ba-8d448ea6141e",
   "metadata": {},
   "source": [
    "#### Data preprocessing"
   ]
  },
  {
   "cell_type": "code",
   "execution_count": 55,
   "id": "d45e2b66-e537-4891-b6c0-e42b21397887",
   "metadata": {},
   "outputs": [],
   "source": [
    "from sklearn.preprocessing import OneHotEncoder, StandardScaler"
   ]
  },
  {
   "cell_type": "code",
   "execution_count": 56,
   "id": "ffe848a8-3391-4bd0-8888-4f0c6de6835e",
   "metadata": {},
   "outputs": [],
   "source": [
    "encoder = OneHotEncoder()"
   ]
  },
  {
   "cell_type": "code",
   "execution_count": 57,
   "id": "f225f193-c3fc-4cb3-94bc-672e29be2768",
   "metadata": {},
   "outputs": [],
   "source": [
    "train_cat = encoder.fit_transform(train_features[cat_cols])\n",
    "test_cat = encoder.transform(test_features[cat_cols])"
   ]
  },
  {
   "cell_type": "code",
   "execution_count": 58,
   "id": "f71a4dc0-8aca-48c5-b1af-ab9c660947e9",
   "metadata": {},
   "outputs": [],
   "source": [
    "train_cat = train_cat.toarray()\n",
    "test_cat = test_cat.toarray()"
   ]
  },
  {
   "cell_type": "markdown",
   "id": "1e96d762-928d-4456-9494-45e19b2ce656",
   "metadata": {},
   "source": [
    "#### Scaling the numerical features\n",
    "- Standard Scaler\n",
    "- MinMax Scaler"
   ]
  },
  {
   "cell_type": "markdown",
   "id": "db431881-1911-4cd0-88e2-3ee5bb692d32",
   "metadata": {},
   "source": [
    "Standard Scaling : Z-Score\n",
    "\n",
    "$$Z = \\frac{x - \\mu}{\\sigma}$$"
   ]
  },
  {
   "cell_type": "code",
   "execution_count": 59,
   "id": "be2e1178-f622-4088-85ec-ec6f2cdae0d1",
   "metadata": {},
   "outputs": [],
   "source": [
    "scaler = StandardScaler()"
   ]
  },
  {
   "cell_type": "code",
   "execution_count": 33,
   "id": "27d5fb57-db8c-477f-9570-d98fcbda745d",
   "metadata": {},
   "outputs": [
    {
     "data": {
      "text/plain": [
       "0        9.734176\n",
       "1        7.453302\n",
       "2        8.400538\n",
       "3        9.998092\n",
       "4        8.260197\n",
       "          ...    \n",
       "1333     9.268661\n",
       "1334     7.698927\n",
       "1335     7.396233\n",
       "1336     7.604867\n",
       "1337    10.279914\n",
       "Name: log_charges, Length: 1337, dtype: float64"
      ]
     },
     "execution_count": 33,
     "metadata": {},
     "output_type": "execute_result"
    }
   ],
   "source": [
    "df['log_charges']"
   ]
  },
  {
   "cell_type": "code",
   "execution_count": 32,
   "id": "a274a44b-6e1d-48a0-805c-8084927a0fd1",
   "metadata": {},
   "outputs": [
    {
     "data": {
      "text/plain": [
       "['age', 'bmi', 'children', 'charges']"
      ]
     },
     "execution_count": 32,
     "metadata": {},
     "output_type": "execute_result"
    }
   ],
   "source": [
    "num_cols"
   ]
  },
  {
   "cell_type": "code",
   "execution_count": 60,
   "id": "9e88af77-8697-49e4-8278-94379d4cbcc8",
   "metadata": {},
   "outputs": [],
   "source": [
    "num_cols = ['age', 'bmi', 'children']"
   ]
  },
  {
   "cell_type": "code",
   "execution_count": 61,
   "id": "d1ba547c-f687-4da2-a758-0276b66c0a37",
   "metadata": {},
   "outputs": [],
   "source": [
    "train_num = scaler.fit_transform(train_features[num_cols])\n",
    "test_num = scaler.transform(test_features[num_cols])"
   ]
  },
  {
   "cell_type": "code",
   "execution_count": 62,
   "id": "3e71396b-b891-469b-8b24-3d45765b212f",
   "metadata": {},
   "outputs": [
    {
     "data": {
      "text/plain": [
       "array([[-0.48161986,  2.23985475, -0.91771673],\n",
       "       [-1.27603253,  0.34742128,  0.7521372 ],\n",
       "       [ 0.38501215, -0.50204192, -0.08278976],\n",
       "       ...,\n",
       "       [-1.49269053,  1.51830299, -0.91771673],\n",
       "       [ 0.81832815,  0.59668461,  0.7521372 ],\n",
       "       [ 1.10720548, -0.89561561,  1.58706416]])"
      ]
     },
     "execution_count": 62,
     "metadata": {},
     "output_type": "execute_result"
    }
   ],
   "source": [
    "train_num"
   ]
  },
  {
   "cell_type": "code",
   "execution_count": 63,
   "id": "e089c21c-d88b-457b-a23d-9343a4fa08de",
   "metadata": {},
   "outputs": [],
   "source": [
    "# combine\n",
    "train_processed = np.hstack((train_num, train_cat))\n",
    "test_processed = np.hstack((test_num, test_cat))"
   ]
  },
  {
   "cell_type": "markdown",
   "id": "a7ec4a25-3520-4e78-acc7-4889eeddc7d8",
   "metadata": {},
   "source": [
    "### Model Training"
   ]
  },
  {
   "cell_type": "code",
   "execution_count": 64,
   "id": "6686f29e-0eb8-4dca-a352-96bacf7c924e",
   "metadata": {},
   "outputs": [],
   "source": [
    "from sklearn.linear_model import LinearRegression"
   ]
  },
  {
   "cell_type": "code",
   "execution_count": 65,
   "id": "468ed846-565a-4c74-a722-66df69633399",
   "metadata": {},
   "outputs": [],
   "source": [
    "model = LinearRegression()"
   ]
  },
  {
   "cell_type": "code",
   "execution_count": 66,
   "id": "9717a628-2364-47c6-aabf-44dc7dab5974",
   "metadata": {},
   "outputs": [
    {
     "data": {
      "text/html": [
       "<style>#sk-container-id-3 {\n",
       "  /* Definition of color scheme common for light and dark mode */\n",
       "  --sklearn-color-text: black;\n",
       "  --sklearn-color-line: gray;\n",
       "  /* Definition of color scheme for unfitted estimators */\n",
       "  --sklearn-color-unfitted-level-0: #fff5e6;\n",
       "  --sklearn-color-unfitted-level-1: #f6e4d2;\n",
       "  --sklearn-color-unfitted-level-2: #ffe0b3;\n",
       "  --sklearn-color-unfitted-level-3: chocolate;\n",
       "  /* Definition of color scheme for fitted estimators */\n",
       "  --sklearn-color-fitted-level-0: #f0f8ff;\n",
       "  --sklearn-color-fitted-level-1: #d4ebff;\n",
       "  --sklearn-color-fitted-level-2: #b3dbfd;\n",
       "  --sklearn-color-fitted-level-3: cornflowerblue;\n",
       "\n",
       "  /* Specific color for light theme */\n",
       "  --sklearn-color-text-on-default-background: var(--sg-text-color, var(--theme-code-foreground, var(--jp-content-font-color1, black)));\n",
       "  --sklearn-color-background: var(--sg-background-color, var(--theme-background, var(--jp-layout-color0, white)));\n",
       "  --sklearn-color-border-box: var(--sg-text-color, var(--theme-code-foreground, var(--jp-content-font-color1, black)));\n",
       "  --sklearn-color-icon: #696969;\n",
       "\n",
       "  @media (prefers-color-scheme: dark) {\n",
       "    /* Redefinition of color scheme for dark theme */\n",
       "    --sklearn-color-text-on-default-background: var(--sg-text-color, var(--theme-code-foreground, var(--jp-content-font-color1, white)));\n",
       "    --sklearn-color-background: var(--sg-background-color, var(--theme-background, var(--jp-layout-color0, #111)));\n",
       "    --sklearn-color-border-box: var(--sg-text-color, var(--theme-code-foreground, var(--jp-content-font-color1, white)));\n",
       "    --sklearn-color-icon: #878787;\n",
       "  }\n",
       "}\n",
       "\n",
       "#sk-container-id-3 {\n",
       "  color: var(--sklearn-color-text);\n",
       "}\n",
       "\n",
       "#sk-container-id-3 pre {\n",
       "  padding: 0;\n",
       "}\n",
       "\n",
       "#sk-container-id-3 input.sk-hidden--visually {\n",
       "  border: 0;\n",
       "  clip: rect(1px 1px 1px 1px);\n",
       "  clip: rect(1px, 1px, 1px, 1px);\n",
       "  height: 1px;\n",
       "  margin: -1px;\n",
       "  overflow: hidden;\n",
       "  padding: 0;\n",
       "  position: absolute;\n",
       "  width: 1px;\n",
       "}\n",
       "\n",
       "#sk-container-id-3 div.sk-dashed-wrapped {\n",
       "  border: 1px dashed var(--sklearn-color-line);\n",
       "  margin: 0 0.4em 0.5em 0.4em;\n",
       "  box-sizing: border-box;\n",
       "  padding-bottom: 0.4em;\n",
       "  background-color: var(--sklearn-color-background);\n",
       "}\n",
       "\n",
       "#sk-container-id-3 div.sk-container {\n",
       "  /* jupyter's `normalize.less` sets `[hidden] { display: none; }`\n",
       "     but bootstrap.min.css set `[hidden] { display: none !important; }`\n",
       "     so we also need the `!important` here to be able to override the\n",
       "     default hidden behavior on the sphinx rendered scikit-learn.org.\n",
       "     See: https://github.com/scikit-learn/scikit-learn/issues/21755 */\n",
       "  display: inline-block !important;\n",
       "  position: relative;\n",
       "}\n",
       "\n",
       "#sk-container-id-3 div.sk-text-repr-fallback {\n",
       "  display: none;\n",
       "}\n",
       "\n",
       "div.sk-parallel-item,\n",
       "div.sk-serial,\n",
       "div.sk-item {\n",
       "  /* draw centered vertical line to link estimators */\n",
       "  background-image: linear-gradient(var(--sklearn-color-text-on-default-background), var(--sklearn-color-text-on-default-background));\n",
       "  background-size: 2px 100%;\n",
       "  background-repeat: no-repeat;\n",
       "  background-position: center center;\n",
       "}\n",
       "\n",
       "/* Parallel-specific style estimator block */\n",
       "\n",
       "#sk-container-id-3 div.sk-parallel-item::after {\n",
       "  content: \"\";\n",
       "  width: 100%;\n",
       "  border-bottom: 2px solid var(--sklearn-color-text-on-default-background);\n",
       "  flex-grow: 1;\n",
       "}\n",
       "\n",
       "#sk-container-id-3 div.sk-parallel {\n",
       "  display: flex;\n",
       "  align-items: stretch;\n",
       "  justify-content: center;\n",
       "  background-color: var(--sklearn-color-background);\n",
       "  position: relative;\n",
       "}\n",
       "\n",
       "#sk-container-id-3 div.sk-parallel-item {\n",
       "  display: flex;\n",
       "  flex-direction: column;\n",
       "}\n",
       "\n",
       "#sk-container-id-3 div.sk-parallel-item:first-child::after {\n",
       "  align-self: flex-end;\n",
       "  width: 50%;\n",
       "}\n",
       "\n",
       "#sk-container-id-3 div.sk-parallel-item:last-child::after {\n",
       "  align-self: flex-start;\n",
       "  width: 50%;\n",
       "}\n",
       "\n",
       "#sk-container-id-3 div.sk-parallel-item:only-child::after {\n",
       "  width: 0;\n",
       "}\n",
       "\n",
       "/* Serial-specific style estimator block */\n",
       "\n",
       "#sk-container-id-3 div.sk-serial {\n",
       "  display: flex;\n",
       "  flex-direction: column;\n",
       "  align-items: center;\n",
       "  background-color: var(--sklearn-color-background);\n",
       "  padding-right: 1em;\n",
       "  padding-left: 1em;\n",
       "}\n",
       "\n",
       "\n",
       "/* Toggleable style: style used for estimator/Pipeline/ColumnTransformer box that is\n",
       "clickable and can be expanded/collapsed.\n",
       "- Pipeline and ColumnTransformer use this feature and define the default style\n",
       "- Estimators will overwrite some part of the style using the `sk-estimator` class\n",
       "*/\n",
       "\n",
       "/* Pipeline and ColumnTransformer style (default) */\n",
       "\n",
       "#sk-container-id-3 div.sk-toggleable {\n",
       "  /* Default theme specific background. It is overwritten whether we have a\n",
       "  specific estimator or a Pipeline/ColumnTransformer */\n",
       "  background-color: var(--sklearn-color-background);\n",
       "}\n",
       "\n",
       "/* Toggleable label */\n",
       "#sk-container-id-3 label.sk-toggleable__label {\n",
       "  cursor: pointer;\n",
       "  display: block;\n",
       "  width: 100%;\n",
       "  margin-bottom: 0;\n",
       "  padding: 0.5em;\n",
       "  box-sizing: border-box;\n",
       "  text-align: center;\n",
       "}\n",
       "\n",
       "#sk-container-id-3 label.sk-toggleable__label-arrow:before {\n",
       "  /* Arrow on the left of the label */\n",
       "  content: \"▸\";\n",
       "  float: left;\n",
       "  margin-right: 0.25em;\n",
       "  color: var(--sklearn-color-icon);\n",
       "}\n",
       "\n",
       "#sk-container-id-3 label.sk-toggleable__label-arrow:hover:before {\n",
       "  color: var(--sklearn-color-text);\n",
       "}\n",
       "\n",
       "/* Toggleable content - dropdown */\n",
       "\n",
       "#sk-container-id-3 div.sk-toggleable__content {\n",
       "  max-height: 0;\n",
       "  max-width: 0;\n",
       "  overflow: hidden;\n",
       "  text-align: left;\n",
       "  /* unfitted */\n",
       "  background-color: var(--sklearn-color-unfitted-level-0);\n",
       "}\n",
       "\n",
       "#sk-container-id-3 div.sk-toggleable__content.fitted {\n",
       "  /* fitted */\n",
       "  background-color: var(--sklearn-color-fitted-level-0);\n",
       "}\n",
       "\n",
       "#sk-container-id-3 div.sk-toggleable__content pre {\n",
       "  margin: 0.2em;\n",
       "  border-radius: 0.25em;\n",
       "  color: var(--sklearn-color-text);\n",
       "  /* unfitted */\n",
       "  background-color: var(--sklearn-color-unfitted-level-0);\n",
       "}\n",
       "\n",
       "#sk-container-id-3 div.sk-toggleable__content.fitted pre {\n",
       "  /* unfitted */\n",
       "  background-color: var(--sklearn-color-fitted-level-0);\n",
       "}\n",
       "\n",
       "#sk-container-id-3 input.sk-toggleable__control:checked~div.sk-toggleable__content {\n",
       "  /* Expand drop-down */\n",
       "  max-height: 200px;\n",
       "  max-width: 100%;\n",
       "  overflow: auto;\n",
       "}\n",
       "\n",
       "#sk-container-id-3 input.sk-toggleable__control:checked~label.sk-toggleable__label-arrow:before {\n",
       "  content: \"▾\";\n",
       "}\n",
       "\n",
       "/* Pipeline/ColumnTransformer-specific style */\n",
       "\n",
       "#sk-container-id-3 div.sk-label input.sk-toggleable__control:checked~label.sk-toggleable__label {\n",
       "  color: var(--sklearn-color-text);\n",
       "  background-color: var(--sklearn-color-unfitted-level-2);\n",
       "}\n",
       "\n",
       "#sk-container-id-3 div.sk-label.fitted input.sk-toggleable__control:checked~label.sk-toggleable__label {\n",
       "  background-color: var(--sklearn-color-fitted-level-2);\n",
       "}\n",
       "\n",
       "/* Estimator-specific style */\n",
       "\n",
       "/* Colorize estimator box */\n",
       "#sk-container-id-3 div.sk-estimator input.sk-toggleable__control:checked~label.sk-toggleable__label {\n",
       "  /* unfitted */\n",
       "  background-color: var(--sklearn-color-unfitted-level-2);\n",
       "}\n",
       "\n",
       "#sk-container-id-3 div.sk-estimator.fitted input.sk-toggleable__control:checked~label.sk-toggleable__label {\n",
       "  /* fitted */\n",
       "  background-color: var(--sklearn-color-fitted-level-2);\n",
       "}\n",
       "\n",
       "#sk-container-id-3 div.sk-label label.sk-toggleable__label,\n",
       "#sk-container-id-3 div.sk-label label {\n",
       "  /* The background is the default theme color */\n",
       "  color: var(--sklearn-color-text-on-default-background);\n",
       "}\n",
       "\n",
       "/* On hover, darken the color of the background */\n",
       "#sk-container-id-3 div.sk-label:hover label.sk-toggleable__label {\n",
       "  color: var(--sklearn-color-text);\n",
       "  background-color: var(--sklearn-color-unfitted-level-2);\n",
       "}\n",
       "\n",
       "/* Label box, darken color on hover, fitted */\n",
       "#sk-container-id-3 div.sk-label.fitted:hover label.sk-toggleable__label.fitted {\n",
       "  color: var(--sklearn-color-text);\n",
       "  background-color: var(--sklearn-color-fitted-level-2);\n",
       "}\n",
       "\n",
       "/* Estimator label */\n",
       "\n",
       "#sk-container-id-3 div.sk-label label {\n",
       "  font-family: monospace;\n",
       "  font-weight: bold;\n",
       "  display: inline-block;\n",
       "  line-height: 1.2em;\n",
       "}\n",
       "\n",
       "#sk-container-id-3 div.sk-label-container {\n",
       "  text-align: center;\n",
       "}\n",
       "\n",
       "/* Estimator-specific */\n",
       "#sk-container-id-3 div.sk-estimator {\n",
       "  font-family: monospace;\n",
       "  border: 1px dotted var(--sklearn-color-border-box);\n",
       "  border-radius: 0.25em;\n",
       "  box-sizing: border-box;\n",
       "  margin-bottom: 0.5em;\n",
       "  /* unfitted */\n",
       "  background-color: var(--sklearn-color-unfitted-level-0);\n",
       "}\n",
       "\n",
       "#sk-container-id-3 div.sk-estimator.fitted {\n",
       "  /* fitted */\n",
       "  background-color: var(--sklearn-color-fitted-level-0);\n",
       "}\n",
       "\n",
       "/* on hover */\n",
       "#sk-container-id-3 div.sk-estimator:hover {\n",
       "  /* unfitted */\n",
       "  background-color: var(--sklearn-color-unfitted-level-2);\n",
       "}\n",
       "\n",
       "#sk-container-id-3 div.sk-estimator.fitted:hover {\n",
       "  /* fitted */\n",
       "  background-color: var(--sklearn-color-fitted-level-2);\n",
       "}\n",
       "\n",
       "/* Specification for estimator info (e.g. \"i\" and \"?\") */\n",
       "\n",
       "/* Common style for \"i\" and \"?\" */\n",
       "\n",
       ".sk-estimator-doc-link,\n",
       "a:link.sk-estimator-doc-link,\n",
       "a:visited.sk-estimator-doc-link {\n",
       "  float: right;\n",
       "  font-size: smaller;\n",
       "  line-height: 1em;\n",
       "  font-family: monospace;\n",
       "  background-color: var(--sklearn-color-background);\n",
       "  border-radius: 1em;\n",
       "  height: 1em;\n",
       "  width: 1em;\n",
       "  text-decoration: none !important;\n",
       "  margin-left: 1ex;\n",
       "  /* unfitted */\n",
       "  border: var(--sklearn-color-unfitted-level-1) 1pt solid;\n",
       "  color: var(--sklearn-color-unfitted-level-1);\n",
       "}\n",
       "\n",
       ".sk-estimator-doc-link.fitted,\n",
       "a:link.sk-estimator-doc-link.fitted,\n",
       "a:visited.sk-estimator-doc-link.fitted {\n",
       "  /* fitted */\n",
       "  border: var(--sklearn-color-fitted-level-1) 1pt solid;\n",
       "  color: var(--sklearn-color-fitted-level-1);\n",
       "}\n",
       "\n",
       "/* On hover */\n",
       "div.sk-estimator:hover .sk-estimator-doc-link:hover,\n",
       ".sk-estimator-doc-link:hover,\n",
       "div.sk-label-container:hover .sk-estimator-doc-link:hover,\n",
       ".sk-estimator-doc-link:hover {\n",
       "  /* unfitted */\n",
       "  background-color: var(--sklearn-color-unfitted-level-3);\n",
       "  color: var(--sklearn-color-background);\n",
       "  text-decoration: none;\n",
       "}\n",
       "\n",
       "div.sk-estimator.fitted:hover .sk-estimator-doc-link.fitted:hover,\n",
       ".sk-estimator-doc-link.fitted:hover,\n",
       "div.sk-label-container:hover .sk-estimator-doc-link.fitted:hover,\n",
       ".sk-estimator-doc-link.fitted:hover {\n",
       "  /* fitted */\n",
       "  background-color: var(--sklearn-color-fitted-level-3);\n",
       "  color: var(--sklearn-color-background);\n",
       "  text-decoration: none;\n",
       "}\n",
       "\n",
       "/* Span, style for the box shown on hovering the info icon */\n",
       ".sk-estimator-doc-link span {\n",
       "  display: none;\n",
       "  z-index: 9999;\n",
       "  position: relative;\n",
       "  font-weight: normal;\n",
       "  right: .2ex;\n",
       "  padding: .5ex;\n",
       "  margin: .5ex;\n",
       "  width: min-content;\n",
       "  min-width: 20ex;\n",
       "  max-width: 50ex;\n",
       "  color: var(--sklearn-color-text);\n",
       "  box-shadow: 2pt 2pt 4pt #999;\n",
       "  /* unfitted */\n",
       "  background: var(--sklearn-color-unfitted-level-0);\n",
       "  border: .5pt solid var(--sklearn-color-unfitted-level-3);\n",
       "}\n",
       "\n",
       ".sk-estimator-doc-link.fitted span {\n",
       "  /* fitted */\n",
       "  background: var(--sklearn-color-fitted-level-0);\n",
       "  border: var(--sklearn-color-fitted-level-3);\n",
       "}\n",
       "\n",
       ".sk-estimator-doc-link:hover span {\n",
       "  display: block;\n",
       "}\n",
       "\n",
       "/* \"?\"-specific style due to the `<a>` HTML tag */\n",
       "\n",
       "#sk-container-id-3 a.estimator_doc_link {\n",
       "  float: right;\n",
       "  font-size: 1rem;\n",
       "  line-height: 1em;\n",
       "  font-family: monospace;\n",
       "  background-color: var(--sklearn-color-background);\n",
       "  border-radius: 1rem;\n",
       "  height: 1rem;\n",
       "  width: 1rem;\n",
       "  text-decoration: none;\n",
       "  /* unfitted */\n",
       "  color: var(--sklearn-color-unfitted-level-1);\n",
       "  border: var(--sklearn-color-unfitted-level-1) 1pt solid;\n",
       "}\n",
       "\n",
       "#sk-container-id-3 a.estimator_doc_link.fitted {\n",
       "  /* fitted */\n",
       "  border: var(--sklearn-color-fitted-level-1) 1pt solid;\n",
       "  color: var(--sklearn-color-fitted-level-1);\n",
       "}\n",
       "\n",
       "/* On hover */\n",
       "#sk-container-id-3 a.estimator_doc_link:hover {\n",
       "  /* unfitted */\n",
       "  background-color: var(--sklearn-color-unfitted-level-3);\n",
       "  color: var(--sklearn-color-background);\n",
       "  text-decoration: none;\n",
       "}\n",
       "\n",
       "#sk-container-id-3 a.estimator_doc_link.fitted:hover {\n",
       "  /* fitted */\n",
       "  background-color: var(--sklearn-color-fitted-level-3);\n",
       "}\n",
       "</style><div id=\"sk-container-id-3\" class=\"sk-top-container\"><div class=\"sk-text-repr-fallback\"><pre>LinearRegression()</pre><b>In a Jupyter environment, please rerun this cell to show the HTML representation or trust the notebook. <br />On GitHub, the HTML representation is unable to render, please try loading this page with nbviewer.org.</b></div><div class=\"sk-container\" hidden><div class=\"sk-item\"><div class=\"sk-estimator fitted sk-toggleable\"><input class=\"sk-toggleable__control sk-hidden--visually\" id=\"sk-estimator-id-3\" type=\"checkbox\" checked><label for=\"sk-estimator-id-3\" class=\"sk-toggleable__label fitted sk-toggleable__label-arrow fitted\">&nbsp;&nbsp;LinearRegression<a class=\"sk-estimator-doc-link fitted\" rel=\"noreferrer\" target=\"_blank\" href=\"https://scikit-learn.org/1.5/modules/generated/sklearn.linear_model.LinearRegression.html\">?<span>Documentation for LinearRegression</span></a><span class=\"sk-estimator-doc-link fitted\">i<span>Fitted</span></span></label><div class=\"sk-toggleable__content fitted\"><pre>LinearRegression()</pre></div> </div></div></div></div>"
      ],
      "text/plain": [
       "LinearRegression()"
      ]
     },
     "execution_count": 66,
     "metadata": {},
     "output_type": "execute_result"
    }
   ],
   "source": [
    "model.fit(train_processed, train_target)"
   ]
  },
  {
   "cell_type": "code",
   "execution_count": 67,
   "id": "1c5a90ab-8ea7-4a75-b873-7af2ecf4c405",
   "metadata": {},
   "outputs": [],
   "source": [
    "train_pred = model.predict(train_processed)\n",
    "test_pred = model.predict(test_processed)"
   ]
  },
  {
   "cell_type": "code",
   "execution_count": 68,
   "id": "ec1bec25-5502-4f9c-883b-81ddc58eddab",
   "metadata": {},
   "outputs": [
    {
     "data": {
      "text/plain": [
       "array([ 8.47084991,  8.40163798,  8.88059258, ...,  8.09271969,\n",
       "       10.81853988, 10.88019102])"
      ]
     },
     "execution_count": 68,
     "metadata": {},
     "output_type": "execute_result"
    }
   ],
   "source": [
    "train_pred"
   ]
  },
  {
   "cell_type": "code",
   "execution_count": 69,
   "id": "b2be8b44-b814-46b9-92b0-12c2078007b4",
   "metadata": {},
   "outputs": [
    {
     "data": {
      "text/plain": [
       "521      8.292593\n",
       "1019    10.166580\n",
       "913      8.939449\n",
       "165      9.250242\n",
       "473      9.946489\n",
       "          ...    \n",
       "1243     8.061996\n",
       "925     10.139876\n",
       "1248     7.398763\n",
       "271     10.665620\n",
       "474     10.141807\n",
       "Name: log_charges, Length: 1069, dtype: float64"
      ]
     },
     "execution_count": 69,
     "metadata": {},
     "output_type": "execute_result"
    }
   ],
   "source": [
    "train_target"
   ]
  },
  {
   "cell_type": "markdown",
   "id": "0ae9de12-4355-497a-9aca-e7b52330e983",
   "metadata": {},
   "source": [
    "### Model Evaluation"
   ]
  },
  {
   "cell_type": "code",
   "execution_count": 70,
   "id": "2af00ef6-d8f7-4c57-8498-e0262d7136a9",
   "metadata": {},
   "outputs": [],
   "source": [
    "from sklearn.metrics import mean_squared_error, r2_score"
   ]
  },
  {
   "cell_type": "code",
   "execution_count": 71,
   "id": "e73e367b-ac54-44de-8477-646d3af65285",
   "metadata": {},
   "outputs": [],
   "source": [
    "train_mse = mean_squared_error(train_target, train_pred)\n",
    "test_mse = mean_squared_error(test_target, test_pred)"
   ]
  },
  {
   "cell_type": "code",
   "execution_count": 72,
   "id": "cf3c7cb0-6a60-43a7-b883-75fff77d3776",
   "metadata": {},
   "outputs": [
    {
     "data": {
      "text/plain": [
       "(0.20596425040679128, 0.15231550495685334)"
      ]
     },
     "execution_count": 72,
     "metadata": {},
     "output_type": "execute_result"
    }
   ],
   "source": [
    "train_mse, test_mse"
   ]
  },
  {
   "cell_type": "code",
   "execution_count": 73,
   "id": "fc7fa114-f50d-4568-95ff-7929da914207",
   "metadata": {},
   "outputs": [],
   "source": [
    "train_score = r2_score(train_target, train_pred)\n",
    "test_score = r2_score(test_target, test_pred)"
   ]
  },
  {
   "cell_type": "code",
   "execution_count": 74,
   "id": "8053bc9b-a408-4aef-ac9c-3e192081e8d8",
   "metadata": {},
   "outputs": [
    {
     "data": {
      "text/plain": [
       "(0.757885467070648, 0.8127749747421782)"
      ]
     },
     "execution_count": 74,
     "metadata": {},
     "output_type": "execute_result"
    }
   ],
   "source": [
    "train_score, test_score"
   ]
  },
  {
   "cell_type": "code",
   "execution_count": null,
   "id": "584446c3-5bb1-426d-a516-b00e7524fd68",
   "metadata": {},
   "outputs": [],
   "source": []
  },
  {
   "cell_type": "code",
   "execution_count": null,
   "id": "5562c558-d632-485e-95ca-25a675a75b47",
   "metadata": {},
   "outputs": [],
   "source": []
  },
  {
   "cell_type": "code",
   "execution_count": null,
   "id": "92ea286b-70ab-4b19-bfd7-04f7736bb984",
   "metadata": {},
   "outputs": [],
   "source": []
  },
  {
   "cell_type": "markdown",
   "id": "5465dd11-7073-4dd7-a9db-a032fc4a94cd",
   "metadata": {},
   "source": [
    "# Regression Metrics\n",
    "\n",
    "`Regression metrics` are quantitative measures used to evaluate the performance of a regression model. Scikit-learn provides several metrics, each with its strengths and limitations, to assess how well a model fits the data. It is crucial to obtain accurate and approximate results on unseen data; otherwise, the model is of no practical use.\n",
    "\n",
    "To build and deploy a generalized model, it is essential to evaluate the model using various metrics. This process helps us optimize performance, fine-tune the model, and achieve better results.\n",
    "\n",
    "The effectiveness of a regression model must be reported in terms of error in its predictions. We need to understand how close the predictions are to the actual values. Error metrics address this by summarizing, on average, how close the predictions are to the expected values."
   ]
  },
  {
   "cell_type": "code",
   "execution_count": 75,
   "id": "7e09610e-d008-4c52-85f6-05f4d84ea030",
   "metadata": {},
   "outputs": [
    {
     "data": {
      "text/plain": [
       "521      8.292593\n",
       "1019    10.166580\n",
       "913      8.939449\n",
       "165      9.250242\n",
       "473      9.946489\n",
       "          ...    \n",
       "1243     8.061996\n",
       "925     10.139876\n",
       "1248     7.398763\n",
       "271     10.665620\n",
       "474     10.141807\n",
       "Name: log_charges, Length: 1069, dtype: float64"
      ]
     },
     "execution_count": 75,
     "metadata": {},
     "output_type": "execute_result"
    }
   ],
   "source": [
    "train_target"
   ]
  },
  {
   "cell_type": "code",
   "execution_count": 76,
   "id": "a9c1308d-7a17-48cb-b897-28a0390fb1e7",
   "metadata": {},
   "outputs": [
    {
     "data": {
      "text/plain": [
       "array([ 8.47084991,  8.40163798,  8.88059258, ...,  8.09271969,\n",
       "       10.81853988, 10.88019102])"
      ]
     },
     "execution_count": 76,
     "metadata": {},
     "output_type": "execute_result"
    }
   ],
   "source": [
    "train_pred"
   ]
  },
  {
   "cell_type": "code",
   "execution_count": 77,
   "id": "2e2f6d9c-879b-4aeb-bb2f-61f42abefdeb",
   "metadata": {},
   "outputs": [],
   "source": [
    "error = train_target - train_pred"
   ]
  },
  {
   "cell_type": "code",
   "execution_count": 78,
   "id": "0bb5d3a3-4540-4821-9af2-53a25e1cb3aa",
   "metadata": {},
   "outputs": [],
   "source": [
    "prediction_table = pd.DataFrame({\n",
    "                    'Actual' : train_target,\n",
    "                    'Predicted': train_pred,\n",
    "                    'Error' : error\n",
    "})"
   ]
  },
  {
   "cell_type": "code",
   "execution_count": 79,
   "id": "c92a2925-4568-4f00-9232-1ce466d8d972",
   "metadata": {},
   "outputs": [
    {
     "data": {
      "text/html": [
       "<div>\n",
       "<style scoped>\n",
       "    .dataframe tbody tr th:only-of-type {\n",
       "        vertical-align: middle;\n",
       "    }\n",
       "\n",
       "    .dataframe tbody tr th {\n",
       "        vertical-align: top;\n",
       "    }\n",
       "\n",
       "    .dataframe thead th {\n",
       "        text-align: right;\n",
       "    }\n",
       "</style>\n",
       "<table border=\"1\" class=\"dataframe\">\n",
       "  <thead>\n",
       "    <tr style=\"text-align: right;\">\n",
       "      <th></th>\n",
       "      <th>Actual</th>\n",
       "      <th>Predicted</th>\n",
       "      <th>Error</th>\n",
       "    </tr>\n",
       "  </thead>\n",
       "  <tbody>\n",
       "    <tr>\n",
       "      <th>521</th>\n",
       "      <td>8.292593</td>\n",
       "      <td>8.470850</td>\n",
       "      <td>-0.178257</td>\n",
       "    </tr>\n",
       "    <tr>\n",
       "      <th>1019</th>\n",
       "      <td>10.166580</td>\n",
       "      <td>8.401638</td>\n",
       "      <td>1.764942</td>\n",
       "    </tr>\n",
       "    <tr>\n",
       "      <th>913</th>\n",
       "      <td>8.939449</td>\n",
       "      <td>8.880593</td>\n",
       "      <td>0.058856</td>\n",
       "    </tr>\n",
       "    <tr>\n",
       "      <th>165</th>\n",
       "      <td>9.250242</td>\n",
       "      <td>9.366893</td>\n",
       "      <td>-0.116651</td>\n",
       "    </tr>\n",
       "    <tr>\n",
       "      <th>473</th>\n",
       "      <td>9.946489</td>\n",
       "      <td>9.155676</td>\n",
       "      <td>0.790813</td>\n",
       "    </tr>\n",
       "  </tbody>\n",
       "</table>\n",
       "</div>"
      ],
      "text/plain": [
       "         Actual  Predicted     Error\n",
       "521    8.292593   8.470850 -0.178257\n",
       "1019  10.166580   8.401638  1.764942\n",
       "913    8.939449   8.880593  0.058856\n",
       "165    9.250242   9.366893 -0.116651\n",
       "473    9.946489   9.155676  0.790813"
      ]
     },
     "execution_count": 79,
     "metadata": {},
     "output_type": "execute_result"
    }
   ],
   "source": [
    "prediction_table.head(5)"
   ]
  },
  {
   "cell_type": "markdown",
   "id": "ec8d23f2-2cff-42f7-b46f-0251c9f5da52",
   "metadata": {},
   "source": [
    "prediction_table['Error'].mean()"
   ]
  },
  {
   "cell_type": "markdown",
   "id": "39ffa843-27db-4c70-8b28-a9fd667ce1ef",
   "metadata": {},
   "source": [
    "### 1. Mean Absolute Error (MAE):\n",
    "Mean Absolute Error (MAE) is a commonly used metric in regression analysis. It measures the average absolute discrepancies between the actual values and the predicted values of a dataset. MAE provides an understanding of the model’s average absolute error in making predictions.\n",
    "\n",
    "In other words, MAE tells us how close the predictions are to the actual values on average. Lower MAE values indicate that the model’s predictions are close to the actual values, signifying good predictive performance. Conversely, higher MAE values suggest that the model’s predictions are further from the actual values, indicating poor predictive performance.\n",
    "\n",
    "$$ \\text{MAE } = \\dfrac{|y_1 - \\hat{y_1}| + |y_2 - \\hat{y_2}| + \\cdots + |y_n - \\hat{y_n}|}{n} $$\n",
    "$$\\text{MAE } = \\sum_{i=1}^{n} \\dfrac {|y_i - \\hat{y_i}|}{n}$$\n",
    "\n",
    "Let’s now see how to implement MAE in Python."
   ]
  },
  {
   "cell_type": "code",
   "execution_count": 80,
   "id": "28abdf71-fa2b-4de7-9e3f-4d84bd9645b0",
   "metadata": {},
   "outputs": [
    {
     "data": {
      "text/plain": [
       "2"
      ]
     },
     "execution_count": 80,
     "metadata": {},
     "output_type": "execute_result"
    }
   ],
   "source": [
    "abs(-2)"
   ]
  },
  {
   "cell_type": "code",
   "execution_count": 81,
   "id": "92a98814-7b76-41c7-b000-36957c13bbd0",
   "metadata": {},
   "outputs": [],
   "source": [
    "from sklearn.metrics import mean_absolute_error"
   ]
  },
  {
   "cell_type": "code",
   "execution_count": 82,
   "id": "8ec5ba23-579f-4d55-841d-6a55ee352709",
   "metadata": {},
   "outputs": [
    {
     "data": {
      "text/plain": [
       "0.2927871801828758"
      ]
     },
     "execution_count": 82,
     "metadata": {},
     "output_type": "execute_result"
    }
   ],
   "source": [
    "mean_absolute_error(train_target, train_pred)"
   ]
  },
  {
   "cell_type": "markdown",
   "id": "dafe561c-d63c-480b-b3ea-a382530b4a62",
   "metadata": {},
   "source": [
    "#### Advantages of MAE\n",
    "- The MAE you get is in the same unit as the output variable.\n",
    "- All errors are treated equally, so the metric is robust to outliers.\n",
    "#### Disadvantages of MAE\n",
    "- As the formula contains absolute values, the graph of MAE is not differentiable so we have to apply various optimizers like Gradient descent which can be differentiable.\n",
    "\n",
    "Now to overcome the disadvantage of MAE next metric came as MSE."
   ]
  },
  {
   "cell_type": "markdown",
   "id": "0adb2ce9-683b-49ab-9e9a-fbd279f0031c",
   "metadata": {},
   "source": [
    "### 2. Mean Square Error (MSE):\n",
    "It represents the squared distance between actual and predicted values. we perform squared to avoid the cancellation of negative terms and it is the benefit of MSE.\n",
    "\n",
    "$$ \\text{MSE } = \\dfrac{(y_1 - \\hat{y_1})^2 + (y_2 - \\hat{y_2})^2 + \\cdots + (y_n - \\hat{y_n})^2}{n}$$\n",
    "$$\\text{MSE } = \\sum_{i=1}^{n} \\dfrac {(y_i - \\hat{y_i})^2}{n}$$\n",
    "\n",
    "Let’s now see how to implement MSE in Python."
   ]
  },
  {
   "cell_type": "code",
   "execution_count": 83,
   "id": "bb7c56f1-20d4-4512-b45d-6cdbcb2fc9f8",
   "metadata": {},
   "outputs": [],
   "source": [
    "from sklearn.metrics import mean_squared_error"
   ]
  },
  {
   "cell_type": "code",
   "execution_count": 84,
   "id": "9804ed58-10c3-4c7c-b8da-19041714a3eb",
   "metadata": {},
   "outputs": [
    {
     "data": {
      "text/plain": [
       "0.20596425040679128"
      ]
     },
     "execution_count": 84,
     "metadata": {},
     "output_type": "execute_result"
    }
   ],
   "source": [
    "mean_squared_error(train_target, train_pred)"
   ]
  },
  {
   "cell_type": "markdown",
   "id": "0de3e5cb-2ce4-4b51-b250-b9f39ea9a97c",
   "metadata": {},
   "source": [
    "#### Advantages of MSE\n",
    "\n",
    "- The graph of MSE is differentiable, so you can easily use it as a loss function.\n",
    "\n",
    "#### Disadvantages of MSE\n",
    "\n",
    "- The value you get after calculating MSE is a squared unit of output. for example, the output variable is in meter(m) then after calculating MSE the output we get is in meters squared.\n",
    "- If you have outliers in the dataset then it penalizes the outliers most and the calculated MSE is bigger. So, in short, It is not Robust to outliers which was an advantage in MAE."
   ]
  },
  {
   "cell_type": "markdown",
   "id": "693ce2d1-b0d3-4c30-abf1-6a49a31d16bb",
   "metadata": {},
   "source": [
    "### 3. Root Mean Square Error (RMSE): \n",
    "Root Mean Squared Error (RMSE), as its name suggests, is the square root of the mean squared error. Like the Mean Absolute Error (MAE), RMSE is used to determine how close predictions are to actual values on average. However, RMSE has a key distinction.\n",
    "\n",
    "RMSE is particularly useful for identifying large errors or deviations in predictions. It can highlight whether the model significantly overestimated (predicted values much higher than actual) or underestimated (predicted values much lower than actual) certain points. This is because squaring the residuals before averaging them places a greater penalty on larger errors.\n",
    "\n",
    "When to Use RMSE:\n",
    "\n",
    "- Concern for Large Errors: RMSE is ideal if you are particularly concerned about large errors in your predictions. Because squaring the residuals increases the impact of larger errors, RMSE provides a clear indication of their presence.\n",
    "- Comparing Models: RMSE is a popular evaluation metric for regression problems, especially when comparing models that use the same dataset but different algorithms. The model with the lowest RMSE is typically considered the better model.\n",
    "Key Points:\n",
    "\n",
    "There is no specific range for RMSE, but generally, the lower the RMSE, the better the model's performance.\n",
    "RMSE not only measures the average error in predictions but also gives insight into the impact of large errors.\n",
    "$$RMSE = \\sqrt {\\sum_{i=1}^{n} \\dfrac {(y_i - \\hat{y_i})^2}{n}}$$\n",
    "$$RMSE = \\sqrt {MSE}$$"
   ]
  },
  {
   "cell_type": "code",
   "execution_count": 85,
   "id": "bd3979b5-c4fa-42b8-95a8-3e11884024ad",
   "metadata": {},
   "outputs": [
    {
     "data": {
      "text/plain": [
       "0.45383284412522557"
      ]
     },
     "execution_count": 85,
     "metadata": {},
     "output_type": "execute_result"
    }
   ],
   "source": [
    "np.sqrt(mean_squared_error(train_target, train_pred))"
   ]
  },
  {
   "cell_type": "markdown",
   "id": "168353cb-62bf-4061-a6fa-de4597bbb9f5",
   "metadata": {},
   "source": [
    "### 4. $R^2$ Score:\n",
    "**$R^2$ Score**, also known as the `Coefficient of Determination` or `Goodness of Fit`, is a metric that evaluates the performance of a regression model. Unlike metrics like MAE or MSE, which provide a measure of error or loss, the R2 score indicates how well your model's predictions match the actual data.\n",
    "\n",
    "One of the key advantages of the R2 score is its independence from the context of the data. While MAE and MSE values are influenced by the scale of the data, the $R^2$ score provides a standardized measure that can be easily interpreted regardless of the specific dataset.\n",
    "\n",
    "The R2 score gives you a baseline to compare your model's performance against a simple mean model. Essentially, it measures how much better (or worse) your regression line is compared to a horizontal line representing the mean of the target values. This comparison helps you understand the proportion of the variance in the dependent variable that is predictable from the independent variables.\n",
    "\n",
    "$$R^2 = 1 - \\dfrac{\\sum(y_i - \\hat{y_i})^2}{\\sum(y_i - \\bar{y_i})^2}$$"
   ]
  },
  {
   "cell_type": "markdown",
   "id": "b9ea0935-ca7a-4aaf-a7bd-ee21f0a171fb",
   "metadata": {},
   "source": [
    "### Interpreting the $R^2$ Score\n",
    "The $R^2$ score, or Coefficient of Determination, provides insight into the performance of a regression model by indicating how well the model's predictions match the actual data. Here’s how to interpret different $R^2$ scores:\n",
    "\n",
    "**$R^2$ Score of 0:**\n",
    "\n",
    "When the $R^2$ score is zero, it means that the regression model's predictions are no better than simply predicting the mean of the target values.\n",
    "In other words, the regression line overlaps with the mean line, indicating that the model fails to capture any of the variance in the data. This suggests that the model has the worst possible performance and cannot leverage the information in the input features to predict the output.\n",
    "\n",
    "**$R^2$ Score of 1:**\n",
    "\n",
    "An $R^2$ score of 1 indicates that the regression model perfectly fits the data. This means that the regression line captures all the variance in the target variable, with no errors in predictions.\n",
    "While this is theoretically possible, it is very unlikely in real-world scenarios due to the presence of noise and variability in the data. A perfect fit usually suggests overfitting, where the model captures not only the underlying pattern but also the noise in the training data.\n",
    "\n",
    "**$R^2$ Score between 0 and 1:**\n",
    "\n",
    "Most real-world models will have an $R^2$ score between 0 and 1. For example, an $R^2$ score of 0.74 means that the model explains 74% of the variance in the target variable.\n",
    "This indicates that the model performs well and can predict the target variable with a reasonable degree of accuracy, but there is still room for improvement as 26% of the variance is unexplained."
   ]
  },
  {
   "cell_type": "code",
   "execution_count": 86,
   "id": "a48da82c-fe8c-4299-96c5-c2610dbc1ebd",
   "metadata": {},
   "outputs": [],
   "source": [
    "from sklearn.metrics import r2_score"
   ]
  },
  {
   "cell_type": "code",
   "execution_count": 87,
   "id": "dc144714-0a86-4546-9c59-70780553fe96",
   "metadata": {},
   "outputs": [
    {
     "data": {
      "text/plain": [
       "0.757885467070648"
      ]
     },
     "execution_count": 87,
     "metadata": {},
     "output_type": "execute_result"
    }
   ],
   "source": [
    "r2_score(train_target, train_pred)"
   ]
  },
  {
   "cell_type": "markdown",
   "id": "0a0c4153-5815-478b-8e9e-4d8acc9b02fa",
   "metadata": {},
   "source": [
    "**Limitations of the $R^2$ Score and the Need for Adjusted $R^2$**\n",
    "\n",
    "The $R^2$ score is a useful metric for evaluating the goodness of fit of a regression model. However, it has a significant limitation:\n",
    "\n",
    "- **Inflation with Additional Features:** The $R^2$ score never decreases when new features are added to the model. This is because $R^2$ assumes that adding more features will either increase the explained variance or leave it unchanged. However, this can be misleading.\n",
    "- **Irrelevant Features:** When irrelevant or redundant features are added to the model, the $R^2$ score might still increase. This can give the false impression that the model is improving, even though these features do not actually contribute to better predictions and may lead to overfitting.\n",
    "\n",
    "To address this issue, Adjusted $R^2$ was introduced. Adjusted $R^2$ accounts for the number of predictors in the model and adjusts the $R^2$ score accordingly."
   ]
  },
  {
   "cell_type": "markdown",
   "id": "6b06c2e5-cdd3-4c7a-b5e7-a524ea2de940",
   "metadata": {},
   "source": [
    "### 5. $R^2$ Adjusted:\n",
    "\n",
    "Adjusted $R^2$ modifies the $R^2$ score to penalize the addition of irrelevant features:\n",
    "\n",
    "- **Adjusts for the Number of Features:** It introduces a penalty for the number of predictors in the model. This means that adding a new feature will only increase the Adjusted $R^2$ if the new feature improves the model more than would be expected by chance.\n",
    "- **Prevents Overfitting:** By adjusting for the number of predictors, Adjusted $R^2$ discourages the inclusion of irrelevant variables, thus helping to maintain a more parsimonious model.\n",
    "\n",
    "The Adjusted $R^2$ is calculated as follows:"
   ]
  },
  {
   "cell_type": "markdown",
   "id": "2d653af8-f66b-4bbc-8800-6564bb25e9e1",
   "metadata": {},
   "source": [
    "$$ Adjusted \\  R^2 = 1 - \\left[ \\dfrac{(1-R^2)(n-1)}{n-k-1} \\right]$$\n",
    "\n",
    "Where:\\\n",
    "**$n$** is the number of observations\\\n",
    "**$k$** is the number of predictors\\\n",
    "**$R^2$**  is the original coefficient of determination"
   ]
  },
  {
   "cell_type": "code",
   "execution_count": 88,
   "id": "19796dd7-0ad5-459e-be54-21043767134c",
   "metadata": {},
   "outputs": [],
   "source": [
    "n = train_target.shape[0]\n",
    "k = df.shape[1] - 1"
   ]
  },
  {
   "cell_type": "code",
   "execution_count": 89,
   "id": "9e217940-8e29-49b2-83b7-c733096d63fa",
   "metadata": {},
   "outputs": [],
   "source": [
    "r = r2_score(train_target, train_pred)"
   ]
  },
  {
   "cell_type": "code",
   "execution_count": 90,
   "id": "d1c1e39a-8e70-429c-9470-6da3a5a75d70",
   "metadata": {},
   "outputs": [],
   "source": [
    "adj = 1 - (((1-r)*(n-1))/(n-k-1))"
   ]
  },
  {
   "cell_type": "code",
   "execution_count": 91,
   "id": "c32831ca-f096-4234-aff9-8bf811c8051e",
   "metadata": {},
   "outputs": [
    {
     "data": {
      "text/plain": [
       "0.7560581875768415"
      ]
     },
     "execution_count": 91,
     "metadata": {},
     "output_type": "execute_result"
    }
   ],
   "source": [
    "adj"
   ]
  },
  {
   "cell_type": "code",
   "execution_count": null,
   "id": "c5f0959f-798e-42aa-a268-0f56de5b6511",
   "metadata": {},
   "outputs": [],
   "source": []
  }
 ],
 "metadata": {
  "kernelspec": {
   "display_name": "Python 3 (ipykernel)",
   "language": "python",
   "name": "python3"
  },
  "language_info": {
   "codemirror_mode": {
    "name": "ipython",
    "version": 3
   },
   "file_extension": ".py",
   "mimetype": "text/x-python",
   "name": "python",
   "nbconvert_exporter": "python",
   "pygments_lexer": "ipython3",
   "version": "3.12.7"
  }
 },
 "nbformat": 4,
 "nbformat_minor": 5
}
