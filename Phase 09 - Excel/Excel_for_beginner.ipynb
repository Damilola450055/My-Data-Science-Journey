{
 "cells": [
  {
   "cell_type": "markdown",
   "id": "97981627-0840-465d-bb20-f094e2225815",
   "metadata": {},
   "source": [
    "#### What to take note in excel"
   ]
  },
  {
   "cell_type": "markdown",
   "id": "96f827c1-1f53-40af-af0e-51b4a11ea7f3",
   "metadata": {},
   "source": [
    "1. Excel tabs\n",
    "2. command groups\n",
    "3. alignment command gorup\n",
    "4. name box\n",
    "5. formula bar: this allow us to see true value of a cell\n",
    "6. sheet idnetifying how many sheet we have in the work space\n",
    "7. zoom in zoom out"
   ]
  },
  {
   "cell_type": "markdown",
   "id": "1b62d20a-3eb4-4de1-984a-50156442f608",
   "metadata": {},
   "source": [
    "##### Excel features"
   ]
  },
  {
   "cell_type": "markdown",
   "id": "e1df9b52-9ad2-40b9-8c93-7768ee745879",
   "metadata": {},
   "source": [
    "1. search bar to search for anything\n",
    "2. help feature\n",
    "3. selecting cell with up,down, right, left arrow\n",
    "4. Or Tab key to go to right shift + tab to go left enter key to go down shift + enter to go up\n",
    "5. To select all Ctrl + a\n"
   ]
  },
  {
   "cell_type": "markdown",
   "id": "1d104daf-a0a6-4c8e-93bd-2684f10d7227",
   "metadata": {},
   "source": [
    "##### Entering data"
   ]
  },
  {
   "cell_type": "markdown",
   "id": "fc6182f1-eb5f-4abf-ac7f-190f362de5ae",
   "metadata": {},
   "source": [
    "Building report and automating report on E-coffe shop\n",
    "Cup of Jone's Yearly Report\t\t\t\t\t\t\n",
    "\t\t\t\t\t\t\n",
    "Items\t          Price\t\tQuarter: 1\tQuarter: 2\tQuarter: 3\tQuarter: 4\n",
    "Original coffe\t  1.75\t\t 564\t         865\t      90\t     98\n",
    "Espresso\t         2\t\t 443\t         945\t      80\t     87\n",
    "Latte\t          3.25\t\t 343\t         543\t      56\t     76\n",
    "Americano\t       1.5\t\t 322\t         902\t      45\t     65\n",
    "Cortado\t             3\t\t 123\t         455\t      34\t     54\n",
    "Mocha\t            1\t\t 987\t         222\t      23\t     43\n",
    "\n",
    "replace data  in Excel = backspace\n",
    "Delet data in Excel = del\n",
    "undo = ctrl + Z\n",
    "calculation is any math done in excel this s\n",
    "formula do math is excel cell either single cell or more\n",
    "functions"
   ]
  }
 ],
 "metadata": {
  "kernelspec": {
   "display_name": "Python 3 (ipykernel)",
   "language": "python",
   "name": "python3"
  },
  "language_info": {
   "codemirror_mode": {
    "name": "ipython",
    "version": 3
   },
   "file_extension": ".py",
   "mimetype": "text/x-python",
   "name": "python",
   "nbconvert_exporter": "python",
   "pygments_lexer": "ipython3",
   "version": "3.12.7"
  }
 },
 "nbformat": 4,
 "nbformat_minor": 5
}
