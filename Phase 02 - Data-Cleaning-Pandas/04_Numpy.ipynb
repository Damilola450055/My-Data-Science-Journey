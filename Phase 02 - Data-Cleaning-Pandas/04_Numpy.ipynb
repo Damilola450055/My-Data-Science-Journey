{
 "cells": [
  {
   "cell_type": "markdown",
   "id": "b731192d-7382-4ead-9722-5e4fcff39503",
   "metadata": {},
   "source": [
    "## Numpy"
   ]
  },
  {
   "cell_type": "code",
   "execution_count": 1,
   "id": "10125319-6f21-47b8-8a45-691b0397c72b",
   "metadata": {},
   "outputs": [],
   "source": [
    "# numpy is a numeric python\n",
    "import numpy as np"
   ]
  },
  {
   "cell_type": "code",
   "execution_count": 8,
   "id": "d857079b-1e6d-4d50-8701-d2e6ad41af25",
   "metadata": {},
   "outputs": [
    {
     "data": {
      "text/plain": [
       "array([10, 20, 30, 40])"
      ]
     },
     "execution_count": 8,
     "metadata": {},
     "output_type": "execute_result"
    }
   ],
   "source": [
    "# creating 1D arrary from list\n",
    "x = [10, 20, 30, 40]\n",
    "arr1 = np.array(x)\n",
    "arr1"
   ]
  },
  {
   "cell_type": "code",
   "execution_count": 9,
   "id": "d2ffa833-c764-4d97-b7ba-28f740d31f7d",
   "metadata": {},
   "outputs": [
    {
     "data": {
      "text/plain": [
       "array([[ 1,  2,  3],\n",
       "       [ 4,  4,  5],\n",
       "       [11, 34, 12]])"
      ]
     },
     "execution_count": 9,
     "metadata": {},
     "output_type": "execute_result"
    }
   ],
   "source": [
    "# 2D array\n",
    "arr2 = np.array([[1, 2, 3], [4, 4, 5], [11, 34, 12]])\n",
    "arr2"
   ]
  },
  {
   "cell_type": "markdown",
   "id": "97012565-3b33-4745-acdd-57fb5fbb298a",
   "metadata": {},
   "source": [
    "##### Array attribute"
   ]
  },
  {
   "cell_type": "code",
   "execution_count": 10,
   "id": "f89b17e6-abe8-4758-b080-be76d6fd4cc5",
   "metadata": {},
   "outputs": [
    {
     "data": {
      "text/plain": [
       "(4,)"
      ]
     },
     "execution_count": 10,
     "metadata": {},
     "output_type": "execute_result"
    }
   ],
   "source": [
    "arr1.shape"
   ]
  },
  {
   "cell_type": "code",
   "execution_count": 11,
   "id": "8cf50cf3-30f8-4b95-a615-00b9deb1a49b",
   "metadata": {},
   "outputs": [
    {
     "data": {
      "text/plain": [
       "(3, 3)"
      ]
     },
     "execution_count": 11,
     "metadata": {},
     "output_type": "execute_result"
    }
   ],
   "source": [
    "arr2.shape"
   ]
  },
  {
   "cell_type": "code",
   "execution_count": 12,
   "id": "a580b4b8-219f-45b0-84b1-868c072bc6d3",
   "metadata": {},
   "outputs": [
    {
     "data": {
      "text/plain": [
       "9"
      ]
     },
     "execution_count": 12,
     "metadata": {},
     "output_type": "execute_result"
    }
   ],
   "source": [
    "# counting the number of element\n",
    "arr2.size"
   ]
  },
  {
   "cell_type": "code",
   "execution_count": 13,
   "id": "a5e26650-f76c-4fc0-9b97-bae113c51630",
   "metadata": {},
   "outputs": [
    {
     "data": {
      "text/plain": [
       "2"
      ]
     },
     "execution_count": 13,
     "metadata": {},
     "output_type": "execute_result"
    }
   ],
   "source": [
    "arr2.ndim"
   ]
  },
  {
   "cell_type": "markdown",
   "id": "8bf0f1cc-5297-4038-95bb-81fac0b7b911",
   "metadata": {},
   "source": [
    "##### Array Operation"
   ]
  },
  {
   "cell_type": "code",
   "execution_count": 15,
   "id": "f9a47a4a-cb37-40f5-b8df-6c70df075377",
   "metadata": {},
   "outputs": [
    {
     "data": {
      "text/plain": [
       "array([30, 40, 50, 60])"
      ]
     },
     "execution_count": 15,
     "metadata": {},
     "output_type": "execute_result"
    }
   ],
   "source": [
    "arr1 + 20"
   ]
  },
  {
   "cell_type": "code",
   "execution_count": 16,
   "id": "f24c46f1-6fab-4437-866e-159a086e4b03",
   "metadata": {},
   "outputs": [
    {
     "data": {
      "text/plain": [
       "[15, 18, 20, 30]"
      ]
     },
     "execution_count": 16,
     "metadata": {},
     "output_type": "execute_result"
    }
   ],
   "source": [
    "y = [15, 18, 20, 30]\n",
    "y"
   ]
  },
  {
   "cell_type": "code",
   "execution_count": 17,
   "id": "f7e58888-8a1a-4494-9fa5-4675d532c757",
   "metadata": {},
   "outputs": [
    {
     "data": {
      "text/plain": [
       "array([15, 18, 20, 30])"
      ]
     },
     "execution_count": 17,
     "metadata": {},
     "output_type": "execute_result"
    }
   ],
   "source": [
    "arr3 = np.array(y)\n",
    "arr3"
   ]
  },
  {
   "cell_type": "code",
   "execution_count": 18,
   "id": "b3368c59-a614-4b1b-82bf-bc6d93f5540c",
   "metadata": {},
   "outputs": [
    {
     "data": {
      "text/plain": [
       "array([25, 38, 50, 70])"
      ]
     },
     "execution_count": 18,
     "metadata": {},
     "output_type": "execute_result"
    }
   ],
   "source": [
    "arr1 + arr3"
   ]
  },
  {
   "cell_type": "code",
   "execution_count": 19,
   "id": "f773ea29-7c1c-4578-8835-ee6fe0198c06",
   "metadata": {},
   "outputs": [
    {
     "data": {
      "text/plain": [
       "array([ 150,  360,  600, 1200])"
      ]
     },
     "execution_count": 19,
     "metadata": {},
     "output_type": "execute_result"
    }
   ],
   "source": [
    "arr1 * arr3"
   ]
  },
  {
   "cell_type": "code",
   "execution_count": 20,
   "id": "588a5b11-9391-4e23-ace6-2e2b1ffa2e8b",
   "metadata": {},
   "outputs": [
    {
     "data": {
      "text/plain": [
       "array([[ 1,  2,  3],\n",
       "       [ 4,  4,  5],\n",
       "       [11, 34, 12]])"
      ]
     },
     "execution_count": 20,
     "metadata": {},
     "output_type": "execute_result"
    }
   ],
   "source": [
    "arr2"
   ]
  },
  {
   "cell_type": "code",
   "execution_count": 21,
   "id": "5b99e07f-7b2e-4931-82c8-7848a3c4e029",
   "metadata": {},
   "outputs": [
    {
     "data": {
      "text/plain": [
       "array([[ 6,  7,  8],\n",
       "       [ 9,  9, 10],\n",
       "       [16, 39, 17]])"
      ]
     },
     "execution_count": 21,
     "metadata": {},
     "output_type": "execute_result"
    }
   ],
   "source": [
    "arr2 + 5"
   ]
  },
  {
   "cell_type": "code",
   "execution_count": 22,
   "id": "399c43fc-6ffe-4b07-bb24-6e0ce0105a96",
   "metadata": {},
   "outputs": [
    {
     "data": {
      "text/plain": [
       "array([[ 2,  4,  6],\n",
       "       [ 5,  6,  8],\n",
       "       [12, 36, 15]])"
      ]
     },
     "execution_count": 22,
     "metadata": {},
     "output_type": "execute_result"
    }
   ],
   "source": [
    "arr2 + [1, 2, 3]"
   ]
  },
  {
   "cell_type": "code",
   "execution_count": 24,
   "id": "18261a58-73f4-4a57-82cb-53729dcf3892",
   "metadata": {},
   "outputs": [
    {
     "data": {
      "text/plain": [
       "array([[0., 0., 0., 0.],\n",
       "       [0., 0., 0., 0.],\n",
       "       [0., 0., 0., 0.],\n",
       "       [0., 0., 0., 0.]])"
      ]
     },
     "execution_count": 24,
     "metadata": {},
     "output_type": "execute_result"
    }
   ],
   "source": [
    "# creating array with inbuilt function\n",
    "np.zeros((4, 4))"
   ]
  },
  {
   "cell_type": "code",
   "execution_count": 25,
   "id": "2f5cf409-8ee4-45d3-be67-a5dcb3ececb0",
   "metadata": {},
   "outputs": [
    {
     "data": {
      "text/plain": [
       "array([[1., 1., 1., 1.],\n",
       "       [1., 1., 1., 1.],\n",
       "       [1., 1., 1., 1.],\n",
       "       [1., 1., 1., 1.]])"
      ]
     },
     "execution_count": 25,
     "metadata": {},
     "output_type": "execute_result"
    }
   ],
   "source": [
    "np.ones((4, 4))"
   ]
  },
  {
   "cell_type": "code",
   "execution_count": 26,
   "id": "53aebbd1-6db5-468f-8fe4-5076a9cec081",
   "metadata": {},
   "outputs": [
    {
     "data": {
      "text/plain": [
       "array([[1., 0., 0., 0.],\n",
       "       [0., 1., 0., 0.],\n",
       "       [0., 0., 1., 0.],\n",
       "       [0., 0., 0., 1.]])"
      ]
     },
     "execution_count": 26,
     "metadata": {},
     "output_type": "execute_result"
    }
   ],
   "source": [
    "# identity matrix\n",
    "np.eye(4, 4)"
   ]
  },
  {
   "cell_type": "code",
   "execution_count": 27,
   "id": "8243ee27-fdfb-45f3-bb85-db65d0e1e9ef",
   "metadata": {},
   "outputs": [
    {
     "data": {
      "text/plain": [
       "array([0.04741816, 0.70011513])"
      ]
     },
     "execution_count": 27,
     "metadata": {},
     "output_type": "execute_result"
    }
   ],
   "source": [
    "# creating array using random function\n",
    "np.random.random(2)"
   ]
  },
  {
   "cell_type": "code",
   "execution_count": 31,
   "id": "4252e60c-be49-4027-b427-1da21a52f608",
   "metadata": {},
   "outputs": [
    {
     "data": {
      "text/plain": [
       "array([0.24928419, 0.27275416, 0.06093981, 0.79893724, 0.39834224])"
      ]
     },
     "execution_count": 31,
     "metadata": {},
     "output_type": "execute_result"
    }
   ],
   "source": [
    "np.random.random(5)"
   ]
  },
  {
   "cell_type": "code",
   "execution_count": 29,
   "id": "b0d3360b-dc6a-4bb4-8f76-0f68fa68517d",
   "metadata": {},
   "outputs": [
    {
     "data": {
      "text/plain": [
       "array([[0.4222372 , 0.06890427],\n",
       "       [0.09208988, 0.47953962],\n",
       "       [0.91157257, 0.05340569],\n",
       "       [0.9853447 , 0.19514478],\n",
       "       [0.56505726, 0.64138246]])"
      ]
     },
     "execution_count": 29,
     "metadata": {},
     "output_type": "execute_result"
    }
   ],
   "source": [
    "np.random.rand(5, 2)"
   ]
  },
  {
   "cell_type": "code",
   "execution_count": 33,
   "id": "0b758630-d27c-4188-a572-05a80fa42844",
   "metadata": {},
   "outputs": [
    {
     "data": {
      "text/plain": [
       "array([[9, 8, 8],\n",
       "       [9, 9, 5],\n",
       "       [2, 8, 2]])"
      ]
     },
     "execution_count": 33,
     "metadata": {},
     "output_type": "execute_result"
    }
   ],
   "source": [
    "np.random.randint(1, 10, [3, 3])"
   ]
  },
  {
   "cell_type": "code",
   "execution_count": 36,
   "id": "0b42723b-f64e-4198-ba05-8185322d8e09",
   "metadata": {},
   "outputs": [
    {
     "data": {
      "text/plain": [
       "array([[ 5, 45, 65, 85,  9, 96, 94, 19, 15, 46],\n",
       "       [89, 94, 40, 35, 42,  9, 41,  6, 28, 85],\n",
       "       [35, 30, 83, 82, 39, 20, 20, 67, 92,  8],\n",
       "       [28, 24, 24, 12, 95, 14, 53, 76, 48,  2],\n",
       "       [48, 88, 84, 59, 61, 49, 94, 60, 94, 66],\n",
       "       [94, 22, 54, 10, 85, 18, 53,  4, 12, 30],\n",
       "       [97, 83, 68,  7, 80, 61, 29, 33, 90, 54],\n",
       "       [81, 86, 89, 79, 18, 62,  9, 25, 20, 63],\n",
       "       [98,  6, 71,  6, 71, 58, 63, 70, 87,  1],\n",
       "       [63, 50, 82, 19, 90, 97, 64, 52, 86, 72]])"
      ]
     },
     "execution_count": 36,
     "metadata": {},
     "output_type": "execute_result"
    }
   ],
   "source": [
    "# seed reproducibility\n",
    "np.random.seed(22)\n",
    "np.random.randint(1, 100, [10, 10])"
   ]
  },
  {
   "cell_type": "code",
   "execution_count": 37,
   "id": "e829a02a-31c9-4972-9454-b2d9fa03d02e",
   "metadata": {},
   "outputs": [
    {
     "data": {
      "text/plain": [
       "array([10, 20, 30, 40])"
      ]
     },
     "execution_count": 37,
     "metadata": {},
     "output_type": "execute_result"
    }
   ],
   "source": [
    "# Array indexing\n",
    "arr1"
   ]
  },
  {
   "cell_type": "code",
   "execution_count": 38,
   "id": "40c9fcd3-20de-41bb-85af-7366ede5925c",
   "metadata": {},
   "outputs": [
    {
     "data": {
      "text/plain": [
       "20"
      ]
     },
     "execution_count": 38,
     "metadata": {},
     "output_type": "execute_result"
    }
   ],
   "source": [
    "arr1[1]"
   ]
  },
  {
   "cell_type": "code",
   "execution_count": 41,
   "id": "2d497dc5-0e35-45af-b61b-8487d466cf9d",
   "metadata": {},
   "outputs": [
    {
     "data": {
      "text/plain": [
       "array([[ 1,  2,  3],\n",
       "       [ 4,  4,  5],\n",
       "       [11, 34, 12]])"
      ]
     },
     "execution_count": 41,
     "metadata": {},
     "output_type": "execute_result"
    }
   ],
   "source": [
    "arr2"
   ]
  },
  {
   "cell_type": "code",
   "execution_count": 39,
   "id": "f80543fd-e4ab-44de-9044-73c35311c3a7",
   "metadata": {},
   "outputs": [
    {
     "data": {
      "text/plain": [
       "array([1, 2, 3])"
      ]
     },
     "execution_count": 39,
     "metadata": {},
     "output_type": "execute_result"
    }
   ],
   "source": [
    "arr2[0]"
   ]
  },
  {
   "cell_type": "code",
   "execution_count": 43,
   "id": "6eadb7a8-29cd-48fb-8c17-5e1f25e2981b",
   "metadata": {},
   "outputs": [
    {
     "data": {
      "text/plain": [
       "2"
      ]
     },
     "execution_count": 43,
     "metadata": {},
     "output_type": "execute_result"
    }
   ],
   "source": [
    "arr2[0, 1] # extracting a single number"
   ]
  },
  {
   "cell_type": "code",
   "execution_count": 44,
   "id": "a8ca455f-a318-4d68-be07-cf411b7df7fb",
   "metadata": {},
   "outputs": [
    {
     "data": {
      "text/plain": [
       "array([[1, 2],\n",
       "       [4, 4]])"
      ]
     },
     "execution_count": 44,
     "metadata": {},
     "output_type": "execute_result"
    }
   ],
   "source": [
    "# Slicing in array\n",
    "arr2[0:2, 0:2]"
   ]
  },
  {
   "cell_type": "code",
   "execution_count": 45,
   "id": "1abf2a9a-25b6-4514-a8bb-8d819f5237b6",
   "metadata": {},
   "outputs": [
    {
     "data": {
      "text/plain": [
       "array([10, 20, 30, 40])"
      ]
     },
     "execution_count": 45,
     "metadata": {},
     "output_type": "execute_result"
    }
   ],
   "source": [
    "# modfiying\n",
    "arr1"
   ]
  },
  {
   "cell_type": "code",
   "execution_count": 47,
   "id": "29c081d5-d66d-4cf5-b844-7af9cbe3ea2e",
   "metadata": {},
   "outputs": [
    {
     "data": {
      "text/plain": [
       "array([10, 30, 30, 40])"
      ]
     },
     "execution_count": 47,
     "metadata": {},
     "output_type": "execute_result"
    }
   ],
   "source": [
    "arr1[1] = 30\n",
    "arr1"
   ]
  },
  {
   "cell_type": "code",
   "execution_count": 50,
   "id": "682704ee-669e-4d4e-8688-a91e733ac940",
   "metadata": {},
   "outputs": [
    {
     "data": {
      "text/plain": [
       "array([9, 3, 7, 6, 7, 7, 8, 8, 5, 5])"
      ]
     },
     "execution_count": 50,
     "metadata": {},
     "output_type": "execute_result"
    }
   ],
   "source": [
    "# Array manipulation\n",
    "x = np.random.randint(1, 11, 10)\n",
    "x"
   ]
  },
  {
   "cell_type": "code",
   "execution_count": 51,
   "id": "7bc4c1dd-28e2-4278-98c7-595ac5f1752d",
   "metadata": {},
   "outputs": [
    {
     "data": {
      "text/plain": [
       "10"
      ]
     },
     "execution_count": 51,
     "metadata": {},
     "output_type": "execute_result"
    }
   ],
   "source": [
    "x.size"
   ]
  },
  {
   "cell_type": "code",
   "execution_count": 54,
   "id": "d827895c-23aa-4553-8ec1-8dcb30f3903d",
   "metadata": {},
   "outputs": [
    {
     "data": {
      "text/plain": [
       "array([[9, 3, 7, 6, 7],\n",
       "       [7, 8, 8, 5, 5]])"
      ]
     },
     "execution_count": 54,
     "metadata": {},
     "output_type": "execute_result"
    }
   ],
   "source": [
    "y = x.reshape(2, 5) # reshaping\n",
    "y"
   ]
  },
  {
   "cell_type": "code",
   "execution_count": 55,
   "id": "7a167944-4a7e-4e42-876a-4e30c5a30f27",
   "metadata": {},
   "outputs": [
    {
     "data": {
      "text/plain": [
       "array([[9, 7],\n",
       "       [3, 8],\n",
       "       [7, 8],\n",
       "       [6, 5],\n",
       "       [7, 5]])"
      ]
     },
     "execution_count": 55,
     "metadata": {},
     "output_type": "execute_result"
    }
   ],
   "source": [
    "# transpose \n",
    "y.T"
   ]
  },
  {
   "cell_type": "code",
   "execution_count": 56,
   "id": "9b41ae30-b7fe-4cff-9324-69199895d901",
   "metadata": {},
   "outputs": [
    {
     "data": {
      "text/plain": [
       "array([[9, 3, 7, 6, 7],\n",
       "       [7, 8, 8, 5, 5]])"
      ]
     },
     "execution_count": 56,
     "metadata": {},
     "output_type": "execute_result"
    }
   ],
   "source": [
    "y "
   ]
  },
  {
   "cell_type": "code",
   "execution_count": 60,
   "id": "ccae46e1-2c1e-472b-8e4c-ef557e3927a5",
   "metadata": {},
   "outputs": [
    {
     "data": {
      "text/plain": [
       "array([9, 3, 7, 6, 7, 7, 8, 8, 5, 5])"
      ]
     },
     "execution_count": 60,
     "metadata": {},
     "output_type": "execute_result"
    }
   ],
   "source": [
    "flat = y.flatten()\n",
    "flat"
   ]
  },
  {
   "cell_type": "code",
   "execution_count": 63,
   "id": "2566122f-42b0-475f-a92c-a5b89c5b96f0",
   "metadata": {},
   "outputs": [
    {
     "data": {
      "text/plain": [
       "[array([9, 3, 7, 6, 7]), array([7, 8, 8, 5, 5])]"
      ]
     },
     "execution_count": 63,
     "metadata": {},
     "output_type": "execute_result"
    }
   ],
   "source": [
    "z = np.split(flat, 2)\n",
    "z"
   ]
  },
  {
   "cell_type": "code",
   "execution_count": 64,
   "id": "08974035-692e-4525-9ca8-871f5a6afe38",
   "metadata": {},
   "outputs": [],
   "source": [
    "a, b = z"
   ]
  },
  {
   "cell_type": "code",
   "execution_count": 65,
   "id": "9ec8379e-322b-46d4-a662-b84e4a2f9635",
   "metadata": {},
   "outputs": [
    {
     "data": {
      "text/plain": [
       "array([9, 3, 7, 6, 7])"
      ]
     },
     "execution_count": 65,
     "metadata": {},
     "output_type": "execute_result"
    }
   ],
   "source": [
    "a"
   ]
  },
  {
   "cell_type": "code",
   "execution_count": 66,
   "id": "671efc93-f49e-4558-9953-708dac44bc3e",
   "metadata": {},
   "outputs": [
    {
     "data": {
      "text/plain": [
       "array([7, 8, 8, 5, 5])"
      ]
     },
     "execution_count": 66,
     "metadata": {},
     "output_type": "execute_result"
    }
   ],
   "source": [
    "b"
   ]
  },
  {
   "cell_type": "code",
   "execution_count": 68,
   "id": "8b302af7-21a1-4227-a8b9-60471cfbcc88",
   "metadata": {},
   "outputs": [
    {
     "data": {
      "text/plain": [
       "array([1., 2., 3., 4., 5.])"
      ]
     },
     "execution_count": 68,
     "metadata": {},
     "output_type": "execute_result"
    }
   ],
   "source": [
    "# Mathematical operation\n",
    "value = np.array([1, 4, 9, 16, 25])\n",
    "np.sqrt(value)"
   ]
  },
  {
   "cell_type": "code",
   "execution_count": 70,
   "id": "510d5a67-787c-4f21-adfa-a3cf3e8df8ff",
   "metadata": {},
   "outputs": [
    {
     "data": {
      "text/plain": [
       "55"
      ]
     },
     "execution_count": 70,
     "metadata": {},
     "output_type": "execute_result"
    }
   ],
   "source": [
    "value.sum()"
   ]
  },
  {
   "cell_type": "code",
   "execution_count": null,
   "id": "a1dd4a52-6081-4bdb-89b4-65ead355ee13",
   "metadata": {},
   "outputs": [],
   "source": []
  }
 ],
 "metadata": {
  "kernelspec": {
   "display_name": "Python 3 (ipykernel)",
   "language": "python",
   "name": "python3"
  },
  "language_info": {
   "codemirror_mode": {
    "name": "ipython",
    "version": 3
   },
   "file_extension": ".py",
   "mimetype": "text/x-python",
   "name": "python",
   "nbconvert_exporter": "python",
   "pygments_lexer": "ipython3",
   "version": "3.12.7"
  }
 },
 "nbformat": 4,
 "nbformat_minor": 5
}
