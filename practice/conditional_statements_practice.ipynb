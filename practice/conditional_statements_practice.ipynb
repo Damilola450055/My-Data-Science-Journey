{
 "cells": [
  {
   "cell_type": "markdown",
   "id": "dca0fb62-3cb6-4abe-9ddf-03bf77d42b04",
   "metadata": {},
   "source": [
    "##### Assignment 1: Tiered Discount Calculator"
   ]
  },
  {
   "cell_type": "code",
   "execution_count": null,
   "id": "38af0bb1-be0e-4ee9-add5-8392da866691",
   "metadata": {},
   "outputs": [],
   "source": [
    "# Write a program that calculates the final price of an item after applying a discount based on a customer's membership tier.\n",
    "# Ask the user for the price of the item using input(). Convert this input to a floating-point number (float()).\n",
    "# Ask the user for their membership tier (e.g., 'Gold', 'Silver', 'Bronze', 'None') using input(). Convert the input to lowercase using .lower() for easier comparison.\n",
    "# Use if-elif-else statements to determine the discount rate:\n",
    "# 'gold': 20% discount\n",
    "# 'silver': 15% discount\n",
    "# 'bronze': 10% discount\n",
    "# 'none' or any other input: 0% discount\n",
    "# Calculate the discount amount (price * discount_rate).\n",
    "# Calculate the final price (price - discount_amount).\n",
    "# Print the original price, the applied discount rate (as a percentage), the discount amount, and the final price, clearly formatted."
   ]
  },
  {
   "cell_type": "code",
   "execution_count": 23,
   "id": "8a7fb3b8-63db-493e-a866-504f1333fff1",
   "metadata": {},
   "outputs": [
    {
     "name": "stdout",
     "output_type": "stream",
     "text": [
      "Enter your item price:  600\n",
      "Enter your membership tier:  gold\n"
     ]
    },
    {
     "name": "stdout",
     "output_type": "stream",
     "text": [
      "20% discount\n",
      "Discount amount: $120.00\n",
      "Final price after discount: $480.0\n"
     ]
    }
   ],
   "source": [
    "item_price = float(input('Enter your item price: '))\n",
    "membership = input('Enter your membership tier: ').lower()\n",
    "\n",
    "if membership == 'gold':\n",
    "    discount_rate = 0.20\n",
    "    print('20% discount')\n",
    "\n",
    "elif membership == 'silver':\n",
    "    discount_rate = 0.15\n",
    "    print('15% discount')\n",
    "\n",
    "elif membership == 'bronze':\n",
    "    discount_rate = 0.10\n",
    "    print('10% discount')\n",
    "\n",
    "else:\n",
    "    discount_rate = 0.0\n",
    "    print('0% discount')\n",
    "\n",
    "discount = item_price * discount_rate\n",
    "final_price = item_price - discount\n",
    "\n",
    "print(f\"Discount amount: ${discount:.2f}\")\n",
    "print(f\"Final price after discount: ${final_price}\")\n"
   ]
  },
  {
   "cell_type": "code",
   "execution_count": null,
   "id": "68b5ee35-4e25-4a51-bbf5-c8870168d76e",
   "metadata": {},
   "outputs": [],
   "source": []
  },
  {
   "cell_type": "code",
   "execution_count": null,
   "id": "52ce1169-7458-4517-bffb-0ea7930af8d8",
   "metadata": {},
   "outputs": [],
   "source": []
  },
  {
   "cell_type": "code",
   "execution_count": null,
   "id": "00c97ebb-03fd-4493-91c1-95e5b5d6184a",
   "metadata": {},
   "outputs": [],
   "source": []
  },
  {
   "cell_type": "code",
   "execution_count": null,
   "id": "5c773d46-f589-4c48-b638-f0b4201cab4f",
   "metadata": {},
   "outputs": [],
   "source": []
  },
  {
   "cell_type": "code",
   "execution_count": null,
   "id": "c63cf30b-8374-4d84-841c-8dfd6ee03cee",
   "metadata": {},
   "outputs": [],
   "source": []
  },
  {
   "cell_type": "code",
   "execution_count": null,
   "id": "e4ee5bd5-5b0f-4401-8b3a-cb9463b958ac",
   "metadata": {},
   "outputs": [],
   "source": []
  },
  {
   "cell_type": "code",
   "execution_count": null,
   "id": "80932872-f8c2-4586-a125-90f7accf2603",
   "metadata": {},
   "outputs": [],
   "source": []
  },
  {
   "cell_type": "code",
   "execution_count": null,
   "id": "8f0097ae-3d2d-4406-9335-dbe1a1182db3",
   "metadata": {},
   "outputs": [],
   "source": [
    "Grade Calculator\n",
    "Write a program that takes a student's numerical score (0–100) as input and outputs their letter grade based on the following criteria:\n",
    "\n",
    "90–100: A\n",
    "80–89: B\n",
    "70–79: C\n",
    "60–69: D\n",
    "Below 60: F Additionally:\n",
    "If the score is not within the valid range (0–100), display an error message.\n",
    "If the score is exactly on the boundary (e.g., 90, 80, etc.), ensure it falls into the correct grade\n"
   ]
  },
  {
   "cell_type": "code",
   "execution_count": 44,
   "id": "46a44dbb-7b9d-4a61-8b28-6e47d6aaf2d2",
   "metadata": {},
   "outputs": [
    {
     "name": "stdin",
     "output_type": "stream",
     "text": [
      "Enter your mark 100\n"
     ]
    },
    {
     "name": "stdout",
     "output_type": "stream",
     "text": [
      "Grade A\n"
     ]
    }
   ],
   "source": [
    "mark = float(input('Enter your mark'))\n",
    "if mark >=90 and mark <=100:\n",
    "    print('Grade A')\n",
    "elif mark >=80 and mark <=89:\n",
    "    print('Grade B')\n",
    "elif mark >=70 and mark <=79:\n",
    "    print('Grade C')\n",
    "elif mark >=60 and mark <=69:\n",
    "    print('Grade D')\n",
    "elif mark <60:\n",
    "    print('You failed this course')\n",
    "else:\n",
    "    print('Invalid input')"
   ]
  },
  {
   "cell_type": "code",
   "execution_count": null,
   "id": "52defefa-b45a-4039-8133-39094ffa7163",
   "metadata": {},
   "outputs": [],
   "source": [
    "Movie Ticket Pricing\n",
    "Write a program that calculates the price of a movie ticket based on the following conditions:\n",
    "\n",
    "A regular ticket costs $12.\n",
    "If the customer is a senior (age 65 or older), they get a 20% discount.\n",
    "If the customer is a student (has a valid student ID, represented as a boolean input), they get a 10% discount.\n",
    "If the customer is both a senior and a student, they get a 25% discount.\n",
    "If the movie is in 3D (represented as a boolean input), there is an additional $3 surcharge applied after any discounts."
   ]
  },
  {
   "cell_type": "code",
   "execution_count": 90,
   "id": "bfd7c0bd-a647-4979-93a1-69e6d8dc83b3",
   "metadata": {},
   "outputs": [
    {
     "name": "stdin",
     "output_type": "stream",
     "text": [
      "enter your age 0\n",
      "Are you a stuent? (yes or no) no\n",
      "Do you want the movie in 3D? (yes or no) no\n"
     ]
    },
    {
     "name": "stdout",
     "output_type": "stream",
     "text": [
      "invalid input\n"
     ]
    }
   ],
   "source": [
    "Ticket_rate = 12\n",
    "Age = int(input('enter your age'))\n",
    "Student_status = input('Are you a stuent? (yes or no)').lower()\n",
    "movie_3D = input('Do you want the movie in 3D? (yes or no)').lower()\n",
    "Surcharge_fee = 3\n",
    "\n",
    "if Age >=65 and Student_status =='no' and movie_3D =='no':\n",
    "    discount = 0.2\n",
    "    print('20% discount')\n",
    "    discount = Ticket_rate * discount\n",
    "    final_rate = Ticket_rate - discount\n",
    "    print(f'Your discount is: ${discount:.2f}')\n",
    "    print(f'Your final rate after the the discount: ${final_rate}')\n",
    "if Age <65 and Student_status =='yes' and movie_3D =='no':\n",
    "    discount = 0.1\n",
    "    print('10% discount')\n",
    "    discount = Ticket_rate * discount\n",
    "    final_rate = Ticket_rate - discount\n",
    "    print(f'Your discount is: ${discount:.2f}')\n",
    "    print(f'Your final rate after the discount: {final_rate}')\n",
    "elif Age >=65 and Student_status =='yes' and movie_3D =='no':\n",
    "    discount = 0.25\n",
    "    print('25% discount')\n",
    "    discount = Ticket_rate * discount\n",
    "    final_rate = Ticket_rate - discount\n",
    "    print(f'Your discount is: ${discount:.2f}')\n",
    "    print(f'Your final rate after the discount: {final_rate}')\n",
    "elif Age >=18 and Age <=30 and Student_status =='yes' and movie_3D =='yes':\n",
    "    discount = 0.1\n",
    "    print('10% discount')\n",
    "    discount = Ticket_rate * discount\n",
    "    final_rate = Ticket_rate - discount + surcharge\n",
    "    print(f'Your discount is: ${discount:.2f}')\n",
    "    print(f'Your final rate after the discount: {final_rate}')\n",
    "else:\n",
    "    print('invalid input')"
   ]
  },
  {
   "cell_type": "code",
   "execution_count": null,
   "id": "cf278a14-402c-4247-afc4-fcb599b6176b",
   "metadata": {},
   "outputs": [],
   "source": []
  },
  {
   "cell_type": "code",
   "execution_count": null,
   "id": "c34edc2f-682d-4723-bf3b-e35ad7939809",
   "metadata": {},
   "outputs": [],
   "source": []
  }
 ],
 "metadata": {
  "kernelspec": {
   "display_name": "Python 3 (ipykernel)",
   "language": "python",
   "name": "python3"
  },
  "language_info": {
   "codemirror_mode": {
    "name": "ipython",
    "version": 3
   },
   "file_extension": ".py",
   "mimetype": "text/x-python",
   "name": "python",
   "nbconvert_exporter": "python",
   "pygments_lexer": "ipython3",
   "version": "3.12.7"
  }
 },
 "nbformat": 4,
 "nbformat_minor": 5
}
