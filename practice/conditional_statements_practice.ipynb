{
 "cells": [
  {
   "cell_type": "markdown",
   "id": "dca0fb62-3cb6-4abe-9ddf-03bf77d42b04",
   "metadata": {},
   "source": [
    "##### Assignment 1: Tiered Discount Calculator"
   ]
  },
  {
   "cell_type": "code",
   "execution_count": null,
   "id": "38af0bb1-be0e-4ee9-add5-8392da866691",
   "metadata": {},
   "outputs": [],
   "source": [
    "# Write a program that calculates the final price of an item after applying a discount based on a customer's membership tier.\n",
    "# Ask the user for the price of the item using input(). Convert this input to a floating-point number (float()).\n",
    "# Ask the user for their membership tier (e.g., 'Gold', 'Silver', 'Bronze', 'None') using input(). Convert the input to lowercase using .lower() for easier comparison.\n",
    "# Use if-elif-else statements to determine the discount rate:\n",
    "# 'gold': 20% discount\n",
    "# 'silver': 15% discount\n",
    "# 'bronze': 10% discount\n",
    "# 'none' or any other input: 0% discount\n",
    "# Calculate the discount amount (price * discount_rate).\n",
    "# Calculate the final price (price - discount_amount).\n",
    "# Print the original price, the applied discount rate (as a percentage), the discount amount, and the final price, clearly formatted."
   ]
  },
  {
   "cell_type": "code",
   "execution_count": 23,
   "id": "8a7fb3b8-63db-493e-a866-504f1333fff1",
   "metadata": {},
   "outputs": [
    {
     "name": "stdout",
     "output_type": "stream",
     "text": [
      "Enter your item price:  600\n",
      "Enter your membership tier:  gold\n"
     ]
    },
    {
     "name": "stdout",
     "output_type": "stream",
     "text": [
      "20% discount\n",
      "Discount amount: $120.00\n",
      "Final price after discount: $480.0\n"
     ]
    }
   ],
   "source": [
    "item_price = float(input('Enter your item price: '))\n",
    "membership = input('Enter your membership tier: ').lower()\n",
    "\n",
    "if membership == 'gold':\n",
    "    discount_rate = 0.20\n",
    "    print('20% discount')\n",
    "\n",
    "elif membership == 'silver':\n",
    "    discount_rate = 0.15\n",
    "    print('15% discount')\n",
    "\n",
    "elif membership == 'bronze':\n",
    "    discount_rate = 0.10\n",
    "    print('10% discount')\n",
    "\n",
    "else:\n",
    "    discount_rate = 0.0\n",
    "    print('0% discount')\n",
    "\n",
    "discount = item_price * discount_rate\n",
    "final_price = item_price - discount\n",
    "\n",
    "print(f\"Discount amount: ${discount:.2f}\")\n",
    "print(f\"Final price after discount: ${final_price}\")\n"
   ]
  },
  {
   "cell_type": "code",
   "execution_count": null,
   "id": "8f0097ae-3d2d-4406-9335-dbe1a1182db3",
   "metadata": {},
   "outputs": [],
   "source": []
  },
  {
   "cell_type": "code",
   "execution_count": 3,
   "id": "48e249bd-5c90-4716-bc1c-518fa534757e",
   "metadata": {},
   "outputs": [
    {
     "name": "stdout",
     "output_type": "stream",
     "text": [
      " age: 1\n",
      " age: 2\n",
      " age: 3\n",
      " age: 4\n",
      " age: 5\n",
      "Finished counting up!\n"
     ]
    }
   ],
   "source": [
    "# 1. Initialize the counter\n",
    "count = 1\n",
    "\n",
    "# 2. Condition: Keep looping as long as 'count' is less than or equal to 5\n",
    "while count <= 5:\n",
    "    # 3. Do something: Print the current count\n",
    "    print(f' age: {count}')\n",
    "\n",
    "    # 4. Change the variable: Add 1 to count\n",
    "    count = count + 1 # You can also write this as count += 1\n",
    "\n",
    "# 5. After the loop\n",
    "print(\"Finished counting up!\")"
   ]
  },
  {
   "cell_type": "code",
   "execution_count": 4,
   "id": "d70c39c6-e4c5-4c8b-9427-c17e90f331db",
   "metadata": {},
   "outputs": [
    {
     "name": "stdout",
     "output_type": "stream",
     "text": [
      "3\n",
      "2\n",
      "1\n",
      "Blast off!\n"
     ]
    }
   ],
   "source": [
    "# 1. Initialize the counter\n",
    "countdown = 3\n",
    "\n",
    "# 2. Condition: Keep looping as long as 'countdown' is greater than 0\n",
    "while countdown > 0:\n",
    "    # 3. Do something: Print the current number\n",
    "    print(countdown)\n",
    "\n",
    "    # 4. Change the variable: Subtract 1 from countdown\n",
    "    countdown = countdown - 1 # Or countdown -= 1\n",
    "\n",
    "# 5. After the loop\n",
    "print(\"Blast off!\")"
   ]
  },
  {
   "cell_type": "code",
   "execution_count": 5,
   "id": "72fcebf8-b739-428e-9933-7b613424bce8",
   "metadata": {},
   "outputs": [
    {
     "name": "stdout",
     "output_type": "stream",
     "text": [
      "Adding 1. Current sum is 1\n",
      "Adding 2. Current sum is 3\n",
      "Adding 3. Current sum is 6\n",
      "Adding 4. Current sum is 10\n",
      "\n",
      "Final total sum: 10\n"
     ]
    }
   ],
   "source": [
    "# 1. Initialize sum and a counter\n",
    "total_sum = 0\n",
    "number_to_add = 1\n",
    "\n",
    "# 2. Condition: Keep looping as long as the number to add is less than or equal to 4\n",
    "while number_to_add <= 4:\n",
    "    # 3. Do something: Add the current number to the total_sum\n",
    "    total_sum = total_sum + number_to_add # Or total_sum += number_to_add\n",
    "    print(f\"Adding {number_to_add}. Current sum is {total_sum}\") # Optional: show steps\n",
    "\n",
    "    # 4. Change the variable: Move to the next number\n",
    "    number_to_add = number_to_add + 1 # Or number_to_add += 1\n",
    "\n",
    "# 5. After the loop, print the final sum\n",
    "print(f\"\\nFinal total sum: {total_sum}\") # The \\n adds a blank line before the final print"
   ]
  },
  {
   "cell_type": "code",
   "execution_count": 7,
   "id": "fa242830-eddc-4479-86e0-280f492b7fca",
   "metadata": {},
   "outputs": [
    {
     "name": "stdout",
     "output_type": "stream",
     "text": [
      "Learning loops is fun!\n",
      "Learning loops is fun!\n",
      "Learning loops is fun!\n",
      "Done repeating.\n"
     ]
    }
   ],
   "source": [
    "# 1. Initialize a counter (used for the condition)\n",
    "repeat_count = 0\n",
    "\n",
    "# 2. Condition: Repeat as long as the count is less than 3\n",
    "while repeat_count < 3:\n",
    "    # 3. Do something: Print the message\n",
    "    print(\"Learning loops is fun!\")\n",
    "\n",
    "    # 4. Change the variable: Increase the count\n",
    "    repeat_count = repeat_count + 1 # Or repeat_count += 1\n",
    "\n",
    "# 5. After the loop\n",
    "print(\"Done repeating.\")"
   ]
  },
  {
   "cell_type": "code",
   "execution_count": 38,
   "id": "aaf7d042-8322-4e87-ad1c-6aee1b75ad1d",
   "metadata": {},
   "outputs": [
    {
     "name": "stdout",
     "output_type": "stream",
     "text": [
      "enter your password:  while\n"
     ]
    },
    {
     "name": "stdout",
     "output_type": "stream",
     "text": [
      "Try again.\n"
     ]
    },
    {
     "name": "stdout",
     "output_type": "stream",
     "text": [
      "enter your password:  loop\n"
     ]
    },
    {
     "name": "stdout",
     "output_type": "stream",
     "text": [
      "Try again.\n"
     ]
    },
    {
     "name": "stdout",
     "output_type": "stream",
     "text": [
      "enter your password:  whileloop\n"
     ]
    },
    {
     "name": "stdout",
     "output_type": "stream",
     "text": [
      "Try again.\n"
     ]
    },
    {
     "name": "stdout",
     "output_type": "stream",
     "text": [
      "enter your password:  while-loop\n"
     ]
    },
    {
     "name": "stdout",
     "output_type": "stream",
     "text": [
      "Try again.\n"
     ]
    },
    {
     "name": "stdout",
     "output_type": "stream",
     "text": [
      "enter your password:  while_loop\n"
     ]
    },
    {
     "name": "stdout",
     "output_type": "stream",
     "text": [
      "Check your email for verification!\n"
     ]
    }
   ],
   "source": [
    "# 1. Initialize the pass word and the user input\n",
    "password = \"while_loop\"\n",
    "user_input = \"\" \n",
    "\n",
    "\n",
    "while user_input != password:\n",
    "    \n",
    "    user_input = input(\"enter your password: \").lower() \n",
    "\n",
    "    if user_input != password:\n",
    "        print(\"Try again.\")\n",
    "\n",
    "print(\"Check your email for verification!\")"
   ]
  },
  {
   "cell_type": "code",
   "execution_count": 2,
   "id": "afdad9cc-9f85-4444-8eec-40f8c10523dc",
   "metadata": {},
   "outputs": [
    {
     "name": "stdout",
     "output_type": "stream",
     "text": [
      "*\n",
      "**\n",
      "***\n",
      "****\n",
      "*****\n",
      "******\n",
      "*******\n",
      "********\n",
      "*********\n",
      "**********\n"
     ]
    }
   ],
   "source": [
    "# right angle\n",
    "line = '*'\n",
    "max_length = 10\n",
    "while len(line) <= max_length:\n",
    "    print(line)\n",
    "    line = line + '*'"
   ]
  },
  {
   "cell_type": "code",
   "execution_count": 1,
   "id": "19fcdd6f-45d2-44f2-b5e6-97844cc08a3f",
   "metadata": {},
   "outputs": [
    {
     "name": "stdout",
     "output_type": "stream",
     "text": [
      "         *\n",
      "        **\n",
      "       ***\n",
      "      ****\n",
      "     *****\n",
      "    ******\n",
      "   *******\n",
      "  ********\n",
      " *********\n",
      "**********\n"
     ]
    }
   ],
   "source": [
    "line = '*'\n",
    "length = 10\n",
    "while len(line) <= length:\n",
    "    space = ' ' * (length-len(line))\n",
    "    print(space + line)\n",
    "    line = line + '*'"
   ]
  },
  {
   "cell_type": "code",
   "execution_count": 11,
   "id": "af5e4db4-a5e6-484c-8383-d92982c37226",
   "metadata": {},
   "outputs": [
    {
     "name": "stdout",
     "output_type": "stream",
     "text": [
      "         #\n",
      "        ##\n",
      "       ###\n",
      "      ####\n",
      "     #####\n",
      "    ######\n",
      "   #######\n",
      "  ########\n",
      " #########\n",
      "##########\n",
      "###########\n",
      "##########\n",
      "#########\n",
      "########\n",
      "#######\n",
      "######\n",
      "#####\n",
      "####\n",
      "###\n",
      "##\n",
      "#\n"
     ]
    }
   ],
   "source": [
    "line = '#'\n",
    "length = 10\n",
    "while len(line) <= length:\n",
    "    space = ' ' * (length-len(line))\n",
    "    print(space + line)\n",
    "    line = line + '#'\n",
    "\n",
    "while len(line) >0:\n",
    "    print(space + line)\n",
    "    line = line [:-1]"
   ]
  },
  {
   "cell_type": "code",
   "execution_count": 10,
   "id": "3f20192e-8052-4200-a117-667549b817da",
   "metadata": {},
   "outputs": [
    {
     "name": "stdout",
     "output_type": "stream",
     "text": [
      "         <\n",
      "        <<\n",
      "       <<<\n",
      "      <<<<\n",
      "     <<<<<\n",
      "    <<<<<<\n",
      "   <<<<<<<\n",
      "  <<<<<<<<\n",
      " <<<<<<<<<\n",
      "<<<<<<<<<<\n",
      "<<<<<<<<<<<\n",
      "<<<<<<<<<<\n",
      "<<<<<<<<<\n",
      "<<<<<<<<\n",
      "<<<<<<<\n",
      "<<<<<<\n",
      "<<<<<\n",
      "<<<<\n",
      "<<<\n",
      "<<\n",
      "<\n"
     ]
    }
   ],
   "source": [
    "line = '<'\n",
    "length = 10\n",
    "while len(line) <= length:\n",
    "    space = ' ' * (length-len(line))\n",
    "    print(space + line)\n",
    "    line = line + '<'\n",
    "while len(line) >0:\n",
    "    print(space + line)\n",
    "    line = line [:-1]"
   ]
  },
  {
   "cell_type": "code",
   "execution_count": 3,
   "id": "89df5287-7971-4c72-96be-bb2e7da2ba60",
   "metadata": {},
   "outputs": [
    {
     "name": "stdout",
     "output_type": "stream",
     "text": [
      "         *\n"
     ]
    }
   ],
   "source": [
    "line = '*'\n",
    "length = 10\n",
    "while len(line) >0:\n",
    "    space = ' ' * (length-len(line))\n",
    "    print(space+line)\n",
    "    line = line [:-1]"
   ]
  },
  {
   "cell_type": "markdown",
   "id": "cd5a9f93-e664-4915-b5a9-308a23401da6",
   "metadata": {},
   "source": [
    "##### Bank withdrawal "
   ]
  },
  {
   "cell_type": "code",
   "execution_count": null,
   "id": "f539419a-aef2-4d17-9c8e-579176992907",
   "metadata": {},
   "outputs": [],
   "source": []
  }
 ],
 "metadata": {
  "kernelspec": {
   "display_name": "base",
   "language": "python",
   "name": "python3"
  },
  "language_info": {
   "codemirror_mode": {
    "name": "ipython",
    "version": 3
   },
   "file_extension": ".py",
   "mimetype": "text/x-python",
   "name": "python",
   "nbconvert_exporter": "python",
   "pygments_lexer": "ipython3",
   "version": "3.12.7"
  }
 },
 "nbformat": 4,
 "nbformat_minor": 5
}
