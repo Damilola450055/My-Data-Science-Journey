{
 "cells": [
  {
   "cell_type": "markdown",
   "id": "cf653d61-50e2-4e95-91af-57aea8dc8053",
   "metadata": {},
   "source": [
    "#### Simple Login Attempt (Using while loop and break)"
   ]
  },
  {
   "cell_type": "code",
   "execution_count": null,
   "id": "3a5736e8-50c2-4c7b-80ba-3692a794e630",
   "metadata": {},
   "outputs": [],
   "source": [
    "Write a program that simulates a very basic login system.\n",
    "\n",
    "Define a correct_password variable (e.g., set it to \"python123\").\n",
    "Initialize an attempt_count variable to 0.\n",
    "Use a while True: loop (this creates an infinite loop, which you will break out of).\n",
    "Inside the loop:\n",
    "Ask the user to input() their password.\n",
    "Increase attempt_count by 1.\n",
    "Use an if statement: If the entered password is equal to correct_password:\n",
    "Print \"Login successful!\"\n",
    "Use break to exit the while loop.\n",
    "Use an elif statement: If attempt_count reaches 3 (or any number you choose):\n",
    "Print \"Too many failed attempts. Access denied.\"\n",
    "Use break to exit the while loop.\n",
    "Use an else statement: If neither of the above conditions is met:\n",
    "Print \"Incorrect password. Try again.\""
   ]
  },
  {
   "cell_type": "code",
   "execution_count": 1,
   "id": "beaaf376-33e9-4a21-9070-a6e0fa6429cf",
   "metadata": {},
   "outputs": [
    {
     "name": "stdin",
     "output_type": "stream",
     "text": [
      "enter your password python123\n"
     ]
    },
    {
     "name": "stdout",
     "output_type": "stream",
     "text": [
      "Login Successful\n"
     ]
    }
   ],
   "source": [
    "correct_password = 'python123'\n",
    "attempt_count = 0\n",
    "while correct_password == 'python123':\n",
    "    user = input('enter your password')\n",
    "    attempt_count = attempt_count + 1\n",
    "    if user == correct_password:\n",
    "        print('Login Successful')\n",
    "        break\n",
    "    elif attempt_count ==3:\n",
    "        print('Too many failed attempts. Access denied.')\n",
    "        break\n",
    "    else:\n",
    "        print('Incorrect Password. Try again')"
   ]
  },
  {
   "cell_type": "markdown",
   "id": "6c755f52-37f3-44e4-b162-d243751e3832",
   "metadata": {},
   "source": [
    "#### Bank withdrawal"
   ]
  },
  {
   "cell_type": "code",
   "execution_count": 6,
   "id": "2cac0570-6a2b-45c8-b4ef-bf7b22c494e1",
   "metadata": {},
   "outputs": [
    {
     "name": "stdin",
     "output_type": "stream",
     "text": [
      "Please enter your pin 000\n",
      "Your current balance $1000. please enter the amount you want to withdraw $ 1200\n"
     ]
    },
    {
     "name": "stdout",
     "output_type": "stream",
     "text": [
      "insufficient fund\n"
     ]
    }
   ],
   "source": [
    "Balance = 1000\n",
    "withdrawal = 0\n",
    "while Balance == 1000:\n",
    "    input('Please enter your pin')\n",
    "    withdrawal = float(input(f'Your current balance ${Balance}. please enter the amount you want to withdraw $'))\n",
    "    if withdrawal > Balance:\n",
    "        print('insufficient fund')\n",
    "        break\n",
    "    confirm = input('Are you sure you want to proceed? (Yes or no').lower()\n",
    "    if confirm == 'yes':\n",
    "        Balance -= withdrawal\n",
    "        print('Withdrawal successful')\n",
    "        print('Please take your card')\n",
    "        break"
   ]
  },
  {
   "cell_type": "code",
   "execution_count": 2,
   "id": "63c0019f-ae7c-4e4a-99ff-df19b1da2c24",
   "metadata": {},
   "outputs": [],
   "source": []
  },
  {
   "cell_type": "code",
   "execution_count": null,
   "id": "d9909b11-d133-46da-a7db-fc6dd2b7d76f",
   "metadata": {},
   "outputs": [],
   "source": []
  }
 ],
 "metadata": {
  "kernelspec": {
   "display_name": "Python 3 (ipykernel)",
   "language": "python",
   "name": "python3"
  },
  "language_info": {
   "codemirror_mode": {
    "name": "ipython",
    "version": 3
   },
   "file_extension": ".py",
   "mimetype": "text/x-python",
   "name": "python",
   "nbconvert_exporter": "python",
   "pygments_lexer": "ipython3",
   "version": "3.12.7"
  }
 },
 "nbformat": 4,
 "nbformat_minor": 5
}
