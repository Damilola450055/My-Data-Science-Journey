{
 "cells": [
  {
   "cell_type": "markdown",
   "id": "c740d6dc-f615-40a0-8e7b-16aa77cc53f1",
   "metadata": {},
   "source": [
    "##### Assignment 1: Demonstrating Tuple Immutability"
   ]
  },
  {
   "cell_type": "code",
   "execution_count": 1,
   "id": "afd564ca-299a-4f4a-bf79-46228330ed8b",
   "metadata": {},
   "outputs": [],
   "source": [
    "# Understand and show the unchangeable nature of tuples.\n",
    "\n",
    "# Create a tuple called my_tuple = ('apple', 'banana', 'cherry').\n",
    "# includes 'blueberry' and the other elements. You can do this by concatenating slices of the original tuple with the new element. \n",
    "# For example: new_tuple = my_tuple[0:1] + ('blueberry',) + my_tuple[2:]. Remember to include the comma after a single element in parentheses ('blueberry',) to make it a tuple.\n",
    "# Print the new_tuple."
   ]
  },
  {
   "cell_type": "code",
   "execution_count": 2,
   "id": "c7c95f88-687b-4fb5-a298-c4d06b8cf8b7",
   "metadata": {},
   "outputs": [],
   "source": [
    "my_tuple = ('apple', 'banana', 'cherry')"
   ]
  },
  {
   "cell_type": "code",
   "execution_count": 4,
   "id": "ce76e3b8-c272-47ab-ad76-b578621572e5",
   "metadata": {},
   "outputs": [
    {
     "ename": "TypeError",
     "evalue": "'tuple' object does not support item assignment",
     "output_type": "error",
     "traceback": [
      "\u001b[1;31m---------------------------------------------------------------------------\u001b[0m",
      "\u001b[1;31mTypeError\u001b[0m                                 Traceback (most recent call last)",
      "Cell \u001b[1;32mIn[4], line 1\u001b[0m\n\u001b[1;32m----> 1\u001b[0m my_tuple[\u001b[38;5;241m1\u001b[39m] \u001b[38;5;241m=\u001b[39m \u001b[38;5;124m'\u001b[39m\u001b[38;5;124mblueberry\u001b[39m\u001b[38;5;124m'\u001b[39m\n",
      "\u001b[1;31mTypeError\u001b[0m: 'tuple' object does not support item assignment"
     ]
    }
   ],
   "source": [
    "my_tuple[1] = 'blueberry'  # this raise an error because tuple can't be changed directly"
   ]
  },
  {
   "cell_type": "code",
   "execution_count": 5,
   "id": "b8035ddb-581d-4c74-b577-67676de0b9cf",
   "metadata": {},
   "outputs": [
    {
     "data": {
      "text/plain": [
       "('apple', 'blueberry', 'cherry')"
      ]
     },
     "execution_count": 5,
     "metadata": {},
     "output_type": "execute_result"
    }
   ],
   "source": [
    "# (Workaround): Although we can't change the original tuple but we can concatenate\n",
    "new_tuple = ('blueberry',)\n",
    "Workaround = my_tuple[0:1] + new_tuple[0:] + my_tuple[2:]\n",
    "Workaround"
   ]
  },
  {
   "cell_type": "markdown",
   "id": "ea1f9063-c482-45d1-9626-2708dcb95911",
   "metadata": {},
   "source": [
    "##### Assignment 2: Processing Records and Selective Unpacking with List Comprehension"
   ]
  },
  {
   "cell_type": "code",
   "execution_count": 6,
   "id": "b5dd59c0-1d39-4e76-90f1-142d60e01867",
   "metadata": {},
   "outputs": [],
   "source": [
    "#  **Create a list of tuples, where each tuple represents a book with its title, author, and publication year:\n",
    "# Use List Comprehension to create a new list called modern_books.\n",
    "# Inside the list comprehension:\n",
    "# Unpack each tuple from the books list into three separate variables (title, author, year).\n",
    "# Include a condition in the list comprehension to select only books published in 1950 or later (i.e., if year >= 1950).\n",
    "# For the books that meet the condition, create a new tuple that packs just the title and the year.\n",
    "# Print the original books list.\n",
    "# Print the modern_books list created by the list comprehension."
   ]
  },
  {
   "cell_type": "code",
   "execution_count": 7,
   "id": "419bce98-11bc-4cda-b282-1e86036c5cf0",
   "metadata": {},
   "outputs": [
    {
     "data": {
      "text/plain": [
       "[(\"The Hitchhiker's Guide to the Galaxy\", 'Douglas Adams', 1979),\n",
       " ('Pride and Prejudice', 'Jane Austen', 1813),\n",
       " ('1984', 'George Orwell', 1949),\n",
       " ('Brave New World', 'Aldous Huxley', 1932),\n",
       " ('The Lord of the Rings', 'J.R.R. Tolkien', 1954),\n",
       " ('To Kill a Mockingbird', 'Harper Lee', 1960)]"
      ]
     },
     "execution_count": 7,
     "metadata": {},
     "output_type": "execute_result"
    }
   ],
   "source": [
    "books = [\n",
    "    (\"The Hitchhiker's Guide to the Galaxy\", \"Douglas Adams\", 1979),\n",
    "    (\"Pride and Prejudice\", \"Jane Austen\", 1813),\n",
    "    (\"1984\", \"George Orwell\", 1949),\n",
    "    (\"Brave New World\", \"Aldous Huxley\", 1932),\n",
    "    (\"The Lord of the Rings\", \"J.R.R. Tolkien\", 1954),\n",
    "    (\"To Kill a Mockingbird\", \"Harper Lee\", 1960)\n",
    "]\n",
    "books"
   ]
  },
  {
   "cell_type": "code",
   "execution_count": 8,
   "id": "7b4f4318-f447-4087-b0d2-80b313ab6109",
   "metadata": {},
   "outputs": [
    {
     "data": {
      "text/plain": [
       "[(\"The Hitchhiker's Guide to the Galaxy\", 'Douglas Adams', 1979),\n",
       " ('The Lord of the Rings', 'J.R.R. Tolkien', 1954),\n",
       " ('To Kill a Mockingbird', 'Harper Lee', 1960)]"
      ]
     },
     "execution_count": 8,
     "metadata": {},
     "output_type": "execute_result"
    }
   ],
   "source": [
    "modern_books = [(title, author, year) for title, author, year  in books if year >= 1950]\n",
    "modern_books"
   ]
  },
  {
   "cell_type": "code",
   "execution_count": 9,
   "id": "57383aac-e3d9-4b81-b582-9c512e8845b8",
   "metadata": {},
   "outputs": [
    {
     "data": {
      "text/plain": [
       "[(\"The Hitchhiker's Guide to the Galaxy\", 1979),\n",
       " ('The Lord of the Rings', 1954),\n",
       " ('To Kill a Mockingbird', 1960)]"
      ]
     },
     "execution_count": 9,
     "metadata": {},
     "output_type": "execute_result"
    }
   ],
   "source": [
    "modern_books = [(title, year) for title, author, year  in books if year >= 1950]\n",
    "modern_books"
   ]
  },
  {
   "cell_type": "code",
   "execution_count": null,
   "id": "099f3d11-b6ad-4cdd-a897-69bc1eae33b0",
   "metadata": {},
   "outputs": [],
   "source": []
  },
  {
   "cell_type": "code",
   "execution_count": 10,
   "id": "0aecba2e-ebf7-484f-a918-126257fb34dd",
   "metadata": {},
   "outputs": [],
   "source": [
    "# Create a list of numbers:\n",
    "# Use the max() function to find the largest number in data_points.\n",
    "# Use the min() function to find the smallest number in data_points.\n",
    "# Use the len() function to find the total count of elements in data_points.\n",
    "# Use slicing to extract a middle portion of the list (e.g., elements from index 3 up to index 7). \n",
    "# Store this slice in a variable (this variable will itself be a list).\n",
    "# Create a single tuple called list_summary_data by packing the four results from steps 2, 3, 4, and 5 into it (in that order). \n",
    "# The tuple will contain two integers, one integer length, and one list.\n",
    "# Unpack the list_summary_data tuple into four distinct variables with meaningful names, for example: \n",
    "# highest_value, lowest_value, total_count, middle_segment.\n",
    "# Print the values of the four unpacked variables to verify you correctly extracted each piece of data."
   ]
  },
  {
   "cell_type": "code",
   "execution_count": 11,
   "id": "1ee72d05-8976-4ad6-a6d2-9c0cdbcf9880",
   "metadata": {},
   "outputs": [
    {
     "data": {
      "text/plain": [
       "[45, 88, 12, 90, 5, 73, 29, 61, 95, 38]"
      ]
     },
     "execution_count": 11,
     "metadata": {},
     "output_type": "execute_result"
    }
   ],
   "source": [
    "data_points = [45, 88, 12, 90, 5, 73, 29, 61, 95, 38]\n",
    "data_points"
   ]
  },
  {
   "cell_type": "code",
   "execution_count": 12,
   "id": "2e36aad6-d61d-46c8-9334-12ea14c50ec5",
   "metadata": {},
   "outputs": [
    {
     "data": {
      "text/plain": [
       "95"
      ]
     },
     "execution_count": 12,
     "metadata": {},
     "output_type": "execute_result"
    }
   ],
   "source": [
    "list1 = max(data_points)\n",
    "list1"
   ]
  },
  {
   "cell_type": "code",
   "execution_count": 13,
   "id": "df35dd8c-50df-471f-81a5-17a2e4e373e8",
   "metadata": {},
   "outputs": [
    {
     "data": {
      "text/plain": [
       "5"
      ]
     },
     "execution_count": 13,
     "metadata": {},
     "output_type": "execute_result"
    }
   ],
   "source": [
    "list2 = min(data_points)\n",
    "list2"
   ]
  },
  {
   "cell_type": "code",
   "execution_count": 14,
   "id": "da16c940-58d3-4864-ad90-c884912c0048",
   "metadata": {},
   "outputs": [
    {
     "data": {
      "text/plain": [
       "10"
      ]
     },
     "execution_count": 14,
     "metadata": {},
     "output_type": "execute_result"
    }
   ],
   "source": [
    "list3 = len(data_points)\n",
    "list3"
   ]
  },
  {
   "cell_type": "code",
   "execution_count": 15,
   "id": "a93f1cc0-87a0-4d1e-bd61-42e58ee16886",
   "metadata": {},
   "outputs": [
    {
     "data": {
      "text/plain": [
       "[90, 5, 73, 29, 61]"
      ]
     },
     "execution_count": 15,
     "metadata": {},
     "output_type": "execute_result"
    }
   ],
   "source": [
    "list4 = data_points[3:8]\n",
    "list4"
   ]
  },
  {
   "cell_type": "code",
   "execution_count": 16,
   "id": "332f888b-fb1a-4932-bca3-f71664dcafe1",
   "metadata": {},
   "outputs": [
    {
     "data": {
      "text/plain": [
       "[90, 5, 73, 29, 61]"
      ]
     },
     "execution_count": 16,
     "metadata": {},
     "output_type": "execute_result"
    }
   ],
   "source": [
    "list5 = data_points[3:8]\n",
    "list5 "
   ]
  },
  {
   "cell_type": "code",
   "execution_count": 17,
   "id": "207f5752-aa59-4ba4-9447-888ba7a9e55b",
   "metadata": {},
   "outputs": [
    {
     "data": {
      "text/plain": [
       "(5, 10, [90, 5, 73, 29, 61], [90, 5, 73, 29, 61])"
      ]
     },
     "execution_count": 17,
     "metadata": {},
     "output_type": "execute_result"
    }
   ],
   "source": [
    "list_summary_data =( \n",
    "    list2, \n",
    "    list3, \n",
    "    list4, \n",
    "    list5)\n",
    "list_summary_data"
   ]
  },
  {
   "cell_type": "code",
   "execution_count": 18,
   "id": "ee7a3e53-261b-45ea-934b-c439a2f66cf0",
   "metadata": {},
   "outputs": [],
   "source": [
    "highest_value, lowest_value, total_count, middle_segment = list_summary_data"
   ]
  },
  {
   "cell_type": "code",
   "execution_count": 19,
   "id": "b16ac03f-74aa-4579-bda2-2ec45e94a941",
   "metadata": {},
   "outputs": [
    {
     "data": {
      "text/plain": [
       "5"
      ]
     },
     "execution_count": 19,
     "metadata": {},
     "output_type": "execute_result"
    }
   ],
   "source": [
    "highest_value"
   ]
  },
  {
   "cell_type": "code",
   "execution_count": 20,
   "id": "a3462c78-7662-4cba-b502-1456b8b956fa",
   "metadata": {},
   "outputs": [
    {
     "data": {
      "text/plain": [
       "10"
      ]
     },
     "execution_count": 20,
     "metadata": {},
     "output_type": "execute_result"
    }
   ],
   "source": [
    "lowest_value"
   ]
  },
  {
   "cell_type": "code",
   "execution_count": 21,
   "id": "29184e83-aaf0-4734-b8ad-db7292bc7f07",
   "metadata": {},
   "outputs": [
    {
     "data": {
      "text/plain": [
       "[90, 5, 73, 29, 61]"
      ]
     },
     "execution_count": 21,
     "metadata": {},
     "output_type": "execute_result"
    }
   ],
   "source": [
    "total_count"
   ]
  },
  {
   "cell_type": "code",
   "execution_count": 22,
   "id": "9d9cdfca-30be-43e8-aa58-4b838a0f9175",
   "metadata": {},
   "outputs": [
    {
     "data": {
      "text/plain": [
       "[90, 5, 73, 29, 61]"
      ]
     },
     "execution_count": 22,
     "metadata": {},
     "output_type": "execute_result"
    }
   ],
   "source": [
    "middle_segment"
   ]
  },
  {
   "cell_type": "markdown",
   "id": "c525b3f7-83ba-4f14-8292-be8158b6fbc7",
   "metadata": {},
   "source": [
    "## Set Practice"
   ]
  },
  {
   "cell_type": "markdown",
   "id": "6980d64e-5c42-4241-9065-b56df62062d6",
   "metadata": {},
   "source": [
    "##### Assignment 1: Inventory Analysis - Unique Items and Counts"
   ]
  },
  {
   "cell_type": "code",
   "execution_count": 23,
   "id": "19eee1db-4359-4b6a-9bf7-b9cff7f5581d",
   "metadata": {},
   "outputs": [],
   "source": [
    "# you are given a list representing items in multiple shipments:\n",
    "# Convert the shipment_items list into a Set called unique_items to easily get rid of duplicates.\n",
    "# Print the unique_items set.\n",
    "# Create an empty Dictionary called item_counts.\n",
    "# Iterate through the unique_items set (you can convert the set back to a list if needed for ordered iteration, or just iterate directly).\n",
    "# For each unique item:\n",
    "# Count how many times this unique item appears in the original shipment_items list.\n",
    "# Add the unique item as a key to the item_counts dictionary, and its count as the value.\n",
    "# Print the item_counts dictionary.\n"
   ]
  },
  {
   "cell_type": "code",
   "execution_count": 24,
   "id": "3255895b-b1a2-4444-9657-9e0a1d7d78f1",
   "metadata": {},
   "outputs": [
    {
     "data": {
      "text/plain": [
       "['widget A',\n",
       " 'widget B',\n",
       " 'widget A',\n",
       " 'widget C',\n",
       " 'widget B',\n",
       " 'widget A',\n",
       " 'widget D',\n",
       " 'widget C',\n",
       " 'widget A']"
      ]
     },
     "execution_count": 24,
     "metadata": {},
     "output_type": "execute_result"
    }
   ],
   "source": [
    "shipment_items = ['widget A', 'widget B', 'widget A', 'widget C', 'widget B', 'widget A', 'widget D', 'widget C', 'widget A']\n",
    "shipment_items"
   ]
  },
  {
   "cell_type": "code",
   "execution_count": 25,
   "id": "8f91c7c8-625a-4355-a353-f04e8bd16174",
   "metadata": {},
   "outputs": [
    {
     "data": {
      "text/plain": [
       "{'widget A', 'widget B', 'widget C', 'widget D'}"
      ]
     },
     "execution_count": 25,
     "metadata": {},
     "output_type": "execute_result"
    }
   ],
   "source": [
    "unique_set = set(shipment_items)\n",
    "unique_set"
   ]
  },
  {
   "cell_type": "code",
   "execution_count": 26,
   "id": "2c6f2a87-62aa-4b7b-ba64-c4b1fab786ac",
   "metadata": {},
   "outputs": [],
   "source": [
    "item_counts = {}"
   ]
  },
  {
   "cell_type": "code",
   "execution_count": 27,
   "id": "a8f3847f-741a-4a28-b8c6-84b7a54e0c87",
   "metadata": {},
   "outputs": [
    {
     "name": "stdout",
     "output_type": "stream",
     "text": [
      "widget C\n",
      "widget A\n",
      "widget D\n",
      "widget B\n"
     ]
    }
   ],
   "source": [
    "for check in unique_set:\n",
    "    print(check)"
   ]
  },
  {
   "cell_type": "code",
   "execution_count": 28,
   "id": "b2eeddcf-aa1a-4d4a-8c87-2556f264c9f5",
   "metadata": {},
   "outputs": [
    {
     "data": {
      "text/plain": [
       "4"
      ]
     },
     "execution_count": 28,
     "metadata": {},
     "output_type": "execute_result"
    }
   ],
   "source": [
    "shipment_items.count('widget A')"
   ]
  },
  {
   "cell_type": "code",
   "execution_count": 29,
   "id": "cfac364b-7365-43b0-9eac-7edb3369c4e0",
   "metadata": {},
   "outputs": [
    {
     "data": {
      "text/plain": [
       "2"
      ]
     },
     "execution_count": 29,
     "metadata": {},
     "output_type": "execute_result"
    }
   ],
   "source": [
    "shipment_items.count('widget B')"
   ]
  },
  {
   "cell_type": "code",
   "execution_count": 30,
   "id": "53c55c29-476c-4b7d-81b8-28ad8e161bb0",
   "metadata": {},
   "outputs": [
    {
     "data": {
      "text/plain": [
       "2"
      ]
     },
     "execution_count": 30,
     "metadata": {},
     "output_type": "execute_result"
    }
   ],
   "source": [
    "shipment_items.count('widget C')"
   ]
  },
  {
   "cell_type": "code",
   "execution_count": 31,
   "id": "6e69d6b5-a091-4429-a7b5-0e62b2268020",
   "metadata": {},
   "outputs": [
    {
     "data": {
      "text/plain": [
       "1"
      ]
     },
     "execution_count": 31,
     "metadata": {},
     "output_type": "execute_result"
    }
   ],
   "source": [
    "shipment_items.count('widget D')"
   ]
  },
  {
   "cell_type": "code",
   "execution_count": 32,
   "id": "0f11076d-bc23-4cba-aa6e-c128c90f97f7",
   "metadata": {},
   "outputs": [
    {
     "data": {
      "text/plain": [
       "(4, 2, 2, 1)"
      ]
     },
     "execution_count": 32,
     "metadata": {},
     "output_type": "execute_result"
    }
   ],
   "source": [
    "value = shipment_items.count('widget A'),  shipment_items.count('widget B'), shipment_items.count('widget C'), shipment_items.count('widget D')\n",
    "value"
   ]
  },
  {
   "cell_type": "code",
   "execution_count": 33,
   "id": "cf1e71ef-99e1-4ff2-b6ae-eba89f4f681e",
   "metadata": {},
   "outputs": [
    {
     "data": {
      "text/plain": [
       "{'widget C': 4, 'widget A': 2, 'widget D': 2, 'widget B': 1}"
      ]
     },
     "execution_count": 33,
     "metadata": {},
     "output_type": "execute_result"
    }
   ],
   "source": [
    "item_counts = dict(zip(unique_set, value))\n",
    "item_counts"
   ]
  },
  {
   "cell_type": "code",
   "execution_count": 34,
   "id": "52ade90d-256e-4c03-8d1d-9a5622cca165",
   "metadata": {},
   "outputs": [
    {
     "name": "stdout",
     "output_type": "stream",
     "text": [
      "{'unique_set': ['widget C', 'widget A', 'widget D', 'widget B'], 'value': [4, 2, 2, 1]}\n"
     ]
    }
   ],
   "source": [
    "item_counts = {\n",
    "    'unique_set': list(item_counts.keys()),  # List of items (keys)\n",
    "    'value': list(item_counts.values())  # List of counts (values)\n",
    "}\n",
    "\n",
    "\n",
    "print(item_counts)\n"
   ]
  },
  {
   "cell_type": "code",
   "execution_count": 35,
   "id": "9a22cb1d-d936-47e9-9977-b179c44bb5a4",
   "metadata": {},
   "outputs": [
    {
     "data": {
      "text/html": [
       "<div>\n",
       "<style scoped>\n",
       "    .dataframe tbody tr th:only-of-type {\n",
       "        vertical-align: middle;\n",
       "    }\n",
       "\n",
       "    .dataframe tbody tr th {\n",
       "        vertical-align: top;\n",
       "    }\n",
       "\n",
       "    .dataframe thead th {\n",
       "        text-align: right;\n",
       "    }\n",
       "</style>\n",
       "<table border=\"1\" class=\"dataframe\">\n",
       "  <thead>\n",
       "    <tr style=\"text-align: right;\">\n",
       "      <th></th>\n",
       "      <th>unique_set</th>\n",
       "      <th>value</th>\n",
       "    </tr>\n",
       "  </thead>\n",
       "  <tbody>\n",
       "    <tr>\n",
       "      <th>0</th>\n",
       "      <td>widget C</td>\n",
       "      <td>4</td>\n",
       "    </tr>\n",
       "    <tr>\n",
       "      <th>1</th>\n",
       "      <td>widget A</td>\n",
       "      <td>2</td>\n",
       "    </tr>\n",
       "    <tr>\n",
       "      <th>2</th>\n",
       "      <td>widget D</td>\n",
       "      <td>2</td>\n",
       "    </tr>\n",
       "    <tr>\n",
       "      <th>3</th>\n",
       "      <td>widget B</td>\n",
       "      <td>1</td>\n",
       "    </tr>\n",
       "  </tbody>\n",
       "</table>\n",
       "</div>"
      ],
      "text/plain": [
       "  unique_set  value\n",
       "0   widget C      4\n",
       "1   widget A      2\n",
       "2   widget D      2\n",
       "3   widget B      1"
      ]
     },
     "execution_count": 35,
     "metadata": {},
     "output_type": "execute_result"
    }
   ],
   "source": [
    "import pandas as pd\n",
    "df=pd.DataFrame(item_counts)\n",
    "df"
   ]
  },
  {
   "cell_type": "markdown",
   "id": "dc5253e6-1ea5-4560-8e96-5b3f70748669",
   "metadata": {},
   "source": [
    "##### Assignment 3: Restructuring Student Data"
   ]
  },
  {
   "cell_type": "code",
   "execution_count": 36,
   "id": "6ee920c3-41e7-4062-ada8-7fe5d9f09605",
   "metadata": {},
   "outputs": [],
   "source": [
    "# You are given the dictionary with lists\n",
    "\n",
    "# Assume the lists for 'name', 'Age', and 'GPA' are all the same length and correspond to each other by index\n",
    "#  (e.g., 'beckt' is 25 years old with a 4.2 GPA).\n",
    "# Determine the number of students (which is the length of any of the lists, e.g.,\n",
    "# Create an empty List called students_list_of_dicts.\n",
    "# Iterate using a range() from 0 up to (but not including) the number of students. This index will represent the position of each student's data across the lists.\n",
    "# Inside the iteration, for each index:\n",
    "# Create a new Dictionary representing a single student.\n",
    "# Access the student's name from student_data_by_category['name'] using the current index, and add it to the new student dictionary with the key 'name'.\n",
    "# Access the student's age from student_data_by_category['Age'] using the current index, and add it with the key 'age'.\n",
    "# Access the student's GPA from student_data_by_category['GPA'] using the current index, and add it with the key 'gpa'.\n",
    "# Append this new student dictionary to the students_list_of_dicts.\n",
    "# Print the final students_list_of_dicts."
   ]
  },
  {
   "cell_type": "code",
   "execution_count": 37,
   "id": "b88c3875-9dce-4db2-9cb3-9f281fe4effa",
   "metadata": {},
   "outputs": [
    {
     "data": {
      "text/plain": [
       "{'name': ['beckt', 'musa', 'lawal', 'amina'],\n",
       " 'Age': [25, 30, 23, 28],\n",
       " 'GPA': [4.2, 3.9, 4.1, 3.5]}"
      ]
     },
     "execution_count": 37,
     "metadata": {},
     "output_type": "execute_result"
    }
   ],
   "source": [
    "student_data_by_category = {\n",
    "    'name': ['beckt', 'musa', 'lawal', 'amina'],\n",
    "    'Age': [25, 30, 23, 28],\n",
    "    'GPA': [4.2, 3.9, 4.1, 3.5]\n",
    "}\n",
    "student_data_by_category"
   ]
  },
  {
   "cell_type": "code",
   "execution_count": 38,
   "id": "00419251-5caa-4cd7-9d10-e7f4af4037c7",
   "metadata": {},
   "outputs": [
    {
     "data": {
      "text/plain": [
       "4"
      ]
     },
     "execution_count": 38,
     "metadata": {},
     "output_type": "execute_result"
    }
   ],
   "source": [
    "len(student_data_by_category['name'])"
   ]
  },
  {
   "cell_type": "code",
   "execution_count": 39,
   "id": "66f9cdce-a563-4040-b11e-d404dfeee208",
   "metadata": {},
   "outputs": [],
   "source": [
    "students_list_of_dicts = []"
   ]
  },
  {
   "cell_type": "code",
   "execution_count": 40,
   "id": "5b951140-642e-410c-99d3-471d70e1468b",
   "metadata": {},
   "outputs": [
    {
     "name": "stdout",
     "output_type": "stream",
     "text": [
      "0\n",
      "1\n",
      "2\n",
      "3\n"
     ]
    }
   ],
   "source": [
    "for i in range(len(student_data_by_category['name'])):\n",
    "    print(i)"
   ]
  },
  {
   "cell_type": "code",
   "execution_count": 41,
   "id": "af262ef1-90ae-4e24-b508-2fae6190be02",
   "metadata": {},
   "outputs": [
    {
     "name": "stdout",
     "output_type": "stream",
     "text": [
      "{'name': 'amina', 'Age': 28, 'GPA': 3.5}\n"
     ]
    }
   ],
   "source": [
    "for i in range(len(student_data_by_category['name'])):\n",
    "    single_student = {\n",
    "        \"name\" : student_data_by_category['name'][i],\n",
    "        \"Age\"  : student_data_by_category['Age'][i],\n",
    "        \"GPA\"  : student_data_by_category['GPA'][i]\n",
    "    }\n",
    "    students_list_of_dicts.append(single_student)\n",
    "print(single_student)"
   ]
  },
  {
   "cell_type": "code",
   "execution_count": 42,
   "id": "5864f8ba-83c9-4006-9092-679c39a4a0f6",
   "metadata": {},
   "outputs": [
    {
     "data": {
      "text/plain": [
       "[{'name': 'beckt', 'Age': 25, 'GPA': 4.2},\n",
       " {'name': 'musa', 'Age': 30, 'GPA': 3.9},\n",
       " {'name': 'lawal', 'Age': 23, 'GPA': 4.1},\n",
       " {'name': 'amina', 'Age': 28, 'GPA': 3.5}]"
      ]
     },
     "execution_count": 42,
     "metadata": {},
     "output_type": "execute_result"
    }
   ],
   "source": [
    "students_list_of_dicts"
   ]
  },
  {
   "cell_type": "code",
   "execution_count": null,
   "id": "fdfb48f0-8100-49d4-b180-1c3f14d7c4bd",
   "metadata": {},
   "outputs": [],
   "source": []
  }
 ],
 "metadata": {
  "kernelspec": {
   "display_name": "Python 3 (ipykernel)",
   "language": "python",
   "name": "python3"
  },
  "language_info": {
   "codemirror_mode": {
    "name": "ipython",
    "version": 3
   },
   "file_extension": ".py",
   "mimetype": "text/x-python",
   "name": "python",
   "nbconvert_exporter": "python",
   "pygments_lexer": "ipython3",
   "version": "3.12.7"
  }
 },
 "nbformat": 4,
 "nbformat_minor": 5
}
