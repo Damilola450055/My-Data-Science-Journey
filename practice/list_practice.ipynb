{
 "cells": [
  {
   "cell_type": "markdown",
   "id": "dd6471d0-5353-4e5a-b8cb-7009dcca3118",
   "metadata": {},
   "source": [
    "##### Assignment 1: Mastering List Modifications"
   ]
  },
  {
   "cell_type": "code",
   "execution_count": 1,
   "id": "554bc2d4-eec4-435a-b2c4-d67fbaad21c9",
   "metadata": {},
   "outputs": [],
   "source": [
    "# list of programming languages, and you need to perform a series of specific modifications \n",
    "\n",
    "# Start with the list: languages = ['Python', 'Java', 'C++', 'JavaScript', 'Ruby', 'Go']\n",
    "# Modify: Change 'C++' to 'C#' using indexing.\n",
    "# Append: Add 'Swift' to the end of the list.\n",
    "# Insert: Insert 'TypeScript' at index 3.\n",
    "# Remove by Value: Remove 'Ruby' from the list using .remove().\n",
    "# Remove by Index: Remove the item at index 1 using .pop(). Store the removed item in a variable and print it.\n",
    "# Slice and Delete: Delete the last two elements of the list using slicing and del.\n",
    "# Print the list after each modification step (steps 2, 3, 4, 5, 6, and 7) to see the changes."
   ]
  },
  {
   "cell_type": "code",
   "execution_count": 2,
   "id": "df2862e7-8e05-4867-85bc-ca43591c8eae",
   "metadata": {},
   "outputs": [],
   "source": [
    "languages = ['Python', 'Java', 'C++', 'JavaScript', 'Ruby', 'Go']"
   ]
  },
  {
   "cell_type": "code",
   "execution_count": 3,
   "id": "b8660f31-bc5e-45ad-8a23-438ac30b1894",
   "metadata": {},
   "outputs": [
    {
     "name": "stdout",
     "output_type": "stream",
     "text": [
      "['Python', 'Java', 'C#', 'JavaScript', 'Ruby', 'Go']\n"
     ]
    }
   ],
   "source": [
    "languages[2] = 'C#'\n",
    "print(languages)"
   ]
  },
  {
   "cell_type": "code",
   "execution_count": 4,
   "id": "9e84a8a5-b08f-488d-af4c-02749567668d",
   "metadata": {},
   "outputs": [
    {
     "name": "stdout",
     "output_type": "stream",
     "text": [
      "['Python', 'Java', 'C#', 'JavaScript', 'Ruby', 'Go', 'swift']\n"
     ]
    }
   ],
   "source": [
    "languages.append('swift')\n",
    "print(languages)"
   ]
  },
  {
   "cell_type": "code",
   "execution_count": 5,
   "id": "5861b52f-9dd1-4497-9d99-d8122747e660",
   "metadata": {},
   "outputs": [
    {
     "name": "stdout",
     "output_type": "stream",
     "text": [
      "['Python', 'Java', 'C#', 'TypeScipt', 'JavaScript', 'Ruby', 'Go', 'swift']\n"
     ]
    }
   ],
   "source": [
    "languages.insert(3, 'TypeScipt')\n",
    "print(languages)"
   ]
  },
  {
   "cell_type": "code",
   "execution_count": 6,
   "id": "2d43e035-3b22-4356-9d8a-0a0afc5553cc",
   "metadata": {},
   "outputs": [
    {
     "name": "stdout",
     "output_type": "stream",
     "text": [
      "['Python', 'Java', 'C#', 'TypeScipt', 'JavaScript', 'Go', 'swift']\n"
     ]
    }
   ],
   "source": [
    "languages.remove('Ruby')\n",
    "print(languages)"
   ]
  },
  {
   "cell_type": "code",
   "execution_count": 7,
   "id": "54a010b1-898d-4396-a739-47260fb1fd37",
   "metadata": {},
   "outputs": [
    {
     "name": "stdout",
     "output_type": "stream",
     "text": [
      "['Python', 'C#', 'TypeScipt', 'JavaScript', 'Go', 'swift']\n",
      "['Java']\n"
     ]
    }
   ],
   "source": [
    "languages.pop(1)\n",
    "print(languages)\n",
    "language2 = ['Java']\n",
    "print(language2)"
   ]
  },
  {
   "cell_type": "code",
   "execution_count": 8,
   "id": "57ee62e6-e409-4bd8-88c8-971aef7ab003",
   "metadata": {},
   "outputs": [
    {
     "name": "stdout",
     "output_type": "stream",
     "text": [
      "['Python', 'C#', 'TypeScipt', 'JavaScript']\n"
     ]
    }
   ],
   "source": [
    "del languages [4:]\n",
    "print(languages)"
   ]
  },
  {
   "cell_type": "markdown",
   "id": "18c7bdfd-96cf-435c-b855-88e65533ed17",
   "metadata": {},
   "source": [
    "##### Assignment 2: Combining and Extending Lists with Slices"
   ]
  },
  {
   "cell_type": "code",
   "execution_count": 9,
   "id": "2330e0af-c216-41c2-bda9-90476714cbc2",
   "metadata": {},
   "outputs": [],
   "source": [
    "# using slicing and list concatenation/extension to build new lists from existing ones.\n",
    "\n",
    "# Create two lists: list1 = list(range(10)) (numbers 0 to 9) and list2 = [100, 200, 300, 400, 500].\n",
    "# Concatenate Slices: Create a new_list by concatenating a slice of list1 (from index 2 up to, but not including, index 5) \n",
    "# and a slice of list2 (from index 1 up to, but not including, index 4) using the + operator. Print new_list.\n",
    "# Extend with Reversed Slice: Take a slice of list1 from index 6 onwards. Reverse this slice using [::-1]. \n",
    "# Use the .extend() method on new_list to add the elements of this reversed slice to the end of new_list.\n",
    "# Print the final new_list."
   ]
  },
  {
   "cell_type": "code",
   "execution_count": 10,
   "id": "62d1980c-ef00-438a-8b92-92550b7c4cf7",
   "metadata": {},
   "outputs": [
    {
     "data": {
      "text/plain": [
       "[0, 1, 2, 3, 4, 5, 6, 7, 8, 9]"
      ]
     },
     "execution_count": 10,
     "metadata": {},
     "output_type": "execute_result"
    }
   ],
   "source": [
    "list1 = list(range(10))\n",
    "list1"
   ]
  },
  {
   "cell_type": "code",
   "execution_count": 11,
   "id": "c2c034fa-3e9b-41b3-949d-490b549b1268",
   "metadata": {},
   "outputs": [
    {
     "data": {
      "text/plain": [
       "[100, 200, 300, 400, 500]"
      ]
     },
     "execution_count": 11,
     "metadata": {},
     "output_type": "execute_result"
    }
   ],
   "source": [
    "list2 = [100, 200, 300, 400, 500]\n",
    "list2"
   ]
  },
  {
   "cell_type": "code",
   "execution_count": 12,
   "id": "434b3263-22e7-4789-a9f9-538d48e3abb1",
   "metadata": {},
   "outputs": [
    {
     "name": "stdout",
     "output_type": "stream",
     "text": [
      "[2, 3, 4, 200, 300, 400]\n"
     ]
    }
   ],
   "source": [
    "new_list = list1[2:5] + list2[1:4]\n",
    "print(new_list)"
   ]
  },
  {
   "cell_type": "code",
   "execution_count": 13,
   "id": "c52351e4-3eb7-487b-ba4c-937162741e67",
   "metadata": {},
   "outputs": [
    {
     "name": "stdout",
     "output_type": "stream",
     "text": [
      "[9, 8, 7, 6]\n"
     ]
    }
   ],
   "source": [
    "reverse = list1[6:]\n",
    "reverse_list = reverse[::-1]\n",
    "print(reverse_list)"
   ]
  },
  {
   "cell_type": "code",
   "execution_count": 14,
   "id": "b56ccf65-a44f-4294-9c43-b0d02c738811",
   "metadata": {},
   "outputs": [
    {
     "data": {
      "text/plain": [
       "[2, 3, 4, 200, 300, 400, 9, 8, 7, 6]"
      ]
     },
     "execution_count": 14,
     "metadata": {},
     "output_type": "execute_result"
    }
   ],
   "source": [
    "new_list.extend(reverse_list)\n",
    "new_list"
   ]
  },
  {
   "cell_type": "markdown",
   "id": "137e780d-89a4-4eb6-abf6-1894f7240acd",
   "metadata": {},
   "source": [
    "##### Assignment 3: Advanced List Comprehension"
   ]
  },
  {
   "cell_type": "code",
   "execution_count": 15,
   "id": "bb1f0424-b107-4a2e-b724-32b6fc745764",
   "metadata": {},
   "outputs": [],
   "source": [
    "# Use list comprehension to create a new list by transforming and filtering numbers from a range.\n",
    "\n",
    "# Generate a sequence of numbers from 50 to 100 (inclusive) using range().\n",
    "# Use list comprehension to create a new list called transformed_numbers.\n",
    "# For each number in the range (50 to 100):\n",
    "# If the number is divisible by 5 (use the modulus operator %), include the number squared (number ** 2) in the transformed_numbers list.\n",
    "# If the number is not divisible by 5, do not include it in the list.\n",
    "# Print the transformed_numbers list."
   ]
  },
  {
   "cell_type": "code",
   "execution_count": 16,
   "id": "b3d03b54-38e1-4559-91c1-f00163b55b19",
   "metadata": {},
   "outputs": [
    {
     "data": {
      "text/plain": [
       "[50,\n",
       " 51,\n",
       " 52,\n",
       " 53,\n",
       " 54,\n",
       " 55,\n",
       " 56,\n",
       " 57,\n",
       " 58,\n",
       " 59,\n",
       " 60,\n",
       " 61,\n",
       " 62,\n",
       " 63,\n",
       " 64,\n",
       " 65,\n",
       " 66,\n",
       " 67,\n",
       " 68,\n",
       " 69,\n",
       " 70,\n",
       " 71,\n",
       " 72,\n",
       " 73,\n",
       " 74,\n",
       " 75,\n",
       " 76,\n",
       " 77,\n",
       " 78,\n",
       " 79,\n",
       " 80,\n",
       " 81,\n",
       " 82,\n",
       " 83,\n",
       " 84,\n",
       " 85,\n",
       " 86,\n",
       " 87,\n",
       " 88,\n",
       " 89,\n",
       " 90,\n",
       " 91,\n",
       " 92,\n",
       " 93,\n",
       " 94,\n",
       " 95,\n",
       " 96,\n",
       " 97,\n",
       " 98,\n",
       " 99,\n",
       " 100]"
      ]
     },
     "execution_count": 16,
     "metadata": {},
     "output_type": "execute_result"
    }
   ],
   "source": [
    "number  = list(range(50, 101))\n",
    "number"
   ]
  },
  {
   "cell_type": "code",
   "execution_count": 17,
   "id": "b4a63474-bfe2-4306-ac19-f0d0a4e41d1f",
   "metadata": {},
   "outputs": [
    {
     "data": {
      "text/plain": [
       "[50, 55, 60, 65, 70, 75, 80, 85, 90, 95, 100]"
      ]
     },
     "execution_count": 17,
     "metadata": {},
     "output_type": "execute_result"
    }
   ],
   "source": [
    "modulus_operator = [number for number in range(50, 101) if number %5 ==0]\n",
    "modulus_operator\n"
   ]
  },
  {
   "cell_type": "code",
   "execution_count": 18,
   "id": "de8c9069-73e6-479a-b9de-8a7f686eaf95",
   "metadata": {},
   "outputs": [
    {
     "data": {
      "text/plain": [
       "[2500, 3025, 3600, 4225, 4900, 5625, 6400, 7225, 8100, 9025, 10000]"
      ]
     },
     "execution_count": 18,
     "metadata": {},
     "output_type": "execute_result"
    }
   ],
   "source": [
    "number_squared = [number **2 for number in modulus_operator]\n",
    "number_squared"
   ]
  },
  {
   "cell_type": "code",
   "execution_count": 19,
   "id": "07927be5-5365-4854-85e5-a480c37cc666",
   "metadata": {},
   "outputs": [
    {
     "data": {
      "text/plain": [
       "[2500, 3025, 3600, 4225, 4900, 5625, 6400, 7225, 8100, 9025, 10000]"
      ]
     },
     "execution_count": 19,
     "metadata": {},
     "output_type": "execute_result"
    }
   ],
   "source": [
    "transformed_numbers = number_squared\n",
    "transformed_numbers"
   ]
  },
  {
   "cell_type": "markdown",
   "id": "dea2af5d-deec-4fa3-bd6b-57540aab078c",
   "metadata": {},
   "source": [
    "##### Assignment 4: Slicing and Reversing Parts of a List"
   ]
  },
  {
   "cell_type": "code",
   "execution_count": 20,
   "id": "f2408f66-e97b-4527-a7df-20fd67e9b64e",
   "metadata": {},
   "outputs": [],
   "source": [
    "# Combine slicing, negative indexing, and reversing on parts of a list.\n",
    "\n",
    "# Create a list: data = (numbers 0 to 19).\n",
    "# Print the original data list.\n",
    "# Extract Slice 1: Get a slice containing elements from index 5 up to index 10 (inclusive of 5, exclusive of 10).\n",
    "# Extract Slice 2: Get a slice containing the last 7 elements using negative indexing.\n",
    "# Combine Slices: Concatenate the results of Slice 1 and Slice 2 into a new list called combined_slice_list. Print combined_slice_list.\n",
    "# Reverse a Portion: Reverse only the elements in combined_slice_list starting from index 4 up to the end of the list. You can do this by slicing the part you want to reverse (combined_slice_list[4:]), reversing that slice using [::-1], and then assigning the reversed slice back to the same position in the original list: combined_slice_list[4:] = combined_slice_list[4:][::-1].\n",
    "# Print the combined_slice_list after the partial reversal."
   ]
  },
  {
   "cell_type": "code",
   "execution_count": 21,
   "id": "5a3ece8f-d4e7-4046-9ad6-58acc4319709",
   "metadata": {},
   "outputs": [
    {
     "data": {
      "text/plain": [
       "[0, 1, 2, 3, 4, 5, 6, 7, 8, 9, 10, 11, 12, 13, 14, 15, 16, 17, 18, 19]"
      ]
     },
     "execution_count": 21,
     "metadata": {},
     "output_type": "execute_result"
    }
   ],
   "source": [
    "data_list = list(range(0, 20))\n",
    "data_list"
   ]
  },
  {
   "cell_type": "code",
   "execution_count": 22,
   "id": "4682fd28-cd92-490c-b42c-8f2346d0da61",
   "metadata": {},
   "outputs": [
    {
     "data": {
      "text/plain": [
       "[5, 6, 7, 8, 9]"
      ]
     },
     "execution_count": 22,
     "metadata": {},
     "output_type": "execute_result"
    }
   ],
   "source": [
    "Extract_Slice_1 = data_list[5:10]\n",
    "Extract_Slice_1"
   ]
  },
  {
   "cell_type": "code",
   "execution_count": 23,
   "id": "a1f6a56f-a05d-4291-8a41-d99018ddf379",
   "metadata": {},
   "outputs": [
    {
     "data": {
      "text/plain": [
       "[13, 14, 15, 16, 17, 18, 19]"
      ]
     },
     "execution_count": 23,
     "metadata": {},
     "output_type": "execute_result"
    }
   ],
   "source": [
    "Extract_Slice_2 = data_list[-7:]\n",
    "Extract_Slice_2"
   ]
  },
  {
   "cell_type": "code",
   "execution_count": 24,
   "id": "6d3dcd6f-3366-4ed4-9151-24e11b5e013b",
   "metadata": {},
   "outputs": [
    {
     "data": {
      "text/plain": [
       "[5, 6, 7, 8, 9, 13, 14, 15, 16, 17, 18, 19]"
      ]
     },
     "execution_count": 24,
     "metadata": {},
     "output_type": "execute_result"
    }
   ],
   "source": [
    "combined_slice_list = Extract_Slice_1 + Extract_Slice_2\n",
    "combined_slice_list"
   ]
  },
  {
   "cell_type": "code",
   "execution_count": 25,
   "id": "262baa7c-62d7-4e02-a1fc-432c56f75f82",
   "metadata": {},
   "outputs": [
    {
     "data": {
      "text/plain": [
       "[9, 13, 14, 15, 16, 17, 18, 19]"
      ]
     },
     "execution_count": 25,
     "metadata": {},
     "output_type": "execute_result"
    }
   ],
   "source": [
    "convert = combined_slice_list[4:]\n",
    "convert"
   ]
  },
  {
   "cell_type": "code",
   "execution_count": 26,
   "id": "e79dc74e-8be9-4fff-be1f-b16057fa7e6f",
   "metadata": {},
   "outputs": [
    {
     "data": {
      "text/plain": [
       "[19, 18, 17, 16, 15, 14, 13, 9]"
      ]
     },
     "execution_count": 26,
     "metadata": {},
     "output_type": "execute_result"
    }
   ],
   "source": [
    "reversing = convert[::-1]\n",
    "combined_slice_list = reversing\n",
    "combined_slice_list"
   ]
  },
  {
   "cell_type": "code",
   "execution_count": 27,
   "id": "97a0eb02-ab33-45cd-a98a-bb0149a69be3",
   "metadata": {},
   "outputs": [
    {
     "data": {
      "text/plain": [
       "[19, 18, 17, 16, 15, 14, 13, 9]"
      ]
     },
     "execution_count": 27,
     "metadata": {},
     "output_type": "execute_result"
    }
   ],
   "source": [
    "reverse_list = combined_slice_list\n",
    "reverse_list"
   ]
  },
  {
   "cell_type": "code",
   "execution_count": null,
   "id": "a7f23c3a-d603-4abb-858d-41b41feeaa5e",
   "metadata": {},
   "outputs": [],
   "source": []
  },
  {
   "cell_type": "code",
   "execution_count": null,
   "id": "d28ff0dd-5170-4a2f-a06a-f73726eaf70f",
   "metadata": {},
   "outputs": [],
   "source": []
  },
  {
   "cell_type": "code",
   "execution_count": 28,
   "id": "4dd9682c-c0a2-43df-9b55-e0299119db88",
   "metadata": {},
   "outputs": [
    {
     "name": "stdout",
     "output_type": "stream",
     "text": [
      "[{'name': 'beckt', 'age': 25, 'gpa': 4.2}, {'name': 'musa', 'age': 30, 'gpa': 3.9}, {'name': 'lawal', 'age': 23, 'gpa': 4.1}, {'name': 'amina', 'age': 28, 'gpa': 3.5}]\n"
     ]
    }
   ],
   "source": [
    "student_data_by_category = {\n",
    "    'name': ['beckt', 'musa', 'lawal', 'amina'],\n",
    "    'Age': [25, 30, 23, 28],\n",
    "    'GPA': [4.2, 3.9, 4.1, 3.5]\n",
    "}\n",
    "\n",
    "# Step 1: Determine the number of students\n",
    "num_students = len(student_data_by_category['name'])\n",
    "\n",
    "# Step 2: Create an empty list to store student dictionaries\n",
    "students_list_of_dicts = []\n",
    "\n",
    "# Step 3: Iterate through each student's index\n",
    "for i in range(num_students):\n",
    "    # Step 4: Create a dictionary for one student\n",
    "    single_student = {\n",
    "        'name': student_data_by_category['name'][i],\n",
    "        'age': student_data_by_category['Age'][i],\n",
    "        'gpa': student_data_by_category['GPA'][i]\n",
    "    }\n",
    "    # Step 5: Append the dictionary to the list\n",
    "    students_list_of_dicts.append(single_student)\n",
    "\n",
    "# Step 6: Print the final list of student dictionaries\n",
    "print(students_list_of_dicts)\n"
   ]
  },
  {
   "cell_type": "code",
   "execution_count": 29,
   "id": "34f609ea-b189-4bf9-9606-1ef5c2442b00",
   "metadata": {},
   "outputs": [],
   "source": [
    "import pandas as pd"
   ]
  },
  {
   "cell_type": "code",
   "execution_count": 31,
   "id": "55d1c6bd-5255-49ea-89ff-293f664f5424",
   "metadata": {},
   "outputs": [
    {
     "data": {
      "text/html": [
       "<div>\n",
       "<style scoped>\n",
       "    .dataframe tbody tr th:only-of-type {\n",
       "        vertical-align: middle;\n",
       "    }\n",
       "\n",
       "    .dataframe tbody tr th {\n",
       "        vertical-align: top;\n",
       "    }\n",
       "\n",
       "    .dataframe thead th {\n",
       "        text-align: right;\n",
       "    }\n",
       "</style>\n",
       "<table border=\"1\" class=\"dataframe\">\n",
       "  <thead>\n",
       "    <tr style=\"text-align: right;\">\n",
       "      <th></th>\n",
       "      <th>name</th>\n",
       "      <th>age</th>\n",
       "      <th>gpa</th>\n",
       "    </tr>\n",
       "  </thead>\n",
       "  <tbody>\n",
       "    <tr>\n",
       "      <th>0</th>\n",
       "      <td>beckt</td>\n",
       "      <td>25</td>\n",
       "      <td>4.2</td>\n",
       "    </tr>\n",
       "    <tr>\n",
       "      <th>1</th>\n",
       "      <td>musa</td>\n",
       "      <td>30</td>\n",
       "      <td>3.9</td>\n",
       "    </tr>\n",
       "    <tr>\n",
       "      <th>2</th>\n",
       "      <td>lawal</td>\n",
       "      <td>23</td>\n",
       "      <td>4.1</td>\n",
       "    </tr>\n",
       "    <tr>\n",
       "      <th>3</th>\n",
       "      <td>amina</td>\n",
       "      <td>28</td>\n",
       "      <td>3.5</td>\n",
       "    </tr>\n",
       "  </tbody>\n",
       "</table>\n",
       "</div>"
      ],
      "text/plain": [
       "    name  age  gpa\n",
       "0  beckt   25  4.2\n",
       "1   musa   30  3.9\n",
       "2  lawal   23  4.1\n",
       "3  amina   28  3.5"
      ]
     },
     "execution_count": 31,
     "metadata": {},
     "output_type": "execute_result"
    }
   ],
   "source": [
    "students_list_of_dicts = pd.DataFrame(students_list_of_dicts)\n",
    "students_list_of_dicts"
   ]
  },
  {
   "cell_type": "code",
   "execution_count": null,
   "id": "80b5591a-eb18-450b-aa5c-afc9961df3ad",
   "metadata": {},
   "outputs": [],
   "source": []
  }
 ],
 "metadata": {
  "kernelspec": {
   "display_name": "Python 3 (ipykernel)",
   "language": "python",
   "name": "python3"
  },
  "language_info": {
   "codemirror_mode": {
    "name": "ipython",
    "version": 3
   },
   "file_extension": ".py",
   "mimetype": "text/x-python",
   "name": "python",
   "nbconvert_exporter": "python",
   "pygments_lexer": "ipython3",
   "version": "3.12.7"
  }
 },
 "nbformat": 4,
 "nbformat_minor": 5
}
