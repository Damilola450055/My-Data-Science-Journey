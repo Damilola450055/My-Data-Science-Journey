{
 "cells": [
  {
   "cell_type": "markdown",
   "id": "1c4184da-8824-4dc6-8e56-a2da7dc35487",
   "metadata": {},
   "source": [
    "##### Practice Exercise 1: Simple Type Conversion (Casting)\n"
   ]
  },
  {
   "cell_type": "code",
   "execution_count": 1,
   "id": "407c1231-c6d5-469c-8894-7ffa4c818a40",
   "metadata": {},
   "outputs": [],
   "source": [
    "# Create an integer variable num1 and assign it the value 5.\n",
    "# Create a string variable num2_str and assign it the string value \"12\".\n",
    "# Convert the string num2_str into an integer. Store the result in a variable called num2_int.\n",
    "# Calculate the sum of num1 and num2_int. Store the result in a variable called total_sum.\n",
    "# Convert the total_sum (which is an integer) into a string. Store the result in a variable called total_sum_str.\n",
    "# Print the values and types of num1, num2_str, num2_int, total_sum, and total_sum_str."
   ]
  },
  {
   "cell_type": "code",
   "execution_count": 2,
   "id": "bc55303e-9a1b-4227-a61a-8dac6a597b45",
   "metadata": {},
   "outputs": [],
   "source": [
    "num1 = 5\n",
    "num2_str = '12'\n",
    "num2_int = int(num2_str)"
   ]
  },
  {
   "cell_type": "code",
   "execution_count": 3,
   "id": "98d0b232-f7e2-483f-ac3d-1a601b341306",
   "metadata": {},
   "outputs": [
    {
     "data": {
      "text/plain": [
       "12"
      ]
     },
     "execution_count": 3,
     "metadata": {},
     "output_type": "execute_result"
    }
   ],
   "source": [
    "num2_int"
   ]
  },
  {
   "cell_type": "code",
   "execution_count": 4,
   "id": "ab700e42-5674-4346-b67c-23709eb03bd8",
   "metadata": {},
   "outputs": [],
   "source": [
    "total_sum = num1 + num2_int"
   ]
  },
  {
   "cell_type": "code",
   "execution_count": 5,
   "id": "fd1fdb2a-1423-4bfb-9d69-6dad58f394ab",
   "metadata": {},
   "outputs": [
    {
     "data": {
      "text/plain": [
       "17"
      ]
     },
     "execution_count": 5,
     "metadata": {},
     "output_type": "execute_result"
    }
   ],
   "source": [
    "total_sum"
   ]
  },
  {
   "cell_type": "code",
   "execution_count": 6,
   "id": "fddfe42d-3a8a-4db2-a28c-4fc0cafbf35e",
   "metadata": {},
   "outputs": [
    {
     "data": {
      "text/plain": [
       "'17'"
      ]
     },
     "execution_count": 6,
     "metadata": {},
     "output_type": "execute_result"
    }
   ],
   "source": [
    "total_sum_str = str(total_sum)\n",
    "total_sum_str"
   ]
  },
  {
   "cell_type": "code",
   "execution_count": 7,
   "id": "a9884108-3948-4c51-8c6c-07a9d486e972",
   "metadata": {},
   "outputs": [
    {
     "data": {
      "text/plain": [
       "int"
      ]
     },
     "execution_count": 7,
     "metadata": {},
     "output_type": "execute_result"
    }
   ],
   "source": [
    "type(num1)"
   ]
  },
  {
   "cell_type": "code",
   "execution_count": 8,
   "id": "d29e0f9e-4516-4381-a359-d502d8548362",
   "metadata": {},
   "outputs": [
    {
     "data": {
      "text/plain": [
       "str"
      ]
     },
     "execution_count": 8,
     "metadata": {},
     "output_type": "execute_result"
    }
   ],
   "source": [
    "type(num2_str)"
   ]
  },
  {
   "cell_type": "code",
   "execution_count": 9,
   "id": "3f08e12f-1234-4daa-91f5-b7eaea577e58",
   "metadata": {},
   "outputs": [
    {
     "data": {
      "text/plain": [
       "int"
      ]
     },
     "execution_count": 9,
     "metadata": {},
     "output_type": "execute_result"
    }
   ],
   "source": [
    "type(num2_int)"
   ]
  },
  {
   "cell_type": "code",
   "execution_count": 10,
   "id": "6898f625-ff0a-48b4-93cd-0a7d12b32d8b",
   "metadata": {},
   "outputs": [
    {
     "data": {
      "text/plain": [
       "int"
      ]
     },
     "execution_count": 10,
     "metadata": {},
     "output_type": "execute_result"
    }
   ],
   "source": [
    "type(total_sum)"
   ]
  },
  {
   "cell_type": "code",
   "execution_count": 11,
   "id": "fcd37990-1fe6-4238-91ac-cad69f5f24cf",
   "metadata": {},
   "outputs": [
    {
     "data": {
      "text/plain": [
       "str"
      ]
     },
     "execution_count": 11,
     "metadata": {},
     "output_type": "execute_result"
    }
   ],
   "source": [
    "type(total_sum_str)"
   ]
  },
  {
   "cell_type": "markdown",
   "id": "43a73ea3-cece-4e80-b910-1558e1bbed26",
   "metadata": {},
   "source": [
    "##### Assignment 2: Calculate and Format a Complex Result"
   ]
  },
  {
   "cell_type": "code",
   "execution_count": 12,
   "id": "c2d45564-17ef-45f4-8cbc-5c6dad2b71c0",
   "metadata": {},
   "outputs": [],
   "source": [
    "# perform a calculation involving multiple steps and then present the final result in a specific string format.\n",
    "\n",
    "# Start with three numbers: num_a = 100, num_b = 15, num_c = 4.\n",
    "# Calculate step1 = num_a // num_c.\n",
    "# Calculate step2 = num_b % num_c.\n",
    "# Calculate step3 = step1 * step2.\n",
    "# Calculate step4 = pow(num_b, 2).\n",
    "# Calculate the final result: final_number = step3 - step4 + num_a.\n",
    "# Convert final_number into a string using str().\n",
    "# Create a template string: \"The calculated value is ###RESULT### based on the numbers.\".\n",
    "# Use the .replace() string method to substitute ###RESULT### in the template string with your calculated final_number (as a string).\n",
    "# Print the final formatted string."
   ]
  },
  {
   "cell_type": "code",
   "execution_count": 13,
   "id": "358b5a3e-b226-4bad-bfb9-da37322fc7a0",
   "metadata": {},
   "outputs": [],
   "source": [
    "num_a = 100 \n",
    "num_b = 15 \n",
    "num_c = 4"
   ]
  },
  {
   "cell_type": "code",
   "execution_count": 14,
   "id": "912e71d3-33e3-4427-966b-76165f710130",
   "metadata": {},
   "outputs": [
    {
     "data": {
      "text/plain": [
       "25"
      ]
     },
     "execution_count": 14,
     "metadata": {},
     "output_type": "execute_result"
    }
   ],
   "source": [
    "step1 = num_a // num_c # 100 divide by 4 without decimal\n",
    "step1"
   ]
  },
  {
   "cell_type": "code",
   "execution_count": 15,
   "id": "cc620ceb-7214-4c42-8451-2dca241b239b",
   "metadata": {},
   "outputs": [
    {
     "data": {
      "text/plain": [
       "3"
      ]
     },
     "execution_count": 15,
     "metadata": {},
     "output_type": "execute_result"
    }
   ],
   "source": [
    "step2 = num_b % num_c # picking only the remainder of 15 divided by 4\n",
    "step2"
   ]
  },
  {
   "cell_type": "code",
   "execution_count": 16,
   "id": "c3c70d16-78a5-47d4-9c9e-1fcd237fbe50",
   "metadata": {},
   "outputs": [
    {
     "data": {
      "text/plain": [
       "75"
      ]
     },
     "execution_count": 16,
     "metadata": {},
     "output_type": "execute_result"
    }
   ],
   "source": [
    "step3 = step1 * step2 # 25 multiply by 3\n",
    "step3"
   ]
  },
  {
   "cell_type": "code",
   "execution_count": 17,
   "id": "f4413ab1-c992-41cd-bef8-e77620dac9a5",
   "metadata": {},
   "outputs": [
    {
     "data": {
      "text/plain": [
       "225"
      ]
     },
     "execution_count": 17,
     "metadata": {},
     "output_type": "execute_result"
    }
   ],
   "source": [
    "step4 = pow(num_b, 2) # 15 multiply by 15\n",
    "step4"
   ]
  },
  {
   "cell_type": "code",
   "execution_count": 18,
   "id": "8e4fc9bc-2968-40e0-bc8d-b7169aef4dbe",
   "metadata": {},
   "outputs": [
    {
     "data": {
      "text/plain": [
       "225"
      ]
     },
     "execution_count": 18,
     "metadata": {},
     "output_type": "execute_result"
    }
   ],
   "source": [
    "pow(15, 2)"
   ]
  },
  {
   "cell_type": "code",
   "execution_count": 19,
   "id": "2eeb373f-f49e-4bda-8cd1-175056a3cf81",
   "metadata": {},
   "outputs": [
    {
     "data": {
      "text/plain": [
       "-50"
      ]
     },
     "execution_count": 19,
     "metadata": {},
     "output_type": "execute_result"
    }
   ],
   "source": [
    "final_number = step3 - step4 + num_a # 75-225+100\n",
    "final_number"
   ]
  },
  {
   "cell_type": "code",
   "execution_count": 20,
   "id": "f26dde25-a81a-4152-ad99-20c09a1f76a2",
   "metadata": {},
   "outputs": [
    {
     "data": {
      "text/plain": [
       "'-50'"
      ]
     },
     "execution_count": 20,
     "metadata": {},
     "output_type": "execute_result"
    }
   ],
   "source": [
    "final_number = str(final_number) # using str()\n",
    "final_number"
   ]
  },
  {
   "cell_type": "code",
   "execution_count": 21,
   "id": "f169cb86-31dc-48da-bc87-8f7aad510920",
   "metadata": {},
   "outputs": [],
   "source": [
    "template_string = \"The calculated value is ###RESULT### based on the numbers.\""
   ]
  },
  {
   "cell_type": "code",
   "execution_count": 22,
   "id": "a3776a1c-ae45-4d68-85b5-be54201fbd67",
   "metadata": {},
   "outputs": [
    {
     "data": {
      "text/plain": [
       "'The calculated value is -50 based on the numbers.'"
      ]
     },
     "execution_count": 22,
     "metadata": {},
     "output_type": "execute_result"
    }
   ],
   "source": [
    "template_string.replace('###RESULT###', final_number)"
   ]
  },
  {
   "cell_type": "code",
   "execution_count": 23,
   "id": "3ca4fb7e-6969-4325-bf21-031917485dc0",
   "metadata": {},
   "outputs": [
    {
     "data": {
      "text/plain": [
       "str"
      ]
     },
     "execution_count": 23,
     "metadata": {},
     "output_type": "execute_result"
    }
   ],
   "source": [
    "type(final_number)"
   ]
  },
  {
   "cell_type": "markdown",
   "id": "a304df5f-3e82-40d0-9a12-2181fbd9b96d",
   "metadata": {},
   "source": [
    "##### Assignment 3: Extract, Convert, and Sum from a Data String"
   ]
  },
  {
   "cell_type": "code",
   "execution_count": 24,
   "id": "a1929176-0724-4588-aff3-2f413bcd564c",
   "metadata": {},
   "outputs": [],
   "source": [
    "# pull out the numerical parts, convert them, and do a calculation.\n",
    "\n",
    "# You are given the string: data_string = \"ID:XYZ-789 | ValueA: 25.5 | ValueB: 10 | Count: 3\"\n",
    "# Use the .split() method to split the data_string into parts based on the | delimiter.\n",
    "# Access the parts containing \"ValueA\", \"ValueB\", and \"Count\" using indexing on the list returned by split().\n",
    "# For each of these three parts, use string methods like .split() again (e.g., splitting by : or the space after the colon) or .replace() to isolate the numerical string (\"25.5\", \"10\", \"3\").\n",
    "# Convert the isolated \"ValueA\" string to a float.\n",
    "# Convert the isolated \"ValueB\" string to an int.\n",
    "# Convert the isolated \"Count\" string to an int.\n",
    "# Calculate the total: total = (ValueA_float + ValueB_int) * Count_int.\n",
    "# Use round() to round the total to 1 decimal place.\n",
    "# Convert the rounded total back into a string.\n",
    "# Create a final output string using concatenation, like: \"Based on the data, the total calculated value is: \" + total_string.\n",
    "# Print the final output string."
   ]
  },
  {
   "cell_type": "code",
   "execution_count": 25,
   "id": "1351f396-8fd0-451e-afbd-a6460adcacc6",
   "metadata": {},
   "outputs": [],
   "source": [
    "data_string = 'ID:XYZ-789 | ValueA: 25.5 | ValueB: 10 | Count: 3'"
   ]
  },
  {
   "cell_type": "code",
   "execution_count": 26,
   "id": "4b5f5be3-9614-49f5-b6a4-2c3050340235",
   "metadata": {},
   "outputs": [
    {
     "data": {
      "text/plain": [
       "['ID:XYZ-789', 'ValueA: 25.5', 'ValueB: 10', 'Count: 3']"
      ]
     },
     "execution_count": 26,
     "metadata": {},
     "output_type": "execute_result"
    }
   ],
   "source": [
    "split = data_string.split(' | ')\n",
    "split"
   ]
  },
  {
   "cell_type": "code",
   "execution_count": 27,
   "id": "cf712924-0261-4472-a4f0-c93ed985d823",
   "metadata": {},
   "outputs": [],
   "source": [
    "valueA = split[1]\n",
    "valueB = split[2]\n",
    "count = split[3]\n"
   ]
  },
  {
   "cell_type": "code",
   "execution_count": 28,
   "id": "c406539e-663c-445d-acf1-1827e0edd6ed",
   "metadata": {},
   "outputs": [
    {
     "data": {
      "text/plain": [
       "'ValueA: 25.5'"
      ]
     },
     "execution_count": 28,
     "metadata": {},
     "output_type": "execute_result"
    }
   ],
   "source": [
    "valueA"
   ]
  },
  {
   "cell_type": "code",
   "execution_count": 30,
   "id": "16384840-e35a-45eb-ab7d-06c67174cf2a",
   "metadata": {},
   "outputs": [
    {
     "name": "stdout",
     "output_type": "stream",
     "text": [
      "['ValueA', '25.5']\n"
     ]
    }
   ],
   "source": [
    "A = (valueA)\n",
    "new_valueA = A.split(': ')\n",
    "print(new_valueA)"
   ]
  },
  {
   "cell_type": "code",
   "execution_count": 31,
   "id": "ee82aa3a-a7a5-4829-b886-d22b59234f36",
   "metadata": {},
   "outputs": [
    {
     "data": {
      "text/plain": [
       "'25.5'"
      ]
     },
     "execution_count": 31,
     "metadata": {},
     "output_type": "execute_result"
    }
   ],
   "source": [
    "new_valueA[1]"
   ]
  },
  {
   "cell_type": "code",
   "execution_count": 32,
   "id": "0552baca-9d09-498c-8676-2a09b185f2de",
   "metadata": {},
   "outputs": [
    {
     "name": "stdout",
     "output_type": "stream",
     "text": [
      "['ValueB', '10']\n"
     ]
    }
   ],
   "source": [
    "B = (valueB)\n",
    "new_valueB = B.split(': ')\n",
    "print(new_valueB)"
   ]
  },
  {
   "cell_type": "code",
   "execution_count": 33,
   "id": "b39b8195-56c8-46dc-a5ab-2b68e042bbe6",
   "metadata": {},
   "outputs": [
    {
     "data": {
      "text/plain": [
       "'10'"
      ]
     },
     "execution_count": 33,
     "metadata": {},
     "output_type": "execute_result"
    }
   ],
   "source": [
    "new_valueB[1]"
   ]
  },
  {
   "cell_type": "code",
   "execution_count": 34,
   "id": "9503da02-65eb-4439-a285-272b8d607df1",
   "metadata": {},
   "outputs": [
    {
     "name": "stdout",
     "output_type": "stream",
     "text": [
      "['Count', '3']\n"
     ]
    }
   ],
   "source": [
    "C = (count)\n",
    "new_count = C.split(': ')\n",
    "print(new_count)"
   ]
  },
  {
   "cell_type": "code",
   "execution_count": 35,
   "id": "81d7f963-86af-4cce-b4bd-9bbcea2af6d7",
   "metadata": {},
   "outputs": [
    {
     "data": {
      "text/plain": [
       "'3'"
      ]
     },
     "execution_count": 35,
     "metadata": {},
     "output_type": "execute_result"
    }
   ],
   "source": [
    "new_count[1]"
   ]
  },
  {
   "cell_type": "code",
   "execution_count": 36,
   "id": "a2e7d59a-2e03-4e95-87c3-84f4a003aabd",
   "metadata": {},
   "outputs": [
    {
     "data": {
      "text/plain": [
       "list"
      ]
     },
     "execution_count": 36,
     "metadata": {},
     "output_type": "execute_result"
    }
   ],
   "source": [
    "type(new_valueA)"
   ]
  },
  {
   "cell_type": "code",
   "execution_count": 37,
   "id": "7a97fa20-b2fd-4516-88b1-177acc9ae436",
   "metadata": {},
   "outputs": [
    {
     "data": {
      "text/plain": [
       "25.5"
      ]
     },
     "execution_count": 37,
     "metadata": {},
     "output_type": "execute_result"
    }
   ],
   "source": [
    "convertA = float(new_valueA[1])\n",
    "convertA"
   ]
  },
  {
   "cell_type": "code",
   "execution_count": 38,
   "id": "3bc886a3-deb0-48cb-a1b8-a71cec8353d4",
   "metadata": {},
   "outputs": [
    {
     "data": {
      "text/plain": [
       "float"
      ]
     },
     "execution_count": 38,
     "metadata": {},
     "output_type": "execute_result"
    }
   ],
   "source": [
    "type(convertA)"
   ]
  },
  {
   "cell_type": "code",
   "execution_count": 39,
   "id": "8abfd58e-7054-4db0-a8a9-3dfa588223f4",
   "metadata": {},
   "outputs": [
    {
     "data": {
      "text/plain": [
       "10"
      ]
     },
     "execution_count": 39,
     "metadata": {},
     "output_type": "execute_result"
    }
   ],
   "source": [
    "convertB = int(new_valueB[1])\n",
    "convertB"
   ]
  },
  {
   "cell_type": "code",
   "execution_count": 40,
   "id": "83a57052-3cc3-4d78-9513-0a280757d665",
   "metadata": {},
   "outputs": [
    {
     "data": {
      "text/plain": [
       "3"
      ]
     },
     "execution_count": 40,
     "metadata": {},
     "output_type": "execute_result"
    }
   ],
   "source": [
    "convertC = int(new_count[1])\n",
    "convertC"
   ]
  },
  {
   "cell_type": "code",
   "execution_count": 41,
   "id": "6ece7704-3c37-4efb-b634-fcb44eeb1cc8",
   "metadata": {},
   "outputs": [
    {
     "name": "stdout",
     "output_type": "stream",
     "text": [
      "106.5\n"
     ]
    }
   ],
   "source": [
    "total = (convertA + convertB) * convertC\n",
    "print(total)"
   ]
  },
  {
   "cell_type": "code",
   "execution_count": 42,
   "id": "cc212a35-5895-4ae4-b3b7-9a655abf21a0",
   "metadata": {},
   "outputs": [
    {
     "data": {
      "text/plain": [
       "106.5"
      ]
     },
     "execution_count": 42,
     "metadata": {},
     "output_type": "execute_result"
    }
   ],
   "source": [
    "round(total, 1)"
   ]
  },
  {
   "cell_type": "code",
   "execution_count": 43,
   "id": "196795dd-dc7d-449d-9f74-755643db4379",
   "metadata": {},
   "outputs": [
    {
     "data": {
      "text/plain": [
       "str"
      ]
     },
     "execution_count": 43,
     "metadata": {},
     "output_type": "execute_result"
    }
   ],
   "source": [
    "new_total = str(total)\n",
    "type(new_total)"
   ]
  },
  {
   "cell_type": "code",
   "execution_count": 44,
   "id": "a8eb4b80-2485-47af-a903-c5f113b84375",
   "metadata": {},
   "outputs": [],
   "source": [
    "Text = \"Based on the data, the total calculated value is: \""
   ]
  },
  {
   "cell_type": "code",
   "execution_count": 45,
   "id": "15b0aafe-e343-467c-890e-a25f9350c1bb",
   "metadata": {},
   "outputs": [
    {
     "name": "stdout",
     "output_type": "stream",
     "text": [
      "Based on the data, the total calculated value is: 106.5\n"
     ]
    }
   ],
   "source": [
    "print(Text + new_total)"
   ]
  },
  {
   "cell_type": "code",
   "execution_count": null,
   "id": "f4c5c044-1d68-4058-b143-e0da3163de64",
   "metadata": {},
   "outputs": [],
   "source": []
  },
  {
   "cell_type": "markdown",
   "id": "7b08999a-e63a-433b-823f-6bc65db86fea",
   "metadata": {},
   "source": [
    "##### Assignment 4: Chain String Transformations"
   ]
  },
  {
   "cell_type": "code",
   "execution_count": 46,
   "id": "516dd2f5-4e66-4a57-910a-0e5b7ebbcc8e",
   "metadata": {},
   "outputs": [],
   "source": [
    "# Take a poorly formatted string and apply a series of string methods to clean and transform it into a standard format.\n",
    "\n",
    "# You are given the string: messy_string = \" pYtHoN ProGrAmMiNg is AWESOME \"\n",
    "# Remove leading and trailing whitespace using .strip().\n",
    "# Convert the entire string to lowercase using .lower().\n",
    "# Replace the word \"programming\" with \"coding\" using .replace().\n",
    "# Split the resulting string into individual words using .split() (this will handle multiple spaces between words).\n",
    "# Join the words back together into a single string, using a single space \" \" as the separator with .join().\n",
    "# Use .capitalize() on the final joined string to capitalize only the first letter.\n",
    "# Print the string at each significant step (after strip, after lower, after replace, after split/join, after capitalize) to observe the changes."
   ]
  },
  {
   "cell_type": "code",
   "execution_count": 47,
   "id": "829360bb-2abb-49c2-9da1-d115382c68fa",
   "metadata": {},
   "outputs": [],
   "source": [
    "messy_string = \" pYtHoN ProGrAmMiNg is AWESOME \""
   ]
  },
  {
   "cell_type": "code",
   "execution_count": 48,
   "id": "9eb591af-9a67-4841-8611-c4155b0ffdc2",
   "metadata": {},
   "outputs": [
    {
     "data": {
      "text/plain": [
       "'pYtHoN ProGrAmMiNg is AWESOME'"
      ]
     },
     "execution_count": 48,
     "metadata": {},
     "output_type": "execute_result"
    }
   ],
   "source": [
    "messy_string.strip()"
   ]
  },
  {
   "cell_type": "code",
   "execution_count": 49,
   "id": "f53ba994-4414-4085-9db5-2b5096c54cee",
   "metadata": {},
   "outputs": [],
   "source": [
    "messy_string = messy_string.lower().strip()"
   ]
  },
  {
   "cell_type": "code",
   "execution_count": 50,
   "id": "1a5cbbcf-95da-4c5d-82f4-76317e7b6294",
   "metadata": {},
   "outputs": [
    {
     "data": {
      "text/plain": [
       "'python programming is awesome'"
      ]
     },
     "execution_count": 50,
     "metadata": {},
     "output_type": "execute_result"
    }
   ],
   "source": [
    "messy_string.replace('programing', 'coding')"
   ]
  },
  {
   "cell_type": "code",
   "execution_count": 51,
   "id": "b2b58ab4-c7d1-44fb-8ee4-5bd43a3c58fa",
   "metadata": {},
   "outputs": [
    {
     "data": {
      "text/plain": [
       "['python', 'programming', 'is', 'awesome']"
      ]
     },
     "execution_count": 51,
     "metadata": {},
     "output_type": "execute_result"
    }
   ],
   "source": [
    "messy_string.split()"
   ]
  },
  {
   "cell_type": "code",
   "execution_count": 52,
   "id": "dceee10d-cfdb-43c7-a55b-cfcc99f2f2eb",
   "metadata": {},
   "outputs": [
    {
     "data": {
      "text/plain": [
       "' python programming is awesome '"
      ]
     },
     "execution_count": 52,
     "metadata": {},
     "output_type": "execute_result"
    }
   ],
   "source": [
    "messy_string.join('  ')"
   ]
  },
  {
   "cell_type": "code",
   "execution_count": 53,
   "id": "540814b5-638e-49bf-ac7c-9e25231b9cae",
   "metadata": {},
   "outputs": [
    {
     "data": {
      "text/plain": [
       "'Python programming is awesome'"
      ]
     },
     "execution_count": 53,
     "metadata": {},
     "output_type": "execute_result"
    }
   ],
   "source": [
    "messy_string.capitalize()"
   ]
  },
  {
   "cell_type": "markdown",
   "id": "480d5b73-9ab1-4a55-9a3f-8251af141985",
   "metadata": {},
   "source": [
    "##### Assignment 5: Analyze and Manipulate a String Representation of a Number"
   ]
  },
  {
   "cell_type": "code",
   "execution_count": 54,
   "id": "609146f9-5da5-4b6c-89b9-76cf9bd603c6",
   "metadata": {},
   "outputs": [],
   "source": [
    "# Work with a string that looks like a number and use both string and number operations after conversion.\n",
    "\n",
    "# You are given the string: number_str_value = \"-55.789\"\n",
    "# Print the original string.\n",
    "# Convert number_str_value to a float.\n",
    "# Calculate the absolute value of the float using abs(). Print the result and its type.\n",
    "# Round the absolute value to 1 decimal place using round(). Print the result and its type.\n",
    "# Use the .replace() method to replace the minus sign - with an empty string \"\" in the original number_str_value. Print the result.\n",
    "# Check if the original number_str_value contains the character . using the approach number_str_value.replace('.', '') != number_str_value. \n",
    "# Print the boolean result of this check. (This method uses replace and string comparison, which aligns with your learned concepts).\n",
    "# Use isdigit() on the original number_str_value. Print the result and explain why it is True or False."
   ]
  },
  {
   "cell_type": "code",
   "execution_count": 55,
   "id": "628bf3f8-785d-4672-b846-7e96a9223036",
   "metadata": {},
   "outputs": [],
   "source": [
    "number_str_value = \"-55.789\""
   ]
  },
  {
   "cell_type": "code",
   "execution_count": 56,
   "id": "9e2d06ba-667e-43f0-a005-d99a98a4e296",
   "metadata": {},
   "outputs": [
    {
     "name": "stdout",
     "output_type": "stream",
     "text": [
      "-55.789\n"
     ]
    }
   ],
   "source": [
    "number = -55.789\n",
    "print(number_str_value)"
   ]
  },
  {
   "cell_type": "code",
   "execution_count": 57,
   "id": "ab5627ca-78f3-432c-919c-a2cc54f8694d",
   "metadata": {},
   "outputs": [
    {
     "data": {
      "text/plain": [
       "-55.789"
      ]
     },
     "execution_count": 57,
     "metadata": {},
     "output_type": "execute_result"
    }
   ],
   "source": [
    "float_num =float(number_str_value)\n",
    "float_num"
   ]
  },
  {
   "cell_type": "code",
   "execution_count": 58,
   "id": "ebc4da60-ba24-4eb8-94e9-6530f9300dcc",
   "metadata": {},
   "outputs": [
    {
     "data": {
      "text/plain": [
       "55.789"
      ]
     },
     "execution_count": 58,
     "metadata": {},
     "output_type": "execute_result"
    }
   ],
   "source": [
    "abs(float_num)"
   ]
  },
  {
   "cell_type": "code",
   "execution_count": 59,
   "id": "b33f7029-170b-4dea-9fe0-3991a0579202",
   "metadata": {},
   "outputs": [
    {
     "data": {
      "text/plain": [
       "float"
      ]
     },
     "execution_count": 59,
     "metadata": {},
     "output_type": "execute_result"
    }
   ],
   "source": [
    "type(float_num)"
   ]
  },
  {
   "cell_type": "code",
   "execution_count": 60,
   "id": "420c09ee-5a1b-4f59-96d1-ac3c5b413d8a",
   "metadata": {},
   "outputs": [
    {
     "data": {
      "text/plain": [
       "-55.8"
      ]
     },
     "execution_count": 60,
     "metadata": {},
     "output_type": "execute_result"
    }
   ],
   "source": [
    "round(float_num, 1)"
   ]
  },
  {
   "cell_type": "code",
   "execution_count": 61,
   "id": "885c83e0-7e5d-430c-aa21-89b239f9f04e",
   "metadata": {},
   "outputs": [
    {
     "data": {
      "text/plain": [
       "'-55789'"
      ]
     },
     "execution_count": 61,
     "metadata": {},
     "output_type": "execute_result"
    }
   ],
   "source": [
    "number_str_value.replace('.', '') \n"
   ]
  },
  {
   "cell_type": "code",
   "execution_count": 62,
   "id": "284870c5-5b9b-4029-95b4-cda4440b3de3",
   "metadata": {},
   "outputs": [
    {
     "data": {
      "text/plain": [
       "False"
      ]
     },
     "execution_count": 62,
     "metadata": {},
     "output_type": "execute_result"
    }
   ],
   "source": [
    " number_str_value.isdigit() # it return false because is a str not int or float"
   ]
  },
  {
   "cell_type": "code",
   "execution_count": 63,
   "id": "a6863771-b891-41c0-9fb5-b2d1478e684d",
   "metadata": {},
   "outputs": [
    {
     "data": {
      "text/plain": [
       "str"
      ]
     },
     "execution_count": 63,
     "metadata": {},
     "output_type": "execute_result"
    }
   ],
   "source": [
    "type(number_str_value)"
   ]
  },
  {
   "cell_type": "code",
   "execution_count": null,
   "id": "b9f2a6a0-48fd-4b53-897a-a76a933b8a8e",
   "metadata": {},
   "outputs": [],
   "source": []
  },
  {
   "cell_type": "code",
   "execution_count": null,
   "id": "fca55567-f0cd-4315-bb90-8ca6a5378f27",
   "metadata": {},
   "outputs": [],
   "source": []
  }
 ],
 "metadata": {
  "kernelspec": {
   "display_name": "Python 3 (ipykernel)",
   "language": "python",
   "name": "python3"
  },
  "language_info": {
   "codemirror_mode": {
    "name": "ipython",
    "version": 3
   },
   "file_extension": ".py",
   "mimetype": "text/x-python",
   "name": "python",
   "nbconvert_exporter": "python",
   "pygments_lexer": "ipython3",
   "version": "3.12.7"
  }
 },
 "nbformat": 4,
 "nbformat_minor": 5
}
