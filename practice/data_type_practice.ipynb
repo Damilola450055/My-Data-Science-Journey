{
 "cells": [
  {
   "cell_type": "markdown",
   "id": "1c4184da-8824-4dc6-8e56-a2da7dc35487",
   "metadata": {},
   "source": [
    "##### Practice Exercise 1: Simple Type Conversion (Casting)\n"
   ]
  },
  {
   "cell_type": "code",
   "execution_count": 4,
   "id": "407c1231-c6d5-469c-8894-7ffa4c818a40",
   "metadata": {},
   "outputs": [],
   "source": [
    "# Create an integer variable num1 and assign it the value 5.\n",
    "# Create a string variable num2_str and assign it the string value \"12\".\n",
    "# Convert the string num2_str into an integer. Store the result in a variable called num2_int.\n",
    "# Calculate the sum of num1 and num2_int. Store the result in a variable called total_sum.\n",
    "# Convert the total_sum (which is an integer) into a string. Store the result in a variable called total_sum_str.\n",
    "# Print the values and types of num1, num2_str, num2_int, total_sum, and total_sum_str."
   ]
  },
  {
   "cell_type": "code",
   "execution_count": 5,
   "id": "bc55303e-9a1b-4227-a61a-8dac6a597b45",
   "metadata": {},
   "outputs": [],
   "source": [
    "num1 = 5\n",
    "num2_str = '12'\n",
    "num2_int = int(num2_str)"
   ]
  },
  {
   "cell_type": "code",
   "execution_count": 6,
   "id": "98d0b232-f7e2-483f-ac3d-1a601b341306",
   "metadata": {},
   "outputs": [
    {
     "data": {
      "text/plain": [
       "12"
      ]
     },
     "execution_count": 6,
     "metadata": {},
     "output_type": "execute_result"
    }
   ],
   "source": [
    "num2_int"
   ]
  },
  {
   "cell_type": "code",
   "execution_count": 7,
   "id": "ab700e42-5674-4346-b67c-23709eb03bd8",
   "metadata": {},
   "outputs": [],
   "source": [
    "total_sum = num1 + num2_int"
   ]
  },
  {
   "cell_type": "code",
   "execution_count": 8,
   "id": "fd1fdb2a-1423-4bfb-9d69-6dad58f394ab",
   "metadata": {},
   "outputs": [
    {
     "data": {
      "text/plain": [
       "17"
      ]
     },
     "execution_count": 8,
     "metadata": {},
     "output_type": "execute_result"
    }
   ],
   "source": [
    "total_sum"
   ]
  },
  {
   "cell_type": "code",
   "execution_count": 9,
   "id": "fddfe42d-3a8a-4db2-a28c-4fc0cafbf35e",
   "metadata": {},
   "outputs": [
    {
     "data": {
      "text/plain": [
       "'17'"
      ]
     },
     "execution_count": 9,
     "metadata": {},
     "output_type": "execute_result"
    }
   ],
   "source": [
    "total_sum_str = str(total_sum)\n",
    "total_sum_str"
   ]
  },
  {
   "cell_type": "code",
   "execution_count": 10,
   "id": "a9884108-3948-4c51-8c6c-07a9d486e972",
   "metadata": {},
   "outputs": [
    {
     "data": {
      "text/plain": [
       "int"
      ]
     },
     "execution_count": 10,
     "metadata": {},
     "output_type": "execute_result"
    }
   ],
   "source": [
    "type(num1)"
   ]
  },
  {
   "cell_type": "code",
   "execution_count": 11,
   "id": "d29e0f9e-4516-4381-a359-d502d8548362",
   "metadata": {},
   "outputs": [
    {
     "data": {
      "text/plain": [
       "str"
      ]
     },
     "execution_count": 11,
     "metadata": {},
     "output_type": "execute_result"
    }
   ],
   "source": [
    "type(num2_str)"
   ]
  },
  {
   "cell_type": "code",
   "execution_count": 12,
   "id": "3f08e12f-1234-4daa-91f5-b7eaea577e58",
   "metadata": {},
   "outputs": [
    {
     "data": {
      "text/plain": [
       "int"
      ]
     },
     "execution_count": 12,
     "metadata": {},
     "output_type": "execute_result"
    }
   ],
   "source": [
    "type(num2_int)"
   ]
  },
  {
   "cell_type": "code",
   "execution_count": 13,
   "id": "6898f625-ff0a-48b4-93cd-0a7d12b32d8b",
   "metadata": {},
   "outputs": [
    {
     "data": {
      "text/plain": [
       "int"
      ]
     },
     "execution_count": 13,
     "metadata": {},
     "output_type": "execute_result"
    }
   ],
   "source": [
    "type(total_sum)"
   ]
  },
  {
   "cell_type": "code",
   "execution_count": 14,
   "id": "fcd37990-1fe6-4238-91ac-cad69f5f24cf",
   "metadata": {},
   "outputs": [
    {
     "data": {
      "text/plain": [
       "str"
      ]
     },
     "execution_count": 14,
     "metadata": {},
     "output_type": "execute_result"
    }
   ],
   "source": [
    "type(total_sum_str)"
   ]
  },
  {
   "cell_type": "markdown",
   "id": "43a73ea3-cece-4e80-b910-1558e1bbed26",
   "metadata": {},
   "source": [
    "##### Assignment 2: Calculate and Format a Complex Result"
   ]
  },
  {
   "cell_type": "code",
   "execution_count": 15,
   "id": "c2d45564-17ef-45f4-8cbc-5c6dad2b71c0",
   "metadata": {},
   "outputs": [],
   "source": [
    "# perform a calculation involving multiple steps and then present the final result in a specific string format.\n",
    "\n",
    "# Start with three numbers: num_a = 100, num_b = 15, num_c = 4.\n",
    "# Calculate step1 = num_a // num_c.\n",
    "# Calculate step2 = num_b % num_c.\n",
    "# Calculate step3 = step1 * step2.\n",
    "# Calculate step4 = pow(num_b, 2).\n",
    "# Calculate the final result: final_number = step3 - step4 + num_a.\n",
    "# Convert final_number into a string using str().\n",
    "# Create a template string: \"The calculated value is ###RESULT### based on the numbers.\".\n",
    "# Use the .replace() string method to substitute ###RESULT### in the template string with your calculated final_number (as a string).\n",
    "# Print the final formatted string."
   ]
  },
  {
   "cell_type": "code",
   "execution_count": 16,
   "id": "358b5a3e-b226-4bad-bfb9-da37322fc7a0",
   "metadata": {},
   "outputs": [],
   "source": [
    "num_a = 100 \n",
    "num_b = 15 \n",
    "num_c = 4"
   ]
  },
  {
   "cell_type": "code",
   "execution_count": 17,
   "id": "912e71d3-33e3-4427-966b-76165f710130",
   "metadata": {},
   "outputs": [
    {
     "data": {
      "text/plain": [
       "25"
      ]
     },
     "execution_count": 17,
     "metadata": {},
     "output_type": "execute_result"
    }
   ],
   "source": [
    "step1 = num_a // num_c # 100 divide by 4 without decimal\n",
    "step1"
   ]
  },
  {
   "cell_type": "code",
   "execution_count": 18,
   "id": "cc620ceb-7214-4c42-8451-2dca241b239b",
   "metadata": {},
   "outputs": [
    {
     "data": {
      "text/plain": [
       "3"
      ]
     },
     "execution_count": 18,
     "metadata": {},
     "output_type": "execute_result"
    }
   ],
   "source": [
    "step2 = num_b % num_c # picking only the remainder of 15 divided by 4\n",
    "step2"
   ]
  },
  {
   "cell_type": "code",
   "execution_count": 19,
   "id": "c3c70d16-78a5-47d4-9c9e-1fcd237fbe50",
   "metadata": {},
   "outputs": [
    {
     "data": {
      "text/plain": [
       "75"
      ]
     },
     "execution_count": 19,
     "metadata": {},
     "output_type": "execute_result"
    }
   ],
   "source": [
    "step3 = step1 * step2 # 25 multiply by 3\n",
    "step3"
   ]
  },
  {
   "cell_type": "code",
   "execution_count": 20,
   "id": "f4413ab1-c992-41cd-bef8-e77620dac9a5",
   "metadata": {},
   "outputs": [
    {
     "data": {
      "text/plain": [
       "225"
      ]
     },
     "execution_count": 20,
     "metadata": {},
     "output_type": "execute_result"
    }
   ],
   "source": [
    "step4 = pow(num_b, 2) # 15 multiply by 15\n",
    "step4"
   ]
  },
  {
   "cell_type": "code",
   "execution_count": 21,
   "id": "8e4fc9bc-2968-40e0-bc8d-b7169aef4dbe",
   "metadata": {},
   "outputs": [
    {
     "data": {
      "text/plain": [
       "225"
      ]
     },
     "execution_count": 21,
     "metadata": {},
     "output_type": "execute_result"
    }
   ],
   "source": [
    "pow(15, 2)"
   ]
  },
  {
   "cell_type": "code",
   "execution_count": 22,
   "id": "2eeb373f-f49e-4bda-8cd1-175056a3cf81",
   "metadata": {},
   "outputs": [
    {
     "data": {
      "text/plain": [
       "-50"
      ]
     },
     "execution_count": 22,
     "metadata": {},
     "output_type": "execute_result"
    }
   ],
   "source": [
    "final_number = step3 - step4 + num_a # 75-225+100\n",
    "final_number"
   ]
  },
  {
   "cell_type": "code",
   "execution_count": 23,
   "id": "f26dde25-a81a-4152-ad99-20c09a1f76a2",
   "metadata": {},
   "outputs": [
    {
     "data": {
      "text/plain": [
       "'-50'"
      ]
     },
     "execution_count": 23,
     "metadata": {},
     "output_type": "execute_result"
    }
   ],
   "source": [
    "final_number = str(final_number) # using str()\n",
    "final_number"
   ]
  },
  {
   "cell_type": "code",
   "execution_count": 24,
   "id": "f169cb86-31dc-48da-bc87-8f7aad510920",
   "metadata": {},
   "outputs": [],
   "source": [
    "template_string = \"The calculated value is ###RESULT### based on the numbers.\""
   ]
  },
  {
   "cell_type": "code",
   "execution_count": 25,
   "id": "a3776a1c-ae45-4d68-85b5-be54201fbd67",
   "metadata": {},
   "outputs": [
    {
     "data": {
      "text/plain": [
       "'The calculated value is -50 based on the numbers.'"
      ]
     },
     "execution_count": 25,
     "metadata": {},
     "output_type": "execute_result"
    }
   ],
   "source": [
    "template_string.replace('###RESULT###', final_number)"
   ]
  },
  {
   "cell_type": "code",
   "execution_count": 26,
   "id": "3ca4fb7e-6969-4325-bf21-031917485dc0",
   "metadata": {},
   "outputs": [
    {
     "data": {
      "text/plain": [
       "str"
      ]
     },
     "execution_count": 26,
     "metadata": {},
     "output_type": "execute_result"
    }
   ],
   "source": [
    "type(final_number)"
   ]
  },
  {
   "cell_type": "markdown",
   "id": "a304df5f-3e82-40d0-9a12-2181fbd9b96d",
   "metadata": {},
   "source": [
    "##### Assignment 3: Extract, Convert, and Sum from a Data String"
   ]
  },
  {
   "cell_type": "code",
   "execution_count": 27,
   "id": "a1929176-0724-4588-aff3-2f413bcd564c",
   "metadata": {},
   "outputs": [],
   "source": [
    "# pull out the numerical parts, convert them, and do a calculation.\n",
    "\n",
    "# You are given the string: data_string = \"ID:XYZ-789 | ValueA: 25.5 | ValueB: 10 | Count: 3\"\n",
    "# Use the .split() method to split the data_string into parts based on the | delimiter.\n",
    "# Access the parts containing \"ValueA\", \"ValueB\", and \"Count\" using indexing on the list returned by split().\n",
    "# For each of these three parts, use string methods like .split() again (e.g., splitting by : or the space after the colon) or .replace() to isolate the numerical string (\"25.5\", \"10\", \"3\").\n",
    "# Convert the isolated \"ValueA\" string to a float.\n",
    "# Convert the isolated \"ValueB\" string to an int.\n",
    "# Convert the isolated \"Count\" string to an int.\n",
    "# Calculate the total: total = (ValueA_float + ValueB_int) * Count_int.\n",
    "# Use round() to round the total to 1 decimal place.\n",
    "# Convert the rounded total back into a string.\n",
    "# Create a final output string using concatenation, like: \"Based on the data, the total calculated value is: \" + total_string.\n",
    "# Print the final output string."
   ]
  },
  {
   "cell_type": "code",
   "execution_count": 105,
   "id": "1351f396-8fd0-451e-afbd-a6460adcacc6",
   "metadata": {},
   "outputs": [],
   "source": [
    "data_string = 'ID:XYZ-789 | ValueA: 25.5 | ValueB: 10 | Count: 3'"
   ]
  },
  {
   "cell_type": "code",
   "execution_count": 106,
   "id": "4b5f5be3-9614-49f5-b6a4-2c3050340235",
   "metadata": {},
   "outputs": [
    {
     "data": {
      "text/plain": [
       "['ID:XYZ-789', 'ValueA: 25.5', 'ValueB: 10', 'Count: 3']"
      ]
     },
     "execution_count": 106,
     "metadata": {},
     "output_type": "execute_result"
    }
   ],
   "source": [
    "split = data_string.split(' | ')\n",
    "split"
   ]
  },
  {
   "cell_type": "code",
   "execution_count": 107,
   "id": "cf712924-0261-4472-a4f0-c93ed985d823",
   "metadata": {},
   "outputs": [],
   "source": [
    "valueA = split[1]\n",
    "valueB = split[2]\n",
    "count = split[3]\n"
   ]
  },
  {
   "cell_type": "code",
   "execution_count": 108,
   "id": "c406539e-663c-445d-acf1-1827e0edd6ed",
   "metadata": {},
   "outputs": [
    {
     "data": {
      "text/plain": [
       "'ValueA: 25.5'"
      ]
     },
     "execution_count": 108,
     "metadata": {},
     "output_type": "execute_result"
    }
   ],
   "source": [
    "valueA"
   ]
  },
  {
   "cell_type": "code",
   "execution_count": 127,
   "id": "16384840-e35a-45eb-ab7d-06c67174cf2a",
   "metadata": {},
   "outputs": [
    {
     "name": "stdout",
     "output_type": "stream",
     "text": [
      "['ValueA', '25.5']\n"
     ]
    }
   ],
   "source": [
    "A = (valueA)\n",
    "new_valueA = A.split(': ')\n",
    "print(new_value)"
   ]
  },
  {
   "cell_type": "code",
   "execution_count": 128,
   "id": "ee82aa3a-a7a5-4829-b886-d22b59234f36",
   "metadata": {},
   "outputs": [
    {
     "data": {
      "text/plain": [
       "'25.5'"
      ]
     },
     "execution_count": 128,
     "metadata": {},
     "output_type": "execute_result"
    }
   ],
   "source": [
    "new_valueA[1]"
   ]
  },
  {
   "cell_type": "code",
   "execution_count": 130,
   "id": "0552baca-9d09-498c-8676-2a09b185f2de",
   "metadata": {},
   "outputs": [
    {
     "name": "stdout",
     "output_type": "stream",
     "text": [
      "['ValueB', '10']\n"
     ]
    }
   ],
   "source": [
    "B = (valueB)\n",
    "new_valueB = B.split(': ')\n",
    "print(new_valueB)"
   ]
  },
  {
   "cell_type": "code",
   "execution_count": 132,
   "id": "b39b8195-56c8-46dc-a5ab-2b68e042bbe6",
   "metadata": {},
   "outputs": [
    {
     "data": {
      "text/plain": [
       "'10'"
      ]
     },
     "execution_count": 132,
     "metadata": {},
     "output_type": "execute_result"
    }
   ],
   "source": [
    "new_valueB[1]"
   ]
  },
  {
   "cell_type": "code",
   "execution_count": 133,
   "id": "9503da02-65eb-4439-a285-272b8d607df1",
   "metadata": {},
   "outputs": [
    {
     "name": "stdout",
     "output_type": "stream",
     "text": [
      "['Count', '3']\n"
     ]
    }
   ],
   "source": [
    "C = (count)\n",
    "new_count = C.split(': ')\n",
    "print(new_count)"
   ]
  },
  {
   "cell_type": "code",
   "execution_count": 134,
   "id": "81d7f963-86af-4cce-b4bd-9bbcea2af6d7",
   "metadata": {},
   "outputs": [
    {
     "data": {
      "text/plain": [
       "'3'"
      ]
     },
     "execution_count": 134,
     "metadata": {},
     "output_type": "execute_result"
    }
   ],
   "source": [
    "new_count[1]"
   ]
  },
  {
   "cell_type": "code",
   "execution_count": 137,
   "id": "a2e7d59a-2e03-4e95-87c3-84f4a003aabd",
   "metadata": {},
   "outputs": [
    {
     "data": {
      "text/plain": [
       "list"
      ]
     },
     "execution_count": 137,
     "metadata": {},
     "output_type": "execute_result"
    }
   ],
   "source": [
    "type(new_valueA)"
   ]
  },
  {
   "cell_type": "code",
   "execution_count": 146,
   "id": "7a97fa20-b2fd-4516-88b1-177acc9ae436",
   "metadata": {},
   "outputs": [
    {
     "data": {
      "text/plain": [
       "25.5"
      ]
     },
     "execution_count": 146,
     "metadata": {},
     "output_type": "execute_result"
    }
   ],
   "source": [
    "convertA = float(new_valueA[1])\n",
    "convertA"
   ]
  },
  {
   "cell_type": "code",
   "execution_count": 147,
   "id": "3bc886a3-deb0-48cb-a1b8-a71cec8353d4",
   "metadata": {},
   "outputs": [
    {
     "data": {
      "text/plain": [
       "float"
      ]
     },
     "execution_count": 147,
     "metadata": {},
     "output_type": "execute_result"
    }
   ],
   "source": [
    "type(convertA)"
   ]
  },
  {
   "cell_type": "code",
   "execution_count": 149,
   "id": "8abfd58e-7054-4db0-a8a9-3dfa588223f4",
   "metadata": {},
   "outputs": [
    {
     "data": {
      "text/plain": [
       "10"
      ]
     },
     "execution_count": 149,
     "metadata": {},
     "output_type": "execute_result"
    }
   ],
   "source": [
    "convertB = int(new_valueB[1])\n",
    "convertB"
   ]
  },
  {
   "cell_type": "code",
   "execution_count": 150,
   "id": "83a57052-3cc3-4d78-9513-0a280757d665",
   "metadata": {},
   "outputs": [
    {
     "data": {
      "text/plain": [
       "3"
      ]
     },
     "execution_count": 150,
     "metadata": {},
     "output_type": "execute_result"
    }
   ],
   "source": [
    "convertC = int(new_count[1])\n",
    "convertC"
   ]
  },
  {
   "cell_type": "code",
   "execution_count": 153,
   "id": "6ece7704-3c37-4efb-b634-fcb44eeb1cc8",
   "metadata": {},
   "outputs": [
    {
     "name": "stdout",
     "output_type": "stream",
     "text": [
      "106.5\n"
     ]
    }
   ],
   "source": [
    "total = (convertA + convertB) * convertC\n",
    "print(total)"
   ]
  },
  {
   "cell_type": "code",
   "execution_count": 154,
   "id": "cc212a35-5895-4ae4-b3b7-9a655abf21a0",
   "metadata": {},
   "outputs": [
    {
     "data": {
      "text/plain": [
       "106.5"
      ]
     },
     "execution_count": 154,
     "metadata": {},
     "output_type": "execute_result"
    }
   ],
   "source": [
    "round(total, 1)"
   ]
  },
  {
   "cell_type": "code",
   "execution_count": 155,
   "id": "196795dd-dc7d-449d-9f74-755643db4379",
   "metadata": {},
   "outputs": [
    {
     "data": {
      "text/plain": [
       "str"
      ]
     },
     "execution_count": 155,
     "metadata": {},
     "output_type": "execute_result"
    }
   ],
   "source": [
    "new_total = str(total)\n",
    "type(new_total)"
   ]
  },
  {
   "cell_type": "code",
   "execution_count": 156,
   "id": "a8eb4b80-2485-47af-a903-c5f113b84375",
   "metadata": {},
   "outputs": [],
   "source": [
    "Text = \"Based on the data, the total calculated value is: \""
   ]
  },
  {
   "cell_type": "code",
   "execution_count": 158,
   "id": "15b0aafe-e343-467c-890e-a25f9350c1bb",
   "metadata": {},
   "outputs": [
    {
     "name": "stdout",
     "output_type": "stream",
     "text": [
      "Based on the data, the total calculated value is: 106.5\n"
     ]
    }
   ],
   "source": [
    "print(Text + new_total)"
   ]
  },
  {
   "cell_type": "code",
   "execution_count": null,
   "id": "f4c5c044-1d68-4058-b143-e0da3163de64",
   "metadata": {},
   "outputs": [],
   "source": []
  },
  {
   "cell_type": "markdown",
   "id": "7b08999a-e63a-433b-823f-6bc65db86fea",
   "metadata": {},
   "source": [
    "##### Assignment 4: Chain String Transformations"
   ]
  },
  {
   "cell_type": "code",
   "execution_count": 124,
   "id": "516dd2f5-4e66-4a57-910a-0e5b7ebbcc8e",
   "metadata": {},
   "outputs": [],
   "source": [
    "# Take a poorly formatted string and apply a series of string methods to clean and transform it into a standard format.\n",
    "\n",
    "# You are given the string: messy_string = \" pYtHoN ProGrAmMiNg is AWESOME \"\n",
    "# Remove leading and trailing whitespace using .strip().\n",
    "# Convert the entire string to lowercase using .lower().\n",
    "# Replace the word \"programming\" with \"coding\" using .replace().\n",
    "# Split the resulting string into individual words using .split() (this will handle multiple spaces between words).\n",
    "# Join the words back together into a single string, using a single space \" \" as the separator with .join().\n",
    "# Use .capitalize() on the final joined string to capitalize only the first letter.\n",
    "# Print the string at each significant step (after strip, after lower, after replace, after split/join, after capitalize) to observe the changes."
   ]
  },
  {
   "cell_type": "code",
   "execution_count": 166,
   "id": "829360bb-2abb-49c2-9da1-d115382c68fa",
   "metadata": {},
   "outputs": [],
   "source": [
    "messy_string = \" pYtHoN ProGrAmMiNg is AWESOME \""
   ]
  },
  {
   "cell_type": "code",
   "execution_count": 167,
   "id": "9eb591af-9a67-4841-8611-c4155b0ffdc2",
   "metadata": {},
   "outputs": [
    {
     "data": {
      "text/plain": [
       "'pYtHoN ProGrAmMiNg is AWESOME'"
      ]
     },
     "execution_count": 167,
     "metadata": {},
     "output_type": "execute_result"
    }
   ],
   "source": [
    "messy_string.strip()"
   ]
  },
  {
   "cell_type": "code",
   "execution_count": 168,
   "id": "f53ba994-4414-4085-9db5-2b5096c54cee",
   "metadata": {},
   "outputs": [],
   "source": [
    "messy_string = messy_string.lower().strip()"
   ]
  },
  {
   "cell_type": "code",
   "execution_count": 169,
   "id": "1a5cbbcf-95da-4c5d-82f4-76317e7b6294",
   "metadata": {},
   "outputs": [
    {
     "data": {
      "text/plain": [
       "'python programming is awesome'"
      ]
     },
     "execution_count": 169,
     "metadata": {},
     "output_type": "execute_result"
    }
   ],
   "source": [
    "messy_string.replace('programing', 'coding')"
   ]
  },
  {
   "cell_type": "code",
   "execution_count": 170,
   "id": "b2b58ab4-c7d1-44fb-8ee4-5bd43a3c58fa",
   "metadata": {},
   "outputs": [
    {
     "data": {
      "text/plain": [
       "['python', 'programming', 'is', 'awesome']"
      ]
     },
     "execution_count": 170,
     "metadata": {},
     "output_type": "execute_result"
    }
   ],
   "source": [
    "messy_string.split()"
   ]
  },
  {
   "cell_type": "code",
   "execution_count": 171,
   "id": "dceee10d-cfdb-43c7-a55b-cfcc99f2f2eb",
   "metadata": {},
   "outputs": [
    {
     "data": {
      "text/plain": [
       "' python programming is awesome '"
      ]
     },
     "execution_count": 171,
     "metadata": {},
     "output_type": "execute_result"
    }
   ],
   "source": [
    "messy_string.join('  ')"
   ]
  },
  {
   "cell_type": "code",
   "execution_count": 173,
   "id": "540814b5-638e-49bf-ac7c-9e25231b9cae",
   "metadata": {},
   "outputs": [
    {
     "data": {
      "text/plain": [
       "'Python programming is awesome'"
      ]
     },
     "execution_count": 173,
     "metadata": {},
     "output_type": "execute_result"
    }
   ],
   "source": [
    "messy_string.capitalize()"
   ]
  },
  {
   "cell_type": "markdown",
   "id": "480d5b73-9ab1-4a55-9a3f-8251af141985",
   "metadata": {},
   "source": [
    "##### Assignment 5: Analyze and Manipulate a String Representation of a Number"
   ]
  },
  {
   "cell_type": "code",
   "execution_count": 174,
   "id": "609146f9-5da5-4b6c-89b9-76cf9bd603c6",
   "metadata": {},
   "outputs": [],
   "source": [
    "# Work with a string that looks like a number and use both string and number operations after conversion.\n",
    "\n",
    "# You are given the string: number_str_value = \"-55.789\"\n",
    "# Print the original string.\n",
    "# Convert number_str_value to a float.\n",
    "# Calculate the absolute value of the float using abs(). Print the result and its type.\n",
    "# Round the absolute value to 1 decimal place using round(). Print the result and its type.\n",
    "# Use the .replace() method to replace the minus sign - with an empty string \"\" in the original number_str_value. Print the result.\n",
    "# Check if the original number_str_value contains the character . using the approach number_str_value.replace('.', '') != number_str_value. \n",
    "# Print the boolean result of this check. (This method uses replace and string comparison, which aligns with your learned concepts).\n",
    "# Use isdigit() on the original number_str_value. Print the result and explain why it is True or False."
   ]
  },
  {
   "cell_type": "code",
   "execution_count": 180,
   "id": "628bf3f8-785d-4672-b846-7e96a9223036",
   "metadata": {},
   "outputs": [],
   "source": [
    "number_str_value = \"-55.789\""
   ]
  },
  {
   "cell_type": "code",
   "execution_count": 181,
   "id": "9e2d06ba-667e-43f0-a005-d99a98a4e296",
   "metadata": {},
   "outputs": [
    {
     "name": "stdout",
     "output_type": "stream",
     "text": [
      "-55.789\n"
     ]
    }
   ],
   "source": [
    "number = -55.789\n",
    "print(number_str_value)"
   ]
  },
  {
   "cell_type": "code",
   "execution_count": 182,
   "id": "ab5627ca-78f3-432c-919c-a2cc54f8694d",
   "metadata": {},
   "outputs": [
    {
     "data": {
      "text/plain": [
       "-55.789"
      ]
     },
     "execution_count": 182,
     "metadata": {},
     "output_type": "execute_result"
    }
   ],
   "source": [
    "float_num =float(number_str_value)\n",
    "float_num"
   ]
  },
  {
   "cell_type": "code",
   "execution_count": 183,
   "id": "ebc4da60-ba24-4eb8-94e9-6530f9300dcc",
   "metadata": {},
   "outputs": [
    {
     "data": {
      "text/plain": [
       "55.789"
      ]
     },
     "execution_count": 183,
     "metadata": {},
     "output_type": "execute_result"
    }
   ],
   "source": [
    "abs(float_num)"
   ]
  },
  {
   "cell_type": "code",
   "execution_count": 186,
   "id": "b33f7029-170b-4dea-9fe0-3991a0579202",
   "metadata": {},
   "outputs": [
    {
     "data": {
      "text/plain": [
       "float"
      ]
     },
     "execution_count": 186,
     "metadata": {},
     "output_type": "execute_result"
    }
   ],
   "source": [
    "type(float_num)"
   ]
  },
  {
   "cell_type": "code",
   "execution_count": 189,
   "id": "420c09ee-5a1b-4f59-96d1-ac3c5b413d8a",
   "metadata": {},
   "outputs": [
    {
     "data": {
      "text/plain": [
       "-55.8"
      ]
     },
     "execution_count": 189,
     "metadata": {},
     "output_type": "execute_result"
    }
   ],
   "source": [
    "round(float_num, 1)"
   ]
  },
  {
   "cell_type": "code",
   "execution_count": 192,
   "id": "885c83e0-7e5d-430c-aa21-89b239f9f04e",
   "metadata": {},
   "outputs": [
    {
     "data": {
      "text/plain": [
       "'-55789'"
      ]
     },
     "execution_count": 192,
     "metadata": {},
     "output_type": "execute_result"
    }
   ],
   "source": [
    "number_str_value.replace('.', '') \n"
   ]
  },
  {
   "cell_type": "code",
   "execution_count": 196,
   "id": "284870c5-5b9b-4029-95b4-cda4440b3de3",
   "metadata": {},
   "outputs": [
    {
     "data": {
      "text/plain": [
       "False"
      ]
     },
     "execution_count": 196,
     "metadata": {},
     "output_type": "execute_result"
    }
   ],
   "source": [
    " number_str_value.isdigit() # it return false because is a str not int or float"
   ]
  },
  {
   "cell_type": "code",
   "execution_count": 197,
   "id": "a6863771-b891-41c0-9fb5-b2d1478e684d",
   "metadata": {},
   "outputs": [
    {
     "data": {
      "text/plain": [
       "str"
      ]
     },
     "execution_count": 197,
     "metadata": {},
     "output_type": "execute_result"
    }
   ],
   "source": [
    "type(number_str_value)"
   ]
  },
  {
   "cell_type": "markdown",
   "id": "2098b238-5f1e-4f5a-a410-d9a82ec3deef",
   "metadata": {},
   "source": [
    "##### Process Product Information String"
   ]
  },
  {
   "cell_type": "code",
   "execution_count": 1,
   "id": "c84bdc6e-835e-4a77-aa3f-dc0c0050853a",
   "metadata": {},
   "outputs": [],
   "source": [
    "# You are given the string: product_data = \"Name: Laptop; Price: 1200.50; Stock: 15; Status: Available\"\n",
    "# Use the .split() method to split the product_data string into parts based on the ; delimiter.\n",
    "# Access the parts containing \"Price\" and \"Stock\" using indexing on the list returned by split().\n",
    "# For the \"Price\" part (e.g., \"Price: 1200.50\") and the \"Stock\" part (e.g., \"Stock: 15\"), \n",
    "# use string methods like .split() to isolate the numerical string value (\"1200.50\" and \"15\").\n",
    "# Convert the isolated price string (\"1200.50\") into a float.\n",
    "# Convert the isolated stock string (\"15\") into an int.\n",
    "# Calculate the total estimated value of the stock for this product: total_stock_value = price_float * stock_int.\n",
    "# Use the round() function to round the total_stock_value to 2 decimal places.\n",
    "# Print the original product_data string.\n",
    "# Print the calculated total_stock_value, clearly labeled (e.g., f\"Estimated total stock value: ${rounded_total_stock_value}\")."
   ]
  },
  {
   "cell_type": "code",
   "execution_count": 55,
   "id": "1e925f42-5303-4731-b4cd-4c1a5969b4f2",
   "metadata": {},
   "outputs": [
    {
     "name": "stdout",
     "output_type": "stream",
     "text": [
      "['Name: Laptop', 'Price: 1200.50', 'Stock: 15', 'Status: Available']\n"
     ]
    }
   ],
   "source": [
    "product_data = \"Name: Laptop; Price: 1200.50; Stock: 15; Status: Available\"\n",
    "Split = product_data.split('; ')\n",
    "print(Split)"
   ]
  },
  {
   "cell_type": "code",
   "execution_count": 56,
   "id": "3b8ce543-99ce-472a-afed-942dd352750c",
   "metadata": {},
   "outputs": [
    {
     "name": "stdout",
     "output_type": "stream",
     "text": [
      "Price: 1200.50\n"
     ]
    }
   ],
   "source": [
    "splitA = Split[1]\n",
    "print(splitA)"
   ]
  },
  {
   "cell_type": "code",
   "execution_count": 57,
   "id": "042aef3f-7667-4f2b-9715-0e57f559ed6b",
   "metadata": {},
   "outputs": [
    {
     "name": "stdout",
     "output_type": "stream",
     "text": [
      "Stock: 15\n"
     ]
    }
   ],
   "source": [
    "splitB = Split[2]\n",
    "print(splitB)"
   ]
  },
  {
   "cell_type": "code",
   "execution_count": 58,
   "id": "c1e72c71-b575-4c19-9384-1a8ce97c039d",
   "metadata": {},
   "outputs": [
    {
     "name": "stdout",
     "output_type": "stream",
     "text": [
      "['Price:', '1200.50']\n"
     ]
    }
   ],
   "source": [
    "A = splitA.split()\n",
    "print(A)"
   ]
  },
  {
   "cell_type": "code",
   "execution_count": 59,
   "id": "d4d5e86c-db88-4071-8493-7f09c92c1be9",
   "metadata": {},
   "outputs": [
    {
     "name": "stdout",
     "output_type": "stream",
     "text": [
      "['Price:', '1200.50']\n"
     ]
    }
   ],
   "source": [
    "B = splitB.split()\n",
    "print(A)"
   ]
  },
  {
   "cell_type": "code",
   "execution_count": 60,
   "id": "4c8a8319-19be-40fe-9ce6-4681bea69ef9",
   "metadata": {},
   "outputs": [
    {
     "name": "stdout",
     "output_type": "stream",
     "text": [
      "1200.50\n"
     ]
    }
   ],
   "source": [
    "Float = A[1]\n",
    "print(Float)"
   ]
  },
  {
   "cell_type": "code",
   "execution_count": 61,
   "id": "c6dd33ff-bc5f-4d2d-bdff-8385a50029c4",
   "metadata": {},
   "outputs": [
    {
     "data": {
      "text/plain": [
       "str"
      ]
     },
     "execution_count": 61,
     "metadata": {},
     "output_type": "execute_result"
    }
   ],
   "source": [
    "type(Float)"
   ]
  },
  {
   "cell_type": "code",
   "execution_count": 62,
   "id": "8315e73b-16b1-4d3d-9f6f-8a54dfa5468c",
   "metadata": {},
   "outputs": [
    {
     "name": "stdout",
     "output_type": "stream",
     "text": [
      "1200.5\n"
     ]
    }
   ],
   "source": [
    "converting_to_float = float(Float)\n",
    "print(converting_to_float)"
   ]
  },
  {
   "cell_type": "code",
   "execution_count": 63,
   "id": "93e13925-ce65-4786-8d05-5f0219f3e586",
   "metadata": {},
   "outputs": [
    {
     "data": {
      "text/plain": [
       "float"
      ]
     },
     "execution_count": 63,
     "metadata": {},
     "output_type": "execute_result"
    }
   ],
   "source": [
    "type(converting_to_float)"
   ]
  },
  {
   "cell_type": "code",
   "execution_count": 64,
   "id": "1afb5526-1c0e-49d2-9e1f-5d523639cbb3",
   "metadata": {},
   "outputs": [
    {
     "name": "stdout",
     "output_type": "stream",
     "text": [
      "15\n"
     ]
    }
   ],
   "source": [
    "Int = B[1]\n",
    "print(Int)"
   ]
  },
  {
   "cell_type": "code",
   "execution_count": 65,
   "id": "f20270fc-c7bb-4d57-84be-3fa3e7bf6684",
   "metadata": {},
   "outputs": [
    {
     "data": {
      "text/plain": [
       "str"
      ]
     },
     "execution_count": 65,
     "metadata": {},
     "output_type": "execute_result"
    }
   ],
   "source": [
    "type(Int)"
   ]
  },
  {
   "cell_type": "code",
   "execution_count": 66,
   "id": "80f52daf-a483-40f1-b764-f19530b84d24",
   "metadata": {},
   "outputs": [
    {
     "name": "stdout",
     "output_type": "stream",
     "text": [
      "15\n"
     ]
    }
   ],
   "source": [
    "converting_to_int = int(Int)\n",
    "print(converting_to_int)"
   ]
  },
  {
   "cell_type": "code",
   "execution_count": 67,
   "id": "0e1ea734-ebb7-4e62-ab85-101a075b5f97",
   "metadata": {},
   "outputs": [
    {
     "data": {
      "text/plain": [
       "int"
      ]
     },
     "execution_count": 67,
     "metadata": {},
     "output_type": "execute_result"
    }
   ],
   "source": [
    "type(converting_to_int)"
   ]
  },
  {
   "cell_type": "code",
   "execution_count": 68,
   "id": "250e1c5d-4cec-4f92-b33b-f2d492075ab4",
   "metadata": {},
   "outputs": [
    {
     "name": "stdout",
     "output_type": "stream",
     "text": [
      "18007.5\n"
     ]
    }
   ],
   "source": [
    "total_stock_value = converting_to_float * converting_to_int\n",
    "print(total_stock_value)"
   ]
  },
  {
   "cell_type": "code",
   "execution_count": 69,
   "id": "e16dda5d-4c88-43f5-a22d-fe113dafa9e6",
   "metadata": {},
   "outputs": [
    {
     "name": "stdout",
     "output_type": "stream",
     "text": [
      "18007.5\n"
     ]
    }
   ],
   "source": [
    "rounded_total_stock_value = round(total_stock_value, 2)\n",
    "print(rounded_total_stock_value)"
   ]
  },
  {
   "cell_type": "code",
   "execution_count": 70,
   "id": "b3513a2a-3c88-4fb7-a6c1-824e9505fcf4",
   "metadata": {},
   "outputs": [
    {
     "name": "stdout",
     "output_type": "stream",
     "text": [
      "Estimated total stock value: $18007.5\n"
     ]
    }
   ],
   "source": [
    "# Print the calculated total_stock_value, clearly labeled (e.g., f\"Estimated total stock value: ${rounded_total_stock_value}\").\n",
    "\n",
    "print(f'Estimated total stock value: ${rounded_total_stock_value}')"
   ]
  },
  {
   "cell_type": "code",
   "execution_count": null,
   "id": "be88ef92-395e-4c4b-83bf-a277d5e0ce77",
   "metadata": {},
   "outputs": [],
   "source": []
  },
  {
   "cell_type": "markdown",
   "id": "62c02ad8-0147-4b21-93e1-dcc84870f9ec",
   "metadata": {},
   "source": [
    "##### Extract, Convert, and Sum from a Data String"
   ]
  },
  {
   "cell_type": "code",
   "execution_count": 71,
   "id": "85255448-a5d1-42e1-8838-ebbafefe6895",
   "metadata": {},
   "outputs": [],
   "source": [
    "# pull out the numerical parts, convert them, and do a calculation.\n",
    "\n",
    "# You are given the string: data_string = \"ID:XYZ-789 | ValueA: 25.5 | ValueB: 10 | Count: 3\"\n",
    "# Use the .split() method to split the data_string into parts based on the | delimiter.\n",
    "# Access the parts containing \"ValueA\", \"ValueB\", and \"Count\" using indexing on the list returned by split().\n",
    "# For each of these three parts, use string methods like .split() again (e.g., splitting by : or the space after the colon) or .replace() to isolate the numerical string (\"25.5\", \"10\", \"3\").\n",
    "# Convert the isolated \"ValueA\" string to a float.\n",
    "# Convert the isolated \"ValueB\" string to an int.\n",
    "# Convert the isolated \"Count\" string to an int.\n",
    "# Calculate the total: total = (ValueA_float + ValueB_int) * Count_int.\n",
    "# Use round() to round the total to 1 decimal place.\n",
    "# Convert the rounded total back into a string.\n",
    "# Create a final output string using concatenation, like: \"Based on the data, the total calculated value is: \" + total_string.\n",
    "# Print the final output string."
   ]
  },
  {
   "cell_type": "code",
   "execution_count": 72,
   "id": "dd5f59e0-07a5-41a7-9135-5bb0293e7b39",
   "metadata": {},
   "outputs": [
    {
     "data": {
      "text/plain": [
       "'ID:XYZ-789 | ValueA: 25.5 | ValueB: 10 | Count: 3'"
      ]
     },
     "execution_count": 72,
     "metadata": {},
     "output_type": "execute_result"
    }
   ],
   "source": [
    "data_string = 'ID:XYZ-789 | ValueA: 25.5 | ValueB: 10 | Count: 3'\n",
    "data_string"
   ]
  },
  {
   "cell_type": "code",
   "execution_count": 76,
   "id": "8c434a8f-a4fd-42f2-b9c6-92c60f9e8b51",
   "metadata": {},
   "outputs": [
    {
     "data": {
      "text/plain": [
       "['ID:XYZ-789 ', 'ValueA: 25.5 ', 'ValueB: 10 ', 'Count: 3']"
      ]
     },
     "execution_count": 76,
     "metadata": {},
     "output_type": "execute_result"
    }
   ],
   "source": [
    "split = data_string.split('| ')\n",
    "split"
   ]
  },
  {
   "cell_type": "code",
   "execution_count": 83,
   "id": "f8613682-8e37-459a-bd0a-f9ce3338b26c",
   "metadata": {},
   "outputs": [
    {
     "data": {
      "text/plain": [
       "'ValueA: 25.5 '"
      ]
     },
     "execution_count": 83,
     "metadata": {},
     "output_type": "execute_result"
    }
   ],
   "source": [
    "A = split[1]\n",
    "A"
   ]
  },
  {
   "cell_type": "code",
   "execution_count": 84,
   "id": "88c25b67-7f80-4c39-9e15-01e21716a821",
   "metadata": {},
   "outputs": [
    {
     "data": {
      "text/plain": [
       "'ValueB: 10 '"
      ]
     },
     "execution_count": 84,
     "metadata": {},
     "output_type": "execute_result"
    }
   ],
   "source": [
    "B = split[2]\n",
    "B"
   ]
  },
  {
   "cell_type": "code",
   "execution_count": 85,
   "id": "8b8b4acf-1456-4a5d-805c-c367d0d02626",
   "metadata": {},
   "outputs": [
    {
     "data": {
      "text/plain": [
       "'Count: 3'"
      ]
     },
     "execution_count": 85,
     "metadata": {},
     "output_type": "execute_result"
    }
   ],
   "source": [
    "C = split[3]\n",
    "C"
   ]
  },
  {
   "cell_type": "code",
   "execution_count": 96,
   "id": "9109c67e-c756-4ce7-bd6b-9e3800cfddfc",
   "metadata": {},
   "outputs": [
    {
     "data": {
      "text/plain": [
       "['ValueA', '25.5 ']"
      ]
     },
     "execution_count": 96,
     "metadata": {},
     "output_type": "execute_result"
    }
   ],
   "source": [
    "new_splitA = A.split(': ')\n",
    "new_split"
   ]
  },
  {
   "cell_type": "code",
   "execution_count": 97,
   "id": "c2d21d73-a11c-4b68-989d-95326450da27",
   "metadata": {},
   "outputs": [
    {
     "data": {
      "text/plain": [
       "'25.5 '"
      ]
     },
     "execution_count": 97,
     "metadata": {},
     "output_type": "execute_result"
    }
   ],
   "source": [
    "new_splitA[1]"
   ]
  },
  {
   "cell_type": "code",
   "execution_count": 98,
   "id": "1d546fd7-9996-425d-8f6a-73d283fd5d09",
   "metadata": {},
   "outputs": [
    {
     "data": {
      "text/plain": [
       "'10 '"
      ]
     },
     "execution_count": 98,
     "metadata": {},
     "output_type": "execute_result"
    }
   ],
   "source": [
    "new_splitB = B.split(': ')\n",
    "new_splitB[1]"
   ]
  },
  {
   "cell_type": "code",
   "execution_count": 99,
   "id": "5044fac5-3a9f-4d6f-b321-495d8411ddc1",
   "metadata": {},
   "outputs": [
    {
     "data": {
      "text/plain": [
       "'3'"
      ]
     },
     "execution_count": 99,
     "metadata": {},
     "output_type": "execute_result"
    }
   ],
   "source": [
    "new_splitC = C.split(': ')\n",
    "new_splitC[1]"
   ]
  },
  {
   "cell_type": "code",
   "execution_count": 101,
   "id": "969b4458-13eb-4b71-856e-551a1f5a7c54",
   "metadata": {},
   "outputs": [],
   "source": [
    "ValueA = new_splitA[1]\n",
    "valueB = new_splitB[1]\n",
    "valueC = new_splitC[1]"
   ]
  },
  {
   "cell_type": "code",
   "execution_count": 106,
   "id": "3047c338-bbaa-4889-a1f6-5b99ef140a68",
   "metadata": {},
   "outputs": [],
   "source": [
    "conversionA = float(ValueA)\n",
    "conversionB = int(valueB)\n",
    "ConversionC = int(valueC)"
   ]
  },
  {
   "cell_type": "code",
   "execution_count": 110,
   "id": "e1753edb-e14e-4457-92f1-7c2d41a591de",
   "metadata": {},
   "outputs": [
    {
     "data": {
      "text/plain": [
       "3"
      ]
     },
     "execution_count": 110,
     "metadata": {},
     "output_type": "execute_result"
    }
   ],
   "source": [
    "ConversionC "
   ]
  },
  {
   "cell_type": "code",
   "execution_count": 113,
   "id": "2af8d0d6-6040-41e7-8072-f14f493d112b",
   "metadata": {},
   "outputs": [
    {
     "data": {
      "text/plain": [
       "106.5"
      ]
     },
     "execution_count": 113,
     "metadata": {},
     "output_type": "execute_result"
    }
   ],
   "source": [
    "Total = (conversionA + conversionB)* ConversionC \n",
    "Total"
   ]
  },
  {
   "cell_type": "code",
   "execution_count": 114,
   "id": "8417a901-2c98-41a5-b173-316e053c41f1",
   "metadata": {},
   "outputs": [
    {
     "data": {
      "text/plain": [
       "float"
      ]
     },
     "execution_count": 114,
     "metadata": {},
     "output_type": "execute_result"
    }
   ],
   "source": [
    "type(Total)"
   ]
  },
  {
   "cell_type": "code",
   "execution_count": 115,
   "id": "0e4d5273-3e80-4dba-a121-495d70d0f015",
   "metadata": {},
   "outputs": [
    {
     "data": {
      "text/plain": [
       "'106.5'"
      ]
     },
     "execution_count": 115,
     "metadata": {},
     "output_type": "execute_result"
    }
   ],
   "source": [
    "Final_conversion = str(Total)\n",
    "Final_conversion"
   ]
  },
  {
   "cell_type": "code",
   "execution_count": 117,
   "id": "cdd82335-60f9-4252-a2d7-e218b7632a44",
   "metadata": {},
   "outputs": [
    {
     "name": "stdout",
     "output_type": "stream",
     "text": [
      "Based on the data, the total calculated value is: 106.5\n"
     ]
    }
   ],
   "source": [
    "print(f'Based on the data, the total calculated value is: {Final_conversion}')"
   ]
  },
  {
   "cell_type": "code",
   "execution_count": null,
   "id": "6880d760-30ba-41f3-b447-9342770a3f5f",
   "metadata": {},
   "outputs": [],
   "source": []
  }
 ],
 "metadata": {
  "kernelspec": {
   "display_name": "Python 3 (ipykernel)",
   "language": "python",
   "name": "python3"
  },
  "language_info": {
   "codemirror_mode": {
    "name": "ipython",
    "version": 3
   },
   "file_extension": ".py",
   "mimetype": "text/x-python",
   "name": "python",
   "nbconvert_exporter": "python",
   "pygments_lexer": "ipython3",
   "version": "3.12.7"
  }
 },
 "nbformat": 4,
 "nbformat_minor": 5
}
