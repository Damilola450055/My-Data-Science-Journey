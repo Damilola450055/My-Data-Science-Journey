{
<<<<<<< HEAD
 "cells": [
  {
   "cell_type": "markdown",
   "id": "16dd9de4-08b5-486d-943a-a581c836285d",
   "metadata": {},
   "source": [
    "####### What I Learn April 07 2025\n",
    "\n",
    "#######  Python Basic\n",
    "####### Variables: variable serves as a named storage location in the computer memory used to hold a value.\n",
    "\n"
   ]
  },
  {
   "cell_type": "code",
   "execution_count": 79,
   "id": "f28dde05-9dee-4837-91ed-cee32f99ef89",
   "metadata": {},
   "outputs": [
    {
     "name": "stdout",
     "output_type": "stream",
     "text": [
      "Alice\n",
      "30\n",
      "1.65\n",
      "True\n"
     ]
    }
   ],
   "source": [
    "##### Examples of variable\n",
    "name = 'Alice'  # String variable bcause it contain Alphabet \n",
    "age = 30        # Integer variable because it contain Digit\n",
    "height = 1.65   # Float variable because it contain Decimal\n",
    "is_student = True  # Boolean data type print True or false statement \n",
    "\n",
    "print(name)\n",
    "print(age)\n",
    "print(height)\n",
    "print(is_student)\n"
   ]
  },
  {
   "cell_type": "code",
   "execution_count": 21,
   "id": "61dde2c8-6130-4c31-b32b-afa454101a46",
   "metadata": {},
   "outputs": [
    {
     "name": "stdout",
     "output_type": "stream",
     "text": [
      "Damilola\n"
     ]
    }
   ],
   "source": [
    "##### Name convention\n",
    "my_name = 'Damilola' # snake_case because the pharse are separated by underscore (_) \n",
    "\n",
    "\n",
    "print(my_name)"
   ]
  },
  {
   "cell_type": "code",
   "execution_count": 34,
   "id": "d0f3c5d2-29bb-49f3-8926-5a228a6761b1",
   "metadata": {},
   "outputs": [
    {
     "name": "stdout",
     "output_type": "stream",
     "text": [
      "100\n",
      "100\n",
      "100\n"
     ]
    }
   ],
   "source": [
    "##### Multiple assignment \n",
    "kay = tola = esther =100 # Assigning same value\n",
    "print(kay)\n",
    "print(tola)\n",
    "print(esther)"
   ]
  },
  {
   "cell_type": "code",
   "execution_count": 6,
   "id": "d0b14b53-0256-4d79-b208-e31d7f4a25d8",
   "metadata": {},
   "outputs": [
    {
     "name": "stdout",
     "output_type": "stream",
     "text": [
      "my name is damilola\n",
      "100\n"
     ]
    }
   ],
   "source": [
    "##### Print function()\n",
    "print('my name is damilola') # Text print because it contain alphabet\n",
    "print(100) # Number print because it contains digit \n"
   ]
  },
  {
   "cell_type": "code",
   "execution_count": 66,
   "id": "e222e766-c850-4201-8355-add3e165ef1a",
   "metadata": {},
   "outputs": [
    {
     "name": "stdout",
     "output_type": "stream",
     "text": [
      "Alice-30\n",
      "Alice 30\n"
     ]
    }
   ],
   "source": [
    "##### Using a sep parameter \n",
    "print(name, age, sep='-') # using hyphen (-) to separate name and age\n",
    "print(name, age, end= '\\n') # creating a new line with \\n\n"
   ]
  },
  {
   "cell_type": "code",
   "execution_count": 9,
   "id": "02d8a116-38a0-4bde-bc0d-f17a8e546fa7",
   "metadata": {},
   "outputs": [
    {
     "name": "stdout",
     "output_type": "stream",
     "text": [
      "In class today Damilola said I'm hungry\n"
     ]
    }
   ],
   "source": [
    "#####  formatting option 1\n",
    "name = 'Damilola'\n",
    "sentence = \"I'm hungry\"\n",
    "print('In class today {} said {}'.format(name, sentence))"
   ]
  },
  {
   "cell_type": "code",
   "execution_count": 10,
   "id": "0b98ceae-3e5c-4430-bbf2-e27f9c1b092c",
   "metadata": {},
   "outputs": [
    {
     "name": "stdout",
     "output_type": "stream",
     "text": [
      "In class today Damilola said I'm hungry\n"
     ]
    }
   ],
   "source": [
    "#####  formatting option 2\n",
    "\n",
    "name = 'Damilola'\n",
    "sentence = \"I'm hungry\"\n",
    "print(f'In class today {name} said {sentence}')"
   ]
  },
  {
   "cell_type": "code",
   "execution_count": 69,
   "id": "ee609ee5-aebd-41fb-8a34-7751a5bba65c",
   "metadata": {},
   "outputs": [
    {
     "name": "stdout",
     "output_type": "stream",
     "text": [
      "Meat \t Price\n",
      "Beef \t #2,000\n",
      "Chicken\t #5,000\n"
     ]
    }
   ],
   "source": [
    "##### Escape sequence \n",
    "\n",
    "print('Meat \\t Price') # Using the \\t to create a table\n",
    "print('Beef \\t #2,000') \n",
    "print('Chicken\\t #5,000') "
   ]
  },
  {
   "cell_type": "code",
   "execution_count": 12,
   "id": "738cd758-70fa-4153-9200-8e9f38f71321",
   "metadata": {},
   "outputs": [
    {
     "name": "stdout",
     "output_type": "stream",
     "text": [
      "I'm a boy\n"
     ]
    }
   ],
   "source": [
    "print('I\\'m a boy') # quote inside string"
   ]
  },
  {
   "cell_type": "code",
   "execution_count": 13,
   "id": "9b002566-7423-4ecf-884e-53e88f8515c8",
   "metadata": {},
   "outputs": [
    {
     "name": "stdout",
     "output_type": "stream",
     "text": [
      "c:\\hp\\users\\document\n"
     ]
    }
   ],
   "source": [
    "print('c:\\\\hp\\\\users\\\\document') # backlash \\ used for escaping special characters"
   ]
  },
  {
   "cell_type": "code",
   "execution_count": 77,
   "id": "bfcfbc63-bbe0-43c3-b539-d0bed012e5c0",
   "metadata": {},
   "outputs": [
    {
     "name": "stdout",
     "output_type": "stream",
     "text": [
      "😄\n"
     ]
    }
   ],
   "source": [
    "print('\\U0001F604') # emoji unicode"
   ]
  },
  {
   "cell_type": "code",
   "execution_count": 15,
   "id": "dd938e43-2770-4865-88be-536bf9585426",
   "metadata": {},
   "outputs": [
    {
     "name": "stdin",
     "output_type": "stream",
     "text": [
      "enter your old password 0000\n"
     ]
    },
    {
     "name": "stdout",
     "output_type": "stream",
     "text": [
      "old password 0000\n"
     ]
    }
   ],
   "source": [
    "user_input = input ('enter your old password')\n",
    "print(f'old password {user_input}') # user input"
   ]
  },
  {
   "cell_type": "code",
   "execution_count": null,
   "id": "12066e4a-b49a-4c33-9bad-d588170852b1",
   "metadata": {},
   "outputs": [],
   "source": []
  },
  {
   "cell_type": "markdown",
   "id": "1973f631-0b80-4e18-9097-1d912596feb8",
   "metadata": {},
   "source": [
    "# 📝 My Practice"
   ]
  },
  {
   "cell_type": "code",
   "execution_count": 80,
   "id": "6934a11b-3636-401f-ab79-bb3bad660f49",
   "metadata": {},
   "outputs": [],
   "source": [
    "## Assignment 1: Personal Info Form"
   ]
  },
  {
   "cell_type": "code",
   "execution_count": null,
   "id": "e36006e4-d14b-436f-8da6-abeca3419ac4",
   "metadata": {},
   "outputs": [],
   "source": [
    "#  print a formatted sentence using f-strings, like:\n",
    "\n",
    "# \"Hello, my name is Damilola. I am 25 years old. I love Amala. Student status: False\" "
   ]
  },
  {
   "cell_type": "code",
   "execution_count": 3,
   "id": "438ebc68-491f-4f6a-9bf5-59f32aa3ded2",
   "metadata": {},
   "outputs": [
    {
     "name": "stdout",
     "output_type": "stream",
     "text": [
      "Hello, my name is Damilola Olayinka. I am 25 years old. I love Amala. Student status: false\n"
     ]
    }
   ],
   "source": [
    "Full_name = 'Damilola Olayinka'\n",
    "Age = 25\n",
    "Favourite_food = 'Amala'\n",
    "A_student = 'false'\n",
    "\n",
    "print(f'Hello, my name is {Full_name}. I am {Age} years old. I love {Favourite_food}. Student status: {A_student}')"
   ]
  },
  {
   "cell_type": "code",
   "execution_count": null,
   "id": "75c89d2f-db8e-4a08-80ac-36795b3309f7",
   "metadata": {},
   "outputs": [],
   "source": []
  },
  {
   "cell_type": "code",
   "execution_count": 91,
   "id": "badd87a0-7a58-4f6a-b621-18c335d00926",
   "metadata": {},
   "outputs": [],
   "source": [
    "# Assignment 2: Grocery Receipt Generator"
   ]
  },
  {
   "cell_type": "code",
   "execution_count": 92,
   "id": "528d4142-b6cf-4b6e-9c67-4a509081487b",
   "metadata": {},
   "outputs": [],
   "source": [
    "# Print a receipt that looks like this using \\t and escape sequences:"
   ]
  },
  {
   "cell_type": "code",
   "execution_count": 94,
   "id": "4f12cbad-49f7-44e1-bcd2-3696cda2d76a",
   "metadata": {},
   "outputs": [
    {
     "name": "stdout",
     "output_type": "stream",
     "text": [
      "Item \t Price\n",
      "Rice \t #100,000\n",
      "Beans \t #120,000\n",
      "Semo \t #10,000\n"
     ]
    }
   ],
   "source": [
    "print('Item \\t Price')\n",
    "print('Rice \\t #100,000')\n",
    "print('Beans \\t #120,000')\n",
    "print('Semo \\t #10,000')\n",
    "      "
   ]
  },
  {
   "cell_type": "code",
   "execution_count": null,
   "id": "39628537-9846-4111-83bd-4fe4ce94d993",
   "metadata": {},
   "outputs": [],
   "source": []
  },
  {
   "cell_type": "code",
   "execution_count": 95,
   "id": "5982387b-ec08-4fca-ad70-64539f82e058",
   "metadata": {},
   "outputs": [],
   "source": [
    "# Assignment 3: Password Change Simulation"
   ]
  },
  {
   "cell_type": "code",
   "execution_count": 96,
   "id": "744e3843-b86b-4273-a040-3e7ade51fc42",
   "metadata": {},
   "outputs": [],
   "source": [
    "# Ask the user to input their current password.\n",
    "\n",
    "# Then ask them to enter a new password.\n",
    "\n",
    "# Print both old and new passwords using a formatted print statement."
   ]
  },
  {
   "cell_type": "code",
   "execution_count": 102,
   "id": "1c010fc7-b23d-4f56-8733-05ef6bc78c29",
   "metadata": {},
   "outputs": [
    {
     "name": "stdin",
     "output_type": "stream",
     "text": [
      "Enter your current password 2030\n",
      "Enter your new password 4050\n"
     ]
    },
    {
     "name": "stdout",
     "output_type": "stream",
     "text": [
      "2030 - 4050\n"
     ]
    }
   ],
   "source": [
    "current_password = input('Enter your current password')\n",
    "new_password = input('Enter your new password')\n",
    "\n",
    "print(f'{current_password} - {new_password}')"
   ]
  },
  {
   "cell_type": "code",
   "execution_count": 103,
   "id": "f84d95c7-bb93-4d10-98c2-3c0cdc2913e1",
   "metadata": {},
   "outputs": [],
   "source": [
    "# Asment 4: Variable Swapping "
   ]
  },
  {
   "cell_type": "code",
   "execution_count": 104,
   "id": "232ecfcd-5111-4139-b434-ffb3c24ca58a",
   "metadata": {},
   "outputs": [],
   "source": [
    "# Create two variables: a = \"car\", b = \"bus\"\n",
    "# Swap them using one line of code.\n",
    "# Print the values before and after the swap."
   ]
  },
  {
   "cell_type": "code",
   "execution_count": 115,
   "id": "7e4bb801-081f-4ecb-8441-014fb836c1b8",
   "metadata": {},
   "outputs": [
    {
     "name": "stdout",
     "output_type": "stream",
     "text": [
      "car bus\n"
     ]
    }
   ],
   "source": [
    "a= 'car'\n",
    "b= 'bus'\n",
    "print(a,b)"
   ]
  },
  {
   "cell_type": "code",
   "execution_count": 111,
   "id": "a46adbd2-ff93-4712-998d-56b07a9dc8bc",
   "metadata": {},
   "outputs": [
    {
     "name": "stdout",
     "output_type": "stream",
     "text": [
      "bus car\n"
     ]
    }
   ],
   "source": [
    "temp = a\n",
    "a = b \n",
    "b = temp \n",
    "print(a, b)"
   ]
  },
  {
   "cell_type": "code",
   "execution_count": null,
   "id": "872b0fb1-4565-4af2-aab6-25b4d93f9c81",
   "metadata": {},
   "outputs": [],
   "source": []
  },
  {
   "cell_type": "code",
   "execution_count": 116,
   "id": "cfc4a54e-ccbe-4252-9fed-634b907679c6",
   "metadata": {},
   "outputs": [],
   "source": [
    "# Assignment 5: Class Quote"
   ]
  },
  {
   "cell_type": "code",
   "execution_count": 117,
   "id": "399f0752-a9c1-46d9-9ad9-7c14e81c3663",
   "metadata": {},
   "outputs": [],
   "source": [
    "# Store your name and a favorite quote in variables.\n",
    "# Print a sentence like:\n",
    "# \"In class today Damilola said 'Never give up!'\"\n",
    "# Use both formatting methods:\n",
    "\n",
    "#.format()\n",
    "# f-string"
   ]
  },
  {
   "cell_type": "code",
   "execution_count": 119,
   "id": "ff943e22-7d5f-4d30-babd-a6fde7ae47bc",
   "metadata": {},
   "outputs": [],
   "source": [
    "Name = 'Damilola'\n",
    "Quote = \"'Never give up!'\""
   ]
  },
  {
   "cell_type": "code",
   "execution_count": 120,
   "id": "b0df44dc-5625-43a7-a090-06ca62fb398b",
   "metadata": {},
   "outputs": [
    {
     "name": "stdout",
     "output_type": "stream",
     "text": [
      "In class today Damilola said 'Never give up!'\n"
     ]
    }
   ],
   "source": [
    "print('In class today {} said {}' .format(Name, Quote)) # Using .Format option "
   ]
  },
  {
   "cell_type": "code",
   "execution_count": 122,
   "id": "b5a12b04-eab8-4c22-b2a6-8859b193262a",
   "metadata": {},
   "outputs": [
    {
     "name": "stdout",
     "output_type": "stream",
     "text": [
      " In class today Damilola said 'Never give up!'\n"
     ]
    }
   ],
   "source": [
    "print(f' In class today {Name} said {Quote}') # using F string option"
   ]
  },
  {
   "cell_type": "code",
   "execution_count": null,
   "id": "05239902-4803-4d4a-8f71-796246bdbca5",
   "metadata": {},
   "outputs": [],
   "source": []
  },
  {
   "cell_type": "markdown",
   "id": "f6e1a057-4510-44ef-bbf3-a702a4a7578f",
   "metadata": {},
   "source": [
    "## What I learned April 09 2025"
   ]
  },
  {
   "cell_type": "code",
   "execution_count": 9,
   "id": "a0ccdf5d-f2a0-4d07-a0ec-cd8fbd3caaaf",
   "metadata": {},
   "outputs": [],
   "source": [
    "#### Data Type ####\n",
    "# a. Numbers\n",
    "# b. Sring\n",
    "# c. Lists \n",
    "# d. Dictionaries \n",
    "# e. Tuples\n",
    "# f. Sets and others\n"
   ]
  },
  {
   "cell_type": "code",
   "execution_count": 14,
   "id": "d9cbe2fc-16be-448d-be12-9a0ccd957e69",
   "metadata": {},
   "outputs": [
    {
     "data": {
      "text/plain": [
       "17"
      ]
     },
     "execution_count": 14,
     "metadata": {},
     "output_type": "execute_result"
    }
   ],
   "source": [
    "### a. Numbers\n",
    "a=10\n",
    "b=7\n",
    "a+b # This is int because it's a \"whole number\" without a decimal "
   ]
  },
  {
   "cell_type": "code",
   "execution_count": 15,
   "id": "ab283ab6-e0fe-492d-905d-e6a82482826b",
   "metadata": {},
   "outputs": [
    {
     "data": {
      "text/plain": [
       "14.3"
      ]
     },
     "execution_count": 15,
     "metadata": {},
     "output_type": "execute_result"
    }
   ],
   "source": [
    "X=12\n",
    "Y=2.3\n",
    "X+Y # This is float because it has \"Decimal\""
   ]
  },
  {
   "cell_type": "code",
   "execution_count": null,
   "id": "a3dbfcdb-b311-4e42-9377-7d048bd4c227",
   "metadata": {},
   "outputs": [],
   "source": []
  }
 ],
=======
 "cells": [],
>>>>>>> parent of b005eb8 (Initial full upload of project folder)
 "metadata": {
  "language_info": {
   "name": "python"
  }
 },
 "nbformat": 4,
 "nbformat_minor": 5
}
