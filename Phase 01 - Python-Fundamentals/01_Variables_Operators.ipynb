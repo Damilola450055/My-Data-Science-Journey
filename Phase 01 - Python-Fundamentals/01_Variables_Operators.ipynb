{
 "cells": [
  {
   "cell_type": "markdown",
   "id": "243f2037-cb22-4d76-bfa2-e44ff4957764",
   "metadata": {},
   "source": [
    "## Python Basic"
   ]
  },
  {
   "cell_type": "code",
   "execution_count": 91,
   "id": "b9564ada-454e-4456-bd40-7d3685c861a5",
   "metadata": {},
   "outputs": [
    {
     "name": "stdout",
     "output_type": "stream",
     "text": [
      "Alice\n",
      "30\n",
      "1.65\n",
      "True\n"
     ]
    }
   ],
   "source": [
    "##### Examples of variable\n",
    "name = 'Alice'  # String variable bcause it contain Alphabet \n",
    "age = 30        # Integer variable because it contain Digit\n",
    "height = 1.65   # Float variable because it contain Decimal\n",
    "is_student = True  # Boolean data type print True or false statement \n",
    "\n",
    "print(name)\n",
    "print(age)\n",
    "print(height)\n",
    "print(is_student)"
   ]
  },
  {
   "cell_type": "code",
   "execution_count": 92,
   "id": "dccc8e04-6bc3-4579-a47c-7a60ec63b267",
   "metadata": {},
   "outputs": [
    {
     "name": "stdout",
     "output_type": "stream",
     "text": [
      "Damilola\n"
     ]
    }
   ],
   "source": [
    "##### Name convention\n",
    "my_name = 'Damilola' # snake_case because the pharse are separated by underscore (_) \n",
    "\n",
    "print(my_name)"
   ]
  },
  {
   "cell_type": "code",
   "execution_count": 93,
   "id": "aca01ceb-45cb-4f58-9e45-3e08a282a39a",
   "metadata": {},
   "outputs": [
    {
     "name": "stdout",
     "output_type": "stream",
     "text": [
      "100\n",
      "100\n",
      "100\n"
     ]
    }
   ],
   "source": [
    "##### Multiple assignment \n",
    "kay = tola = esther =100 # Assigning same value\n",
    "print(kay)\n",
    "print(tola)\n",
    "print(esther)\n"
   ]
  },
  {
   "cell_type": "code",
   "execution_count": 94,
   "id": "4a0555fe-ce4d-4d36-8179-965a27afc0b8",
   "metadata": {},
   "outputs": [
    {
     "name": "stdout",
     "output_type": "stream",
     "text": [
      "my name is damilola\n",
      "100\n"
     ]
    }
   ],
   "source": [
    "##### Print function()\n",
    "print('my name is damilola') # Text print because it contain alphabet\n",
    "print(100) # Number print because it contains digit "
   ]
  },
  {
   "cell_type": "code",
   "execution_count": 95,
   "id": "7852a90c-2240-4be3-bcad-25c48d1e1085",
   "metadata": {},
   "outputs": [
    {
     "name": "stdout",
     "output_type": "stream",
     "text": [
      "Alice-30\n",
      "Alice 30\n"
     ]
    }
   ],
   "source": [
    "##### Using a sep parameter \n",
    "print(name, age, sep='-') # using hyphen (-) to separate name and age\n",
    "print(name, age, end= '\\n') # creating a new line with \\n"
   ]
  },
  {
   "cell_type": "code",
   "execution_count": 96,
   "id": "4c9e99fb-a5b7-4a26-adf2-e0750d91c45f",
   "metadata": {},
   "outputs": [
    {
     "name": "stdout",
     "output_type": "stream",
     "text": [
      "In class today Damilola said I'm hungry\n"
     ]
    }
   ],
   "source": [
    "#####  formatting option 1\n",
    "name = 'Damilola'\n",
    "sentence = \"I'm hungry\"\n",
    "print('In class today {} said {}'.format(name, sentence))"
   ]
  },
  {
   "cell_type": "code",
   "execution_count": 97,
   "id": "4c3d3806-8223-452b-abd6-3e1b903bcc94",
   "metadata": {},
   "outputs": [
    {
     "name": "stdout",
     "output_type": "stream",
     "text": [
      "In class today Damilola said I'm hungry\n"
     ]
    }
   ],
   "source": [
    "#####  formatting option 2\n",
    "\n",
    "name = 'Damilola'\n",
    "sentence = \"I'm hungry\"\n",
    "print(f'In class today {name} said {sentence}')"
   ]
  },
  {
   "cell_type": "code",
   "execution_count": 98,
   "id": "545ccbb9-a6e3-4a48-98f7-9af768102804",
   "metadata": {},
   "outputs": [
    {
     "name": "stdout",
     "output_type": "stream",
     "text": [
      "Meat \t Price\n",
      "Beef \t #2,000\n",
      "Chicken\t #5,000\n"
     ]
    }
   ],
   "source": [
    "##### Escape sequence \n",
    "\n",
    "print('Meat \\t Price') # Using the \\t to create a table\n",
    "print('Beef \\t #2,000') \n",
    "print('Chicken\\t #5,000') "
   ]
  },
  {
   "cell_type": "code",
   "execution_count": 99,
   "id": "18717593-9647-4494-9652-1c99d9eb0b6e",
   "metadata": {},
   "outputs": [
    {
     "name": "stdout",
     "output_type": "stream",
     "text": [
      "I'm a boy\n"
     ]
    }
   ],
   "source": [
    "print('I\\'m a boy') # quote inside string"
   ]
  },
  {
   "cell_type": "code",
   "execution_count": 100,
   "id": "d1bc0c8b-495e-4f4c-9f36-50cda7d36024",
   "metadata": {},
   "outputs": [
    {
     "name": "stdout",
     "output_type": "stream",
     "text": [
      "c:\\hp\\users\\document\n"
     ]
    }
   ],
   "source": [
    "print('c:\\\\hp\\\\users\\\\document') # backlash \\ used for escaping special characters"
   ]
  },
  {
   "cell_type": "code",
   "execution_count": 101,
   "id": "6742ab67-7257-4cd2-ba58-ff75af0ebeea",
   "metadata": {},
   "outputs": [
    {
     "name": "stdout",
     "output_type": "stream",
     "text": [
      "😄\n"
     ]
    }
   ],
   "source": [
    "print('\\U0001F604') # emoji unicode"
   ]
  },
  {
   "cell_type": "code",
   "execution_count": 102,
   "id": "8b3428ee-bf88-4c75-b2a9-19d912af04fd",
   "metadata": {},
   "outputs": [
    {
     "name": "stdin",
     "output_type": "stream",
     "text": [
      "enter your old password 400\n"
     ]
    },
    {
     "name": "stdout",
     "output_type": "stream",
     "text": [
      "old password 400\n"
     ]
    }
   ],
   "source": [
    "user_input = input ('enter your old password')\n",
    "print(f'old password {user_input}') # user input"
   ]
  },
  {
   "cell_type": "code",
   "execution_count": null,
   "id": "a174e79b-7d9a-4922-a1f5-3174d192386f",
   "metadata": {},
   "outputs": [],
   "source": []
  },
  {
   "cell_type": "code",
   "execution_count": null,
   "id": "39c53142-8b62-45e9-adf8-b9081db9171c",
   "metadata": {},
   "outputs": [],
   "source": []
  },
  {
   "cell_type": "markdown",
   "id": "88eee09d-7b11-4d53-8965-7ca66de39b58",
   "metadata": {},
   "source": [
    "# 📝 My Practice"
   ]
  },
  {
   "cell_type": "code",
   "execution_count": 13,
   "id": "2d0b90a6-797d-40d3-8967-7acd4160a0e5",
   "metadata": {},
   "outputs": [
    {
     "name": "stdout",
     "output_type": "stream",
     "text": [
      "Hello, my name is Damilola. I am 25 years old. I love Amala. Student status: false\n"
     ]
    }
   ],
   "source": [
    "## Assignment 1: Personal Info Form\n",
    "\n",
    "#  print a formatted sentence using f-strings, like:\n",
    "\n",
    "# \"Hello, my name is Damilola. I am 25 years old. I love Amala. Student status: False\"\n",
    "\n",
    "name = 'Damilola'\n",
    "age = 25\n",
    "favorite_food = 'Amala'\n",
    "student_status = 'false'\n",
    "\n",
    "print(f'Hello, my name is {name}. I am {age} years old. I love {favorite_food}. Student status: {student_status}')"
   ]
  },
  {
   "cell_type": "code",
   "execution_count": null,
   "id": "5cd0f54a-112c-4bd3-b98e-32a3cf4dcf4d",
   "metadata": {},
   "outputs": [],
   "source": []
  },
  {
   "cell_type": "code",
   "execution_count": 14,
   "id": "cad5d6f9-82e9-438e-b494-65a19d1dc08c",
   "metadata": {},
   "outputs": [
    {
     "name": "stdout",
     "output_type": "stream",
     "text": [
      "Items \t Price\n",
      "rice \t #65,000\n",
      "beans \t #80,000\n",
      "semo \t #10,000\n"
     ]
    }
   ],
   "source": [
    "# Assignment 2: Grocery Receipt Generator\n",
    "\n",
    "\n",
    "# Print a receipt using \\t and escape sequences:\n",
    "\n",
    "print('Items \\t Price')\n",
    "print('rice \\t #65,000')\n",
    "print('beans \\t #80,000')\n",
    "print('semo \\t #10,000')"
   ]
  },
  {
   "cell_type": "code",
   "execution_count": null,
   "id": "08a2889d-6b0f-492a-a679-ab77df6c60a4",
   "metadata": {},
   "outputs": [],
   "source": []
  },
  {
   "cell_type": "code",
   "execution_count": null,
   "id": "39770b64-1126-496d-b980-f4bc5affc607",
   "metadata": {},
   "outputs": [],
   "source": []
  },
  {
   "cell_type": "code",
   "execution_count": 15,
   "id": "e4fb3947-e5ff-412b-a4c9-114b48e12e31",
   "metadata": {},
   "outputs": [
    {
     "name": "stdin",
     "output_type": "stream",
     "text": [
      "enter your new password 400\n",
      " enter your new password 500\n"
     ]
    },
    {
     "name": "stdout",
     "output_type": "stream",
     "text": [
      "400 - 500\n"
     ]
    }
   ],
   "source": [
    "# Assignment 3: Password Change Simulation\n",
    "\n",
    "# Ask the user to input their current password.\n",
    "\n",
    "# Then ask them to enter a new password.\n",
    "\n",
    "# Print both old and new passwords using a formatted print statement.\n",
    "\n",
    "current_password = input('enter your new password')\n",
    "new_password = input(' enter your new password')\n",
    "\n",
    "print(f'{current_password} - {new_password}')"
   ]
  },
  {
   "cell_type": "code",
   "execution_count": null,
   "id": "f8b1dfba-0a83-4506-8f0f-62f66f057cdf",
   "metadata": {},
   "outputs": [],
   "source": []
  },
  {
   "cell_type": "code",
   "execution_count": 16,
   "id": "86b7769f-fb4e-426d-850c-8325996452f5",
   "metadata": {},
   "outputs": [
    {
     "name": "stdout",
     "output_type": "stream",
     "text": [
      "car bus\n"
     ]
    }
   ],
   "source": [
    "# Asment 4: Variable Swapping \n",
    "\n",
    "# Create two variables: a = \"car\", b = \"bus\"\n",
    "# Swap them using one line of code.\n",
    "# Print the values before and after the swap.\n",
    "\n",
    "a = 'car'\n",
    "b = 'bus'\n",
    "print(a, b)"
   ]
  },
  {
   "cell_type": "code",
   "execution_count": 17,
   "id": "b3c1b651-9a05-4fee-8a78-cf34d02d36e9",
   "metadata": {},
   "outputs": [
    {
     "name": "stdout",
     "output_type": "stream",
     "text": [
      "bus car\n"
     ]
    }
   ],
   "source": [
    "temp = a \n",
    "a = b\n",
    "b = temp\n",
    "\n",
    "print(a, b)"
   ]
  },
  {
   "cell_type": "code",
   "execution_count": 18,
   "id": "1f13eab3-c719-4eb1-b4c8-e2252c730761",
   "metadata": {},
   "outputs": [
    {
     "name": "stdout",
     "output_type": "stream",
     "text": [
      "In class today Damilola said  Never give up!\n",
      "In class today Damilola said  Never give up!\n"
     ]
    }
   ],
   "source": [
    "# Assignment 5: Class Quote\n",
    "\n",
    "# Store your name and a favorite quote in variables.\n",
    "# Print a sentence like:\n",
    "# \"In class today Damilola said 'Never give up!'\"\n",
    "# Use both formatting methods:\n",
    "\n",
    "#.format()\n",
    "# f-string\n",
    "\n",
    "my_name = 'Damilola'\n",
    "my_favorite_quote = \" Never give up!\"\n",
    "\n",
    "print(f\"In class today {my_name} said {my_favorite_quote}\") \n",
    "print(\"In class today {} said {}\".format(my_name, my_favorite_quote)) "
   ]
  },
  {
   "cell_type": "code",
   "execution_count": null,
   "id": "c409a17a-55a9-428c-9218-687ab3a6246a",
   "metadata": {},
   "outputs": [],
   "source": []
  },
  {
   "cell_type": "code",
   "execution_count": null,
   "id": "0060d959-c188-4381-b034-b0f94fbbd3c6",
   "metadata": {},
   "outputs": [],
   "source": []
  },
  {
   "cell_type": "markdown",
   "id": "ecf964ee-77f8-4991-9359-8c2554b05c53",
   "metadata": {},
   "source": [
    "## Data Type"
   ]
  },
  {
   "cell_type": "code",
   "execution_count": 19,
   "id": "0f1ad214",
   "metadata": {},
   "outputs": [],
   "source": [
    "#### Data Type ####\n",
    "# a. Numbers\n",
    "# b. Sring\n",
    "# c. Lists \n",
    "# d. Dictionaries \n",
    "# e. Tuples\n",
    "# f. Sets and others"
   ]
  },
  {
   "cell_type": "code",
   "execution_count": 20,
   "id": "1fde1c2e-929c-41d4-b9c9-074cd0e6a3ec",
   "metadata": {},
   "outputs": [
    {
     "data": {
      "text/plain": [
       "17"
      ]
     },
     "execution_count": 20,
     "metadata": {},
     "output_type": "execute_result"
    }
   ],
   "source": [
    "### a. Numbers\n",
    "a=10\n",
    "b=7\n",
    "a+b # This is int because it's a \"whole number\" without a decimal "
   ]
  },
  {
   "cell_type": "code",
   "execution_count": 21,
   "id": "81585110-1c75-4eae-ac99-bf612b0f74be",
   "metadata": {},
   "outputs": [
    {
     "data": {
      "text/plain": [
       "14.3"
      ]
     },
     "execution_count": 21,
     "metadata": {},
     "output_type": "execute_result"
    }
   ],
   "source": [
    "X=12\n",
    "Y=2.3\n",
    "X+Y # This is float because it has \"Decimal\""
   ]
  },
  {
   "cell_type": "code",
   "execution_count": 22,
   "id": "8fa99b50-3dd4-43a5-9ef3-044daa99c0da",
   "metadata": {},
   "outputs": [
    {
     "data": {
      "text/plain": [
       "(3+4j)"
      ]
     },
     "execution_count": 22,
     "metadata": {},
     "output_type": "execute_result"
    }
   ],
   "source": [
    "y=3\n",
    "x=4j\n",
    "x+y # this is complex complex data type because it contains real number ad imaginary number"
   ]
  },
  {
   "cell_type": "code",
   "execution_count": 23,
   "id": "8c918bfe-9b81-4cab-bf04-81f6e773efd5",
   "metadata": {},
   "outputs": [],
   "source": [
    "# operation with numbers "
   ]
  },
  {
   "cell_type": "code",
   "execution_count": 24,
   "id": "f1284b9f-12d2-46a0-9881-61dba657c925",
   "metadata": {},
   "outputs": [
    {
     "data": {
      "text/plain": [
       "15"
      ]
     },
     "execution_count": 24,
     "metadata": {},
     "output_type": "execute_result"
    }
   ],
   "source": [
    "10+5 #Addition "
   ]
  },
  {
   "cell_type": "code",
   "execution_count": 25,
   "id": "00150983-9ee5-41c0-a057-262990916488",
   "metadata": {},
   "outputs": [
    {
     "data": {
      "text/plain": [
       "13"
      ]
     },
     "execution_count": 25,
     "metadata": {},
     "output_type": "execute_result"
    }
   ],
   "source": [
    "15-2 # subtraction"
   ]
  },
  {
   "cell_type": "code",
   "execution_count": 26,
   "id": "1b3e140d-16d6-432f-ba28-1e66c70cdec7",
   "metadata": {},
   "outputs": [
    {
     "data": {
      "text/plain": [
       "30"
      ]
     },
     "execution_count": 26,
     "metadata": {},
     "output_type": "execute_result"
    }
   ],
   "source": [
    "10*3 # multiplication "
   ]
  },
  {
   "cell_type": "code",
   "execution_count": 27,
   "id": "9b9c4358-6ce9-419a-9dc6-bb87049c678a",
   "metadata": {},
   "outputs": [
    {
     "data": {
      "text/plain": [
       "25.0"
      ]
     },
     "execution_count": 27,
     "metadata": {},
     "output_type": "execute_result"
    }
   ],
   "source": [
    "50/2 # divison"
   ]
  },
  {
   "cell_type": "code",
   "execution_count": 28,
   "id": "c350fce3-a25a-4448-bc88-948c51635096",
   "metadata": {},
   "outputs": [
    {
     "data": {
      "text/plain": [
       "3"
      ]
     },
     "execution_count": 28,
     "metadata": {},
     "output_type": "execute_result"
    }
   ],
   "source": [
    "20//6 # floor division having whole number without decimal"
   ]
  },
  {
   "cell_type": "code",
   "execution_count": 29,
   "id": "81703f6c-52c1-42a2-809c-7e42ed20a019",
   "metadata": {},
   "outputs": [
    {
     "data": {
      "text/plain": [
       "2"
      ]
     },
     "execution_count": 29,
     "metadata": {},
     "output_type": "execute_result"
    }
   ],
   "source": [
    "20 % 6 # modulus having only the remainder "
   ]
  },
  {
   "cell_type": "code",
   "execution_count": 30,
   "id": "9afeedb9-03c7-47fe-99f5-ed4dc92a2380",
   "metadata": {},
   "outputs": [
    {
     "data": {
      "text/plain": [
       "64"
      ]
     },
     "execution_count": 30,
     "metadata": {},
     "output_type": "execute_result"
    }
   ],
   "source": [
    " 4**3 # exponential raising a number to a power"
   ]
  },
  {
   "cell_type": "code",
   "execution_count": 31,
   "id": "f994fd6b-f897-44e1-b457-9b3c0256db84",
   "metadata": {},
   "outputs": [],
   "source": [
    "# Inbuilt Numeric function"
   ]
  },
  {
   "cell_type": "code",
   "execution_count": 32,
   "id": "63ed94ce-5a70-447a-a630-135907d35d5b",
   "metadata": {},
   "outputs": [
    {
     "data": {
      "text/plain": [
       "25.59867857"
      ]
     },
     "execution_count": 32,
     "metadata": {},
     "output_type": "execute_result"
    }
   ],
   "source": [
    "num = -25.59867857\n",
    "abs(num) # Return the absolute value of the argument. turning negative to positpositive "
   ]
  },
  {
   "cell_type": "code",
   "execution_count": 33,
   "id": "479a995d-88da-4114-93ba-1ae89333705c",
   "metadata": {},
   "outputs": [
    {
     "data": {
      "text/plain": [
       "-25.6"
      ]
     },
     "execution_count": 33,
     "metadata": {},
     "output_type": "execute_result"
    }
   ],
   "source": [
    "round(num, 2) # Round a number to a given precision in decimal digits.\n"
   ]
  },
  {
   "cell_type": "code",
   "execution_count": 34,
   "id": "9ed5d63c-6a76-4333-b138-fdbb447a7c2e",
   "metadata": {},
   "outputs": [
    {
     "data": {
      "text/plain": [
       "81"
      ]
     },
     "execution_count": 34,
     "metadata": {},
     "output_type": "execute_result"
    }
   ],
   "source": [
    "pow(3,4) # this is the same as exponential "
   ]
  },
  {
   "cell_type": "code",
   "execution_count": 35,
   "id": "090d24ca-4875-404f-be4c-a1cda1b6467f",
   "metadata": {},
   "outputs": [
    {
     "data": {
      "text/plain": [
       "9"
      ]
     },
     "execution_count": 35,
     "metadata": {},
     "output_type": "execute_result"
    }
   ],
   "source": [
    "max(9, 2,8,3,6,4,7,5) # return its biggest item"
   ]
  },
  {
   "cell_type": "code",
   "execution_count": 36,
   "id": "5633eeff-a976-4eb8-b709-947923571a65",
   "metadata": {},
   "outputs": [
    {
     "data": {
      "text/plain": [
       "2"
      ]
     },
     "execution_count": 36,
     "metadata": {},
     "output_type": "execute_result"
    }
   ],
   "source": [
    "min(9, 2,8,3,6,4,7,5) # return its smallest item"
   ]
  },
  {
   "cell_type": "code",
   "execution_count": 37,
   "id": "910a65c3-a39c-47cd-927d-0843f5635dfe",
   "metadata": {},
   "outputs": [
    {
     "data": {
      "text/plain": [
       "12"
      ]
     },
     "execution_count": 37,
     "metadata": {},
     "output_type": "execute_result"
    }
   ],
   "source": [
    "# Coversion between numbers \n",
    "\n",
    "b = 12.23\n",
    "int(b)  # int conversion"
   ]
  },
  {
   "cell_type": "code",
   "execution_count": 38,
   "id": "1c4fca9f-03b7-48c9-9b7b-a5be468cdf61",
   "metadata": {},
   "outputs": [],
   "source": [
    "### string indexing ####\n",
    "# each string indexing start with 0 while negative index start from -1 "
   ]
  },
  {
   "cell_type": "code",
   "execution_count": 39,
   "id": "0ed001e1-94cd-484e-abb7-176d51c538bd",
   "metadata": {},
   "outputs": [
    {
     "data": {
      "text/plain": [
       "'h'"
      ]
     },
     "execution_count": 39,
     "metadata": {},
     "output_type": "execute_result"
    }
   ],
   "source": [
    "text = 'hello'\n",
    "text[0] # positive indexing"
   ]
  },
  {
   "cell_type": "code",
   "execution_count": 40,
   "id": "81f31a9f-3c33-4241-b320-9db65f745e0d",
   "metadata": {},
   "outputs": [
    {
     "data": {
      "text/plain": [
       "'o'"
      ]
     },
     "execution_count": 40,
     "metadata": {},
     "output_type": "execute_result"
    }
   ],
   "source": [
    "text[-1] # negative indexing"
   ]
  },
  {
   "cell_type": "code",
   "execution_count": 41,
   "id": "b346ba7c-89f3-4154-baa6-8d5c9befa761",
   "metadata": {},
   "outputs": [
    {
     "data": {
      "text/plain": [
       "'    hey guys    i am    damilola    '"
      ]
     },
     "execution_count": 41,
     "metadata": {},
     "output_type": "execute_result"
    }
   ],
   "source": [
    "## Inbuilt sring method ##\n",
    "text = '    hEy GuYs    I aM    Damilola    '\n",
    "text.lower() #  converted to lowercase"
   ]
  },
  {
   "cell_type": "code",
   "execution_count": 42,
   "id": "dda0b683-c275-4457-856e-c7373575333a",
   "metadata": {},
   "outputs": [
    {
     "data": {
      "text/plain": [
       "'    HEY GUYS    I AM    DAMILOLA    '"
      ]
     },
     "execution_count": 42,
     "metadata": {},
     "output_type": "execute_result"
    }
   ],
   "source": [
    "text.upper() # converted to uppercase."
   ]
  },
  {
   "cell_type": "code",
   "execution_count": 43,
   "id": "8f883667-3cf2-4e14-92db-e795c0554d4c",
   "metadata": {},
   "outputs": [],
   "source": [
    "new_text = text.upper() "
   ]
  },
  {
   "cell_type": "code",
   "execution_count": 44,
   "id": "bc78257c-3135-436d-b4b0-9e7fca7e9de3",
   "metadata": {},
   "outputs": [
    {
     "data": {
      "text/plain": [
       "'HEY GUYS    I AM    DAMILOLA'"
      ]
     },
     "execution_count": 44,
     "metadata": {},
     "output_type": "execute_result"
    }
   ],
   "source": [
    "new_text.strip()"
   ]
  },
  {
   "cell_type": "code",
   "execution_count": 45,
   "id": "7022723d-2d8b-482e-b344-e990cc2cfa73",
   "metadata": {},
   "outputs": [
    {
     "data": {
      "text/plain": [
       "'    hey guys    i am    damilola    '"
      ]
     },
     "execution_count": 45,
     "metadata": {},
     "output_type": "execute_result"
    }
   ],
   "source": [
    "text.capitalize()"
   ]
  },
  {
   "cell_type": "code",
   "execution_count": 46,
   "id": "20ccad18-7412-478e-a6f9-a16cdcacd406",
   "metadata": {},
   "outputs": [
    {
     "data": {
      "text/plain": [
       "'hEy GuYs    I aM    Damilola    '"
      ]
     },
     "execution_count": 46,
     "metadata": {},
     "output_type": "execute_result"
    }
   ],
   "source": [
    "text.lstrip() # left white space removed "
   ]
  },
  {
   "cell_type": "code",
   "execution_count": 47,
   "id": "a04271ff-9768-4cf5-bda8-101e6c5cadaf",
   "metadata": {},
   "outputs": [
    {
     "data": {
      "text/plain": [
       "'    hEy GuYs    I aM    Damilola'"
      ]
     },
     "execution_count": 47,
     "metadata": {},
     "output_type": "execute_result"
    }
   ],
   "source": [
    "text.rstrip() # right white space removed "
   ]
  },
  {
   "cell_type": "code",
   "execution_count": 48,
   "id": "ed88073b-24d6-44d9-b0dd-378af73c75a7",
   "metadata": {},
   "outputs": [
    {
     "name": "stdout",
     "output_type": "stream",
     "text": [
      "HEY GUYS I AM DAMILOLA\n"
     ]
    }
   ],
   "source": [
    "clean = \" \" .join(new_text.split()) # to remove all white space\n",
    "print(clean)"
   ]
  },
  {
   "cell_type": "code",
   "execution_count": 49,
   "id": "40f26603-6694-4165-8e80-2e86afe76e60",
   "metadata": {},
   "outputs": [],
   "source": [
    "### String repeation ###"
   ]
  },
  {
   "cell_type": "code",
   "execution_count": 50,
   "id": "c87d1e40-b894-435b-9392-ed5b978071e2",
   "metadata": {},
   "outputs": [
    {
     "name": "stdout",
     "output_type": "stream",
     "text": [
      "kay kay kay\n"
     ]
    }
   ],
   "source": [
    "name = 'kay'\n",
    "print(' '.join ([name] * 3))\n"
   ]
  },
  {
   "cell_type": "code",
   "execution_count": 51,
   "id": "fb49dd71-8fd6-485c-8319-9d24e9b8ea65",
   "metadata": {},
   "outputs": [
    {
     "name": "stdout",
     "output_type": "stream",
     "text": [
      "    hEy GuYs    I aM    Damilola    \n"
     ]
    }
   ],
   "source": [
    "## replacing string ##\n",
    "name = 'my name is paul'\n",
    "new_text = text.replace('paul', 'Damilola')\n",
    "print(new_text)"
   ]
  },
  {
   "cell_type": "code",
   "execution_count": 52,
   "id": "b7ccecc7-ba4e-41bd-a25f-c7cac3dfe246",
   "metadata": {},
   "outputs": [
    {
     "name": "stdout",
     "output_type": "stream",
     "text": [
      "['hEy', 'GuYs', 'I', 'aM', 'Damilola']\n"
     ]
    }
   ],
   "source": [
    "## splitintg and joining\n",
    "word = text.split()\n",
    "print(word)"
   ]
  },
  {
   "cell_type": "code",
   "execution_count": 53,
   "id": "46909a12-cccb-45e7-b219-1cbbb9d61805",
   "metadata": {},
   "outputs": [
    {
     "name": "stdout",
     "output_type": "stream",
     "text": [
      "hEy-GuYs-I-aM-Damilola\n"
     ]
    }
   ],
   "source": [
    "words = '-'.join(word)\n",
    "print(words)"
   ]
  },
  {
   "cell_type": "code",
   "execution_count": 54,
   "id": "abebb458-9ec2-4ec2-8936-b7646dc204b1",
   "metadata": {},
   "outputs": [
    {
     "data": {
      "text/plain": [
       "False"
      ]
     },
     "execution_count": 54,
     "metadata": {},
     "output_type": "execute_result"
    }
   ],
   "source": [
    "### Checking string properties ###\n",
    "\n",
    "text = 'hello'\n",
    "\n",
    "text.isdigit()"
   ]
  },
  {
   "cell_type": "code",
   "execution_count": 55,
   "id": "d8aed17e-dd46-4b85-aaa1-75c9c4f83a91",
   "metadata": {},
   "outputs": [
    {
     "data": {
      "text/plain": [
       "True"
      ]
     },
     "execution_count": 55,
     "metadata": {},
     "output_type": "execute_result"
    }
   ],
   "source": [
    "num = '450'\n",
    "\n",
    "num.isdigit() # Return True if the string is a digit string, False otherwise.\n"
   ]
  },
  {
   "cell_type": "code",
   "execution_count": null,
   "id": "ea649f1f-4271-4f38-b234-1cdb62844085",
   "metadata": {},
   "outputs": [],
   "source": []
  },
  {
   "cell_type": "markdown",
   "id": "9a204947-52e3-472f-a05c-c045b88714fc",
   "metadata": {},
   "source": [
    "## List "
   ]
  },
  {
   "cell_type": "code",
   "execution_count": 56,
   "id": "831f55f7-deac-460f-845e-b044382c9f0d",
   "metadata": {},
   "outputs": [],
   "source": [
    "### List ###"
   ]
  },
  {
   "cell_type": "code",
   "execution_count": 57,
   "id": "4a0234af-1735-4c6f-9ed2-97ef1a0b9eba",
   "metadata": {},
   "outputs": [
    {
     "data": {
      "text/plain": [
       "'apple'"
      ]
     },
     "execution_count": 57,
     "metadata": {},
     "output_type": "execute_result"
    }
   ],
   "source": [
    "# List data structure is a mutable, or changeable, by having values between square brackets [ ] . \n",
    "\n",
    "fruits = ['apple', 'mango', 'orange', 'bananas']\n",
    "fruits[0] # for extracting 1 item"
   ]
  },
  {
   "cell_type": "code",
   "execution_count": 58,
   "id": "6823ef5e-ad6e-4727-9bf7-df89008d4e5c",
   "metadata": {},
   "outputs": [
    {
     "data": {
      "text/plain": [
       "['apple', 'mango']"
      ]
     },
     "execution_count": 58,
     "metadata": {},
     "output_type": "execute_result"
    }
   ],
   "source": [
    "# Slicing is used to access parts of sequences like lists, tuples, and strings.\n",
    "\n",
    "fruits[0:2] # for extracting more than 1 element from start to last  "
   ]
  },
  {
   "cell_type": "code",
   "execution_count": 59,
   "id": "cf0518fb-5917-4331-b732-196422206fa1",
   "metadata": {},
   "outputs": [
    {
     "data": {
      "text/plain": [
       "['apple', 'mango', 'orange', 'bananas']"
      ]
     },
     "execution_count": 59,
     "metadata": {},
     "output_type": "execute_result"
    }
   ],
   "source": [
    "fruits[0:] # option 1 for extracting all element"
   ]
  },
  {
   "cell_type": "code",
   "execution_count": 60,
   "id": "304476c5-dd02-4769-90e6-86e3641fc0eb",
   "metadata": {},
   "outputs": [
    {
     "data": {
      "text/plain": [
       "['apple', 'mango', 'orange', 'bananas']"
      ]
     },
     "execution_count": 60,
     "metadata": {},
     "output_type": "execute_result"
    }
   ],
   "source": [
    "fruits[:4] # option 2 for extracting all element"
   ]
  },
  {
   "cell_type": "code",
   "execution_count": 61,
   "id": "ce072cd6-80e8-4af1-bbaa-a8d41cab6b81",
   "metadata": {},
   "outputs": [
    {
     "data": {
      "text/plain": [
       "['apple', 'mango', 'orange']"
      ]
     },
     "execution_count": 61,
     "metadata": {},
     "output_type": "execute_result"
    }
   ],
   "source": [
    "fruits[0:-1] # extracting items excluding the last element."
   ]
  },
  {
   "cell_type": "code",
   "execution_count": 62,
   "id": "3e46ec29-02b8-4f61-a28c-4f53109dd34b",
   "metadata": {},
   "outputs": [
    {
     "data": {
      "text/plain": [
       "['apple', 'orange']"
      ]
     },
     "execution_count": 62,
     "metadata": {},
     "output_type": "execute_result"
    }
   ],
   "source": [
    "fruits[::2] # skipping element"
   ]
  },
  {
   "cell_type": "code",
   "execution_count": 63,
   "id": "c80ade59-2847-4c94-bf83-9fda0c1ba0ef",
   "metadata": {},
   "outputs": [
    {
     "data": {
      "text/plain": [
       "['bananas', 'orange', 'mango', 'apple']"
      ]
     },
     "execution_count": 63,
     "metadata": {},
     "output_type": "execute_result"
    }
   ],
   "source": [
    "# reverse a list\n",
    "fruits[::-1]"
   ]
  },
  {
   "cell_type": "code",
   "execution_count": 64,
   "id": "fec43d68-9c81-4fd7-9ba8-14c46942fcbd",
   "metadata": {},
   "outputs": [
    {
     "data": {
      "text/plain": [
       "['apple', 'mango', 'orange', 'bananas']"
      ]
     },
     "execution_count": 64,
     "metadata": {},
     "output_type": "execute_result"
    }
   ],
   "source": [
    "### modifying adding and removing element ###\n",
    "fruits"
   ]
  },
  {
   "cell_type": "code",
   "execution_count": 65,
   "id": "fe6dd667-8b8e-49b9-9fa9-67d8fdd92a50",
   "metadata": {},
   "outputs": [],
   "source": [
    "fruits[3] = 'date'   # modifying element"
   ]
  },
  {
   "cell_type": "code",
   "execution_count": 66,
   "id": "0dda564d-fdd7-42dd-ad80-1d2fb8c72973",
   "metadata": {},
   "outputs": [
    {
     "data": {
      "text/plain": [
       "['apple', 'mango', 'orange', 'date']"
      ]
     },
     "execution_count": 66,
     "metadata": {},
     "output_type": "execute_result"
    }
   ],
   "source": [
    "fruits "
   ]
  },
  {
   "cell_type": "code",
   "execution_count": 67,
   "id": "4765c2cb-26db-4be7-b2be-6c020cc59f8f",
   "metadata": {},
   "outputs": [],
   "source": [
    "# \n",
    "fruits.append('bananas') # Append object to the end of the list"
   ]
  },
  {
   "cell_type": "code",
   "execution_count": 68,
   "id": "5c3559b5-fbea-499a-a3cc-bdb81f9ea488",
   "metadata": {},
   "outputs": [
    {
     "data": {
      "text/plain": [
       "['apple', 'mango', 'orange', 'date', 'bananas']"
      ]
     },
     "execution_count": 68,
     "metadata": {},
     "output_type": "execute_result"
    }
   ],
   "source": [
    "fruits"
   ]
  },
  {
   "cell_type": "code",
   "execution_count": 69,
   "id": "237e0b4c-20a3-47f8-8fa1-314bb23f78eb",
   "metadata": {},
   "outputs": [
    {
     "data": {
      "text/plain": [
       "['apple', 'pawpaw', 'mango', 'orange', 'date', 'bananas']"
      ]
     },
     "execution_count": 69,
     "metadata": {},
     "output_type": "execute_result"
    }
   ],
   "source": [
    "fruits.insert(1,'pawpaw') # Insert object before index.\n",
    "fruits"
   ]
  },
  {
   "cell_type": "code",
   "execution_count": 70,
   "id": "af3ed5fc-046c-48d1-b67e-dba8d6b054b9",
   "metadata": {},
   "outputs": [],
   "source": [
    "fruits2 = ['Lemons', 'Limes', 'Grapes', 'Pineapple', 'Watermelon']"
   ]
  },
  {
   "cell_type": "code",
   "execution_count": 71,
   "id": "1765556d-3c65-4742-bf29-a528cb9dca88",
   "metadata": {},
   "outputs": [
    {
     "data": {
      "text/plain": [
       "['apple',\n",
       " 'pawpaw',\n",
       " 'mango',\n",
       " 'orange',\n",
       " 'date',\n",
       " 'bananas',\n",
       " 'Lemons',\n",
       " 'Limes',\n",
       " 'Grapes',\n",
       " 'Pineapple',\n",
       " 'Watermelon']"
      ]
     },
     "execution_count": 71,
     "metadata": {},
     "output_type": "execute_result"
    }
   ],
   "source": [
    "fruits + fruits2"
   ]
  },
  {
   "cell_type": "code",
   "execution_count": 72,
   "id": "dc79ddaf-47bd-4300-a14d-c21d2f4f337a",
   "metadata": {},
   "outputs": [
    {
     "data": {
      "text/plain": [
       "['apple',\n",
       " 'pawpaw',\n",
       " 'mango',\n",
       " 'orange',\n",
       " 'date',\n",
       " 'bananas',\n",
       " 'Lemons',\n",
       " 'Limes',\n",
       " 'Grapes',\n",
       " 'Pineapple',\n",
       " 'Watermelon']"
      ]
     },
     "execution_count": 72,
     "metadata": {},
     "output_type": "execute_result"
    }
   ],
   "source": [
    "basket = fruits + fruits2 # concatenating with +\n",
    "basket"
   ]
  },
  {
   "cell_type": "code",
   "execution_count": 73,
   "id": "c0bf5927-6e95-422c-a291-33e3d1d294b4",
   "metadata": {},
   "outputs": [],
   "source": [
    "fruits.extend(fruits2) # add elements of an iterable (such as string, list, tuple, set, etc.) to the end of another list"
   ]
  },
  {
   "cell_type": "code",
   "execution_count": 74,
   "id": "47abe46e-f53c-4d8d-b32f-ee68bdff6a95",
   "metadata": {},
   "outputs": [
    {
     "data": {
      "text/plain": [
       "['apple',\n",
       " 'pawpaw',\n",
       " 'mango',\n",
       " 'orange',\n",
       " 'date',\n",
       " 'bananas',\n",
       " 'Lemons',\n",
       " 'Limes',\n",
       " 'Grapes',\n",
       " 'Pineapple',\n",
       " 'Watermelon']"
      ]
     },
     "execution_count": 74,
     "metadata": {},
     "output_type": "execute_result"
    }
   ],
   "source": [
    "fruits"
   ]
  },
  {
   "cell_type": "code",
   "execution_count": 75,
   "id": "54f9622a-5db3-44de-a135-fe90dace8e32",
   "metadata": {},
   "outputs": [],
   "source": [
    "# Removing element\n",
    "\n",
    "fruits.remove('Limes') # Remove first occurrence of value.\n"
   ]
  },
  {
   "cell_type": "code",
   "execution_count": 76,
   "id": "2f5ab411-b434-47e0-a1d7-c58b6b227506",
   "metadata": {},
   "outputs": [
    {
     "data": {
      "text/plain": [
       "['apple',\n",
       " 'pawpaw',\n",
       " 'mango',\n",
       " 'orange',\n",
       " 'date',\n",
       " 'bananas',\n",
       " 'Lemons',\n",
       " 'Grapes',\n",
       " 'Pineapple',\n",
       " 'Watermelon']"
      ]
     },
     "execution_count": 76,
     "metadata": {},
     "output_type": "execute_result"
    }
   ],
   "source": [
    "fruits"
   ]
  },
  {
   "cell_type": "code",
   "execution_count": 77,
   "id": "b17db0db-6df8-483d-b7e3-5aac49d9003a",
   "metadata": {},
   "outputs": [
    {
     "data": {
      "text/plain": [
       "'Watermelon'"
      ]
     },
     "execution_count": 77,
     "metadata": {},
     "output_type": "execute_result"
    }
   ],
   "source": [
    "basket.pop() # (default last)."
   ]
  },
  {
   "cell_type": "code",
   "execution_count": 78,
   "id": "1f13f29a-c76a-4901-aefc-af3592113f53",
   "metadata": {},
   "outputs": [
    {
     "data": {
      "text/plain": [
       "'Lemons'"
      ]
     },
     "execution_count": 78,
     "metadata": {},
     "output_type": "execute_result"
    }
   ],
   "source": [
    "basket.pop(6) # Remove and return item at index"
   ]
  },
  {
   "cell_type": "code",
   "execution_count": 79,
   "id": "5a4c5f00-6a86-4989-bd10-16c67e7d6da6",
   "metadata": {},
   "outputs": [
    {
     "data": {
      "text/plain": [
       "['apple',\n",
       " 'pawpaw',\n",
       " 'mango',\n",
       " 'orange',\n",
       " 'date',\n",
       " 'bananas',\n",
       " 'Limes',\n",
       " 'Grapes',\n",
       " 'Pineapple']"
      ]
     },
     "execution_count": 79,
     "metadata": {},
     "output_type": "execute_result"
    }
   ],
   "source": [
    "basket"
   ]
  },
  {
   "cell_type": "code",
   "execution_count": 80,
   "id": "bdda0c0c-612b-4c4b-901d-d38be9113ef1",
   "metadata": {},
   "outputs": [
    {
     "data": {
      "text/plain": [
       "['apple', 'pawpaw', 'mango', 'orange', 'date', 'bananas']"
      ]
     },
     "execution_count": 80,
     "metadata": {},
     "output_type": "execute_result"
    }
   ],
   "source": [
    "del basket[6:]\n",
    "basket"
   ]
  },
  {
   "cell_type": "code",
   "execution_count": 81,
   "id": "3d460e46-d74c-4bec-a3b2-9126a0ffdb5f",
   "metadata": {},
   "outputs": [
    {
     "data": {
      "text/plain": [
       "[]"
      ]
     },
     "execution_count": 81,
     "metadata": {},
     "output_type": "execute_result"
    }
   ],
   "source": [
    "fruits2.clear()\n",
    "fruits2"
   ]
  },
  {
   "cell_type": "code",
   "execution_count": 82,
   "id": "ddd67b25-54f7-4609-92a9-af52c232810a",
   "metadata": {},
   "outputs": [
    {
     "data": {
      "text/plain": [
       "('dangote', 'bua', 'elephant')"
      ]
     },
     "execution_count": 82,
     "metadata": {},
     "output_type": "execute_result"
    }
   ],
   "source": [
    "## Tuple: is an immutable (unchangeable) collection of various data type elements. \n",
    "\n",
    "cements = ('dangote', 'bua', 'elephant')\n",
    "cements"
   ]
  },
  {
   "cell_type": "code",
   "execution_count": 83,
   "id": "663db8df-65d3-4b91-91e4-ce7b13ce0d34",
   "metadata": {},
   "outputs": [
    {
     "data": {
      "text/plain": [
       "'bua'"
      ]
     },
     "execution_count": 83,
     "metadata": {},
     "output_type": "execute_result"
    }
   ],
   "source": [
    "cements[1]"
   ]
  },
  {
   "cell_type": "code",
   "execution_count": 84,
   "id": "ebc100ea-daaa-4ad7-8317-c93fd2fc0d57",
   "metadata": {},
   "outputs": [],
   "source": [
    "# List comprehension: It captures the act of defining the elements in the new list\n",
    "\n",
    "cements = ['dangote', 'bua', 'elephant']\n"
   ]
  },
  {
   "cell_type": "code",
   "execution_count": 85,
   "id": "03c42bfa-88da-4a7a-8589-740f4fa3c200",
   "metadata": {},
   "outputs": [
    {
     "data": {
      "text/plain": [
       "['DANGOTE', 'BUA', 'ELEPHANT']"
      ]
     },
     "execution_count": 85,
     "metadata": {},
     "output_type": "execute_result"
    }
   ],
   "source": [
    "new_cements = [cement.upper() for cement in cements]\n",
    "new_cements"
   ]
  },
  {
   "cell_type": "code",
   "execution_count": 86,
   "id": "9e29075c-59db-44d3-817f-f5cb053911e6",
   "metadata": {},
   "outputs": [
    {
     "data": {
      "text/plain": [
       "['dangote', 'bua', 'elephant']"
      ]
     },
     "execution_count": 86,
     "metadata": {},
     "output_type": "execute_result"
    }
   ],
   "source": [
    "new = list(cements)\n",
    "new"
   ]
  },
  {
   "cell_type": "code",
   "execution_count": 87,
   "id": "5ea58c52-085d-47c2-844d-d2c6c106f772",
   "metadata": {},
   "outputs": [
    {
     "data": {
      "text/plain": [
       "[2, 4, 6, 8, 10, 12, 14, 16, 18, 20, 22, 24, 26, 28, 30]"
      ]
     },
     "execution_count": 87,
     "metadata": {},
     "output_type": "execute_result"
    }
   ],
   "source": [
    "my_list = list(range(1, 31)) # Option 1\n",
    "even_numbers = [i for i in range(1, 31) if i % 2 == 0]\n",
    "even_numbers"
   ]
  },
  {
   "cell_type": "code",
   "execution_count": null,
   "id": "7589f507-06c0-4d84-91b5-6297d62814c8",
   "metadata": {},
   "outputs": [],
   "source": []
  },
  {
   "cell_type": "markdown",
   "id": "52fa4d1a-fde1-4bcd-a31c-004aeeb867cb",
   "metadata": {},
   "source": [
    "### Tuple/ Dictionary "
   ]
  },
  {
   "cell_type": "code",
   "execution_count": 88,
   "id": "28b0dee2-9dd2-454f-a259-c23bff5e18a1",
   "metadata": {},
   "outputs": [],
   "source": [
    "language = \"c++\", \"python\""
   ]
  },
  {
   "cell_type": "code",
   "execution_count": 89,
   "id": "c27abf22-9903-4ee2-8bb7-f9b67ed227be",
   "metadata": {},
   "outputs": [
    {
     "data": {
      "text/plain": [
       "('c++', 'python')"
      ]
     },
     "execution_count": 89,
     "metadata": {},
     "output_type": "execute_result"
    }
   ],
   "source": [
    "language"
   ]
  },
  {
   "cell_type": "code",
   "execution_count": 90,
   "id": "3ced2f7e-e707-4514-bfbd-cc14ad58b614",
   "metadata": {},
   "outputs": [
    {
     "ename": "TypeError",
     "evalue": "'tuple' object does not support item assignment",
     "output_type": "error",
     "traceback": [
      "\u001b[1;31m---------------------------------------------------------------------------\u001b[0m",
      "\u001b[1;31mTypeError\u001b[0m                                 Traceback (most recent call last)",
      "Cell \u001b[1;32mIn[90], line 1\u001b[0m\n\u001b[1;32m----> 1\u001b[0m language[\u001b[38;5;241m0\u001b[39m] \u001b[38;5;241m=\u001b[39m \u001b[38;5;124m'\u001b[39m\u001b[38;5;124mc#\u001b[39m\u001b[38;5;124m'\u001b[39m\n",
      "\u001b[1;31mTypeError\u001b[0m: 'tuple' object does not support item assignment"
     ]
    }
   ],
   "source": [
    "language[0] = 'c#'"
   ]
  },
  {
   "cell_type": "code",
   "execution_count": null,
   "id": "8918fcd7-ffa6-447b-b2d5-23f974875937",
   "metadata": {},
   "outputs": [],
   "source": [
    "####  Way around changing the element in tuple ###\n",
    "\n",
    "new = list(language) # changing the tuple to list to make change"
   ]
  },
  {
   "cell_type": "code",
   "execution_count": null,
   "id": "b102d3b6-4b22-4b05-8cd3-c2ca92521cf9",
   "metadata": {},
   "outputs": [],
   "source": [
    "new[0] = 'c#'"
   ]
  },
  {
   "cell_type": "code",
   "execution_count": null,
   "id": "550a336c-83ed-4894-a14e-163b5c13cc12",
   "metadata": {},
   "outputs": [],
   "source": [
    "new"
   ]
  },
  {
   "cell_type": "code",
   "execution_count": null,
   "id": "9bf2d52b-c0e2-4dbf-bdcd-49fd7dff6b81",
   "metadata": {},
   "outputs": [],
   "source": [
    "language = tuple(new) # then back to tuple after the change "
   ]
  },
  {
   "cell_type": "code",
   "execution_count": null,
   "id": "8536e3a6-557b-43de-93b7-836d09c163e1",
   "metadata": {},
   "outputs": [],
   "source": [
    "language"
   ]
  },
  {
   "cell_type": "code",
   "execution_count": null,
   "id": "01c65b69-c563-420e-8a64-80ae01050b0f",
   "metadata": {},
   "outputs": [],
   "source": []
  },
  {
   "cell_type": "code",
   "execution_count": null,
   "id": "9609adba-759c-4689-8bb8-3c54d95d0f9f",
   "metadata": {},
   "outputs": [],
   "source": [
    "# Tuple packing: storing multiple valuse in a single tuple \n",
    "shapes = ( 'square', 'circle')"
   ]
  },
  {
   "cell_type": "code",
   "execution_count": null,
   "id": "e287ee61-1296-4a24-9ad6-a84fc90ef87d",
   "metadata": {},
   "outputs": [],
   "source": [
    "a, b = (shapes) # unpacking"
   ]
  },
  {
   "cell_type": "code",
   "execution_count": null,
   "id": "abb3a686-f9d4-4eeb-9525-c7a3d85a8a29",
   "metadata": {},
   "outputs": [],
   "source": [
    "a"
   ]
  },
  {
   "cell_type": "code",
   "execution_count": null,
   "id": "a3adecdc-7168-48d1-add9-7f69791b2bee",
   "metadata": {},
   "outputs": [],
   "source": [
    "b"
   ]
  },
  {
   "cell_type": "code",
   "execution_count": null,
   "id": "0d71ace6-5811-41c3-9bce-01c25e5a518a",
   "metadata": {},
   "outputs": [],
   "source": [
    "## Set: set uses curly bracket {} not round bracket ()\n",
    "## set rearrange in ascending order\n",
    "## set don't accept duplicate of element\n",
    "\n",
    "Brands ={'nike', 'nike', 'addidas', 'jordan', 'hermes'}\n",
    "Brands"
   ]
  },
  {
   "cell_type": "code",
   "execution_count": null,
   "id": "2c8b6efe-e1bd-4523-ac17-7874ea77f974",
   "metadata": {},
   "outputs": [],
   "source": [
    "Brands.remove('hermes') # .remove method\n",
    "Brands"
   ]
  },
  {
   "cell_type": "code",
   "execution_count": null,
   "id": "dd760b93-3b65-46e4-a020-b6e69a7e194c",
   "metadata": {},
   "outputs": [],
   "source": [
    "Brands.discard('LV') # Unlike set.remove(), the discard() method does not raise an exception when an element is missing from the set.\n",
    "Brands"
   ]
  },
  {
   "cell_type": "code",
   "execution_count": null,
   "id": "77b0f4a4-a54e-4d83-a113-2195b601e1b1",
   "metadata": {},
   "outputs": [],
   "source": [
    "Brands.pop() # Remove and return an arbitrary set element.\n",
    "Brands"
   ]
  },
  {
   "cell_type": "code",
   "execution_count": null,
   "id": "edf7478c-2a45-4fc0-8353-2dd11d04255a",
   "metadata": {},
   "outputs": [],
   "source": [
    "Brands.add('gucci')\n",
    "Brands"
   ]
  },
  {
   "cell_type": "code",
   "execution_count": null,
   "id": "8fdce5d2-7c32-4808-aa33-fbd8d31341c0",
   "metadata": {},
   "outputs": [],
   "source": [
    "# Dictionary : dictionary also use culy bracket{} \n",
    "student = {\n",
    "    'name' : 'Damilola',\n",
    "    'age' : 25,\n",
    "    'cgpa' :3.6\n",
    "}\n"
   ]
  },
  {
   "cell_type": "code",
   "execution_count": null,
   "id": "7b9d9e67-487a-4913-990f-c2968a74487c",
   "metadata": {},
   "outputs": [],
   "source": [
    "student"
   ]
  },
  {
   "cell_type": "code",
   "execution_count": null,
   "id": "cb90f6c9-62fb-4f81-91b2-0d101ed71d48",
   "metadata": {},
   "outputs": [],
   "source": [
    "student.keys() # .keys provide the keys in dictionary "
   ]
  },
  {
   "cell_type": "code",
   "execution_count": null,
   "id": "42bc0ddb-d3d2-44df-9802-30861d35859a",
   "metadata": {},
   "outputs": [],
   "source": [
    "student.values() # .values provide the values in dictionary "
   ]
  },
  {
   "cell_type": "code",
   "execution_count": null,
   "id": "b1dfd1ad-7ab6-4588-9f1c-84681fd644dd",
   "metadata": {},
   "outputs": [],
   "source": [
    "student.items() # .items provide the items in dictionary "
   ]
  },
  {
   "cell_type": "code",
   "execution_count": null,
   "id": "0d5dea49-0fd8-4d98-9c71-468e8941e1e2",
   "metadata": {},
   "outputs": [],
   "source": []
  },
  {
   "cell_type": "code",
   "execution_count": null,
   "id": "9249153c-809a-45b0-9f31-84e90d7ed1b5",
   "metadata": {},
   "outputs": [],
   "source": [
    "\n",
    "students = { \n",
    "    'name':[ 'beckt','musa','lawal'],\n",
    "    'Age':[25,30,23],\n",
    "    'GPA':[4.2,3.9,4.1]}\n",
    "students"
   ]
  },
  {
   "cell_type": "code",
   "execution_count": null,
   "id": "b0b5481c-2b7b-4dad-a58b-af570ade982d",
   "metadata": {},
   "outputs": [],
   "source": [
    "import pandas as pd\n",
    "df=pd.DataFrame(students)\n",
    "df"
   ]
  },
  {
   "cell_type": "code",
   "execution_count": null,
   "id": "d9a232d4-90b5-433a-bbe4-12e7c9a8bcbd",
   "metadata": {},
   "outputs": [],
   "source": []
  },
  {
   "cell_type": "code",
   "execution_count": null,
   "id": "1a394cd9-4bd2-4ccc-9b2c-b123ba0225f2",
   "metadata": {},
   "outputs": [],
   "source": []
  },
  {
   "cell_type": "markdown",
   "id": "f842103f-daaf-4294-853e-5b43e7a240b7",
   "metadata": {},
   "source": [
    "### Condition statement"
   ]
  },
  {
   "cell_type": "code",
   "execution_count": null,
   "id": "b4a8065f-b120-467e-b412-f8dbab49ee85",
   "metadata": {},
   "outputs": [],
   "source": [
    "## Condition statement"
   ]
  },
  {
   "cell_type": "code",
   "execution_count": null,
   "id": "baea8ba8-1525-4155-b1a3-0a8291f491c3",
   "metadata": {},
   "outputs": [],
   "source": [
    "# if statements:is a condition statement used to check a condition, and execute it if the condition holds true.\n",
    "age = 18 \n",
    "\n",
    "if age >=18:\n",
    "    print('you are eligible to vote')"
   ]
  },
  {
   "cell_type": "code",
   "execution_count": null,
   "id": "d499cf54-8e6e-4673-8d57-1d462556d78b",
   "metadata": {},
   "outputs": [],
   "source": [
    "# step 2 this checks if temperature is greater than or equal to 25 — not if it's greater than or equal to 30.\n",
    "\n",
    "Temperature =30\n",
    "\n",
    "if Temperature > 25:\n",
    "     print(\"it's a sunny day!\")"
   ]
  },
  {
   "cell_type": "code",
   "execution_count": null,
   "id": "3cd59de0-21f0-4ccb-bdfe-91d0bd045902",
   "metadata": {},
   "outputs": [],
   "source": [
    "## Else statement: used in conditional statements (if statements), and decides what to do if the condition is False\n",
    "\n",
    "Temperature =30\n",
    "\n",
    "if Temperature >= 31:\n",
    "     print(\"it's a sunny day!\")\n",
    "else:\n",
    "    print(\"it's a cool day!\")"
   ]
  },
  {
   "cell_type": "code",
   "execution_count": null,
   "id": "66187219-6c78-4943-a32f-e205585f4e3c",
   "metadata": {},
   "outputs": [],
   "source": [
    "num = 19\n",
    "\n",
    "if num % 2==0:\n",
    "    print(f'the number {num} is even')\n",
    "else :\n",
    "    print(f'the number {num} is odd')"
   ]
  },
  {
   "cell_type": "code",
   "execution_count": null,
   "id": "dec48cd3-63ca-49fd-9abb-e3a6c5c4e08b",
   "metadata": {},
   "outputs": [],
   "source": [
    "# user input\n",
    "num = input('enter a number:')\n",
    "num = int(num) # in order for this code to run we need to convert the (num) which is str to int\n",
    "\n",
    "if num % 2==0:\n",
    "    print(f'the number {num} is even')\n",
    "else :\n",
    "    print(f'the number {num} is odd')"
   ]
  },
  {
   "cell_type": "code",
   "execution_count": null,
   "id": "4bf32756-a006-4b7d-8aa0-52f75ab622f4",
   "metadata": {},
   "outputs": [],
   "source": [
    "score = float(input(\"What's your score?\"))\n",
    "\n",
    "if score >=50:\n",
    "    print('C')\n",
    "else:\n",
    "    print('D')"
   ]
  },
  {
   "cell_type": "code",
   "execution_count": null,
   "id": "16b5d0e9-6d67-4317-b7ef-41bdce9c5ef7",
   "metadata": {},
   "outputs": [],
   "source": [
    "# Elif statement:  It can be used in conditional statements to check for multiple conditions\n",
    "score = float(input(\"What's your score?\"))\n",
    "\n",
    "if score >=60:\n",
    "    print('B')\n",
    "elif score >=50:\n",
    "    print('C')\n",
    "elif score >=40:\n",
    "    print('D')\n",
    "else:\n",
    "    print('F')"
   ]
  },
  {
   "cell_type": "code",
   "execution_count": null,
   "id": "b153f6c4-191d-4f1e-9eb3-f622518f90fe",
   "metadata": {},
   "outputs": [],
   "source": [
    "# traffic light\n",
    "# .lower in this code is to format the input to lower_case even it's written in upper_case to avoid invalid input\n",
    "\n",
    "\n",
    "Traffic_light =input(\"traffic light blink?\").lower() \n",
    "print('--' *10)\n",
    "\n",
    "if Traffic_light == ('red'):\n",
    "    print('stop')\n",
    "elif Traffic_light == ('green'):\n",
    "    print('go')\n",
    "elif Traffic_light == ('orange'):\n",
    "    print('wait')\n",
    "else:\n",
    "    print('invalid input')"
   ]
  },
  {
   "cell_type": "code",
   "execution_count": null,
   "id": "7a316bf0-2a2b-410b-98a3-0058c826026d",
   "metadata": {},
   "outputs": [],
   "source": [
    "# if with logical statement \n",
    "# when using 'and' it means both requirements must be met\n",
    "# when using 'or' one of the requirement must be met\n",
    "\n",
    "## full scholarship reguirement ##\n",
    "# gpa > 4.49\n",
    "# volunteer hours > 20 hours\n",
    "\n",
    "## partial scholarship reguirement ##\n",
    "# gpa > 4.0\n",
    "# volunteer hours > 10 hours\n",
    "\n",
    "#Scholarship Eligibility\n",
    "GPA = float(input('Your GPA:'))\n",
    "Hours = int(input('Volunteer hours'))\n",
    "\n",
    "if GPA > 4.49 and Hours > 20:\n",
    "    print('You are eligible for full scholarship')\n",
    "elif GPA > 4.0 or Hours > 10:\n",
    "    print('You are eligiblr for partial scholarship')\n",
    "else:\n",
    "    print ('you are no eligible')\n",
    "\n",
    "\n"
   ]
  },
  {
   "cell_type": "code",
   "execution_count": null,
   "id": "a31fe09a-eea6-4c49-af16-fd64813aaf58",
   "metadata": {},
   "outputs": [],
   "source": [
    "# pass statement used as a placeholder for future code. \n",
    "\n",
    "# When the pass statement is executed, nothing happens, but you avoid getting an error when empty code is not allowed. \n",
    "\n",
    "age = int(input( 'enter your age'))\n",
    "citizen_status = input('are you a citizen:')\n",
    "\n",
    "if age >=18 and citizen_status == 'yes':\n",
    "    pass"
   ]
  },
  {
   "cell_type": "code",
   "execution_count": null,
   "id": "c733a52e-7f92-423b-a8a0-5c31aa56c383",
   "metadata": {},
   "outputs": [],
   "source": [
    "## ## Nested condition are if statements inside another if statement\n",
    "\n",
    "# Voters eligibility checker\n",
    "\n",
    "# Age > 18\n",
    "# a citizen = you are eligible to vote\n",
    "# non citizen = You are not eligible to vote\n",
    "\n",
    "# Age <18 = You are not eligible to vote without Taking me to citizen_status\n",
    "\n",
    "\n",
    "age = int(input( 'enter your age'))\n",
    "\n",
    "\n",
    "if age >=18:\n",
    "    citizen_status = input('are you a citizen:')\n",
    "    \n",
    "    if age >=18 and citizen_status == 'yes':\n",
    "        print('you are eligible to vote')\n",
    "        \n",
    "    elif age >=18 and citizen_status == 'no':\n",
    "        print('you must be a citizen to be eligible')\n",
    "else:\n",
    "    print('You are not eligible to vote')\n",
    "    \n",
    "\n",
    "    \n",
    "\n",
    "  "
   ]
  },
  {
   "cell_type": "markdown",
   "id": "2438e078-c202-4be5-bcda-cb51a0b3f183",
   "metadata": {},
   "source": [
    "## Python loop"
   ]
  },
  {
   "cell_type": "code",
   "execution_count": null,
   "id": "ff227b83-f854-48de-89a3-d2f6c89479d5",
   "metadata": {},
   "outputs": [],
   "source": [
    "# Python loop\n",
    "# while loop repeatedly excute a code look if the condition remain true\n",
    "count = 1\n",
    "while count <= 10:\n",
    "    print(f' counting my apple: {count}')\n",
    "    count = count + 1"
   ]
  },
  {
   "cell_type": "code",
   "execution_count": null,
   "id": "4be1082e-e479-4318-88a3-419b4605592a",
   "metadata": {},
   "outputs": [],
   "source": [
    "# example 2\n",
    "num = 0\n",
    "while num <=10:\n",
    "    print(f' the square of {num} is {num**2}')\n",
    "    num = num + 1"
   ]
  },
  {
   "cell_type": "code",
   "execution_count": null,
   "id": "6a1a2b25-2ad3-4c45-a706-e078be39d9a4",
   "metadata": {},
   "outputs": [],
   "source": [
    "# factorial of a num\n",
    "num = 7\n",
    "\n",
    "result = 1\n",
    "while num  >= 1:\n",
    "    result = result * num\n",
    "    num = num -1\n",
    "\n",
    "print(result)\n"
   ]
  },
  {
   "cell_type": "code",
   "execution_count": null,
   "id": "74174aed-6a44-49f7-b574-4466bcb4eee6",
   "metadata": {},
   "outputs": [],
   "source": [
    "# right angle\n",
    "line = '*'\n",
    "max_length = 10\n",
    "while len(line) <= max_length:\n",
    "    print(line + space)\n",
    "    line = line + '*'\n"
   ]
  },
  {
   "cell_type": "code",
   "execution_count": null,
   "id": "5282df89-38ff-4bef-949a-251a72bba5b5",
   "metadata": {},
   "outputs": [],
   "source": [
    "line = '*'\n",
    "\n",
    "max_length = 10\n",
    "while len(line) <= max_length:\n",
    "    print(line)\n",
    "    line = line + '*'\n",
    "while len(line) >0:\n",
    "    print(line)\n",
    "    line = line [:-1]"
   ]
  },
  {
   "cell_type": "markdown",
   "id": "12ce71fa-b259-4721-89d1-e22c331f8b40",
   "metadata": {},
   "source": [
    "## Loop and function"
   ]
  },
  {
   "cell_type": "code",
   "execution_count": null,
   "id": "f9ec3cfc-9566-4831-b50e-cfbbbdafa881",
   "metadata": {},
   "outputs": [],
   "source": [
    "# break and continue statement"
   ]
  },
  {
   "cell_type": "code",
   "execution_count": null,
   "id": "0b510e50-9edb-4b64-ae2a-6954a3a2afc4",
   "metadata": {},
   "outputs": [],
   "source": [
    "i = 1 \n",
    "while i <=10:\n",
    "    print(i)\n",
    "    if i==7:\n",
    "        print('stop')\n",
    "        break\n",
    "    i += 1"
   ]
  },
  {
   "cell_type": "code",
   "execution_count": null,
   "id": "67619dc2-c54b-4b59-b02a-21b5e609e276",
   "metadata": {},
   "outputs": [],
   "source": [
    "# shopping system\n",
    "balance = float(input(' enter your available balance: $'))\n",
    "\n",
    "item_price = 0\n",
    "\n",
    "while balance >= 0:\n",
    "    print('\\nwelcome to our online store')\n",
    "    item_price = float(input(f'Your balance is ${balance}. enter item price you want to buy. $'))\n",
    "    # check for valid item price\n",
    "    if item_price <=0:\n",
    "        print('enter a valid amount greater than $0')\n",
    "        continue\n",
    "    # check for enough balance\n",
    "    if item_price > balance:\n",
    "        print('insufficient fund')\n",
    "        continue\n",
    "    # confirm purchase\n",
    "    confirm = input('are you sure you want to buy this item? (yes/no)').lower()\n",
    "    if confirm =='yes':\n",
    "        balance -= item_price\n",
    "        print(' purchase successfully')\n",
    "        print(f'remaining balance ${balance}')\n",
    "    else:\n",
    "        print('purchase canceled')\n",
    "    #check balance if zero\n",
    "    if balance == 0:\n",
    "        print('thank you for shopping with us')\n",
    "        break\n",
    "    #ask shopper for continue shopping\n",
    "    continue_shopping = input('Do you want to continue shopping? (yes/no)').lower()\n",
    "    if continue_shopping != 'yes':\n",
    "        print(f'thank you for patronizing us. your balance is ${balance}')\n",
    "    if continue_shopping == 'no':\n",
    "        print(f'thank you for patronizing us. your balance is ${balance}')\n",
    "        break\n",
    "    "
   ]
  },
  {
   "cell_type": "code",
   "execution_count": null,
   "id": "1c178c1e-c188-4ccf-a665-2457bfc1bbbe",
   "metadata": {},
   "outputs": [],
   "source": [
    "# For loop is  use to iterate"
   ]
  },
  {
   "cell_type": "code",
   "execution_count": null,
   "id": "a54de22a-ec00-43d3-97c6-1c589529179a",
   "metadata": {},
   "outputs": [],
   "source": [
    "day = 'monday'\n",
    "\n",
    "for char in day:\n",
    "    print(char)"
   ]
  },
  {
   "cell_type": "code",
   "execution_count": null,
   "id": "5e0b3e59-20f8-46f4-96ea-924592ed3001",
   "metadata": {},
   "outputs": [],
   "source": [
    "fruits = ['mango', 'banana']\n",
    "for fruit in fruits:\n",
    "    print(fruit)"
   ]
  },
  {
   "cell_type": "code",
   "execution_count": null,
   "id": "815dfd5b-b346-403d-b144-6121e856fffc",
   "metadata": {},
   "outputs": [],
   "source": [
    "# multiplication table\n",
    "table = 3\n",
    "for i in range(1, 13):\n",
    "    print(f'{table} * {i} = {table * i}')\n"
   ]
  },
  {
   "cell_type": "code",
   "execution_count": null,
   "id": "6d9869d7-c3f4-44df-83ec-d161cb71893b",
   "metadata": {},
   "outputs": [],
   "source": [
    "# nexted loop\n",
    "\n",
    "for table in range(2, 7):\n",
    "    for i in range(1, 13):\n",
    "        print(f'{table} * {i} = {table * i}')\n",
    "    print('--'*5)"
   ]
  },
  {
   "cell_type": "code",
   "execution_count": null,
   "id": "31b4458e-f737-49dd-9781-6845636c5cc2",
   "metadata": {},
   "outputs": [],
   "source": [
    "# iterating using range and enumerate\n",
    "\n",
    "weekdays =['Mon', 'Tue', 'Wed', 'Thur', 'Fri']\n",
    "\n",
    "for index, day in enumerate(weekdays):\n",
    "    print(index, day)"
   ]
  },
  {
   "cell_type": "code",
   "execution_count": null,
   "id": "429b138e-5926-4af6-be5c-ad27d1ed57a8",
   "metadata": {},
   "outputs": [],
   "source": [
    "# building a functions\n",
    "def great():\n",
    "    print('hello')"
   ]
  },
  {
   "cell_type": "code",
   "execution_count": null,
   "id": "ce3cc344-b3c9-485c-bac4-25ffad4013d5",
   "metadata": {},
   "outputs": [],
   "source": [
    "great()"
   ]
  },
  {
   "cell_type": "code",
   "execution_count": null,
   "id": "e8e7a2cc-425e-4825-9297-4d432ea880de",
   "metadata": {},
   "outputs": [],
   "source": [
    "# assigning parameters\n",
    "def add(a, b):\n",
    "    print(a+b)"
   ]
  },
  {
   "cell_type": "code",
   "execution_count": null,
   "id": "337b3a5d-7b69-45f5-8a58-4fb3ebd140d6",
   "metadata": {},
   "outputs": [],
   "source": [
    "add(2, 4)"
   ]
  },
  {
   "cell_type": "code",
   "execution_count": null,
   "id": "03013b5b-6562-4523-bb14-7c2eb12b3993",
   "metadata": {},
   "outputs": [],
   "source": [
    "def power(num, exponent):\n",
    "    return(num**exponent)"
   ]
  },
  {
   "cell_type": "code",
   "execution_count": null,
   "id": "c8e9beb0-a589-4c85-800a-b752907430ba",
   "metadata": {},
   "outputs": [],
   "source": [
    "power(2, 5)"
   ]
  },
  {
   "cell_type": "code",
   "execution_count": null,
   "id": "20ec869b-71ae-48fc-a78c-a84f71642568",
   "metadata": {},
   "outputs": [],
   "source": [
    "# assigning a default parameter\n",
    "def describe_car(make, model, year=2025): \n",
    "    print(f' This is  {year} {make} {model}')"
   ]
  },
  {
   "cell_type": "code",
   "execution_count": null,
   "id": "ab449c50-4381-44ce-9f29-68e040350a62",
   "metadata": {},
   "outputs": [],
   "source": [
    "describe_car('BMW', '3.series')"
   ]
  },
  {
   "cell_type": "code",
   "execution_count": null,
   "id": "64a468a7-815e-4a68-b921-f95e74d5b047",
   "metadata": {},
   "outputs": [],
   "source": [
    "# changing default parameter\n",
    "describe_car('BMW', '3.series', year=2019)"
   ]
  },
  {
   "cell_type": "code",
   "execution_count": null,
   "id": "c23faab4-1166-4ad3-850a-72f293c38f86",
   "metadata": {},
   "outputs": [],
   "source": [
    "# *args handle many positional Arguments\n",
    "\n",
    "def total(*numbers):\n",
    "    print (sum(numbers))"
   ]
  },
  {
   "cell_type": "code",
   "execution_count": null,
   "id": "7078167a-662a-44d5-b51c-b03c4aa2ad97",
   "metadata": {},
   "outputs": [],
   "source": [
    "total(1,2,3,4,5,6)"
   ]
  },
  {
   "cell_type": "code",
   "execution_count": null,
   "id": "b71a8c51-06bb-49ed-8387-0d4871542e96",
   "metadata": {},
   "outputs": [],
   "source": []
  },
  {
   "cell_type": "code",
   "execution_count": null,
   "id": "f266d67c-3cff-4db9-b9ee-8aa52838b6d5",
   "metadata": {},
   "outputs": [],
   "source": []
  }
 ],
 "metadata": {
  "kernelspec": {
   "display_name": "Python 3 (ipykernel)",
   "language": "python",
   "name": "python3"
  },
  "language_info": {
   "codemirror_mode": {
    "name": "ipython",
    "version": 3
   },
   "file_extension": ".py",
   "mimetype": "text/x-python",
   "name": "python",
   "nbconvert_exporter": "python",
   "pygments_lexer": "ipython3",
   "version": "3.12.7"
  }
 },
 "nbformat": 4,
 "nbformat_minor": 5
}
