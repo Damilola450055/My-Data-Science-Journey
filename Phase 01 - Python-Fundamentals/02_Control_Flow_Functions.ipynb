{
 "cells": [
  {
   "cell_type": "code",
   "execution_count": 1,
   "id": "4197deec",
   "metadata": {},
   "outputs": [
    {
     "name": "stdin",
     "output_type": "stream",
     "text": [
      "Enter your old password:  5555\n"
     ]
    },
    {
     "name": "stdout",
     "output_type": "stream",
     "text": [
      "Old password: 5555\n"
     ]
    }
   ],
   "source": [
    "# Asking the user for their old password and printing it\n",
    "user_input = input(\"Enter your old password: \")\n",
    "print(f\"Old password: {user_input}\")  # Displaying user input\n"
   ]
  },
  {
   "cell_type": "code",
   "execution_count": 2,
   "id": "17e5e584-7de3-44e3-8d1a-a42fb0fb09ee",
   "metadata": {},
   "outputs": [
    {
     "name": "stdout",
     "output_type": "stream",
     "text": [
      "Alice\n",
      "30\n",
      "1.65\n",
      "True\n"
     ]
    }
   ],
   "source": [
    "##### Examples of variable\n",
    "name = 'Alice'  # String variable bcause it contain Alphabet \n",
    "age = 30        # Integer variable because it contain Digit\n",
    "height = 1.65   # Float variable because it contain Decimal\n",
    "is_student = True  # Boolean data type print True or false statement \n",
    "\n",
    "print(name)\n",
    "print(age)\n",
    "print(height)\n",
    "print(is_student)"
   ]
  },
  {
   "cell_type": "code",
   "execution_count": null,
   "id": "1d9cc949-a2a0-4426-b838-50dccd6861ed",
   "metadata": {},
   "outputs": [],
   "source": []
  }
 ],
 "metadata": {
  "kernelspec": {
   "display_name": "Python 3 (ipykernel)",
   "language": "python",
   "name": "python3"
  },
  "language_info": {
   "codemirror_mode": {
    "name": "ipython",
    "version": 3
   },
   "file_extension": ".py",
   "mimetype": "text/x-python",
   "name": "python",
   "nbconvert_exporter": "python",
   "pygments_lexer": "ipython3",
   "version": "3.12.7"
  }
 },
 "nbformat": 4,
 "nbformat_minor": 5
}
