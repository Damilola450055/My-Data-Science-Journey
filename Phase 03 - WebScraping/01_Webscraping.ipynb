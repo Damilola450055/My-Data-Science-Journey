{
 "cells": [
  {
   "cell_type": "markdown",
   "id": "b4ae3d4e-8bdd-4b54-a4d6-24d26df23bc9",
   "metadata": {},
   "source": [
    "# **Web Scraping Notes**\n",
    "\n",
    "Web scraping is the process of automatically extracting data from websites. It allows you to collect and organize data from the web for analysis or other purposes.\n",
    "\n",
    "---\n",
    "\n",
    "## **Applications of Web Scraping**\n",
    "1. **Data Collection for Research**: Gathering data for academic or market research.\n",
    "2. **E-commerce**: Extracting product prices, reviews, or inventory details.\n",
    "3. **Competitor Analysis**: Tracking competitors' offerings and updates.\n",
    "4. **News Aggregation**: Collecting headlines or articles from news websites.\n",
    "5. **Social Media Insights**: Analyzing trends or user-generated content.\n",
    "\n",
    "---\n",
    "\n",
    "## **Basic Steps in Web Scraping**\n",
    "1. **Identify the Website**:\n",
    "   - Choose a website with the data you want to scrape.\n",
    "2. **Analyze the Website Structure**:\n",
    "   - Use browser tools (Inspect Element) to examine the HTML structure of the webpage.\n",
    "3. **Send an HTTP Request**:\n",
    "   - Use tools like Python's `requests` library to fetch the webpage's content.\n",
    "4. **Parse the HTML**:\n",
    "   - Use libraries like `BeautifulSoup` to extract specific data.\n",
    "5. **Store the Data**:\n",
    "   - Save the extracted data in a file (e.g., CSV, JSON) or a database.\n",
    "\n",
    "---\n",
    "\n",
    "## **Common Tools for Web Scraping**\n",
    "1. **Programming Languages**: Python is the most popular for web scraping.\n",
    "2. **Libraries**:\n",
    "   - `requests`: For sending HTTP requests to websites.\n",
    "   - `BeautifulSoup`: For parsing and extracting data from HTML.\n",
    "   - `pandas`: For storing and analyzing scraped data.\n",
    "   - `Selenium`: For handling JavaScript-heavy websites.\n",
    "\n",
    "---\n"
   ]
  },
  {
   "cell_type": "markdown",
   "id": "7709b473-3ca8-4e40-939e-6295402480d7",
   "metadata": {},
   "source": [
    "## Scraping Top IMDB Movies"
   ]
  },
  {
   "cell_type": "code",
   "execution_count": 1,
   "id": "8c3cac2d-f4f6-42b0-88fe-9958ec477fe6",
   "metadata": {},
   "outputs": [],
   "source": [
    "# import necessary libraries\n",
    "import pandas as pd\n",
    "import numpy as np\n",
    "import requests\n",
    "from bs4 import BeautifulSoup"
   ]
  },
  {
   "cell_type": "code",
   "execution_count": 2,
   "id": "f5986ea0-609d-4099-8448-970b3965c6fc",
   "metadata": {},
   "outputs": [
    {
     "data": {
      "text/plain": [
       "'https://www.imdb.com/search/title/?groups=top_250'"
      ]
     },
     "execution_count": 2,
     "metadata": {},
     "output_type": "execute_result"
    }
   ],
   "source": [
    "url = 'https://www.imdb.com/search/title/?groups=top_250'\n",
    "url"
   ]
  },
  {
   "cell_type": "code",
   "execution_count": 3,
   "id": "64bb256d-6654-4065-9418-a133294f2a5b",
   "metadata": {},
   "outputs": [
    {
     "data": {
      "text/plain": [
       "<Response [403]>"
      ]
     },
     "execution_count": 3,
     "metadata": {},
     "output_type": "execute_result"
    }
   ],
   "source": [
    "response = requests.get(url)\n",
    "response"
   ]
  },
  {
   "cell_type": "markdown",
   "id": "74f3561a-4b44-454e-bc58-eb671c8fe87e",
   "metadata": {},
   "source": [
    "| **Status Code** | **Category**              | **Description**                                                                 |\n",
    "|------------------|---------------------------|---------------------------------------------------------------------------------|\n",
    "| **100**          | Informational Response   | Continue: The client can proceed with the request body.                        |\n",
    "| **101**          | Informational Response   | Switching Protocols: The server is switching protocols as requested.           |\n",
    "| **200**          | Success                  | OK: The request was successful, and the desired content was returned.          |\n",
    "| **201**          | Success                  | Created: The request was successful, and a new resource was created.           |\n",
    "| **204**          | Success                  | No Content: The server successfully processed the request, but no content returned. |\n",
    "| **301**          | Redirection              | Moved Permanently: The resource has been moved to a new URL permanently.        |\n",
    "| **302**          | Redirection              | Found: The resource is temporarily located at a different URL.                 |\n",
    "| **304**          | Redirection              | Not Modified: The resource has not been modified since the last request.       |\n",
    "| **400**          | Client Error             | Bad Request: The server could not understand the request due to invalid syntax.|\n",
    "| **401**          | Client Error             | Unauthorized: Authentication is required to access the resource.               |\n",
    "| **403**          | Client Error             | Forbidden: The server understands the request but refuses to authorize it.     |\n",
    "| **404**          | Client Error             | Not Found: The requested resource was not found on the server.                 |\n",
    "| **429**          | Client Error             | Too Many Requests: The client sent too many requests in a given time (rate-limiting). |\n",
    "| **500**          | Server Error             | Internal Server Error: The server encountered an unexpected error.             |\n",
    "| **502**          | Server Error             | Bad Gateway: The server received an invalid response from an upstream server.  |\n",
    "| **503**          | Server Error             | Service Unavailable: The server is temporarily unavailable due to maintenance or overload. |\n",
    "| **504**          | Server Error             | Gateway Timeout: The server did not receive a timely response from an upstream server. |\n"
   ]
  },
  {
   "cell_type": "code",
   "execution_count": 4,
   "id": "e509ebb9-15ba-462f-912d-97d1c4dd3c47",
   "metadata": {},
   "outputs": [],
   "source": [
    "with requests.Session() as se:\n",
    "    se.headers = {\n",
    "        \"User-Agent\": \"Mozilla/5.0 (Windows NT 10.0; Win64; x64) AppleWebKit/537.36 (KHTML, like Gecko) Chrome/70.0.3538.110 Safari/537.36\",\n",
    "        \"Accept-Encoding\": \"gzip, deflate\",\n",
    "        \"Accept\": \"text/html,application/xhtml+xml,application/xml;q=0.9,image/webp,image/apng,*/*;q=0.8\",\n",
    "        \"Accept-Language\": \"en\"\n",
    "    }"
   ]
  },
  {
   "cell_type": "code",
   "execution_count": 5,
   "id": "cc7ff2fe-0db6-45c5-a8d8-fecc5b2d0114",
   "metadata": {},
   "outputs": [
    {
     "data": {
      "text/plain": [
       "<Response [200]>"
      ]
     },
     "execution_count": 5,
     "metadata": {},
     "output_type": "execute_result"
    }
   ],
   "source": [
    "response = se.get(url)\n",
    "response"
   ]
  },
  {
   "cell_type": "code",
   "execution_count": 6,
   "id": "0fc0a276-c5e2-4b57-b228-5e08a5fbb99b",
   "metadata": {},
   "outputs": [],
   "source": [
    "body = response.content"
   ]
  },
  {
   "cell_type": "code",
   "execution_count": 8,
   "id": "a406cd8c-5c6f-402e-b0ab-d543e50f3e46",
   "metadata": {},
   "outputs": [],
   "source": [
    "soup = BeautifulSoup(body, 'html.parser')"
   ]
  },
  {
   "cell_type": "markdown",
   "id": "6c49222c-a4b7-49f9-840f-2808e3d91569",
   "metadata": {},
   "source": [
    "#### Scrape the movie's title"
   ]
  },
  {
   "cell_type": "code",
   "execution_count": 11,
   "id": "c838e7bf-46b2-4e30-ac54-59e56d178d8d",
   "metadata": {},
   "outputs": [
    {
     "ename": "SyntaxError",
     "evalue": "invalid syntax (2710865570.py, line 1)",
     "output_type": "error",
     "traceback": [
      "\u001b[1;36m  Cell \u001b[1;32mIn[11], line 1\u001b[1;36m\u001b[0m\n\u001b[1;33m    <h3 class=\"ipc-title__text\">1. Gladiator</h3>\u001b[0m\n\u001b[1;37m    ^\u001b[0m\n\u001b[1;31mSyntaxError\u001b[0m\u001b[1;31m:\u001b[0m invalid syntax\n"
     ]
    }
   ],
   "source": [
    "<h3 class=\"ipc-title__text\">1. Gladiator</h3>"
   ]
  },
  {
   "cell_type": "code",
   "execution_count": 12,
   "id": "277432b2-2d59-436c-96bc-b5b8514c3275",
   "metadata": {
    "scrolled": true
   },
   "outputs": [
    {
     "data": {
      "text/plain": [
       "<h3 class=\"ipc-title__text\">1. The Shawshank Redemption</h3>"
      ]
     },
     "execution_count": 12,
     "metadata": {},
     "output_type": "execute_result"
    }
   ],
   "source": [
    "movies_title = soup.find('h3', class_=\"ipc-title__text\")\n",
    "movies_title"
   ]
  },
  {
   "cell_type": "code",
   "execution_count": 13,
   "id": "9a6cde3d-31dd-4516-b63e-5eab7f8a6b79",
   "metadata": {},
   "outputs": [
    {
     "data": {
      "text/plain": [
       "'1. The Shawshank Redemption'"
      ]
     },
     "execution_count": 13,
     "metadata": {},
     "output_type": "execute_result"
    }
   ],
   "source": [
    "movies_title.get_text()"
   ]
  },
  {
   "cell_type": "code",
   "execution_count": 14,
   "id": "48845d9f-dd77-4f6d-bbfd-347d5832d84d",
   "metadata": {},
   "outputs": [
    {
     "data": {
      "text/plain": [
       "[<h3 class=\"ipc-title__text\">1. The Shawshank Redemption</h3>,\n",
       " <h3 class=\"ipc-title__text\">2. Star Wars: Episode IV - A New Hope</h3>,\n",
       " <h3 class=\"ipc-title__text\">3. The Dark Knight</h3>,\n",
       " <h3 class=\"ipc-title__text\">4. Inception</h3>,\n",
       " <h3 class=\"ipc-title__text\">5. Interstellar</h3>,\n",
       " <h3 class=\"ipc-title__text\">6. The Godfather</h3>,\n",
       " <h3 class=\"ipc-title__text\">7. Top Gun: Maverick</h3>,\n",
       " <h3 class=\"ipc-title__text\">8. Gladiator</h3>,\n",
       " <h3 class=\"ipc-title__text\">9. Oppenheimer</h3>,\n",
       " <h3 class=\"ipc-title__text\">10. Pulp Fiction</h3>,\n",
       " <h3 class=\"ipc-title__text\">11. Inglourious Basterds</h3>,\n",
       " <h3 class=\"ipc-title__text\">12. The Lord of the Rings: The Fellowship of the Ring</h3>,\n",
       " <h3 class=\"ipc-title__text\">13. Dune: Part Two</h3>,\n",
       " <h3 class=\"ipc-title__text\">14. Goodfellas</h3>,\n",
       " <h3 class=\"ipc-title__text\">15. The Silence of the Lambs</h3>,\n",
       " <h3 class=\"ipc-title__text\">16. The Wolf of Wall Street</h3>,\n",
       " <h3 class=\"ipc-title__text\">17. Schindler's List</h3>,\n",
       " <h3 class=\"ipc-title__text\">18. Avengers: Endgame</h3>,\n",
       " <h3 class=\"ipc-title__text\">19. Fight Club</h3>,\n",
       " <h3 class=\"ipc-title__text\">20. The Wild Robot</h3>,\n",
       " <h3 class=\"ipc-title__text\">21. Se7en</h3>,\n",
       " <h3 class=\"ipc-title__text\">22. Parasite</h3>,\n",
       " <h3 class=\"ipc-title__text\">23. Back to the Future</h3>,\n",
       " <h3 class=\"ipc-title__text\">24. Star Wars: Episode V - The Empire Strikes Back</h3>,\n",
       " <h3 class=\"ipc-title__text\">25. The Truman Show</h3>,\n",
       " <h3 class=\"ipc-title__text\">Recently viewed</h3>]"
      ]
     },
     "execution_count": 14,
     "metadata": {},
     "output_type": "execute_result"
    }
   ],
   "source": [
    "movies_titles = soup.find_all('h3', class_=\"ipc-title__text\")\n",
    "movies_titles"
   ]
  },
  {
   "cell_type": "code",
   "execution_count": 15,
   "id": "fa03a2ef-ff86-40ba-a480-4039305a7991",
   "metadata": {},
   "outputs": [
    {
     "data": {
      "text/plain": [
       "['1. The Shawshank Redemption',\n",
       " '2. Star Wars: Episode IV - A New Hope',\n",
       " '3. The Dark Knight',\n",
       " '4. Inception',\n",
       " '5. Interstellar',\n",
       " '6. The Godfather',\n",
       " '7. Top Gun: Maverick',\n",
       " '8. Gladiator',\n",
       " '9. Oppenheimer',\n",
       " '10. Pulp Fiction',\n",
       " '11. Inglourious Basterds',\n",
       " '12. The Lord of the Rings: The Fellowship of the Ring',\n",
       " '13. Dune: Part Two',\n",
       " '14. Goodfellas',\n",
       " '15. The Silence of the Lambs',\n",
       " '16. The Wolf of Wall Street',\n",
       " \"17. Schindler's List\",\n",
       " '18. Avengers: Endgame',\n",
       " '19. Fight Club',\n",
       " '20. The Wild Robot',\n",
       " '21. Se7en',\n",
       " '22. Parasite',\n",
       " '23. Back to the Future',\n",
       " '24. Star Wars: Episode V - The Empire Strikes Back',\n",
       " '25. The Truman Show']"
      ]
     },
     "execution_count": 15,
     "metadata": {},
     "output_type": "execute_result"
    }
   ],
   "source": [
    "titles = []\n",
    "for title in movies_titles:\n",
    "    text = title.get_text()\n",
    "    titles.append(text)\n",
    "titles = titles[:25]\n",
    "titles"
   ]
  },
  {
   "cell_type": "code",
   "execution_count": 16,
   "id": "1a29f1cf-9c31-4848-8702-87aad7687759",
   "metadata": {},
   "outputs": [
    {
     "data": {
      "text/plain": [
       "25"
      ]
     },
     "execution_count": 16,
     "metadata": {},
     "output_type": "execute_result"
    }
   ],
   "source": [
    "len(titles)"
   ]
  },
  {
   "cell_type": "markdown",
   "id": "6e4c264a-5b96-4620-9294-421023ad5248",
   "metadata": {},
   "source": [
    "### Scrape the ratings"
   ]
  },
  {
   "cell_type": "code",
   "execution_count": null,
   "id": "055c1c75-c60f-4f21-a445-6ea847a565c5",
   "metadata": {},
   "outputs": [],
   "source": [
    "<span class=\"ipc-rating-star--rating\">8.5</span>"
   ]
  },
  {
   "cell_type": "code",
   "execution_count": 31,
   "id": "de835649-3b73-4f6c-89b1-5a68aa2df372",
   "metadata": {},
   "outputs": [
    {
     "data": {
      "text/plain": [
       "[<span class=\"ipc-rating-star--rating\">9.3</span>,\n",
       " <span class=\"ipc-rating-star--rating\">8.6</span>,\n",
       " <span class=\"ipc-rating-star--rating\">9.0</span>,\n",
       " <span class=\"ipc-rating-star--rating\">8.8</span>,\n",
       " <span class=\"ipc-rating-star--rating\">8.7</span>,\n",
       " <span class=\"ipc-rating-star--rating\">9.2</span>,\n",
       " <span class=\"ipc-rating-star--rating\">8.2</span>,\n",
       " <span class=\"ipc-rating-star--rating\">8.5</span>,\n",
       " <span class=\"ipc-rating-star--rating\">8.3</span>,\n",
       " <span class=\"ipc-rating-star--rating\">8.9</span>,\n",
       " <span class=\"ipc-rating-star--rating\">8.4</span>,\n",
       " <span class=\"ipc-rating-star--rating\">8.9</span>,\n",
       " <span class=\"ipc-rating-star--rating\">8.5</span>,\n",
       " <span class=\"ipc-rating-star--rating\">8.7</span>,\n",
       " <span class=\"ipc-rating-star--rating\">8.6</span>,\n",
       " <span class=\"ipc-rating-star--rating\">8.2</span>,\n",
       " <span class=\"ipc-rating-star--rating\">9.0</span>,\n",
       " <span class=\"ipc-rating-star--rating\">8.4</span>,\n",
       " <span class=\"ipc-rating-star--rating\">8.8</span>,\n",
       " <span class=\"ipc-rating-star--rating\">8.2</span>,\n",
       " <span class=\"ipc-rating-star--rating\">8.6</span>,\n",
       " <span class=\"ipc-rating-star--rating\">8.5</span>,\n",
       " <span class=\"ipc-rating-star--rating\">8.5</span>,\n",
       " <span class=\"ipc-rating-star--rating\">8.7</span>,\n",
       " <span class=\"ipc-rating-star--rating\">8.2</span>]"
      ]
     },
     "execution_count": 31,
     "metadata": {},
     "output_type": "execute_result"
    }
   ],
   "source": [
    "ratings_span = soup.find_all('span', class_=\"ipc-rating-star--rating\")\n",
    "ratings_span"
   ]
  },
  {
   "cell_type": "code",
   "execution_count": 18,
   "id": "ab62676c-e321-4de6-a280-5d13a57075a4",
   "metadata": {},
   "outputs": [],
   "source": [
    "ratings = []\n",
    "for rating in ratings_span:\n",
    "    score = rating.get_text()\n",
    "    ratings.append(score)"
   ]
  },
  {
   "cell_type": "code",
   "execution_count": 19,
   "id": "0fd0a743-d070-49d3-b369-7224dca6093c",
   "metadata": {},
   "outputs": [
    {
     "data": {
      "text/plain": [
       "['9.3',\n",
       " '8.6',\n",
       " '9.0',\n",
       " '8.8',\n",
       " '8.7',\n",
       " '9.2',\n",
       " '8.2',\n",
       " '8.5',\n",
       " '8.3',\n",
       " '8.9',\n",
       " '8.4',\n",
       " '8.9',\n",
       " '8.5',\n",
       " '8.7',\n",
       " '8.6',\n",
       " '8.2',\n",
       " '9.0',\n",
       " '8.4',\n",
       " '8.8',\n",
       " '8.2',\n",
       " '8.6',\n",
       " '8.5',\n",
       " '8.5',\n",
       " '8.7',\n",
       " '8.2']"
      ]
     },
     "execution_count": 19,
     "metadata": {},
     "output_type": "execute_result"
    }
   ],
   "source": [
    "ratings"
   ]
  },
  {
   "cell_type": "code",
   "execution_count": 20,
   "id": "02a8b376-943f-4d90-936a-1dd3bd29956e",
   "metadata": {},
   "outputs": [
    {
     "data": {
      "text/plain": [
       "25"
      ]
     },
     "execution_count": 20,
     "metadata": {},
     "output_type": "execute_result"
    }
   ],
   "source": [
    "len(ratings)"
   ]
  },
  {
   "cell_type": "markdown",
   "id": "db0e3e18-6999-4b95-9ff6-a42ebc53ffd9",
   "metadata": {},
   "source": [
    "### Scrape the vote count"
   ]
  },
  {
   "cell_type": "code",
   "execution_count": null,
   "id": "df976078-fac2-4f7f-aa64-c499e6472e71",
   "metadata": {},
   "outputs": [],
   "source": [
    "<span class=\"ipc-rating-star--voteCount\">&nbsp;(<!-- -->1.8M<!-- -->)</span>"
   ]
  },
  {
   "cell_type": "code",
   "execution_count": 33,
   "id": "ce18a983-efd1-43a0-b1b3-e4474834eea3",
   "metadata": {},
   "outputs": [
    {
     "data": {
      "text/plain": [
       "[<span class=\"ipc-rating-star--voteCount\"> (<!-- -->3M<!-- -->)</span>,\n",
       " <span class=\"ipc-rating-star--voteCount\"> (<!-- -->1.5M<!-- -->)</span>,\n",
       " <span class=\"ipc-rating-star--voteCount\"> (<!-- -->3M<!-- -->)</span>,\n",
       " <span class=\"ipc-rating-star--voteCount\"> (<!-- -->2.7M<!-- -->)</span>,\n",
       " <span class=\"ipc-rating-star--voteCount\"> (<!-- -->2.3M<!-- -->)</span>,\n",
       " <span class=\"ipc-rating-star--voteCount\"> (<!-- -->2.1M<!-- -->)</span>,\n",
       " <span class=\"ipc-rating-star--voteCount\"> (<!-- -->775K<!-- -->)</span>,\n",
       " <span class=\"ipc-rating-star--voteCount\"> (<!-- -->1.8M<!-- -->)</span>,\n",
       " <span class=\"ipc-rating-star--voteCount\"> (<!-- -->891K<!-- -->)</span>,\n",
       " <span class=\"ipc-rating-star--voteCount\"> (<!-- -->2.3M<!-- -->)</span>,\n",
       " <span class=\"ipc-rating-star--voteCount\"> (<!-- -->1.7M<!-- -->)</span>,\n",
       " <span class=\"ipc-rating-star--voteCount\"> (<!-- -->2.1M<!-- -->)</span>,\n",
       " <span class=\"ipc-rating-star--voteCount\"> (<!-- -->630K<!-- -->)</span>,\n",
       " <span class=\"ipc-rating-star--voteCount\"> (<!-- -->1.3M<!-- -->)</span>,\n",
       " <span class=\"ipc-rating-star--voteCount\"> (<!-- -->1.6M<!-- -->)</span>,\n",
       " <span class=\"ipc-rating-star--voteCount\"> (<!-- -->1.7M<!-- -->)</span>,\n",
       " <span class=\"ipc-rating-star--voteCount\"> (<!-- -->1.5M<!-- -->)</span>,\n",
       " <span class=\"ipc-rating-star--voteCount\"> (<!-- -->1.4M<!-- -->)</span>,\n",
       " <span class=\"ipc-rating-star--voteCount\"> (<!-- -->2.5M<!-- -->)</span>,\n",
       " <span class=\"ipc-rating-star--voteCount\"> (<!-- -->168K<!-- -->)</span>,\n",
       " <span class=\"ipc-rating-star--voteCount\"> (<!-- -->1.9M<!-- -->)</span>,\n",
       " <span class=\"ipc-rating-star--voteCount\"> (<!-- -->1.1M<!-- -->)</span>,\n",
       " <span class=\"ipc-rating-star--voteCount\"> (<!-- -->1.4M<!-- -->)</span>,\n",
       " <span class=\"ipc-rating-star--voteCount\"> (<!-- -->1.4M<!-- -->)</span>,\n",
       " <span class=\"ipc-rating-star--voteCount\"> (<!-- -->1.3M<!-- -->)</span>]"
      ]
     },
     "execution_count": 33,
     "metadata": {},
     "output_type": "execute_result"
    }
   ],
   "source": [
    "vote_spans = soup.find_all('span', class_=\"ipc-rating-star--voteCount\")\n",
    "vote_spans"
   ]
  },
  {
   "cell_type": "code",
   "execution_count": 22,
   "id": "df43c009-95b0-448f-918d-5803d74c40fe",
   "metadata": {},
   "outputs": [],
   "source": [
    "vote_counts = []\n",
    "for count in vote_spans:\n",
    "    score = count.get_text(strip=True)\n",
    "    vote_counts.append(score)"
   ]
  },
  {
   "cell_type": "code",
   "execution_count": 23,
   "id": "f04f0c29-d93d-4e16-899e-b4253dc3c707",
   "metadata": {},
   "outputs": [
    {
     "data": {
      "text/plain": [
       "<span class=\"ipc-rating-star--voteCount\"> (<!-- -->3M<!-- -->)</span>"
      ]
     },
     "execution_count": 23,
     "metadata": {},
     "output_type": "execute_result"
    }
   ],
   "source": [
    "x = vote_spans[0]\n",
    "x"
   ]
  },
  {
   "cell_type": "code",
   "execution_count": 24,
   "id": "76bffb51-46ea-4fdf-97b1-880a101d1c9f",
   "metadata": {},
   "outputs": [
    {
     "data": {
      "text/plain": [
       "['\\xa0(', ' ', '3M', ' ', ')']"
      ]
     },
     "execution_count": 24,
     "metadata": {},
     "output_type": "execute_result"
    }
   ],
   "source": [
    "x.contents"
   ]
  },
  {
   "cell_type": "code",
   "execution_count": 25,
   "id": "21ab2572-7611-4d47-bb94-15089ddfb7ce",
   "metadata": {},
   "outputs": [],
   "source": [
    "vote_counts = []\n",
    "\n",
    "for span in vote_spans:\n",
    "    for content in span.contents:\n",
    "        if 'M' in content or 'K' in content:\n",
    "           vote_counts.append(content) "
   ]
  },
  {
   "cell_type": "code",
   "execution_count": 26,
   "id": "cb2ce440-6c72-40c9-b1f1-c0a06c5b9898",
   "metadata": {},
   "outputs": [
    {
     "data": {
      "text/plain": [
       "['3M',\n",
       " '1.5M',\n",
       " '3M',\n",
       " '2.7M',\n",
       " '2.3M',\n",
       " '2.1M',\n",
       " '775K',\n",
       " '1.8M',\n",
       " '891K',\n",
       " '2.3M',\n",
       " '1.7M',\n",
       " '2.1M',\n",
       " '630K',\n",
       " '1.3M',\n",
       " '1.6M',\n",
       " '1.7M',\n",
       " '1.5M',\n",
       " '1.4M',\n",
       " '2.5M',\n",
       " '168K',\n",
       " '1.9M',\n",
       " '1.1M',\n",
       " '1.4M',\n",
       " '1.4M',\n",
       " '1.3M']"
      ]
     },
     "execution_count": 26,
     "metadata": {},
     "output_type": "execute_result"
    }
   ],
   "source": [
    "vote_counts"
   ]
  },
  {
   "cell_type": "code",
   "execution_count": null,
   "id": "f0de7319-e450-4f84-bcd9-6677f3e310f4",
   "metadata": {},
   "outputs": [],
   "source": []
  },
  {
   "cell_type": "code",
   "execution_count": null,
   "id": "9733773c-4f19-4c61-b18e-4636b3998b34",
   "metadata": {},
   "outputs": [],
   "source": []
  },
  {
   "cell_type": "markdown",
   "id": "d49b61d1-6d5e-444a-bcd6-66854eeebed3",
   "metadata": {},
   "source": [
    "### Scrape the release year of the movies"
   ]
  },
  {
   "cell_type": "code",
   "execution_count": null,
   "id": "754db385-21e8-4dcb-b203-44d68ab2e120",
   "metadata": {},
   "outputs": [],
   "source": [
    "<span class=\"sc-4b408797-8 iurwGb dli-title-metadata-item\">2000</span>"
   ]
  },
  {
   "cell_type": "code",
   "execution_count": 35,
   "id": "fc67da0b-8b97-4c4c-99a9-fe9caf55ee76",
   "metadata": {},
   "outputs": [
    {
     "data": {
      "text/plain": [
       "[<span class=\"sc-4b408797-8 iurwGb dli-title-metadata-item\">1994</span>,\n",
       " <span class=\"sc-4b408797-8 iurwGb dli-title-metadata-item\">2h 22m</span>,\n",
       " <span class=\"sc-4b408797-8 iurwGb dli-title-metadata-item\">R</span>,\n",
       " <span class=\"sc-4b408797-8 iurwGb dli-title-metadata-item\">1977</span>,\n",
       " <span class=\"sc-4b408797-8 iurwGb dli-title-metadata-item\">2h 1m</span>,\n",
       " <span class=\"sc-4b408797-8 iurwGb dli-title-metadata-item\">PG</span>,\n",
       " <span class=\"sc-4b408797-8 iurwGb dli-title-metadata-item\">2008</span>,\n",
       " <span class=\"sc-4b408797-8 iurwGb dli-title-metadata-item\">2h 32m</span>,\n",
       " <span class=\"sc-4b408797-8 iurwGb dli-title-metadata-item\">PG-13</span>,\n",
       " <span class=\"sc-4b408797-8 iurwGb dli-title-metadata-item\">2010</span>,\n",
       " <span class=\"sc-4b408797-8 iurwGb dli-title-metadata-item\">2h 28m</span>,\n",
       " <span class=\"sc-4b408797-8 iurwGb dli-title-metadata-item\">PG-13</span>,\n",
       " <span class=\"sc-4b408797-8 iurwGb dli-title-metadata-item\">2014</span>,\n",
       " <span class=\"sc-4b408797-8 iurwGb dli-title-metadata-item\">2h 49m</span>,\n",
       " <span class=\"sc-4b408797-8 iurwGb dli-title-metadata-item\">PG-13</span>,\n",
       " <span class=\"sc-4b408797-8 iurwGb dli-title-metadata-item\">1972</span>,\n",
       " <span class=\"sc-4b408797-8 iurwGb dli-title-metadata-item\">2h 55m</span>,\n",
       " <span class=\"sc-4b408797-8 iurwGb dli-title-metadata-item\">R</span>,\n",
       " <span class=\"sc-4b408797-8 iurwGb dli-title-metadata-item\">2022</span>,\n",
       " <span class=\"sc-4b408797-8 iurwGb dli-title-metadata-item\">2h 10m</span>,\n",
       " <span class=\"sc-4b408797-8 iurwGb dli-title-metadata-item\">PG-13</span>,\n",
       " <span class=\"sc-4b408797-8 iurwGb dli-title-metadata-item\">2000</span>,\n",
       " <span class=\"sc-4b408797-8 iurwGb dli-title-metadata-item\">2h 35m</span>,\n",
       " <span class=\"sc-4b408797-8 iurwGb dli-title-metadata-item\">R</span>,\n",
       " <span class=\"sc-4b408797-8 iurwGb dli-title-metadata-item\">2023</span>,\n",
       " <span class=\"sc-4b408797-8 iurwGb dli-title-metadata-item\">3h</span>,\n",
       " <span class=\"sc-4b408797-8 iurwGb dli-title-metadata-item\">R</span>,\n",
       " <span class=\"sc-4b408797-8 iurwGb dli-title-metadata-item\">1994</span>,\n",
       " <span class=\"sc-4b408797-8 iurwGb dli-title-metadata-item\">2h 34m</span>,\n",
       " <span class=\"sc-4b408797-8 iurwGb dli-title-metadata-item\">R</span>,\n",
       " <span class=\"sc-4b408797-8 iurwGb dli-title-metadata-item\">2009</span>,\n",
       " <span class=\"sc-4b408797-8 iurwGb dli-title-metadata-item\">2h 33m</span>,\n",
       " <span class=\"sc-4b408797-8 iurwGb dli-title-metadata-item\">R</span>,\n",
       " <span class=\"sc-4b408797-8 iurwGb dli-title-metadata-item\">2001</span>,\n",
       " <span class=\"sc-4b408797-8 iurwGb dli-title-metadata-item\">2h 58m</span>,\n",
       " <span class=\"sc-4b408797-8 iurwGb dli-title-metadata-item\">PG-13</span>,\n",
       " <span class=\"sc-4b408797-8 iurwGb dli-title-metadata-item\">2024</span>,\n",
       " <span class=\"sc-4b408797-8 iurwGb dli-title-metadata-item\">2h 46m</span>,\n",
       " <span class=\"sc-4b408797-8 iurwGb dli-title-metadata-item\">PG-13</span>,\n",
       " <span class=\"sc-4b408797-8 iurwGb dli-title-metadata-item\">1990</span>,\n",
       " <span class=\"sc-4b408797-8 iurwGb dli-title-metadata-item\">2h 25m</span>,\n",
       " <span class=\"sc-4b408797-8 iurwGb dli-title-metadata-item\">R</span>,\n",
       " <span class=\"sc-4b408797-8 iurwGb dli-title-metadata-item\">1991</span>,\n",
       " <span class=\"sc-4b408797-8 iurwGb dli-title-metadata-item\">1h 58m</span>,\n",
       " <span class=\"sc-4b408797-8 iurwGb dli-title-metadata-item\">R</span>,\n",
       " <span class=\"sc-4b408797-8 iurwGb dli-title-metadata-item\">2013</span>,\n",
       " <span class=\"sc-4b408797-8 iurwGb dli-title-metadata-item\">3h</span>,\n",
       " <span class=\"sc-4b408797-8 iurwGb dli-title-metadata-item\">R</span>,\n",
       " <span class=\"sc-4b408797-8 iurwGb dli-title-metadata-item\">1993</span>,\n",
       " <span class=\"sc-4b408797-8 iurwGb dli-title-metadata-item\">3h 15m</span>,\n",
       " <span class=\"sc-4b408797-8 iurwGb dli-title-metadata-item\">R</span>,\n",
       " <span class=\"sc-4b408797-8 iurwGb dli-title-metadata-item\">2019</span>,\n",
       " <span class=\"sc-4b408797-8 iurwGb dli-title-metadata-item\">3h 1m</span>,\n",
       " <span class=\"sc-4b408797-8 iurwGb dli-title-metadata-item\">PG-13</span>,\n",
       " <span class=\"sc-4b408797-8 iurwGb dli-title-metadata-item\">1999</span>,\n",
       " <span class=\"sc-4b408797-8 iurwGb dli-title-metadata-item\">2h 19m</span>,\n",
       " <span class=\"sc-4b408797-8 iurwGb dli-title-metadata-item\">R</span>,\n",
       " <span class=\"sc-4b408797-8 iurwGb dli-title-metadata-item\">2024</span>,\n",
       " <span class=\"sc-4b408797-8 iurwGb dli-title-metadata-item\">1h 42m</span>,\n",
       " <span class=\"sc-4b408797-8 iurwGb dli-title-metadata-item\">PG</span>,\n",
       " <span class=\"sc-4b408797-8 iurwGb dli-title-metadata-item\">1995</span>,\n",
       " <span class=\"sc-4b408797-8 iurwGb dli-title-metadata-item\">2h 7m</span>,\n",
       " <span class=\"sc-4b408797-8 iurwGb dli-title-metadata-item\">R</span>,\n",
       " <span class=\"sc-4b408797-8 iurwGb dli-title-metadata-item\">2019</span>,\n",
       " <span class=\"sc-4b408797-8 iurwGb dli-title-metadata-item\">2h 12m</span>,\n",
       " <span class=\"sc-4b408797-8 iurwGb dli-title-metadata-item\">R</span>,\n",
       " <span class=\"sc-4b408797-8 iurwGb dli-title-metadata-item\">1985</span>,\n",
       " <span class=\"sc-4b408797-8 iurwGb dli-title-metadata-item\">1h 56m</span>,\n",
       " <span class=\"sc-4b408797-8 iurwGb dli-title-metadata-item\">PG</span>,\n",
       " <span class=\"sc-4b408797-8 iurwGb dli-title-metadata-item\">1980</span>,\n",
       " <span class=\"sc-4b408797-8 iurwGb dli-title-metadata-item\">2h 4m</span>,\n",
       " <span class=\"sc-4b408797-8 iurwGb dli-title-metadata-item\">PG</span>,\n",
       " <span class=\"sc-4b408797-8 iurwGb dli-title-metadata-item\">1998</span>,\n",
       " <span class=\"sc-4b408797-8 iurwGb dli-title-metadata-item\">1h 43m</span>,\n",
       " <span class=\"sc-4b408797-8 iurwGb dli-title-metadata-item\">PG</span>]"
      ]
     },
     "execution_count": 35,
     "metadata": {},
     "output_type": "execute_result"
    }
   ],
   "source": [
    "spans = soup.find_all('span', class_=\"sc-4b408797-8 iurwGb dli-title-metadata-item\")\n",
    "spans"
   ]
  },
  {
   "cell_type": "code",
   "execution_count": 37,
   "id": "b12d27c6-14b7-46ec-a870-711ebea1ef2d",
   "metadata": {},
   "outputs": [],
   "source": [
    "years=[]\n",
    "duration=[]\n",
    "certification=[]\n",
    "\n",
    "for span in spans:\n",
    "    text = span.get_text()\n",
    "    if text.isdigit and len(text)==4:\n",
    "        years.append(text)\n",
    "    elif 'h' in text or 'm' in text:\n",
    "        duration.append(text)\n",
    "    else:\n",
    "        certification.append(text)"
   ]
  },
  {
   "cell_type": "code",
   "execution_count": 38,
   "id": "ca62829d-2bdd-45b7-9f4a-3c3fc46136c6",
   "metadata": {},
   "outputs": [
    {
     "data": {
      "text/plain": [
       "['1994',\n",
       " '1977',\n",
       " '2008',\n",
       " '2010',\n",
       " '2014',\n",
       " '1972',\n",
       " '2022',\n",
       " '2000',\n",
       " '2023',\n",
       " '1994',\n",
       " '2009',\n",
       " '2001',\n",
       " '2024',\n",
       " '1990',\n",
       " '1991',\n",
       " '2013',\n",
       " '1993',\n",
       " '2019',\n",
       " '1999',\n",
       " '2024',\n",
       " '1995',\n",
       " '2019',\n",
       " '1985',\n",
       " '1980',\n",
       " '1998']"
      ]
     },
     "execution_count": 38,
     "metadata": {},
     "output_type": "execute_result"
    }
   ],
   "source": [
    "years"
   ]
  },
  {
   "cell_type": "code",
   "execution_count": 39,
   "id": "810af619-6532-4864-8bb0-ab5a9fa51a1a",
   "metadata": {},
   "outputs": [
    {
     "data": {
      "text/plain": [
       "['2h 22m',\n",
       " '2h 1m',\n",
       " '2h 32m',\n",
       " '2h 28m',\n",
       " '2h 49m',\n",
       " '2h 55m',\n",
       " '2h 10m',\n",
       " '2h 35m',\n",
       " '3h',\n",
       " '2h 34m',\n",
       " '2h 33m',\n",
       " '2h 58m',\n",
       " '2h 46m',\n",
       " '2h 25m',\n",
       " '1h 58m',\n",
       " '3h',\n",
       " '3h 15m',\n",
       " '3h 1m',\n",
       " '2h 19m',\n",
       " '1h 42m',\n",
       " '2h 7m',\n",
       " '2h 12m',\n",
       " '1h 56m',\n",
       " '2h 4m',\n",
       " '1h 43m']"
      ]
     },
     "execution_count": 39,
     "metadata": {},
     "output_type": "execute_result"
    }
   ],
   "source": [
    "duration"
   ]
  },
  {
   "cell_type": "code",
   "execution_count": 40,
   "id": "348aea22-463a-4e5b-9d0e-4a1f8373e78c",
   "metadata": {},
   "outputs": [
    {
     "data": {
      "text/plain": [
       "['R',\n",
       " 'PG',\n",
       " 'PG-13',\n",
       " 'PG-13',\n",
       " 'PG-13',\n",
       " 'R',\n",
       " 'PG-13',\n",
       " 'R',\n",
       " 'R',\n",
       " 'R',\n",
       " 'R',\n",
       " 'PG-13',\n",
       " 'PG-13',\n",
       " 'R',\n",
       " 'R',\n",
       " 'R',\n",
       " 'R',\n",
       " 'PG-13',\n",
       " 'R',\n",
       " 'PG',\n",
       " 'R',\n",
       " 'R',\n",
       " 'PG',\n",
       " 'PG',\n",
       " 'PG']"
      ]
     },
     "execution_count": 40,
     "metadata": {},
     "output_type": "execute_result"
    }
   ],
   "source": [
    "certification"
   ]
  },
  {
   "cell_type": "code",
   "execution_count": null,
   "id": "8fdeec4a-242c-476e-a1e9-ec4b7a35ddb1",
   "metadata": {},
   "outputs": [],
   "source": [
    "# movie Description\n",
    "<div class=\"ipc-html-content-inner-div\" role=\"presentation\">A banker convicted of uxoricide forms a friendship over a quarter century with a hardened convict, while maintaining his innocence and trying to remain hopeful through "
   ]
  },
  {
   "cell_type": "code",
   "execution_count": 49,
   "id": "c7f521a1-0d90-4ed0-90ac-c85b2a5290c5",
   "metadata": {},
   "outputs": [
    {
     "data": {
      "text/plain": [
       "[<div class=\"ipc-html-content-inner-div\" role=\"presentation\">A banker convicted of uxoricide forms a friendship over a quarter century with a hardened convict, while maintaining his innocence and trying to remain hopeful through simple compassion.</div>,\n",
       " <div class=\"ipc-html-content-inner-div\" role=\"presentation\">Luke Skywalker joins forces with a Jedi Knight, a cocky pilot, a Wookiee and two droids to save the galaxy from the Empire's world-destroying battle station, while also attempting to rescue Princess Leia from the mysterious Darth Vader.</div>,\n",
       " <div class=\"ipc-html-content-inner-div\" role=\"presentation\">When a menace known as the Joker wreaks havoc and chaos on the people of Gotham, Batman, James Gordon and Harvey Dent must work together to put an end to the madness.</div>,\n",
       " <div class=\"ipc-html-content-inner-div\" role=\"presentation\">A thief who steals corporate secrets through the use of dream-sharing technology is given the inverse task of planting an idea into the mind of a C.E.O., but his tragic past may doom the project and his team to disaster.</div>,\n",
       " <div class=\"ipc-html-content-inner-div\" role=\"presentation\">When Earth becomes uninhabitable in the future, a farmer and ex-NASA pilot, Joseph Cooper, is tasked to pilot a spacecraft, along with a team of researchers, to find a new planet for humans.</div>,\n",
       " <div class=\"ipc-html-content-inner-div\" role=\"presentation\">The aging patriarch of an organized crime dynasty transfers control of his clandestine empire to his reluctant son.</div>,\n",
       " <div class=\"ipc-html-content-inner-div\" role=\"presentation\">The story involves Maverick confronting his past while training a group of younger Top Gun graduates, including the son of his deceased best friend, for a dangerous mission.</div>,\n",
       " <div class=\"ipc-html-content-inner-div\" role=\"presentation\">A former Roman General sets out to exact vengeance against the corrupt emperor who murdered his family and sent him into slavery.</div>,\n",
       " <div class=\"ipc-html-content-inner-div\" role=\"presentation\">A dramatization of the life story of J. Robert Oppenheimer, the physicist who had a large hand in the development of the atomic bombs that brought an end to World War II.</div>,\n",
       " <div class=\"ipc-html-content-inner-div\" role=\"presentation\">The lives of two mob hitmen, a boxer, a gangster and his wife, and a pair of diner bandits intertwine in four tales of violence and redemption.</div>,\n",
       " <div class=\"ipc-html-content-inner-div\" role=\"presentation\">In Nazi-occupied France during World War II, a plan to assassinate Nazi leaders by a group of Jewish U.S. soldiers coincides with a theatre owner's vengeful plans for the same.</div>,\n",
       " <div class=\"ipc-html-content-inner-div\" role=\"presentation\">A meek Hobbit from the Shire and eight companions set out on a journey to destroy the powerful One Ring and save Middle-earth from the Dark Lord Sauron.</div>,\n",
       " <div class=\"ipc-html-content-inner-div\" role=\"presentation\">Paul Atreides unites with the Fremen while on a warpath of revenge against the conspirators who destroyed his family. Facing a choice between the love of his life and the fate of the universe, he endeavors to prevent a terrible future.</div>,\n",
       " <div class=\"ipc-html-content-inner-div\" role=\"presentation\">The story of Henry Hill and his life in the mafia, covering his relationship with his wife Karen and his mob partners Jimmy Conway and Tommy DeVito.</div>,\n",
       " <div class=\"ipc-html-content-inner-div\" role=\"presentation\">A young F.B.I. cadet must receive the help of an incarcerated and manipulative cannibal killer to help catch another serial killer, a madman who skins his victims.</div>,\n",
       " <div class=\"ipc-html-content-inner-div\" role=\"presentation\">Based on the true story of Jordan Belfort, from his rise to a wealthy stock-broker living the high life to his fall involving crime, corruption and the federal government.</div>,\n",
       " <div class=\"ipc-html-content-inner-div\" role=\"presentation\">In German-occupied Poland during World War II, industrialist Oskar Schindler gradually becomes concerned for his Jewish workforce after witnessing their persecution by the Nazis.</div>,\n",
       " <div class=\"ipc-html-content-inner-div\" role=\"presentation\">After the devastating events of Avengers: Infinity War (2018), the universe is in ruins. With the help of remaining allies, the Avengers assemble once more in order to reverse Thanos' actions and restore balance to the universe.</div>,\n",
       " <div class=\"ipc-html-content-inner-div\" role=\"presentation\">An insomniac office worker and a devil-may-care soap maker form an underground fight club that evolves into much more.</div>,\n",
       " <div class=\"ipc-html-content-inner-div\" role=\"presentation\">After a shipwreck, an intelligent robot called Roz is stranded on an uninhabited island. To survive the harsh environment, Roz bonds with the island's animals and cares for an orphaned baby goose.</div>,\n",
       " <div class=\"ipc-html-content-inner-div\" role=\"presentation\">Two detectives, a rookie and a veteran, hunt a serial killer who uses the seven deadly sins as his motives.</div>,\n",
       " <div class=\"ipc-html-content-inner-div\" role=\"presentation\">Greed and class discrimination threaten the newly formed symbiotic relationship between the wealthy Park family and the destitute Kim clan.</div>,\n",
       " <div class=\"ipc-html-content-inner-div\" role=\"presentation\">Marty McFly, a 17-year-old high school student, is accidentally sent 30 years into the past in a time-traveling DeLorean invented by his close friend, the maverick scientist Doc Brown.</div>,\n",
       " <div class=\"ipc-html-content-inner-div\" role=\"presentation\">After the Empire overpowers the Rebel Alliance, Luke Skywalker begins training with Jedi Master Yoda, while Darth Vader and bounty hunter Boba Fett pursue his friends across the galaxy.</div>,\n",
       " <div class=\"ipc-html-content-inner-div\" role=\"presentation\">An insurance salesman begins to suspect that his whole life is actually some sort of reality TV show.</div>]"
      ]
     },
     "execution_count": 49,
     "metadata": {},
     "output_type": "execute_result"
    }
   ],
   "source": [
    "Description = soup.find_all('div', class_=\"ipc-html-content-inner-div\")\n",
    "Description"
   ]
  },
  {
   "cell_type": "code",
   "execution_count": 48,
   "id": "0b56c9f7-e272-4b0c-8abc-0828c0223eff",
   "metadata": {},
   "outputs": [
    {
     "data": {
      "text/plain": [
       "'A banker convicted of uxoricide forms a friendship over a quarter century with a hardened convict, while maintaining his innocence and trying to remain hopeful through simple compassion.'"
      ]
     },
     "execution_count": 48,
     "metadata": {},
     "output_type": "execute_result"
    }
   ],
   "source": [
    "Description.get_text()"
   ]
  },
  {
   "cell_type": "code",
   "execution_count": 50,
   "id": "e1aa0c92-b697-4c64-8afe-2acb8ba4cf02",
   "metadata": {},
   "outputs": [],
   "source": [
    "Descriptions = []\n",
    "for count in Description:\n",
    "    score = count.get_text(strip=True)\n",
    "    Descriptions.append(score)"
   ]
  },
  {
   "cell_type": "code",
   "execution_count": 51,
   "id": "fd95bd96-9efc-40f1-b73e-36cbd7a10add",
   "metadata": {},
   "outputs": [
    {
     "data": {
      "text/plain": [
       "['A banker convicted of uxoricide forms a friendship over a quarter century with a hardened convict, while maintaining his innocence and trying to remain hopeful through simple compassion.',\n",
       " \"Luke Skywalker joins forces with a Jedi Knight, a cocky pilot, a Wookiee and two droids to save the galaxy from the Empire's world-destroying battle station, while also attempting to rescue Princess Leia from the mysterious Darth Vader.\",\n",
       " 'When a menace known as the Joker wreaks havoc and chaos on the people of Gotham, Batman, James Gordon and Harvey Dent must work together to put an end to the madness.',\n",
       " 'A thief who steals corporate secrets through the use of dream-sharing technology is given the inverse task of planting an idea into the mind of a C.E.O., but his tragic past may doom the project and his team to disaster.',\n",
       " 'When Earth becomes uninhabitable in the future, a farmer and ex-NASA pilot, Joseph Cooper, is tasked to pilot a spacecraft, along with a team of researchers, to find a new planet for humans.',\n",
       " 'The aging patriarch of an organized crime dynasty transfers control of his clandestine empire to his reluctant son.',\n",
       " 'The story involves Maverick confronting his past while training a group of younger Top Gun graduates, including the son of his deceased best friend, for a dangerous mission.',\n",
       " 'A former Roman General sets out to exact vengeance against the corrupt emperor who murdered his family and sent him into slavery.',\n",
       " 'A dramatization of the life story of J. Robert Oppenheimer, the physicist who had a large hand in the development of the atomic bombs that brought an end to World War II.',\n",
       " 'The lives of two mob hitmen, a boxer, a gangster and his wife, and a pair of diner bandits intertwine in four tales of violence and redemption.',\n",
       " \"In Nazi-occupied France during World War II, a plan to assassinate Nazi leaders by a group of Jewish U.S. soldiers coincides with a theatre owner's vengeful plans for the same.\",\n",
       " 'A meek Hobbit from the Shire and eight companions set out on a journey to destroy the powerful One Ring and save Middle-earth from the Dark Lord Sauron.',\n",
       " 'Paul Atreides unites with the Fremen while on a warpath of revenge against the conspirators who destroyed his family. Facing a choice between the love of his life and the fate of the universe, he endeavors to prevent a terrible future.',\n",
       " 'The story of Henry Hill and his life in the mafia, covering his relationship with his wife Karen and his mob partners Jimmy Conway and Tommy DeVito.',\n",
       " 'A young F.B.I. cadet must receive the help of an incarcerated and manipulative cannibal killer to help catch another serial killer, a madman who skins his victims.',\n",
       " 'Based on the true story of Jordan Belfort, from his rise to a wealthy stock-broker living the high life to his fall involving crime, corruption and the federal government.',\n",
       " 'In German-occupied Poland during World War II, industrialist Oskar Schindler gradually becomes concerned for his Jewish workforce after witnessing their persecution by the Nazis.',\n",
       " \"After the devastating events of Avengers: Infinity War (2018), the universe is in ruins. With the help of remaining allies, the Avengers assemble once more in order to reverse Thanos' actions and restore balance to the universe.\",\n",
       " 'An insomniac office worker and a devil-may-care soap maker form an underground fight club that evolves into much more.',\n",
       " \"After a shipwreck, an intelligent robot called Roz is stranded on an uninhabited island. To survive the harsh environment, Roz bonds with the island's animals and cares for an orphaned baby goose.\",\n",
       " 'Two detectives, a rookie and a veteran, hunt a serial killer who uses the seven deadly sins as his motives.',\n",
       " 'Greed and class discrimination threaten the newly formed symbiotic relationship between the wealthy Park family and the destitute Kim clan.',\n",
       " 'Marty McFly, a 17-year-old high school student, is accidentally sent 30 years into the past in a time-traveling DeLorean invented by his close friend, the maverick scientist Doc Brown.',\n",
       " 'After the Empire overpowers the Rebel Alliance, Luke Skywalker begins training with Jedi Master Yoda, while Darth Vader and bounty hunter Boba Fett pursue his friends across the galaxy.',\n",
       " 'An insurance salesman begins to suspect that his whole life is actually some sort of reality TV show.']"
      ]
     },
     "execution_count": 51,
     "metadata": {},
     "output_type": "execute_result"
    }
   ],
   "source": [
    " Descriptions"
   ]
  },
  {
   "cell_type": "code",
   "execution_count": 52,
   "id": "6bc6bfb4-d2dd-4547-a239-cea655d2963a",
   "metadata": {},
   "outputs": [
    {
     "data": {
      "text/plain": [
       "25"
      ]
     },
     "execution_count": 52,
     "metadata": {},
     "output_type": "execute_result"
    }
   ],
   "source": [
    "len(Descriptions)"
   ]
  },
  {
   "cell_type": "code",
   "execution_count": 55,
   "id": "af668331-9b3d-44e5-9f9c-82c86eceffd8",
   "metadata": {},
   "outputs": [],
   "source": [
    "# store data\n",
    "data = pd.DataFrame()"
   ]
  },
  {
   "cell_type": "code",
   "execution_count": 57,
   "id": "0f1aa2a8-afa9-4b39-a23c-e93564ed5627",
   "metadata": {},
   "outputs": [],
   "source": [
    "data['movies_titles'] = titles\n",
    "data['ratings'] = ratings\n",
    "data['vote'] = vote_counts\n",
    "data['year'] = years\n",
    "data['duration'] = duration\n",
    "data['certification'] = certification\n",
    "data['Description'] = Descriptions"
   ]
  },
  {
   "cell_type": "code",
   "execution_count": 58,
   "id": "49b2198d-dad0-4935-8f64-7e7d8cd44c63",
   "metadata": {},
   "outputs": [
    {
     "data": {
      "text/html": [
       "<div>\n",
       "<style scoped>\n",
       "    .dataframe tbody tr th:only-of-type {\n",
       "        vertical-align: middle;\n",
       "    }\n",
       "\n",
       "    .dataframe tbody tr th {\n",
       "        vertical-align: top;\n",
       "    }\n",
       "\n",
       "    .dataframe thead th {\n",
       "        text-align: right;\n",
       "    }\n",
       "</style>\n",
       "<table border=\"1\" class=\"dataframe\">\n",
       "  <thead>\n",
       "    <tr style=\"text-align: right;\">\n",
       "      <th></th>\n",
       "      <th>movies_titles</th>\n",
       "      <th>ratings</th>\n",
       "      <th>vote</th>\n",
       "      <th>year</th>\n",
       "      <th>duration</th>\n",
       "      <th>certification</th>\n",
       "      <th>Description</th>\n",
       "    </tr>\n",
       "  </thead>\n",
       "  <tbody>\n",
       "    <tr>\n",
       "      <th>0</th>\n",
       "      <td>1. The Shawshank Redemption</td>\n",
       "      <td>9.3</td>\n",
       "      <td>3M</td>\n",
       "      <td>1994</td>\n",
       "      <td>2h 22m</td>\n",
       "      <td>R</td>\n",
       "      <td>A banker convicted of uxoricide forms a friend...</td>\n",
       "    </tr>\n",
       "    <tr>\n",
       "      <th>1</th>\n",
       "      <td>2. Star Wars: Episode IV - A New Hope</td>\n",
       "      <td>8.6</td>\n",
       "      <td>1.5M</td>\n",
       "      <td>1977</td>\n",
       "      <td>2h 1m</td>\n",
       "      <td>PG</td>\n",
       "      <td>Luke Skywalker joins forces with a Jedi Knight...</td>\n",
       "    </tr>\n",
       "    <tr>\n",
       "      <th>2</th>\n",
       "      <td>3. The Dark Knight</td>\n",
       "      <td>9.0</td>\n",
       "      <td>3M</td>\n",
       "      <td>2008</td>\n",
       "      <td>2h 32m</td>\n",
       "      <td>PG-13</td>\n",
       "      <td>When a menace known as the Joker wreaks havoc ...</td>\n",
       "    </tr>\n",
       "    <tr>\n",
       "      <th>3</th>\n",
       "      <td>4. Inception</td>\n",
       "      <td>8.8</td>\n",
       "      <td>2.7M</td>\n",
       "      <td>2010</td>\n",
       "      <td>2h 28m</td>\n",
       "      <td>PG-13</td>\n",
       "      <td>A thief who steals corporate secrets through t...</td>\n",
       "    </tr>\n",
       "    <tr>\n",
       "      <th>4</th>\n",
       "      <td>5. Interstellar</td>\n",
       "      <td>8.7</td>\n",
       "      <td>2.3M</td>\n",
       "      <td>2014</td>\n",
       "      <td>2h 49m</td>\n",
       "      <td>PG-13</td>\n",
       "      <td>When Earth becomes uninhabitable in the future...</td>\n",
       "    </tr>\n",
       "    <tr>\n",
       "      <th>5</th>\n",
       "      <td>6. The Godfather</td>\n",
       "      <td>9.2</td>\n",
       "      <td>2.1M</td>\n",
       "      <td>1972</td>\n",
       "      <td>2h 55m</td>\n",
       "      <td>R</td>\n",
       "      <td>The aging patriarch of an organized crime dyna...</td>\n",
       "    </tr>\n",
       "    <tr>\n",
       "      <th>6</th>\n",
       "      <td>7. Top Gun: Maverick</td>\n",
       "      <td>8.2</td>\n",
       "      <td>775K</td>\n",
       "      <td>2022</td>\n",
       "      <td>2h 10m</td>\n",
       "      <td>PG-13</td>\n",
       "      <td>The story involves Maverick confronting his pa...</td>\n",
       "    </tr>\n",
       "    <tr>\n",
       "      <th>7</th>\n",
       "      <td>8. Gladiator</td>\n",
       "      <td>8.5</td>\n",
       "      <td>1.8M</td>\n",
       "      <td>2000</td>\n",
       "      <td>2h 35m</td>\n",
       "      <td>R</td>\n",
       "      <td>A former Roman General sets out to exact venge...</td>\n",
       "    </tr>\n",
       "    <tr>\n",
       "      <th>8</th>\n",
       "      <td>9. Oppenheimer</td>\n",
       "      <td>8.3</td>\n",
       "      <td>891K</td>\n",
       "      <td>2023</td>\n",
       "      <td>3h</td>\n",
       "      <td>R</td>\n",
       "      <td>A dramatization of the life story of J. Robert...</td>\n",
       "    </tr>\n",
       "    <tr>\n",
       "      <th>9</th>\n",
       "      <td>10. Pulp Fiction</td>\n",
       "      <td>8.9</td>\n",
       "      <td>2.3M</td>\n",
       "      <td>1994</td>\n",
       "      <td>2h 34m</td>\n",
       "      <td>R</td>\n",
       "      <td>The lives of two mob hitmen, a boxer, a gangst...</td>\n",
       "    </tr>\n",
       "    <tr>\n",
       "      <th>10</th>\n",
       "      <td>11. Inglourious Basterds</td>\n",
       "      <td>8.4</td>\n",
       "      <td>1.7M</td>\n",
       "      <td>2009</td>\n",
       "      <td>2h 33m</td>\n",
       "      <td>R</td>\n",
       "      <td>In Nazi-occupied France during World War II, a...</td>\n",
       "    </tr>\n",
       "    <tr>\n",
       "      <th>11</th>\n",
       "      <td>12. The Lord of the Rings: The Fellowship of t...</td>\n",
       "      <td>8.9</td>\n",
       "      <td>2.1M</td>\n",
       "      <td>2001</td>\n",
       "      <td>2h 58m</td>\n",
       "      <td>PG-13</td>\n",
       "      <td>A meek Hobbit from the Shire and eight compani...</td>\n",
       "    </tr>\n",
       "    <tr>\n",
       "      <th>12</th>\n",
       "      <td>13. Dune: Part Two</td>\n",
       "      <td>8.5</td>\n",
       "      <td>630K</td>\n",
       "      <td>2024</td>\n",
       "      <td>2h 46m</td>\n",
       "      <td>PG-13</td>\n",
       "      <td>Paul Atreides unites with the Fremen while on ...</td>\n",
       "    </tr>\n",
       "    <tr>\n",
       "      <th>13</th>\n",
       "      <td>14. Goodfellas</td>\n",
       "      <td>8.7</td>\n",
       "      <td>1.3M</td>\n",
       "      <td>1990</td>\n",
       "      <td>2h 25m</td>\n",
       "      <td>R</td>\n",
       "      <td>The story of Henry Hill and his life in the ma...</td>\n",
       "    </tr>\n",
       "    <tr>\n",
       "      <th>14</th>\n",
       "      <td>15. The Silence of the Lambs</td>\n",
       "      <td>8.6</td>\n",
       "      <td>1.6M</td>\n",
       "      <td>1991</td>\n",
       "      <td>1h 58m</td>\n",
       "      <td>R</td>\n",
       "      <td>A young F.B.I. cadet must receive the help of ...</td>\n",
       "    </tr>\n",
       "    <tr>\n",
       "      <th>15</th>\n",
       "      <td>16. The Wolf of Wall Street</td>\n",
       "      <td>8.2</td>\n",
       "      <td>1.7M</td>\n",
       "      <td>2013</td>\n",
       "      <td>3h</td>\n",
       "      <td>R</td>\n",
       "      <td>Based on the true story of Jordan Belfort, fro...</td>\n",
       "    </tr>\n",
       "    <tr>\n",
       "      <th>16</th>\n",
       "      <td>17. Schindler's List</td>\n",
       "      <td>9.0</td>\n",
       "      <td>1.5M</td>\n",
       "      <td>1993</td>\n",
       "      <td>3h 15m</td>\n",
       "      <td>R</td>\n",
       "      <td>In German-occupied Poland during World War II,...</td>\n",
       "    </tr>\n",
       "    <tr>\n",
       "      <th>17</th>\n",
       "      <td>18. Avengers: Endgame</td>\n",
       "      <td>8.4</td>\n",
       "      <td>1.4M</td>\n",
       "      <td>2019</td>\n",
       "      <td>3h 1m</td>\n",
       "      <td>PG-13</td>\n",
       "      <td>After the devastating events of Avengers: Infi...</td>\n",
       "    </tr>\n",
       "    <tr>\n",
       "      <th>18</th>\n",
       "      <td>19. Fight Club</td>\n",
       "      <td>8.8</td>\n",
       "      <td>2.5M</td>\n",
       "      <td>1999</td>\n",
       "      <td>2h 19m</td>\n",
       "      <td>R</td>\n",
       "      <td>An insomniac office worker and a devil-may-car...</td>\n",
       "    </tr>\n",
       "    <tr>\n",
       "      <th>19</th>\n",
       "      <td>20. The Wild Robot</td>\n",
       "      <td>8.2</td>\n",
       "      <td>168K</td>\n",
       "      <td>2024</td>\n",
       "      <td>1h 42m</td>\n",
       "      <td>PG</td>\n",
       "      <td>After a shipwreck, an intelligent robot called...</td>\n",
       "    </tr>\n",
       "    <tr>\n",
       "      <th>20</th>\n",
       "      <td>21. Se7en</td>\n",
       "      <td>8.6</td>\n",
       "      <td>1.9M</td>\n",
       "      <td>1995</td>\n",
       "      <td>2h 7m</td>\n",
       "      <td>R</td>\n",
       "      <td>Two detectives, a rookie and a veteran, hunt a...</td>\n",
       "    </tr>\n",
       "    <tr>\n",
       "      <th>21</th>\n",
       "      <td>22. Parasite</td>\n",
       "      <td>8.5</td>\n",
       "      <td>1.1M</td>\n",
       "      <td>2019</td>\n",
       "      <td>2h 12m</td>\n",
       "      <td>R</td>\n",
       "      <td>Greed and class discrimination threaten the ne...</td>\n",
       "    </tr>\n",
       "    <tr>\n",
       "      <th>22</th>\n",
       "      <td>23. Back to the Future</td>\n",
       "      <td>8.5</td>\n",
       "      <td>1.4M</td>\n",
       "      <td>1985</td>\n",
       "      <td>1h 56m</td>\n",
       "      <td>PG</td>\n",
       "      <td>Marty McFly, a 17-year-old high school student...</td>\n",
       "    </tr>\n",
       "    <tr>\n",
       "      <th>23</th>\n",
       "      <td>24. Star Wars: Episode V - The Empire Strikes ...</td>\n",
       "      <td>8.7</td>\n",
       "      <td>1.4M</td>\n",
       "      <td>1980</td>\n",
       "      <td>2h 4m</td>\n",
       "      <td>PG</td>\n",
       "      <td>After the Empire overpowers the Rebel Alliance...</td>\n",
       "    </tr>\n",
       "    <tr>\n",
       "      <th>24</th>\n",
       "      <td>25. The Truman Show</td>\n",
       "      <td>8.2</td>\n",
       "      <td>1.3M</td>\n",
       "      <td>1998</td>\n",
       "      <td>1h 43m</td>\n",
       "      <td>PG</td>\n",
       "      <td>An insurance salesman begins to suspect that h...</td>\n",
       "    </tr>\n",
       "  </tbody>\n",
       "</table>\n",
       "</div>"
      ],
      "text/plain": [
       "                                        movies_titles ratings  vote  year  \\\n",
       "0                         1. The Shawshank Redemption     9.3    3M  1994   \n",
       "1               2. Star Wars: Episode IV - A New Hope     8.6  1.5M  1977   \n",
       "2                                  3. The Dark Knight     9.0    3M  2008   \n",
       "3                                        4. Inception     8.8  2.7M  2010   \n",
       "4                                     5. Interstellar     8.7  2.3M  2014   \n",
       "5                                    6. The Godfather     9.2  2.1M  1972   \n",
       "6                                7. Top Gun: Maverick     8.2  775K  2022   \n",
       "7                                        8. Gladiator     8.5  1.8M  2000   \n",
       "8                                      9. Oppenheimer     8.3  891K  2023   \n",
       "9                                    10. Pulp Fiction     8.9  2.3M  1994   \n",
       "10                           11. Inglourious Basterds     8.4  1.7M  2009   \n",
       "11  12. The Lord of the Rings: The Fellowship of t...     8.9  2.1M  2001   \n",
       "12                                 13. Dune: Part Two     8.5  630K  2024   \n",
       "13                                     14. Goodfellas     8.7  1.3M  1990   \n",
       "14                       15. The Silence of the Lambs     8.6  1.6M  1991   \n",
       "15                        16. The Wolf of Wall Street     8.2  1.7M  2013   \n",
       "16                               17. Schindler's List     9.0  1.5M  1993   \n",
       "17                              18. Avengers: Endgame     8.4  1.4M  2019   \n",
       "18                                     19. Fight Club     8.8  2.5M  1999   \n",
       "19                                 20. The Wild Robot     8.2  168K  2024   \n",
       "20                                          21. Se7en     8.6  1.9M  1995   \n",
       "21                                       22. Parasite     8.5  1.1M  2019   \n",
       "22                             23. Back to the Future     8.5  1.4M  1985   \n",
       "23  24. Star Wars: Episode V - The Empire Strikes ...     8.7  1.4M  1980   \n",
       "24                                25. The Truman Show     8.2  1.3M  1998   \n",
       "\n",
       "   duration certification                                        Description  \n",
       "0    2h 22m             R  A banker convicted of uxoricide forms a friend...  \n",
       "1     2h 1m            PG  Luke Skywalker joins forces with a Jedi Knight...  \n",
       "2    2h 32m         PG-13  When a menace known as the Joker wreaks havoc ...  \n",
       "3    2h 28m         PG-13  A thief who steals corporate secrets through t...  \n",
       "4    2h 49m         PG-13  When Earth becomes uninhabitable in the future...  \n",
       "5    2h 55m             R  The aging patriarch of an organized crime dyna...  \n",
       "6    2h 10m         PG-13  The story involves Maverick confronting his pa...  \n",
       "7    2h 35m             R  A former Roman General sets out to exact venge...  \n",
       "8        3h             R  A dramatization of the life story of J. Robert...  \n",
       "9    2h 34m             R  The lives of two mob hitmen, a boxer, a gangst...  \n",
       "10   2h 33m             R  In Nazi-occupied France during World War II, a...  \n",
       "11   2h 58m         PG-13  A meek Hobbit from the Shire and eight compani...  \n",
       "12   2h 46m         PG-13  Paul Atreides unites with the Fremen while on ...  \n",
       "13   2h 25m             R  The story of Henry Hill and his life in the ma...  \n",
       "14   1h 58m             R  A young F.B.I. cadet must receive the help of ...  \n",
       "15       3h             R  Based on the true story of Jordan Belfort, fro...  \n",
       "16   3h 15m             R  In German-occupied Poland during World War II,...  \n",
       "17    3h 1m         PG-13  After the devastating events of Avengers: Infi...  \n",
       "18   2h 19m             R  An insomniac office worker and a devil-may-car...  \n",
       "19   1h 42m            PG  After a shipwreck, an intelligent robot called...  \n",
       "20    2h 7m             R  Two detectives, a rookie and a veteran, hunt a...  \n",
       "21   2h 12m             R  Greed and class discrimination threaten the ne...  \n",
       "22   1h 56m            PG  Marty McFly, a 17-year-old high school student...  \n",
       "23    2h 4m            PG  After the Empire overpowers the Rebel Alliance...  \n",
       "24   1h 43m            PG  An insurance salesman begins to suspect that h...  "
      ]
     },
     "execution_count": 58,
     "metadata": {},
     "output_type": "execute_result"
    }
   ],
   "source": [
    "data"
   ]
  },
  {
   "cell_type": "code",
   "execution_count": 59,
   "id": "f0e93c48-f38f-4422-b169-7bd8de7b960a",
   "metadata": {},
   "outputs": [],
   "source": [
    "data.to_csv('top_25_imdb_movies.csv', index=False)"
   ]
  },
  {
   "cell_type": "code",
   "execution_count": null,
   "id": "1e43e9ee-aea9-4a0b-95b9-fac9a3772b27",
   "metadata": {},
   "outputs": [],
   "source": []
  }
 ],
 "metadata": {
  "kernelspec": {
   "display_name": "Python 3 (ipykernel)",
   "language": "python",
   "name": "python3"
  },
  "language_info": {
   "codemirror_mode": {
    "name": "ipython",
    "version": 3
   },
   "file_extension": ".py",
   "mimetype": "text/x-python",
   "name": "python",
   "nbconvert_exporter": "python",
   "pygments_lexer": "ipython3",
   "version": "3.12.7"
  }
 },
 "nbformat": 4,
 "nbformat_minor": 5
}
